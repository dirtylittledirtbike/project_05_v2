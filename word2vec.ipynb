{
 "cells": [
  {
   "cell_type": "code",
   "execution_count": 1,
   "metadata": {},
   "outputs": [],
   "source": [
    "import pandas as pd\n",
    "import numpy as np\n",
    "import datetime \n",
    "import re\n",
    "from urlextract import URLExtract\n",
    "import spacy\n",
    "import time\n",
    "import pickle\n",
    "import matplotlib.pyplot as plt"
   ]
  },
  {
   "cell_type": "code",
   "execution_count": 2,
   "metadata": {},
   "outputs": [],
   "source": [
    "from sklearn.feature_extraction.text import CountVectorizer \n",
    "from sklearn.decomposition import TruncatedSVD\n",
    "from sklearn.decomposition import NMF\n",
    "from sklearn.decomposition import LatentDirichletAllocation\n",
    "from sklearn.metrics.pairwise import cosine_similarity\n",
    "from sklearn.feature_extraction.text import TfidfVectorizer"
   ]
  },
  {
   "cell_type": "code",
   "execution_count": 3,
   "metadata": {},
   "outputs": [],
   "source": [
    "extractor = URLExtract()\n",
    "# remove all urls from posts\n",
    "def replace_urls(x):\n",
    "    urls = extractor.find_urls(x)\n",
    "    if urls:\n",
    "        x_new = replace_urls(x.replace(urls[0],''))\n",
    "        return x_new\n",
    "    else:\n",
    "        return x"
   ]
  },
  {
   "cell_type": "code",
   "execution_count": 4,
   "metadata": {},
   "outputs": [],
   "source": [
    "# df_full = pd.read_csv('data/anxiety_full.csv', low_memory=False)\n",
    "depression = pd.read_csv('data/depression_topics.csv', low_memory=False, lineterminator='\\n')\n",
    "depression.drop(columns=['Unnamed: 0'], inplace=True)"
   ]
  },
  {
   "cell_type": "code",
   "execution_count": 6,
   "metadata": {
    "scrolled": true
   },
   "outputs": [],
   "source": [
    "anxiety = pd.read_csv('data/anxiety_topics.csv', low_memory=False, lineterminator='\\n')\n",
    "anxiety.drop(columns=['Unnamed: 0'], inplace=True)"
   ]
  },
  {
   "cell_type": "code",
   "execution_count": 7,
   "metadata": {},
   "outputs": [],
   "source": [
    "depression['date'] = pd.to_datetime(depression.date)\n",
    "anxiety['date'] = pd.to_datetime(anxiety.date)"
   ]
  },
  {
   "cell_type": "code",
   "execution_count": 8,
   "metadata": {
    "scrolled": false
   },
   "outputs": [],
   "source": [
    "# anxiety.max_topic.value_counts()"
   ]
  },
  {
   "cell_type": "code",
   "execution_count": 9,
   "metadata": {},
   "outputs": [],
   "source": [
    "anxiety.dropna(subset=['selftext'], inplace=True)\n",
    "depression.dropna(subset=['selftext'], inplace=True)"
   ]
  },
  {
   "cell_type": "code",
   "execution_count": 10,
   "metadata": {},
   "outputs": [],
   "source": [
    "\n",
    "# testing = anxiety\n",
    "# testing['social_label'] = anxiety['friends/hang/groups'] + anxiety['social/media/situations']\n",
    "# anxiety_social = testing.sort_values(by=['social_label'], ascending=False).head(18082)"
   ]
  },
  {
   "cell_type": "code",
   "execution_count": 11,
   "metadata": {},
   "outputs": [],
   "source": [
    "import gensim\n",
    "import multiprocessing\n",
    "from tqdm import tqdm\n",
    "from sklearn import utils\n",
    "from gensim.models.callbacks import CallbackAny2Vec"
   ]
  },
  {
   "cell_type": "code",
   "execution_count": 32,
   "metadata": {
    "scrolled": true
   },
   "outputs": [
    {
     "name": "stdout",
     "output_type": "stream",
     "text": [
      "Loss after epoch 0: 12973423.0\n",
      "Loss after epoch 1: 10665455.0\n",
      "Loss after epoch 2: 10240402.0\n",
      "Loss after epoch 3: 6421108.0\n",
      "Loss after epoch 4: 6403156.0\n",
      "Loss after epoch 5: 6357872.0\n",
      "Loss after epoch 6: 6352768.0\n",
      "Loss after epoch 7: 6334340.0\n",
      "Loss after epoch 8: 1473380.0\n",
      "Loss after epoch 9: 141008.0\n",
      "Loss after epoch 10: 143192.0\n",
      "Loss after epoch 11: 141576.0\n",
      "Loss after epoch 12: 144488.0\n",
      "Loss after epoch 13: 144736.0\n",
      "Loss after epoch 14: 145144.0\n",
      "Loss after epoch 15: 142248.0\n",
      "Loss after epoch 16: 145368.0\n",
      "Loss after epoch 17: 144000.0\n",
      "Loss after epoch 18: 140728.0\n",
      "Loss after epoch 19: 140168.0\n",
      "Loss after epoch 20: 138696.0\n",
      "Loss after epoch 21: 137944.0\n",
      "Loss after epoch 22: 135008.0\n",
      "Loss after epoch 23: 137760.0\n",
      "Loss after epoch 24: 135472.0\n",
      "Loss after epoch 25: 133704.0\n",
      "Loss after epoch 26: 133528.0\n",
      "Loss after epoch 27: 132104.0\n",
      "Loss after epoch 28: 128648.0\n",
      "Loss after epoch 29: 129840.0\n",
      "Loss after epoch 30: 128160.0\n",
      "Loss after epoch 31: 127712.0\n",
      "Loss after epoch 32: 128112.0\n",
      "Loss after epoch 33: 127056.0\n",
      "Loss after epoch 34: 123568.0\n",
      "Loss after epoch 35: 121016.0\n",
      "Loss after epoch 36: 121392.0\n",
      "Loss after epoch 37: 123864.0\n",
      "Loss after epoch 38: 116376.0\n",
      "Loss after epoch 39: 118960.0\n",
      "Loss after epoch 40: 117760.0\n",
      "Loss after epoch 41: 114592.0\n",
      "Loss after epoch 42: 114776.0\n",
      "Loss after epoch 43: 110800.0\n",
      "Loss after epoch 44: 108392.0\n"
     ]
    }
   ],
   "source": [
    "\n",
    "\n",
    "class LossLogger(CallbackAny2Vec):\n",
    "    '''Callback to print loss after each epoch.'''\n",
    "\n",
    "    def __init__(self):\n",
    "        self.epoch = 0\n",
    "        self.loss_to_be_subed = 0\n",
    "\n",
    "    def on_epoch_end(self, model):\n",
    "        loss = model.get_latest_training_loss()\n",
    "        loss_now = loss - self.loss_to_be_subed\n",
    "        self.loss_to_be_subed = loss\n",
    "        print('Loss after epoch {}: {}'.format(self.epoch, loss_now))\n",
    "        self.epoch += 1\n",
    "\n",
    "loss_logger = LossLogger()\n",
    "cores = multiprocessing.cpu_count()\n",
    "\n",
    "documents = anxiety.text_title\n",
    "tokenized_docs = [gensim.utils.simple_preprocess(d) for d in documents]\n",
    "model = gensim.models.Word2Vec(tokenized_docs,\n",
    "                               size=300,\n",
    "                               window=5,\n",
    "                               min_count=10,\n",
    "                               sg=1,\n",
    "                               callbacks=[loss_logger],\n",
    "                               compute_loss=True,\n",
    "                               iter=45,\n",
    "                               workers=cores)"
   ]
  },
  {
   "cell_type": "code",
   "execution_count": 40,
   "metadata": {},
   "outputs": [],
   "source": [
    "model.save(\"models/anxiety2vec.model\")"
   ]
  },
  {
   "cell_type": "code",
   "execution_count": null,
   "metadata": {},
   "outputs": [],
   "source": []
  },
  {
   "cell_type": "code",
   "execution_count": 36,
   "metadata": {
    "scrolled": false
   },
   "outputs": [
    {
     "data": {
      "text/plain": [
       "[('afraid', 0.8332506418228149),\n",
       " ('terrified', 0.780756950378418),\n",
       " ('worried', 0.6253881454467773),\n",
       " ('nervous', 0.4967040717601776),\n",
       " ('fearful', 0.4952450692653656),\n",
       " ('petrified', 0.49504226446151733),\n",
       " ('paranoid', 0.47631195187568665),\n",
       " ('shitless', 0.46545976400375366),\n",
       " ('scares', 0.4584802985191345),\n",
       " ('frightened', 0.4548741579055786)]"
      ]
     },
     "execution_count": 36,
     "metadata": {},
     "output_type": "execute_result"
    }
   ],
   "source": [
    "model.wv.most_similar(['scared'], topn=10)"
   ]
  },
  {
   "cell_type": "code",
   "execution_count": 798,
   "metadata": {
    "scrolled": false
   },
   "outputs": [
    {
     "data": {
      "text/plain": [
       "array([1449943401, 'Anxiety', 'determinism101', 'self.Anxiety',\n",
       "       'https://www.reddit.com/r/Anxiety/comments/3wjfio/why_has_the_idea_of_determinism_sent_me_crazy/',\n",
       "       2, 3, 3.0, 0.0, 'Why has the idea of determinism sent me crazy?',\n",
       "       \"For some reason after reading about determinism I feel like I have gone absolutely crazy. The idea that are lives are unfolding and we don't have real control over it. Now when I look at people I feel like I'm looking at computers just doing what they do and feel like I have lost all connection with people. This thought has given me horrendous anxiety, I feel like I don't even know where I am any more. My question reddit is this just anxiety making me feel like the thought is crazy or is it the thought? Surely finding out something can't send you crazy... \",\n",
       "       False, '3wjfio', nan, 0, nan, False, 1454923681, False, 'self',\n",
       "       't5_2qmij', False, 'venting', nan, False, True, nan,\n",
       "       '/r/Anxiety/comments/3wjfio/why_has_the_idea_of_determinism_sent_me_crazy/',\n",
       "       't3_3wjfio', nan, False, 'Venting', nan,\n",
       "       Timestamp('2015-12-12 12:03:21'),\n",
       "       \"why has the idea of determinism sent me crazy? for some reason after reading about determinism i feel like i have gone absolutely crazy. the idea that are lives are unfolding and we don't have real control over it. now when i look at people i feel like i'm looking at computers just doing what they do and feel like i have lost all connection with people. this thought has given me horrendous anxiety, i feel like i don't even know where i am any more. my question reddit is this just anxiety making me feel like the thought is crazy or is it the thought? surely finding out something can't send you crazy... \",\n",
       "       4.0599562799851646e-05, 2.6622850431231465e-05, 0.0, 0.0, 0.0,\n",
       "       4.255917002911297e-05, 0.0, 0.0, 0.0, 0.00018038760395468182, 0.0,\n",
       "       0.0, 0.0, 'driving', 0.0], dtype=object)"
      ]
     },
     "execution_count": 798,
     "metadata": {},
     "output_type": "execute_result"
    }
   ],
   "source": [
    "anxiety[anxiety.selftext.str.contains(' reddit ')].values[2]"
   ]
  },
  {
   "cell_type": "code",
   "execution_count": 38,
   "metadata": {},
   "outputs": [
    {
     "data": {
      "text/plain": [
       "[('facebook', 0.6033738851547241),\n",
       " ('accounts', 0.5652605295181274),\n",
       " ('instagram', 0.5491209626197815),\n",
       " ('twitter', 0.540290355682373),\n",
       " ('medias', 0.5301116108894348),\n",
       " ('myspace', 0.5134504437446594),\n",
       " ('reddit', 0.5121648907661438),\n",
       " ('profiles', 0.47724026441574097),\n",
       " ('deleted', 0.4764728844165802),\n",
       " ('fb', 0.47510743141174316),\n",
       " ('throwaway', 0.4517183005809784),\n",
       " ('deactivating', 0.45092451572418213),\n",
       " ('unfollowed', 0.4495944082736969),\n",
       " ('snapchat', 0.44644638895988464),\n",
       " ('messenger', 0.4358212351799011),\n",
       " ('tumblr', 0.43365478515625),\n",
       " ('notifications', 0.4313971996307373),\n",
       " ('deleting', 0.42993658781051636),\n",
       " ('follower', 0.4262659549713135),\n",
       " ('networks', 0.4211564064025879),\n",
       " ('delete', 0.4209303557872772),\n",
       " ('profile', 0.41852259635925293),\n",
       " ('vanity', 0.41416120529174805),\n",
       " ('internet', 0.4139171242713928),\n",
       " ('unfollow', 0.4134800434112549),\n",
       " ('reactivated', 0.4108877182006836),\n",
       " ('gatherings', 0.40727341175079346),\n",
       " ('tinder', 0.40713581442832947),\n",
       " ('platforms', 0.4065522253513336),\n",
       " ('deactivate', 0.40346062183380127)]"
      ]
     },
     "execution_count": 38,
     "metadata": {},
     "output_type": "execute_result"
    }
   ],
   "source": [
    "model.wv.most_similar(positive=['social', 'media', 'account'], topn=30)"
   ]
  },
  {
   "cell_type": "code",
   "execution_count": 39,
   "metadata": {},
   "outputs": [
    {
     "data": {
      "text/plain": [
       "[('facebook', 0.39895033836364746),\n",
       " ('accounts', 0.379080593585968),\n",
       " ('anxieties', 0.3737826645374298),\n",
       " ('instagram', 0.37294507026672363),\n",
       " ('deleted', 0.37185147404670715),\n",
       " ('twitter', 0.3604085445404053),\n",
       " ('worldnews', 0.33075159788131714),\n",
       " ('youtube', 0.31879836320877075),\n",
       " ('apps', 0.31624263525009155),\n",
       " ('sites', 0.3092844486236572),\n",
       " ('eli', 0.30707189440727234),\n",
       " ('deactivating', 0.30559730529785156),\n",
       " ('news', 0.3049636483192444),\n",
       " ('reddit', 0.3044201135635376),\n",
       " ('paranoia', 0.3014766275882721),\n",
       " ('internet', 0.2979758381843567),\n",
       " ('panic', 0.2962847054004669),\n",
       " ('anxiey', 0.2954588532447815),\n",
       " ('ebook', 0.2949087619781494),\n",
       " ('anxiousness', 0.29231661558151245),\n",
       " ('cnn', 0.29157429933547974),\n",
       " ('anixety', 0.28937584161758423),\n",
       " ('scrolling', 0.28798019886016846),\n",
       " ('browsing', 0.2842468023300171),\n",
       " ('snapchat', 0.28392496705055237),\n",
       " ('site', 0.2838783264160156),\n",
       " ('gad', 0.2837258279323578),\n",
       " ('posts', 0.2835172116756439),\n",
       " ('mongering', 0.2826034128665924),\n",
       " ('tweets', 0.28162771463394165)]"
      ]
     },
     "execution_count": 39,
     "metadata": {},
     "output_type": "execute_result"
    }
   ],
   "source": [
    "model.wv.most_similar(positive=['media', 'anxiety'], negative=['social'], topn=30)"
   ]
  },
  {
   "cell_type": "code",
   "execution_count": null,
   "metadata": {},
   "outputs": [],
   "source": [
    "# model2.wv.most_similar(['motivation'], topn=30)"
   ]
  },
  {
   "cell_type": "code",
   "execution_count": null,
   "metadata": {},
   "outputs": [],
   "source": [
    "# model.save(\"models/anxiety2vec_full.model\")"
   ]
  },
  {
   "cell_type": "code",
   "execution_count": 543,
   "metadata": {},
   "outputs": [],
   "source": [
    "model1 = gensim.models.Word2Vec.load(\"models/anxiety2vec_full.model\")\n",
    "model2 = gensim.models.Word2Vec.load(\"models/depression2vec_full.model\")"
   ]
  },
  {
   "cell_type": "code",
   "execution_count": 163,
   "metadata": {
    "scrolled": false
   },
   "outputs": [
    {
     "data": {
      "text/plain": [
       "[('energy', 0.6299775838851929),\n",
       " ('willpower', 0.6144546270370483),\n",
       " ('ambition', 0.5886609554290771),\n",
       " ('motvation', 0.5381804704666138),\n",
       " ('modivation', 0.5302222967147827),\n",
       " ('motiviation', 0.5192931294441223),\n",
       " ('motovation', 0.5171259641647339),\n",
       " ('desire', 0.5122600197792053),\n",
       " ('enthusiasm', 0.4983682632446289),\n",
       " ('motivated', 0.494276225566864),\n",
       " ('inspiration', 0.4916467070579529),\n",
       " ('unmotivated', 0.4851604998111725),\n",
       " ('passion', 0.48500457406044006),\n",
       " ('strengh', 0.4655093550682068),\n",
       " ('appetite', 0.46231281757354736),\n",
       " ('strength', 0.4595683515071869),\n",
       " ('zest', 0.45696038007736206),\n",
       " ('motivate', 0.4507544934749603),\n",
       " ('determination', 0.4479437470436096),\n",
       " ('confidence', 0.44607073068618774),\n",
       " ('preparedness', 0.4441033601760864),\n",
       " ('gumption', 0.44054946303367615),\n",
       " ('acomplishment', 0.43923187255859375),\n",
       " ('strenght', 0.43693986535072327),\n",
       " ('willingness', 0.4365207552909851),\n",
       " ('lustre', 0.4341988265514374),\n",
       " ('concentration', 0.4321267008781433),\n",
       " ('apetite', 0.4266323149204254),\n",
       " ('wherewithal', 0.4265719950199127),\n",
       " ('therof', 0.4248182475566864)]"
      ]
     },
     "execution_count": 163,
     "metadata": {},
     "output_type": "execute_result"
    }
   ],
   "source": [
    "model2.wv.most_similar(['motivation'], topn=30)"
   ]
  },
  {
   "cell_type": "code",
   "execution_count": 214,
   "metadata": {
    "scrolled": false
   },
   "outputs": [
    {
     "data": {
      "text/plain": [
       "[('therapist', 0.4170568585395813),\n",
       " ('psychologist', 0.36235499382019043),\n",
       " ('counselor', 0.3517606854438782),\n",
       " ('doctor', 0.29781460762023926),\n",
       " ('physiatrist', 0.2623823881149292),\n",
       " ('therapists', 0.25169387459754944),\n",
       " ('psychoanalyst', 0.2405727207660675),\n",
       " ('gp', 0.23925045132637024),\n",
       " ('pdoc', 0.2323845624923706),\n",
       " ('counseling', 0.23211266100406647),\n",
       " ('psych', 0.22802326083183289),\n",
       " ('clinician', 0.22732265293598175),\n",
       " ('psychotherapist', 0.2258133590221405),\n",
       " ('pcp', 0.2244172990322113),\n",
       " ('md', 0.22144736349582672),\n",
       " ('doctors', 0.22106030583381653),\n",
       " ('councelor', 0.21885794401168823),\n",
       " ('sessions', 0.21844717860221863),\n",
       " ('hypnotherapist', 0.21836623549461365),\n",
       " ('occupational', 0.2171756476163864),\n",
       " ('discuss', 0.21669895946979523),\n",
       " ('psychiatrists', 0.21437397599220276),\n",
       " ('counsellor', 0.21428753435611725),\n",
       " ('doc', 0.21034356951713562),\n",
       " ('counselors', 0.2061026245355606),\n",
       " ('pcm', 0.20398318767547607),\n",
       " ('physiologist', 0.20296108722686768),\n",
       " ('appointment', 0.202683687210083),\n",
       " ('therapy', 0.2026662677526474),\n",
       " ('psycologist', 0.2012704610824585),\n",
       " ('marketplace', 0.1984163224697113),\n",
       " ('adviser', 0.19685988128185272),\n",
       " ('counselling', 0.19635015726089478),\n",
       " ('session', 0.19561928510665894),\n",
       " ('principal', 0.19478577375411987),\n",
       " ('insurance', 0.19469955563545227),\n",
       " ('shrink', 0.192565456032753),\n",
       " ('provider', 0.19182033836841583),\n",
       " ('rekindle', 0.188839852809906),\n",
       " ('weekly', 0.18785710632801056)]"
      ]
     },
     "execution_count": 214,
     "metadata": {},
     "output_type": "execute_result"
    }
   ],
   "source": [
    "model1.wv.most_similar(positive=['psychiatrist'], negative=['prescribed'], topn=40)"
   ]
  },
  {
   "cell_type": "code",
   "execution_count": 527,
   "metadata": {},
   "outputs": [
    {
     "data": {
      "text/plain": [
       "0"
      ]
     },
     "execution_count": 527,
     "metadata": {},
     "output_type": "execute_result"
    }
   ],
   "source": [
    "anxiety.selftext.isna().sum()"
   ]
  },
  {
   "cell_type": "code",
   "execution_count": 672,
   "metadata": {
    "scrolled": true
   },
   "outputs": [
    {
     "data": {
      "text/html": [
       "<div>\n",
       "<style scoped>\n",
       "    .dataframe tbody tr th:only-of-type {\n",
       "        vertical-align: middle;\n",
       "    }\n",
       "\n",
       "    .dataframe tbody tr th {\n",
       "        vertical-align: top;\n",
       "    }\n",
       "\n",
       "    .dataframe thead th {\n",
       "        text-align: right;\n",
       "    }\n",
       "</style>\n",
       "<table border=\"1\" class=\"dataframe\">\n",
       "  <thead>\n",
       "    <tr style=\"text-align: right;\">\n",
       "      <th></th>\n",
       "      <th>created_utc</th>\n",
       "      <th>subreddit</th>\n",
       "      <th>author</th>\n",
       "      <th>domain</th>\n",
       "      <th>url</th>\n",
       "      <th>num_comments</th>\n",
       "      <th>score</th>\n",
       "      <th>ups</th>\n",
       "      <th>downs</th>\n",
       "      <th>title</th>\n",
       "      <th>...</th>\n",
       "      <th>tired/sick</th>\n",
       "      <th>friends/lonely</th>\n",
       "      <th>school</th>\n",
       "      <th>depressed/suicidal/reason</th>\n",
       "      <th>sleep</th>\n",
       "      <th>job</th>\n",
       "      <th>friend/best/girl</th>\n",
       "      <th>sad</th>\n",
       "      <th>kill/suicide</th>\n",
       "      <th>max_topic</th>\n",
       "    </tr>\n",
       "  </thead>\n",
       "  <tbody>\n",
       "  </tbody>\n",
       "</table>\n",
       "<p>0 rows × 46 columns</p>\n",
       "</div>"
      ],
      "text/plain": [
       "Empty DataFrame\n",
       "Columns: [created_utc, subreddit, author, domain, url, num_comments, score, ups, downs, title, selftext, saved, id, from_kind, gilded, from, stickied, retrieved_on, over_18, thumbnail, subreddit_id, hide_score, link_flair_css_class, author_flair_css_class, archived, is_self, from_id, permalink, name, author_flair_text, quarantine, link_flair_text, distinguished, date, text_title, depression/anxiety/meds, tired/sick, friends/lonely, school, depressed/suicidal/reason, sleep, job, friend/best/girl, sad, kill/suicide, max_topic]\n",
       "Index: []\n",
       "\n",
       "[0 rows x 46 columns]"
      ]
     },
     "execution_count": 672,
     "metadata": {},
     "output_type": "execute_result"
    }
   ],
   "source": [
    "depression[depression.selftext.str.contains('ssris') & depression.selftext.str.contains('erectile')]"
   ]
  },
  {
   "cell_type": "code",
   "execution_count": 674,
   "metadata": {
    "scrolled": true
   },
   "outputs": [
    {
     "data": {
      "text/plain": [
       "[('anti', 0.3983129858970642),\n",
       " ('depressants', 0.3530580401420593),\n",
       " ('depressents', 0.19163519144058228),\n",
       " ('antidepressants', 0.15999141335487366),\n",
       " ('abortion', 0.15711236000061035),\n",
       " ('amazing', 0.1542251706123352),\n",
       " ('psychotics', 0.14911118149757385),\n",
       " ('anywho', 0.14821702241897583),\n",
       " ('eyeing', 0.14802893996238708),\n",
       " ('fireworks', 0.14783577620983124)]"
      ]
     },
     "execution_count": 674,
     "metadata": {},
     "output_type": "execute_result"
    }
   ],
   "source": [
    "model2.wv.most_similar(positive=['depressant'], negative=['stimulant'],topn=10)"
   ]
  },
  {
   "cell_type": "code",
   "execution_count": 670,
   "metadata": {},
   "outputs": [
    {
     "data": {
      "text/plain": [
       "[('effects', 0.40463900566101074),\n",
       " ('anorgasmia', 0.4025641083717346),\n",
       " ('snris', 0.40243127942085266),\n",
       " ('antipsychotics', 0.39718884229660034),\n",
       " ('erectile', 0.39101123809814453),\n",
       " ('lightheadedness', 0.38974010944366455),\n",
       " ('bloating', 0.3887931704521179),\n",
       " ('tardive', 0.3864535689353943),\n",
       " ('premenstrual', 0.3841016888618469),\n",
       " ('dizziness', 0.3823544383049011)]"
      ]
     },
     "execution_count": 670,
     "metadata": {},
     "output_type": "execute_result"
    }
   ],
   "source": [
    "model2.wv.most_similar(positive=['insomnia', 'ssris'], negative=['adderall'],topn=10)"
   ]
  },
  {
   "cell_type": "code",
   "execution_count": 669,
   "metadata": {},
   "outputs": [
    {
     "data": {
      "text/plain": [
       "[('effects', 0.40463900566101074),\n",
       " ('anorgasmia', 0.4025641083717346),\n",
       " ('snris', 0.40243127942085266),\n",
       " ('antipsychotics', 0.39718884229660034),\n",
       " ('erectile', 0.39101123809814453),\n",
       " ('lightheadedness', 0.38974010944366455),\n",
       " ('bloating', 0.3887931704521179),\n",
       " ('tardive', 0.3864535689353943),\n",
       " ('premenstrual', 0.3841016888618469),\n",
       " ('dizziness', 0.3823544383049011),\n",
       " ('bruxism', 0.38129884004592896),\n",
       " ('discontinuation', 0.37654173374176025),\n",
       " ('tremors', 0.3745548725128174),\n",
       " ('tricyclics', 0.37176477909088135),\n",
       " ('shakiness', 0.37167757749557495),\n",
       " ('headaches', 0.37068483233451843),\n",
       " ('somnolence', 0.3702065050601959),\n",
       " ('cystitis', 0.36915984749794006),\n",
       " ('depresseion', 0.3684377670288086),\n",
       " ('antidepressants', 0.36777713894844055),\n",
       " ('ssri', 0.36683154106140137),\n",
       " ('insomina', 0.36555981636047363),\n",
       " ('thyroxine', 0.3652310371398926),\n",
       " ('sleepiness', 0.36522993445396423),\n",
       " ('dyskinesia', 0.3647785484790802),\n",
       " ('gynophobia', 0.3647738993167877),\n",
       " ('spasms', 0.3638470768928528),\n",
       " ('ahedonia', 0.36378592252731323),\n",
       " ('atypicals', 0.36263129115104675),\n",
       " ('intractable', 0.3621752858161926),\n",
       " ('hypersomnia', 0.3588065207004547),\n",
       " ('hyperhidrosis', 0.3582961857318878),\n",
       " ('agitation', 0.3580484390258789),\n",
       " ('backaches', 0.35767021775245667),\n",
       " ('terrors', 0.35609081387519836),\n",
       " ('drowsiness', 0.35504335165023804),\n",
       " ('remeron', 0.3532238006591797),\n",
       " ('congestion', 0.3528224229812622),\n",
       " ('snri', 0.3525557816028595),\n",
       " ('dysfunction', 0.3520696759223938)]"
      ]
     },
     "execution_count": 669,
     "metadata": {},
     "output_type": "execute_result"
    }
   ],
   "source": [
    "model2.wv.most_similar(positive=['insomnia', 'ssris'], negative=['adderall'],topn=40)"
   ]
  },
  {
   "cell_type": "code",
   "execution_count": 658,
   "metadata": {},
   "outputs": [
    {
     "data": {
      "text/plain": [
       "[('libido', 0.4457560181617737),\n",
       " ('apatite', 0.42408931255340576),\n",
       " ('apetite', 0.42253684997558594),\n",
       " ('bloating', 0.39850419759750366),\n",
       " ('dryness', 0.38771119713783264),\n",
       " ('anorgasmia', 0.3690098822116852),\n",
       " ('disfunction', 0.363569974899292),\n",
       " ('erectile', 0.35221922397613525),\n",
       " ('backaches', 0.34334316849708557),\n",
       " ('agitation', 0.34310317039489746)]"
      ]
     },
     "execution_count": 658,
     "metadata": {},
     "output_type": "execute_result"
    }
   ],
   "source": [
    "model2.wv.most_similar(positive=['appetite', 'ssris'], negative=['adderall'],topn=10)"
   ]
  },
  {
   "cell_type": "code",
   "execution_count": 446,
   "metadata": {},
   "outputs": [],
   "source": [
    "# diff = model1.wv['libido'] + model1.wv['antidepressant']\n",
    "# model2.wv.most_similar(['girl'],topn=100)"
   ]
  },
  {
   "cell_type": "code",
   "execution_count": 447,
   "metadata": {
    "scrolled": true
   },
   "outputs": [
    {
     "data": {
      "text/plain": [
       "[('adderall', 0.862360954284668),\n",
       " ('zoloft', 0.768336296081543),\n",
       " ('lexapro', 0.6772686839103699),\n",
       " ('prozac', 0.6394789218902588),\n",
       " ('wellbutrin', 0.6265290379524231),\n",
       " ('mg', 0.6234655380249023),\n",
       " ('effexor', 0.6217649579048157),\n",
       " ('buspar', 0.6215677261352539),\n",
       " ('paxil', 0.617989718914032),\n",
       " ('celexa', 0.5816007852554321),\n",
       " ('xr', 0.5798400044441223),\n",
       " ('sertraline', 0.5756921768188477),\n",
       " ('xanax', 0.565936803817749),\n",
       " ('citalopram', 0.5538364052772522),\n",
       " ('seroquel', 0.5419552326202393),\n",
       " ('klonopin', 0.5417829751968384),\n",
       " ('cymbalta', 0.5406736135482788),\n",
       " ('vyvanse', 0.5397576093673706),\n",
       " ('concerta', 0.5226377844810486),\n",
       " ('medication', 0.522387683391571),\n",
       " ('fluoxetine', 0.5221703052520752),\n",
       " ('lustral', 0.5155850052833557),\n",
       " ('ritalin', 0.514403760433197),\n",
       " ('mirtazapine', 0.5125428438186646),\n",
       " ('lamotragine', 0.5123746395111084),\n",
       " ('escitalopram', 0.5119099617004395),\n",
       " ('buspirone', 0.5094854235649109),\n",
       " ('elicea', 0.5057764053344727),\n",
       " ('zolaft', 0.5055547952651978),\n",
       " ('oxcarbazepine', 0.5036775469779968),\n",
       " ('remeron', 0.5030416250228882),\n",
       " ('ativan', 0.5018413066864014),\n",
       " ('escilatopram', 0.501443088054657),\n",
       " ('sipralexa', 0.49638831615448),\n",
       " ('pristiq', 0.4948258399963379),\n",
       " ('viibryd', 0.4945484697818756),\n",
       " ('aripiprazole', 0.4939107298851013),\n",
       " ('clonazepam', 0.4935401380062103),\n",
       " ('trintellix', 0.4932570457458496),\n",
       " ('abilify', 0.49133414030075073)]"
      ]
     },
     "execution_count": 447,
     "metadata": {},
     "output_type": "execute_result"
    }
   ],
   "source": [
    "diff = model1.wv['adderall'] - model1.wv['anxiety'] + model1.wv['zoloft']\n",
    "model1.wv.similar_by_vector(diff,topn=40)\n",
    "# model2.wv.most_similar(positive=['appetite', 'zoloft'], negative=['adderall'], topn=40)"
   ]
  },
  {
   "cell_type": "code",
   "execution_count": 636,
   "metadata": {
    "scrolled": true
   },
   "outputs": [
    {
     "name": "stdout",
     "output_type": "stream",
     "text": [
      "[('woman', 0.622362494468689)]\n",
      "[('happy', 0.39836597442626953)]\n",
      "[('horseman', 0.3003823161125183), ('dexter', 0.28333941102027893), ('animated', 0.2801300287246704), ('bojack', 0.27456095814704895), ('gintama', 0.272478848695755), ('jones', 0.2678701877593994), ('yt', 0.254575252532959), ('merch', 0.25352585315704346), ('scrolls', 0.24711772799491882), ('wonderland', 0.2438838928937912)]\n",
      "\n",
      "[('markiplier', 0.37149134278297424), ('goldberg', 0.34644973278045654), ('superheroes', 0.3300613760948181), ('fandom', 0.32999029755592346), ('morty', 0.32127389311790466), ('sociopaths', 0.32021793723106384), ('kart', 0.31943899393081665), ('gimmicky', 0.31575334072113037), ('pl', 0.3146938383579254), ('discourse', 0.31244224309921265)]\n",
      "[('libido', 0.4457560181617737)]\n"
     ]
    }
   ],
   "source": [
    "# sanity check\n",
    "print(model2.wv.most_similar(positive=['girl', 'man'], negative=['boy'], topn=1))\n",
    "print(model2.wv.most_similar(positive=['good', 'sad'], negative=['bad'], topn=1))\n",
    "# print(model2.wv.most_similar(positive=['america', 'japan'], negative=['comics'], topn=10))\n",
    "print(model1.wv.most_similar(positive=['anime', 'usa'], negative=['japan'], topn=10))\n",
    "print()\n",
    "print(model1.wv.most_similar(positive=['manga', 'america'], negative=['japan'], topn=10))\n",
    "print(model2.wv.most_similar(positive=['appetite', 'ssris'], negative=['adderall'],topn=1))"
   ]
  },
  {
   "cell_type": "code",
   "execution_count": 897,
   "metadata": {},
   "outputs": [
    {
     "name": "stdout",
     "output_type": "stream",
     "text": [
      "[('giving', 0.43007081747055054), ('gave', 0.4018990099430084), ('give', 0.37458306550979614), ('makes', 0.37081873416900635), ('causes', 0.35473302006721497), ('brings', 0.3232537508010864), ('creates', 0.29973191022872925), ('sends', 0.2936379611492157), ('feeds', 0.2917942702770233), ('saves', 0.2890743613243103)]\n"
     ]
    }
   ],
   "source": [
    "print(model1.wv.most_similar(positive=['man', 'gives'], negative=['woman'], topn=10))\n"
   ]
  },
  {
   "cell_type": "code",
   "execution_count": null,
   "metadata": {},
   "outputs": [],
   "source": []
  },
  {
   "cell_type": "code",
   "execution_count": 922,
   "metadata": {},
   "outputs": [
    {
     "name": "stdout",
     "output_type": "stream",
     "text": [
      "[('gave', 0.41349464654922485), ('provides', 0.36381933093070984), ('give', 0.3576871156692505), ('giving', 0.31530657410621643), ('makes', 0.3097561001777649), ('brings', 0.3073192834854126), ('appreciable', 0.3028218150138855), ('likes', 0.2827165722846985), ('cares', 0.2826090455055237), ('comforts', 0.2820512354373932)]\n"
     ]
    }
   ],
   "source": [
    "print(model2.wv.most_similar(positive=['woman', 'gives'], negative=['man'], topn=10))\n"
   ]
  },
  {
   "cell_type": "code",
   "execution_count": 972,
   "metadata": {},
   "outputs": [
    {
     "data": {
      "text/plain": [
       "'ask asking told asks said pleasured smirked tell offered'"
      ]
     },
     "execution_count": 972,
     "metadata": {},
     "output_type": "execute_result"
    }
   ],
   "source": [
    "wt = model1.wv.most_similar(positive=['man', 'asked'], negative=['woman'], topn=9)\n",
    "mt = model2.wv.most_similar(positive=['woman', 'asked'], negative=['woman'], topn=10)\n",
    "\n",
    "wt_words = [w[0] for w in wt]\n",
    "a = ' '.join(wt_words)\n",
    "a\n"
   ]
  },
  {
   "cell_type": "code",
   "execution_count": null,
   "metadata": {},
   "outputs": [],
   "source": []
  },
  {
   "cell_type": "code",
   "execution_count": 939,
   "metadata": {},
   "outputs": [
    {
     "name": "stdout",
     "output_type": "stream",
     "text": [
      "[('brags', 0.3985859751701355), ('talk', 0.38265013694763184), ('speaks', 0.361060231924057), ('cares', 0.3573610186576843), ('punchlines', 0.3244349956512451), ('talked', 0.32361406087875366), ('ignores', 0.321233332157135), ('ronnie', 0.32004183530807495), ('pouts', 0.3197791874408722), ('mumbles', 0.3186509609222412)]\n"
     ]
    }
   ],
   "source": [
    "print(model2.wv.most_similar(positive=['man', 'talks'], negative=['woman'], topn=10))\n"
   ]
  },
  {
   "cell_type": "code",
   "execution_count": 931,
   "metadata": {},
   "outputs": [
    {
     "name": "stdout",
     "output_type": "stream",
     "text": [
      "[('ask', 0.49817124009132385), ('asks', 0.47522276639938354), ('asking', 0.4307596683502197), ('told', 0.3933787941932678), ('said', 0.36379486322402954), ('whyd', 0.3524198830127716), ('siad', 0.34495481848716736), ('askes', 0.32784074544906616), ('sahil', 0.3272550106048584), ('fudged', 0.3271654546260834), ('summerfield', 0.32672321796417236), ('stapler', 0.31757211685180664)]\n"
     ]
    }
   ],
   "source": [
    "print(model2.wv.most_similar(positive=['man', 'asked'], negative=['woman'], topn=12))\n"
   ]
  },
  {
   "cell_type": "code",
   "execution_count": 947,
   "metadata": {},
   "outputs": [
    {
     "name": "stdout",
     "output_type": "stream",
     "text": [
      "\n"
     ]
    },
    {
     "data": {
      "image/png": "[encoded data removed]",
      "text/plain": [
       "<Figure size 720x504 with 1 Axes>"
      ]
     },
     "metadata": {},
     "output_type": "display_data"
    },
    {
     "data": {
      "image/png": "[encoded data removed]",
      "text/plain": [
       "<Figure size 720x576 with 1 Axes>"
      ]
     },
     "metadata": {},
     "output_type": "display_data"
    }
   ],
   "source": [
    "a = model2.wv.most_similar(positive=['girl', 'man'], negative=['boy'], topn=1)\n",
    "b = model2.wv.most_similar(positive=['good', 'sad'], negative=['bad'], topn=1)\n",
    "# print(model2.wv.most_similar(positive=['america', 'japan'], negative=['comics'], topn=10))\n",
    "c = model1.wv.most_similar(positive=['anime', 'usa'], negative=['japan'], topn=10)\n",
    "print()\n",
    "d = model1.wv.most_similar(positive=['manga', 'america'], negative=['japan'], topn=13)\n",
    "e = model2.wv.most_similar(positive=['appetite', 'ssris'], negative=['adderall'],topn=1)\n",
    "\n",
    "\n",
    "wt = model2.wv.most_similar(positive=['woman', 'talks'], negative=['man'], topn=10)\n",
    "mt = model2.wv.most_similar(positive=['man', 'talks'], negative=['woman'], topn=10)\n",
    "\n",
    "funny_list = [[item[0], round(item[1], 4)] for item in mt]\n",
    "funny_list2 = funny_list[::-1]\n",
    "# arr = np.array(funny_list2)\n",
    "x = [item[0] for item in funny_list2]\n",
    "y = [item[1] for item in funny_list2]\n",
    "\n",
    "# x = arr[:,0]\n",
    "# y= arr[:,1]\n",
    "plt.figure(figsize=[10, 7])\n",
    "plt.xlim([.28, .38])\n",
    "plt.barh(x, y)\n",
    "\n",
    "\n",
    "fig, ax = plt.subplots(figsize=[10, 8])\n",
    "plt.title('Man - Woman + Talks\\n', color='white', fontsize=13)\n",
    "ax.barh(x, y, color = 'salmon')\n",
    "plt.xlabel('Cosine Similarity', fontsize=12, color='white', fontname='Osaka')\n",
    "plt.grid(False)\n",
    "plt.xlim([.24, .42])\n",
    "ax.axes.tick_params(axis=\"y\", colors='white', labelsize=12)\n",
    "ax.axes.tick_params(axis=\"x\", colors=\"white\", labelsize=12)\n",
    "plt.savefig('MARKIPLIER.png', transparent=True, dpi=300)"
   ]
  },
  {
   "cell_type": "code",
   "execution_count": null,
   "metadata": {},
   "outputs": [],
   "source": [
    "# f = ('markiplier', 0.37149134278297424)\n",
    "#  ('goldberg', 0.34644973278045654),\n",
    "#  ('superheroes', 0.3300613760948181),\n",
    "#  ('fandom', 0.32999029755592346),\n",
    "#  ('morty', 0.32127389311790466),\n",
    "#  ('sociopaths', 0.32021793723106384),\n",
    "#  ('kart', 0.31943899393081665),\n",
    "#  ('gimmicky', 0.31575334072113037),\n",
    "#  ('pl', 0.3146938383579254),\n",
    "#  ('discourse', 0.31244224309921265),\n",
    "#  ('cowboys', 0.3116625249385834),\n",
    "#  ('merch', 0.31049060821533203),\n",
    "#  ('barbie', 0.31040382385253906)"
   ]
  },
  {
   "cell_type": "code",
   "execution_count": null,
   "metadata": {},
   "outputs": [],
   "source": [
    "appetite"
   ]
  },
  {
   "cell_type": "code",
   "execution_count": null,
   "metadata": {},
   "outputs": [],
   "source": []
  },
  {
   "cell_type": "code",
   "execution_count": 498,
   "metadata": {},
   "outputs": [
    {
     "data": {
      "text/plain": [
       "[('motivation', 0.6299775838851929),\n",
       " ('willpower', 0.5869029760360718),\n",
       " ('strength', 0.5702896118164062),\n",
       " ('strenght', 0.4565954804420471),\n",
       " ('stamina', 0.4520929455757141),\n",
       " ('brainpower', 0.4397153854370117),\n",
       " ('enthusiasm', 0.43684160709381104),\n",
       " ('zapped', 0.43670618534088135),\n",
       " ('alertness', 0.4328494966030121),\n",
       " ('engery', 0.4322839379310608),\n",
       " ('expending', 0.42276492714881897),\n",
       " ('expend', 0.4140675663948059),\n",
       " ('motvation', 0.4118460416793823),\n",
       " ('fortitude', 0.40987902879714966),\n",
       " ('strengh', 0.40971967577934265),\n",
       " ('motiviation', 0.4093519449234009),\n",
       " ('vigor', 0.4091150760650635),\n",
       " ('therof', 0.4033835530281067),\n",
       " ('ambition', 0.403373122215271),\n",
       " ('modivation', 0.39942219853401184)]"
      ]
     },
     "execution_count": 498,
     "metadata": {},
     "output_type": "execute_result"
    }
   ],
   "source": [
    "model2.wv.most_similar(['energy'], topn=20)"
   ]
  },
  {
   "cell_type": "code",
   "execution_count": 513,
   "metadata": {},
   "outputs": [
    {
     "data": {
      "text/plain": [
       "[('libido', 0.44634950160980225),\n",
       " ('apetite', 0.43654346466064453),\n",
       " ('apatite', 0.4281459450721741),\n",
       " ('bloating', 0.3791866600513458),\n",
       " ('wb', 0.3717849850654602),\n",
       " ('erectile', 0.37156715989112854),\n",
       " ('digestion', 0.36950254440307617),\n",
       " ('ssri', 0.3597300946712494),\n",
       " ('anorgasmia', 0.358379065990448),\n",
       " ('dryness', 0.35025569796562195),\n",
       " ('celexa', 0.3492080569267273),\n",
       " ('lightheadedness', 0.346529483795166),\n",
       " ('zoloft', 0.3455219864845276),\n",
       " ('anafranil', 0.3453870415687561),\n",
       " ('nausea', 0.3445394039154053),\n",
       " ('ejaculation', 0.3420006036758423),\n",
       " ('disfunction', 0.33480381965637207),\n",
       " ('insomnia', 0.33475327491760254),\n",
       " ('prozac', 0.33397024869918823),\n",
       " ('headaches', 0.33392783999443054)]"
      ]
     },
     "execution_count": 513,
     "metadata": {},
     "output_type": "execute_result"
    }
   ],
   "source": [
    "model2.wv.most_similar(positive=['appetite', 'ssris'], negative=['stimulants'], topn=20)"
   ]
  },
  {
   "cell_type": "code",
   "execution_count": 488,
   "metadata": {},
   "outputs": [
    {
     "data": {
      "text/plain": [
       "[('libido', 0.44634950160980225),\n",
       " ('apetite', 0.43654346466064453),\n",
       " ('apatite', 0.4281459450721741),\n",
       " ('bloating', 0.3791866600513458),\n",
       " ('wb', 0.3717849850654602),\n",
       " ('erectile', 0.37156715989112854),\n",
       " ('digestion', 0.36950254440307617),\n",
       " ('ssri', 0.3597300946712494),\n",
       " ('anorgasmia', 0.358379065990448),\n",
       " ('dryness', 0.35025569796562195),\n",
       " ('celexa', 0.3492080569267273),\n",
       " ('lightheadedness', 0.346529483795166),\n",
       " ('zoloft', 0.3455219864845276),\n",
       " ('anafranil', 0.3453870415687561),\n",
       " ('nausea', 0.3445394039154053),\n",
       " ('ejaculation', 0.3420006036758423),\n",
       " ('disfunction', 0.33480381965637207),\n",
       " ('insomnia', 0.33475327491760254),\n",
       " ('prozac', 0.33397024869918823),\n",
       " ('headaches', 0.33392783999443054)]"
      ]
     },
     "execution_count": 488,
     "metadata": {},
     "output_type": "execute_result"
    }
   ],
   "source": [
    "# model.most_similar(positive=['paris', 'australia'], negative=['france'], topn=10)\n",
    "model2.wv.most_similar(positive=['appetite', 'ssris'], negative=['stimulants'], topn=20)"
   ]
  },
  {
   "cell_type": "code",
   "execution_count": 449,
   "metadata": {
    "scrolled": true
   },
   "outputs": [
    {
     "data": {
      "text/plain": [
       "[('hypersomnia', 0.5346331596374512),\n",
       " ('insomina', 0.5265147686004639),\n",
       " ('somnolence', 0.5256754159927368),\n",
       " ('dizziness', 0.5252941250801086),\n",
       " ('terrors', 0.5164477229118347),\n",
       " ('drowsiness', 0.5088891983032227),\n",
       " ('anxiety', 0.5076032876968384),\n",
       " ('sleepiness', 0.5064054131507874),\n",
       " ('prostatitis', 0.5063512325286865),\n",
       " ('headaches', 0.5060595273971558),\n",
       " ('unrefreshing', 0.5043777227401733),\n",
       " ('minipress', 0.5040251612663269),\n",
       " ('stomachaches', 0.49742797017097473),\n",
       " ('insomia', 0.4962427616119385),\n",
       " ('fatigue', 0.495800644159317),\n",
       " ('obstructive', 0.49307501316070557),\n",
       " ('amotivation', 0.489716112613678),\n",
       " ('trazedone', 0.48954612016677856),\n",
       " ('shakiness', 0.48651257157325745),\n",
       " ('gerd', 0.483576238155365),\n",
       " ('lightheadedness', 0.4822102189064026),\n",
       " ('diarrhoea', 0.479737251996994),\n",
       " ('cystitis', 0.4788517355918884),\n",
       " ('premenstrual', 0.478135883808136),\n",
       " ('prazosin', 0.47676366567611694),\n",
       " ('leaden', 0.4763224422931671),\n",
       " ('migraines', 0.47623273730278015),\n",
       " ('zolof', 0.4739569127559662),\n",
       " ('bloating', 0.4738248586654663),\n",
       " ('nightmares', 0.4723688066005707)]"
      ]
     },
     "execution_count": 449,
     "metadata": {},
     "output_type": "execute_result"
    }
   ],
   "source": [
    "model2.wv.most_similar(['insomnia'], topn=30)"
   ]
  },
  {
   "cell_type": "code",
   "execution_count": null,
   "metadata": {},
   "outputs": [],
   "source": [
    "model.wv.most_similar(['circadian'], topn=30)"
   ]
  },
  {
   "cell_type": "code",
   "execution_count": null,
   "metadata": {
    "scrolled": true
   },
   "outputs": [],
   "source": [
    "model2.wv.most_similar(['circadian'], topn=30)"
   ]
  },
  {
   "cell_type": "code",
   "execution_count": null,
   "metadata": {},
   "outputs": [],
   "source": [
    "model2.wv.most_similar(positive=['sleep'], negative=['insomnia'], topn=20)"
   ]
  },
  {
   "cell_type": "code",
   "execution_count": null,
   "metadata": {},
   "outputs": [],
   "source": [
    "w2c = dict()\n",
    "for item in model.wv.vocab:\n",
    "    w2c[item]=model.wv.vocab[item].count"
   ]
  },
  {
   "cell_type": "code",
   "execution_count": null,
   "metadata": {},
   "outputs": [],
   "source": [
    "import pandas as pd"
   ]
  },
  {
   "cell_type": "code",
   "execution_count": null,
   "metadata": {},
   "outputs": [],
   "source": [
    "df = pd.DataFrame(list(w2c.items()),columns = ['word','count']) \n",
    "df[['word', 'count']]"
   ]
  },
  {
   "cell_type": "code",
   "execution_count": null,
   "metadata": {},
   "outputs": [],
   "source": [
    "# model.wv.similar_by_vector(negative=['psychiatrist', 'prescribed'],topn=20)\n",
    "# model2.wv.most_similar(positive=['psychiatrist'], negative=['prescribed'], topn=20)\n",
    "# model2.wv.most_similar(positive=['addict'], negative=['drugs'], topn=20)\n",
    "model2.wv.most_similar(positive=['addict'], negative=['drugs'], topn=20)\n",
    "\n"
   ]
  },
  {
   "cell_type": "code",
   "execution_count": 224,
   "metadata": {},
   "outputs": [
    {
     "ename": "NameError",
     "evalue": "name 'model' is not defined",
     "output_type": "error",
     "traceback": [
      "\u001b[0;31m---------------------------------------------------------------------------\u001b[0m",
      "\u001b[0;31mNameError\u001b[0m                                 Traceback (most recent call last)",
      "\u001b[0;32m<ipython-input-224-0c8dccf44644>\u001b[0m in \u001b[0;36m<module>\u001b[0;34m\u001b[0m\n\u001b[0;32m----> 1\u001b[0;31m \u001b[0mdiff\u001b[0m \u001b[0;34m=\u001b[0m \u001b[0mmodel\u001b[0m\u001b[0;34m.\u001b[0m\u001b[0mwv\u001b[0m\u001b[0;34m[\u001b[0m\u001b[0;34m'psychiatrist'\u001b[0m\u001b[0;34m]\u001b[0m \u001b[0;34m-\u001b[0m \u001b[0mmodel\u001b[0m\u001b[0;34m.\u001b[0m\u001b[0mwv\u001b[0m\u001b[0;34m[\u001b[0m\u001b[0;34m'prescribed'\u001b[0m\u001b[0;34m]\u001b[0m\u001b[0;34m\u001b[0m\u001b[0;34m\u001b[0m\u001b[0m\n\u001b[0m\u001b[1;32m      2\u001b[0m \u001b[0mmodel\u001b[0m\u001b[0;34m.\u001b[0m\u001b[0mwv\u001b[0m\u001b[0;34m.\u001b[0m\u001b[0msimilar_by_vector\u001b[0m\u001b[0;34m(\u001b[0m\u001b[0mdiff\u001b[0m\u001b[0;34m,\u001b[0m\u001b[0mtopn\u001b[0m\u001b[0;34m=\u001b[0m\u001b[0;36m20\u001b[0m\u001b[0;34m)\u001b[0m\u001b[0;34m\u001b[0m\u001b[0;34m\u001b[0m\u001b[0m\n\u001b[1;32m      3\u001b[0m \u001b[0;34m\u001b[0m\u001b[0m\n",
      "\u001b[0;31mNameError\u001b[0m: name 'model' is not defined"
     ]
    }
   ],
   "source": [
    "diff = model.wv['psychiatrist'] - model.wv['prescribed']\n",
    "model.wv.similar_by_vector(diff,topn=20)\n",
    "\n"
   ]
  },
  {
   "cell_type": "code",
   "execution_count": null,
   "metadata": {
    "scrolled": false
   },
   "outputs": [],
   "source": [
    "# man_wom = model.wv['psychiatrist'] - model.wv['meds'] \n",
    "# model.wv.similar_by_vector(man_wom,topn=20)\n",
    "\n",
    "diff = model.wv['psychiatrist'] - model.wv['meds']\n",
    "model.wv.similar_by_vector(diff,topn=10)\n"
   ]
  },
  {
   "cell_type": "code",
   "execution_count": null,
   "metadata": {},
   "outputs": [],
   "source": [
    "model.wv.most_similar(positive=['cry', 'frustration'], negative=['sad'], topn=20)\n",
    "# model2.wv.most_similar(positive=['cry', 'frustration'], negative=['sad'], topn=20)\n"
   ]
  },
  {
   "cell_type": "code",
   "execution_count": null,
   "metadata": {},
   "outputs": [],
   "source": [
    "model2.wv.most_similar(positive=['cry', 'frustration'], negative=['sad'], topn=20)\n"
   ]
  },
  {
   "cell_type": "code",
   "execution_count": null,
   "metadata": {},
   "outputs": [],
   "source": [
    "model2.wv.most_similar(positive=['cry', 'anxious'], negative=['sad'], topn=20)\n"
   ]
  },
  {
   "cell_type": "code",
   "execution_count": null,
   "metadata": {},
   "outputs": [],
   "source": [
    "# model.most_similar(positive=['paris', 'australia'], negative=['france'], topn=10)\n",
    "model.wv.most_similar(positive=['cry', 'anxious'], negative=['sad'], topn=20)\n"
   ]
  },
  {
   "cell_type": "code",
   "execution_count": null,
   "metadata": {},
   "outputs": [],
   "source": [
    "diff = model2.wv['addict'] - model2.wv['drugs']\n",
    "model2.wv.similar_by_vector(diff,topn=20)"
   ]
  },
  {
   "cell_type": "code",
   "execution_count": null,
   "metadata": {},
   "outputs": [],
   "source": [
    "model2.wv.most_similar(positive=['addict'], negative=['drugs'], topn=20)"
   ]
  },
  {
   "cell_type": "code",
   "execution_count": null,
   "metadata": {},
   "outputs": [],
   "source": [
    "model.wv.most_similar(positive=['alcoholic'], negative=['alcohol'], topn=20)"
   ]
  },
  {
   "cell_type": "code",
   "execution_count": null,
   "metadata": {},
   "outputs": [],
   "source": [
    "diff = model.wv['alcoholic'] - model.wv['alcohol']\n",
    "model.wv.similar_by_vector(diff,topn=10)\n"
   ]
  },
  {
   "cell_type": "code",
   "execution_count": null,
   "metadata": {},
   "outputs": [],
   "source": [
    "# man_wom = model.wv['sex'] - model.wv['partner'] \n",
    "# model.wv.similar_by_vector(man_wom,topn=20)\n",
    "man_wom = model2.wv['addict'] - model2.wv['drugs'] \n",
    "model2.wv.similar_by_vector(man_wom,topn=20)"
   ]
  },
  {
   "cell_type": "code",
   "execution_count": null,
   "metadata": {
    "scrolled": true
   },
   "outputs": [],
   "source": [
    "man_wom = model.wv['home'] - model.wv['good'] \n",
    "model.wv.similar_by_vector(man_wom,topn=20)\n",
    "# names = []\n",
    "# vals = []\n",
    "\n",
    "# for item in simvecs:\n",
    "#     names.append(item[0])\n",
    "#     vals.append(item[1])\n",
    "\n",
    "\n",
    "    \n",
    "# man_wom2 = model2.wv['addict'] - model2.wv['drugs'] \n",
    "# simvecs2 = model2.wv.similar_by_vector(man_wom2,topn=20)\n",
    "# names2 = []\n",
    "# vals2 = []\n",
    "\n",
    "# for item in simvecs2:\n",
    "#     names2.append(item[0])\n",
    "#     vals2.append(item[1])\n",
    "    \n",
    "    "
   ]
  },
  {
   "cell_type": "code",
   "execution_count": null,
   "metadata": {},
   "outputs": [],
   "source": [
    "# fig, ax = plt.subplots(figsize=[10, 8])\n",
    "# plt.title('addict - drugs', color='white', fontsize=15)\n",
    "# ax.barh(names2[::-2], vals2[::-2], color = 'orange')\n",
    "\n",
    "# ax.axes.tick_params(axis=\"y\", colors='white', labelsize=15)\n",
    "# ax.axes.tick_params(axis=\"x\", colors=\"white\", labelsize=10)\n",
    "# plt.savefig('graph3.png', transparent=True, dpi=300)"
   ]
  },
  {
   "cell_type": "code",
   "execution_count": null,
   "metadata": {},
   "outputs": [],
   "source": [
    "\n",
    "# fig, ax = plt.subplots(figsize=[10, 8])\n",
    "# plt.title('addiction - drugs', color='white', fontsize=15)\n",
    "# ax.barh(names[::-2], vals[::-2], color = 'orange')\n",
    "\n",
    "# ax.axes.tick_params(axis=\"y\", colors='white', labelsize=15)\n",
    "# ax.axes.tick_params(axis=\"x\", colors=\"white\", labelsize=10)\n",
    "# plt.savefig('graph2.png', transparent=True, dpi=300)"
   ]
  },
  {
   "cell_type": "code",
   "execution_count": null,
   "metadata": {},
   "outputs": [],
   "source": [
    "# doc_model = gensim.models.doc2vec.Doc2Vec(vector_size=50, min_count=2, epochs=40)\n",
    "# doc_model"
   ]
  },
  {
   "cell_type": "code",
   "execution_count": null,
   "metadata": {},
   "outputs": [],
   "source": []
  },
  {
   "cell_type": "code",
   "execution_count": 774,
   "metadata": {},
   "outputs": [
    {
     "data": {
      "text/plain": [
       "[('wrecking', 0.22566886246204376),\n",
       " ('hated', 0.22049322724342346),\n",
       " ('ugh', 0.22011162340641022),\n",
       " ('prodded', 0.21738068759441376),\n",
       " ('centres', 0.2048914134502411),\n",
       " ('sucks', 0.20198939740657806),\n",
       " ('spaz', 0.19549071788787842),\n",
       " ('telephones', 0.18990424275398254),\n",
       " ('dread', 0.1887391060590744),\n",
       " ('keyed', 0.1881345510482788)]"
      ]
     },
     "execution_count": 774,
     "metadata": {},
     "output_type": "execute_result"
    }
   ],
   "source": [
    "# a = model1.wv['love']\n",
    "# b = model1.wv['hate']\n",
    "# x = a - b\n",
    "model1.wv.most_similar(positive=['hate'], negative=['love'])"
   ]
  },
  {
   "cell_type": "code",
   "execution_count": 881,
   "metadata": {
    "scrolled": true
   },
   "outputs": [
    {
     "data": {
      "image/png": "[encoded data removed]",
      "text/plain": [
       "<Figure size 720x576 with 1 Axes>"
      ]
     },
     "metadata": {},
     "output_type": "display_data"
    }
   ],
   "source": [
    "# # anxiety = model.wv['anxious']\n",
    "import seaborn as sns\n",
    "\n",
    "sns.set_theme(style=\"whitegrid\")\n",
    "a = model1.wv['man']\n",
    "b = model1.wv['woman']\n",
    "\n",
    "c = model1.wv['asked']\n",
    "d = model1.wv['told']\n",
    "\n",
    "\n",
    "\n",
    "# a = np.array([-1,1])\n",
    "# b = np.array([1,1])\n",
    "x = a + c - b\n",
    "\n",
    "x2 = model1.wv['therapist']\n",
    "x3 = model1.wv.similar_by_vector(x)\n",
    "\n",
    "# fig = plt.figure(figsize=[15,15])\n",
    "# ax = ax.gca(projection='3d')\n",
    "fig, ax = plt.subplots(figsize=[10, 8])\n",
    "V = np.array([a, b])\n",
    "origin = np.array([[0, 0],[0, 0]]) # origin point\n",
    "\n",
    "ax.quiver(*origin, V[:,0], V[:,1], color=['r','b','g'], scale=1.2)\n",
    "# plt.xlim([-.002, .002])\n",
    "# plt.show()\n",
    "# model.wv.similar_by_vector(x)\n",
    "\n",
    "ax.axes.tick_params(axis=\"y\", colors='white', labelsize=10)\n",
    "ax.axes.tick_params(axis=\"x\", colors=\"white\", labelsize=10)\n",
    "plt.grid(False)\n",
    "plt.savefig('vecs11.png', transparent=True, dpi=300)\n"
   ]
  },
  {
   "cell_type": "code",
   "execution_count": 795,
   "metadata": {},
   "outputs": [],
   "source": [
    "a = model1.wv['man']\n",
    "b = model1.wv['woman']\n",
    "\n",
    "c = model1.wv['asked']\n",
    "d = model1.wv['told']\n",
    "x = a + c - b\n"
   ]
  },
  {
   "cell_type": "code",
   "execution_count": 834,
   "metadata": {},
   "outputs": [
    {
     "data": {
      "text/html": [
       "<div>\n",
       "<style scoped>\n",
       "    .dataframe tbody tr th:only-of-type {\n",
       "        vertical-align: middle;\n",
       "    }\n",
       "\n",
       "    .dataframe tbody tr th {\n",
       "        vertical-align: top;\n",
       "    }\n",
       "\n",
       "    .dataframe thead th {\n",
       "        text-align: right;\n",
       "    }\n",
       "</style>\n",
       "<table border=\"1\" class=\"dataframe\">\n",
       "  <thead>\n",
       "    <tr style=\"text-align: right;\">\n",
       "      <th></th>\n",
       "      <th>0</th>\n",
       "      <th>1</th>\n",
       "      <th>2</th>\n",
       "      <th>3</th>\n",
       "    </tr>\n",
       "  </thead>\n",
       "  <tbody>\n",
       "    <tr>\n",
       "      <th>0</th>\n",
       "      <td>0.274754</td>\n",
       "      <td>0.480042</td>\n",
       "      <td>0.137768</td>\n",
       "      <td>0.130798</td>\n",
       "    </tr>\n",
       "    <tr>\n",
       "      <th>1</th>\n",
       "      <td>0.037833</td>\n",
       "      <td>0.218973</td>\n",
       "      <td>-0.218323</td>\n",
       "      <td>-0.032078</td>\n",
       "    </tr>\n",
       "    <tr>\n",
       "      <th>2</th>\n",
       "      <td>-0.164171</td>\n",
       "      <td>-0.133978</td>\n",
       "      <td>-0.070523</td>\n",
       "      <td>-0.085075</td>\n",
       "    </tr>\n",
       "    <tr>\n",
       "      <th>3</th>\n",
       "      <td>-0.372247</td>\n",
       "      <td>-0.458948</td>\n",
       "      <td>-0.101235</td>\n",
       "      <td>-0.109358</td>\n",
       "    </tr>\n",
       "    <tr>\n",
       "      <th>4</th>\n",
       "      <td>-0.037268</td>\n",
       "      <td>-0.165195</td>\n",
       "      <td>-0.164291</td>\n",
       "      <td>-0.253110</td>\n",
       "    </tr>\n",
       "    <tr>\n",
       "      <th>...</th>\n",
       "      <td>...</td>\n",
       "      <td>...</td>\n",
       "      <td>...</td>\n",
       "      <td>...</td>\n",
       "    </tr>\n",
       "    <tr>\n",
       "      <th>395</th>\n",
       "      <td>-0.103962</td>\n",
       "      <td>-0.310774</td>\n",
       "      <td>-0.070738</td>\n",
       "      <td>-0.061058</td>\n",
       "    </tr>\n",
       "    <tr>\n",
       "      <th>396</th>\n",
       "      <td>-0.015406</td>\n",
       "      <td>-0.199829</td>\n",
       "      <td>0.076331</td>\n",
       "      <td>0.028780</td>\n",
       "    </tr>\n",
       "    <tr>\n",
       "      <th>397</th>\n",
       "      <td>0.115429</td>\n",
       "      <td>0.117193</td>\n",
       "      <td>-0.199988</td>\n",
       "      <td>0.053237</td>\n",
       "    </tr>\n",
       "    <tr>\n",
       "      <th>398</th>\n",
       "      <td>-0.028823</td>\n",
       "      <td>-0.001502</td>\n",
       "      <td>0.057500</td>\n",
       "      <td>0.100129</td>\n",
       "    </tr>\n",
       "    <tr>\n",
       "      <th>399</th>\n",
       "      <td>-0.159223</td>\n",
       "      <td>-0.222169</td>\n",
       "      <td>-0.154257</td>\n",
       "      <td>-0.149901</td>\n",
       "    </tr>\n",
       "  </tbody>\n",
       "</table>\n",
       "<p>400 rows × 4 columns</p>\n",
       "</div>"
      ],
      "text/plain": [
       "            0         1         2         3\n",
       "0    0.274754  0.480042  0.137768  0.130798\n",
       "1    0.037833  0.218973 -0.218323 -0.032078\n",
       "2   -0.164171 -0.133978 -0.070523 -0.085075\n",
       "3   -0.372247 -0.458948 -0.101235 -0.109358\n",
       "4   -0.037268 -0.165195 -0.164291 -0.253110\n",
       "..        ...       ...       ...       ...\n",
       "395 -0.103962 -0.310774 -0.070738 -0.061058\n",
       "396 -0.015406 -0.199829  0.076331  0.028780\n",
       "397  0.115429  0.117193 -0.199988  0.053237\n",
       "398 -0.028823 -0.001502  0.057500  0.100129\n",
       "399 -0.159223 -0.222169 -0.154257 -0.149901\n",
       "\n",
       "[400 rows x 4 columns]"
      ]
     },
     "execution_count": 834,
     "metadata": {},
     "output_type": "execute_result"
    }
   ],
   "source": [
    "df.T"
   ]
  },
  {
   "cell_type": "code",
   "execution_count": 860,
   "metadata": {},
   "outputs": [],
   "source": [
    "df=pd.DataFrame([a, b, c, d]).T\n",
    "df.columns =['man', 'woman', 'asked', 'unkwn']"
   ]
  },
  {
   "cell_type": "code",
   "execution_count": 861,
   "metadata": {},
   "outputs": [
    {
     "data": {
      "text/html": [
       "<div>\n",
       "<style scoped>\n",
       "    .dataframe tbody tr th:only-of-type {\n",
       "        vertical-align: middle;\n",
       "    }\n",
       "\n",
       "    .dataframe tbody tr th {\n",
       "        vertical-align: top;\n",
       "    }\n",
       "\n",
       "    .dataframe thead th {\n",
       "        text-align: right;\n",
       "    }\n",
       "</style>\n",
       "<table border=\"1\" class=\"dataframe\">\n",
       "  <thead>\n",
       "    <tr style=\"text-align: right;\">\n",
       "      <th></th>\n",
       "      <th>0</th>\n",
       "      <th>1</th>\n",
       "      <th>2</th>\n",
       "      <th>3</th>\n",
       "      <th>4</th>\n",
       "      <th>5</th>\n",
       "      <th>6</th>\n",
       "      <th>7</th>\n",
       "      <th>8</th>\n",
       "      <th>9</th>\n",
       "      <th>...</th>\n",
       "      <th>390</th>\n",
       "      <th>391</th>\n",
       "      <th>392</th>\n",
       "      <th>393</th>\n",
       "      <th>394</th>\n",
       "      <th>395</th>\n",
       "      <th>396</th>\n",
       "      <th>397</th>\n",
       "      <th>398</th>\n",
       "      <th>399</th>\n",
       "    </tr>\n",
       "  </thead>\n",
       "  <tbody>\n",
       "    <tr>\n",
       "      <th>man</th>\n",
       "      <td>0.274754</td>\n",
       "      <td>0.037833</td>\n",
       "      <td>-0.164171</td>\n",
       "      <td>-0.372247</td>\n",
       "      <td>-0.037268</td>\n",
       "      <td>0.101075</td>\n",
       "      <td>0.104230</td>\n",
       "      <td>0.037274</td>\n",
       "      <td>0.161033</td>\n",
       "      <td>-0.071903</td>\n",
       "      <td>...</td>\n",
       "      <td>-0.084213</td>\n",
       "      <td>0.343867</td>\n",
       "      <td>-0.382469</td>\n",
       "      <td>0.031027</td>\n",
       "      <td>0.071153</td>\n",
       "      <td>-0.103962</td>\n",
       "      <td>-0.015406</td>\n",
       "      <td>0.115429</td>\n",
       "      <td>-0.028823</td>\n",
       "      <td>-0.159223</td>\n",
       "    </tr>\n",
       "    <tr>\n",
       "      <th>woman</th>\n",
       "      <td>0.480042</td>\n",
       "      <td>0.218973</td>\n",
       "      <td>-0.133978</td>\n",
       "      <td>-0.458948</td>\n",
       "      <td>-0.165195</td>\n",
       "      <td>-0.092032</td>\n",
       "      <td>0.489611</td>\n",
       "      <td>-0.046069</td>\n",
       "      <td>0.275835</td>\n",
       "      <td>0.150141</td>\n",
       "      <td>...</td>\n",
       "      <td>-0.545890</td>\n",
       "      <td>0.073214</td>\n",
       "      <td>-0.364804</td>\n",
       "      <td>0.072923</td>\n",
       "      <td>0.175413</td>\n",
       "      <td>-0.310774</td>\n",
       "      <td>-0.199829</td>\n",
       "      <td>0.117193</td>\n",
       "      <td>-0.001502</td>\n",
       "      <td>-0.222169</td>\n",
       "    </tr>\n",
       "    <tr>\n",
       "      <th>asked</th>\n",
       "      <td>0.137768</td>\n",
       "      <td>-0.218323</td>\n",
       "      <td>-0.070523</td>\n",
       "      <td>-0.101235</td>\n",
       "      <td>-0.164291</td>\n",
       "      <td>-0.262378</td>\n",
       "      <td>0.331681</td>\n",
       "      <td>-0.050946</td>\n",
       "      <td>-0.376018</td>\n",
       "      <td>-0.049526</td>\n",
       "      <td>...</td>\n",
       "      <td>0.055749</td>\n",
       "      <td>0.252404</td>\n",
       "      <td>-0.167716</td>\n",
       "      <td>-0.023008</td>\n",
       "      <td>0.137330</td>\n",
       "      <td>-0.070738</td>\n",
       "      <td>0.076331</td>\n",
       "      <td>-0.199988</td>\n",
       "      <td>0.057500</td>\n",
       "      <td>-0.154257</td>\n",
       "    </tr>\n",
       "    <tr>\n",
       "      <th>unkwn</th>\n",
       "      <td>0.130798</td>\n",
       "      <td>-0.032078</td>\n",
       "      <td>-0.085075</td>\n",
       "      <td>-0.109358</td>\n",
       "      <td>-0.253110</td>\n",
       "      <td>-0.047757</td>\n",
       "      <td>0.135655</td>\n",
       "      <td>0.098978</td>\n",
       "      <td>-0.198920</td>\n",
       "      <td>-0.123798</td>\n",
       "      <td>...</td>\n",
       "      <td>-0.219559</td>\n",
       "      <td>0.027264</td>\n",
       "      <td>-0.003534</td>\n",
       "      <td>0.045699</td>\n",
       "      <td>0.186806</td>\n",
       "      <td>-0.061058</td>\n",
       "      <td>0.028780</td>\n",
       "      <td>0.053237</td>\n",
       "      <td>0.100129</td>\n",
       "      <td>-0.149901</td>\n",
       "    </tr>\n",
       "  </tbody>\n",
       "</table>\n",
       "<p>4 rows × 400 columns</p>\n",
       "</div>"
      ],
      "text/plain": [
       "            0         1         2         3         4         5         6    \\\n",
       "man    0.274754  0.037833 -0.164171 -0.372247 -0.037268  0.101075  0.104230   \n",
       "woman  0.480042  0.218973 -0.133978 -0.458948 -0.165195 -0.092032  0.489611   \n",
       "asked  0.137768 -0.218323 -0.070523 -0.101235 -0.164291 -0.262378  0.331681   \n",
       "unkwn  0.130798 -0.032078 -0.085075 -0.109358 -0.253110 -0.047757  0.135655   \n",
       "\n",
       "            7         8         9    ...       390       391       392  \\\n",
       "man    0.037274  0.161033 -0.071903  ... -0.084213  0.343867 -0.382469   \n",
       "woman -0.046069  0.275835  0.150141  ... -0.545890  0.073214 -0.364804   \n",
       "asked -0.050946 -0.376018 -0.049526  ...  0.055749  0.252404 -0.167716   \n",
       "unkwn  0.098978 -0.198920 -0.123798  ... -0.219559  0.027264 -0.003534   \n",
       "\n",
       "            393       394       395       396       397       398       399  \n",
       "man    0.031027  0.071153 -0.103962 -0.015406  0.115429 -0.028823 -0.159223  \n",
       "woman  0.072923  0.175413 -0.310774 -0.199829  0.117193 -0.001502 -0.222169  \n",
       "asked -0.023008  0.137330 -0.070738  0.076331 -0.199988  0.057500 -0.154257  \n",
       "unkwn  0.045699  0.186806 -0.061058  0.028780  0.053237  0.100129 -0.149901  \n",
       "\n",
       "[4 rows x 400 columns]"
      ]
     },
     "execution_count": 861,
     "metadata": {},
     "output_type": "execute_result"
    }
   ],
   "source": [
    "df.T"
   ]
  },
  {
   "cell_type": "code",
   "execution_count": 838,
   "metadata": {},
   "outputs": [],
   "source": [
    "# bases = [0, 0, 0]\n",
    "# np.insert(a, np.array([0,0]), axis=1)\n",
    "# test = np.append([0,0,0], a)"
   ]
  },
  {
   "cell_type": "code",
   "execution_count": 850,
   "metadata": {},
   "outputs": [
    {
     "data": {
      "text/html": [
       "<div>\n",
       "<style scoped>\n",
       "    .dataframe tbody tr th:only-of-type {\n",
       "        vertical-align: middle;\n",
       "    }\n",
       "\n",
       "    .dataframe tbody tr th {\n",
       "        vertical-align: top;\n",
       "    }\n",
       "\n",
       "    .dataframe thead th {\n",
       "        text-align: right;\n",
       "    }\n",
       "</style>\n",
       "<table border=\"1\" class=\"dataframe\">\n",
       "  <thead>\n",
       "    <tr style=\"text-align: right;\">\n",
       "      <th></th>\n",
       "      <th>sepal_length</th>\n",
       "      <th>sepal_width</th>\n",
       "      <th>petal_length</th>\n",
       "      <th>petal_width</th>\n",
       "    </tr>\n",
       "  </thead>\n",
       "  <tbody>\n",
       "    <tr>\n",
       "      <th>0</th>\n",
       "      <td>5.1</td>\n",
       "      <td>3.5</td>\n",
       "      <td>1.4</td>\n",
       "      <td>0.2</td>\n",
       "    </tr>\n",
       "    <tr>\n",
       "      <th>1</th>\n",
       "      <td>4.9</td>\n",
       "      <td>3.0</td>\n",
       "      <td>1.4</td>\n",
       "      <td>0.2</td>\n",
       "    </tr>\n",
       "    <tr>\n",
       "      <th>2</th>\n",
       "      <td>4.7</td>\n",
       "      <td>3.2</td>\n",
       "      <td>1.3</td>\n",
       "      <td>0.2</td>\n",
       "    </tr>\n",
       "    <tr>\n",
       "      <th>3</th>\n",
       "      <td>4.6</td>\n",
       "      <td>3.1</td>\n",
       "      <td>1.5</td>\n",
       "      <td>0.2</td>\n",
       "    </tr>\n",
       "    <tr>\n",
       "      <th>4</th>\n",
       "      <td>5.0</td>\n",
       "      <td>3.6</td>\n",
       "      <td>1.4</td>\n",
       "      <td>0.2</td>\n",
       "    </tr>\n",
       "    <tr>\n",
       "      <th>...</th>\n",
       "      <td>...</td>\n",
       "      <td>...</td>\n",
       "      <td>...</td>\n",
       "      <td>...</td>\n",
       "    </tr>\n",
       "    <tr>\n",
       "      <th>145</th>\n",
       "      <td>6.7</td>\n",
       "      <td>3.0</td>\n",
       "      <td>5.2</td>\n",
       "      <td>2.3</td>\n",
       "    </tr>\n",
       "    <tr>\n",
       "      <th>146</th>\n",
       "      <td>6.3</td>\n",
       "      <td>2.5</td>\n",
       "      <td>5.0</td>\n",
       "      <td>1.9</td>\n",
       "    </tr>\n",
       "    <tr>\n",
       "      <th>147</th>\n",
       "      <td>6.5</td>\n",
       "      <td>3.0</td>\n",
       "      <td>5.2</td>\n",
       "      <td>2.0</td>\n",
       "    </tr>\n",
       "    <tr>\n",
       "      <th>148</th>\n",
       "      <td>6.2</td>\n",
       "      <td>3.4</td>\n",
       "      <td>5.4</td>\n",
       "      <td>2.3</td>\n",
       "    </tr>\n",
       "    <tr>\n",
       "      <th>149</th>\n",
       "      <td>5.9</td>\n",
       "      <td>3.0</td>\n",
       "      <td>5.1</td>\n",
       "      <td>1.8</td>\n",
       "    </tr>\n",
       "  </tbody>\n",
       "</table>\n",
       "<p>150 rows × 4 columns</p>\n",
       "</div>"
      ],
      "text/plain": [
       "     sepal_length  sepal_width  petal_length  petal_width\n",
       "0             5.1          3.5           1.4          0.2\n",
       "1             4.9          3.0           1.4          0.2\n",
       "2             4.7          3.2           1.3          0.2\n",
       "3             4.6          3.1           1.5          0.2\n",
       "4             5.0          3.6           1.4          0.2\n",
       "..            ...          ...           ...          ...\n",
       "145           6.7          3.0           5.2          2.3\n",
       "146           6.3          2.5           5.0          1.9\n",
       "147           6.5          3.0           5.2          2.0\n",
       "148           6.2          3.4           5.4          2.3\n",
       "149           5.9          3.0           5.1          1.8\n",
       "\n",
       "[150 rows x 4 columns]"
      ]
     },
     "execution_count": 850,
     "metadata": {},
     "output_type": "execute_result"
    }
   ],
   "source": [
    "X"
   ]
  },
  {
   "cell_type": "code",
   "execution_count": 869,
   "metadata": {},
   "outputs": [],
   "source": [
    "import plotly.express as px\n",
    "from sklearn.decomposition import PCA\n",
    "\n",
    "# df = px.data.iris()\n",
    "X = df.T\n",
    "\n",
    "pca = PCA(n_components=4)\n",
    "components = pca.fit_transform(df.T)\n",
    "\n",
    "# fig = px.scatter(components, x=0, y=1, color=df['species'])\n",
    "# fig.show()"
   ]
  },
  {
   "cell_type": "code",
   "execution_count": 871,
   "metadata": {},
   "outputs": [
    {
     "data": {
      "text/plain": [
       "array([[-1.90774216e+00, -1.60198167e+00, -7.19960585e-01,\n",
       "         1.65376260e-16],\n",
       "       [-2.08635742e+00,  1.64979962e+00,  4.72105445e-01,\n",
       "         1.65376260e-16],\n",
       "       [ 2.32930834e+00,  7.00524652e-01, -1.20560560e+00,\n",
       "         1.65376260e-16],\n",
       "       [ 1.66479124e+00, -7.48342605e-01,  1.45346074e+00,\n",
       "         1.65376260e-16]])"
      ]
     },
     "execution_count": 871,
     "metadata": {},
     "output_type": "execute_result"
    }
   ],
   "source": [
    "components"
   ]
  },
  {
   "cell_type": "code",
   "execution_count": 867,
   "metadata": {},
   "outputs": [
    {
     "data": {
      "text/plain": [
       "(4, 4)"
      ]
     },
     "execution_count": 867,
     "metadata": {},
     "output_type": "execute_result"
    }
   ],
   "source": [
    "components.shape"
   ]
  },
  {
   "cell_type": "code",
   "execution_count": 866,
   "metadata": {},
   "outputs": [
    {
     "data": {
      "text/plain": [
       "(4, 6)"
      ]
     },
     "execution_count": 866,
     "metadata": {},
     "output_type": "execute_result"
    }
   ],
   "source": [
    "soa.shape"
   ]
  },
  {
   "cell_type": "code",
   "execution_count": 821,
   "metadata": {},
   "outputs": [
    {
     "data": {
      "image/png": "[encoded data removed]",
      "text/plain": [
       "<Figure size 432x288 with 1 Axes>"
      ]
     },
     "metadata": {},
     "output_type": "display_data"
    }
   ],
   "source": [
    "# a = np.array([0,0,3])\n",
    "# b = np.array([3,0,0])\n",
    "# c = np.array([0,3,0])\n",
    "# d = np.array([2,2,2])\n",
    "\n",
    "fig = plt.figure()\n",
    "ax = fig.gca(projection=\"3d\")\n",
    "soa = np.array([[0,0,0,0,0,3], [0,0,0,3,0,0], [0,0,0,0,3,0], [0,0,0,4,2,2]])\n",
    "X, Y, Z, U, V, W = zip(*soa)\n",
    "ax.set_xlim3d(0, 4)\n",
    "ax.set_ylim3d(0, 4)\n",
    "ax.set_zlim3d(0, 4)\n",
    "ax.quiver(X, Y, Z, U, V, W, length=1, arrow_length_ratio = 0.1, colors = [\"blue\", \"green\", \"red\", \"black\"])\n",
    "plt.title('Basis (a = blue, b = green, c = red, d = black)')\n",
    "ax.set_xlabel('$x_1$', fontsize=20)\n",
    "ax.set_ylabel('$x_2$', fontsize=20)\n",
    "ax.set_zlabel('$x_3$', fontsize=20)\n",
    "plt.show()"
   ]
  },
  {
   "cell_type": "code",
   "execution_count": null,
   "metadata": {},
   "outputs": [],
   "source": [
    "# x, y  = [1, 2, 3], [0.5, 0.5, 0.5]\n",
    "# u1,v1 = np.random.randn(3), np.random.randn(3)\n",
    "# u2,v2 = np.random.randn(3), np.random.randn(3)\n",
    "# u3,v3 = np.random.randn(3), np.random.randn(3)\n",
    "\n",
    "# QV1 = plt.quiver(x, y, u1, v1, color='r')\n",
    "# QV2 = plt.quiver(x, y, u2, v2, color='b')\n",
    "# QV3 = plt.quiver(x, y, u3, v3, color='g')"
   ]
  },
  {
   "cell_type": "code",
   "execution_count": 16,
   "metadata": {
    "scrolled": true
   },
   "outputs": [
    {
     "data": {
      "text/plain": [
       "['created_utc',\n",
       " 'subreddit',\n",
       " 'author',\n",
       " 'domain',\n",
       " 'url',\n",
       " 'num_comments',\n",
       " 'score',\n",
       " 'ups',\n",
       " 'downs',\n",
       " 'title',\n",
       " 'selftext',\n",
       " 'saved',\n",
       " 'id',\n",
       " 'from_kind',\n",
       " 'gilded',\n",
       " 'from',\n",
       " 'stickied',\n",
       " 'retrieved_on',\n",
       " 'over_18',\n",
       " 'thumbnail',\n",
       " 'subreddit_id',\n",
       " 'hide_score',\n",
       " 'link_flair_css_class',\n",
       " 'author_flair_css_class',\n",
       " 'archived',\n",
       " 'is_self',\n",
       " 'from_id',\n",
       " 'permalink',\n",
       " 'name',\n",
       " 'author_flair_text',\n",
       " 'quarantine',\n",
       " 'link_flair_text',\n",
       " 'distinguished',\n",
       " 'date',\n",
       " 'text_title',\n",
       " 'depression/anxiety/meds',\n",
       " 'tired/sick',\n",
       " 'friends/lonely',\n",
       " 'school',\n",
       " 'depressed/suicidal/reason',\n",
       " 'sleep',\n",
       " 'job',\n",
       " 'friend/best/girl',\n",
       " 'sad',\n",
       " 'kill/suicide',\n",
       " 'max_topic']"
      ]
     },
     "execution_count": 16,
     "metadata": {},
     "output_type": "execute_result"
    }
   ],
   "source": [
    "data.columns.to_list()"
   ]
  },
  {
   "cell_type": "code",
   "execution_count": 24,
   "metadata": {},
   "outputs": [
    {
     "data": {
      "text/plain": [
       "True"
      ]
     },
     "execution_count": 24,
     "metadata": {},
     "output_type": "execute_result"
    }
   ],
   "source": [
    "'030624' in repeated_posters "
   ]
  },
  {
   "cell_type": "code",
   "execution_count": 41,
   "metadata": {},
   "outputs": [],
   "source": [
    "# data = depression.copy()\n",
    "# authors = data.groupby('author').size()\n",
    "# repeated_posters = authors[(authors.index != '[deleted]')].index.to_list()\n",
    "# data['repeated_poster'] = data.author.apply(lambda x: True if x in repeated_posters else False)\n"
   ]
  },
  {
   "cell_type": "code",
   "execution_count": 131,
   "metadata": {},
   "outputs": [
    {
     "data": {
      "text/html": [
       "<div>\n",
       "<style scoped>\n",
       "    .dataframe tbody tr th:only-of-type {\n",
       "        vertical-align: middle;\n",
       "    }\n",
       "\n",
       "    .dataframe tbody tr th {\n",
       "        vertical-align: top;\n",
       "    }\n",
       "\n",
       "    .dataframe thead th {\n",
       "        text-align: right;\n",
       "    }\n",
       "</style>\n",
       "<table border=\"1\" class=\"dataframe\">\n",
       "  <thead>\n",
       "    <tr style=\"text-align: right;\">\n",
       "      <th></th>\n",
       "      <th>created_utc</th>\n",
       "      <th>subreddit</th>\n",
       "      <th>author</th>\n",
       "      <th>domain</th>\n",
       "      <th>url</th>\n",
       "      <th>num_comments</th>\n",
       "      <th>score</th>\n",
       "      <th>ups</th>\n",
       "      <th>downs</th>\n",
       "      <th>title</th>\n",
       "      <th>...</th>\n",
       "      <th>tired/sick</th>\n",
       "      <th>friends/lonely</th>\n",
       "      <th>school</th>\n",
       "      <th>depressed/suicidal/reason</th>\n",
       "      <th>sleep</th>\n",
       "      <th>job</th>\n",
       "      <th>friend/best/girl</th>\n",
       "      <th>sad</th>\n",
       "      <th>kill/suicide</th>\n",
       "      <th>max_topic</th>\n",
       "    </tr>\n",
       "  </thead>\n",
       "  <tbody>\n",
       "    <tr>\n",
       "      <th>0</th>\n",
       "      <td>1451434602</td>\n",
       "      <td>depression</td>\n",
       "      <td>IICHASE55II</td>\n",
       "      <td>self.depression</td>\n",
       "      <td>https://www.reddit.com/r/depression/comments/3...</td>\n",
       "      <td>0</td>\n",
       "      <td>1</td>\n",
       "      <td>1.0</td>\n",
       "      <td>0.0</td>\n",
       "      <td>Just got dismissed from my university</td>\n",
       "      <td>...</td>\n",
       "      <td>0.000000</td>\n",
       "      <td>0.000000</td>\n",
       "      <td>0.004461</td>\n",
       "      <td>0.000000</td>\n",
       "      <td>0.001357</td>\n",
       "      <td>0.006613</td>\n",
       "      <td>0.000000</td>\n",
       "      <td>0.000000</td>\n",
       "      <td>0.000000</td>\n",
       "      <td>job</td>\n",
       "    </tr>\n",
       "    <tr>\n",
       "      <th>1</th>\n",
       "      <td>1451177182</td>\n",
       "      <td>depression</td>\n",
       "      <td>rastasquirtle</td>\n",
       "      <td>self.depression</td>\n",
       "      <td>https://www.reddit.com/r/depression/comments/3...</td>\n",
       "      <td>4</td>\n",
       "      <td>14</td>\n",
       "      <td>14.0</td>\n",
       "      <td>0.0</td>\n",
       "      <td>im a spoiled piece of shit</td>\n",
       "      <td>...</td>\n",
       "      <td>0.005664</td>\n",
       "      <td>0.000867</td>\n",
       "      <td>0.000000</td>\n",
       "      <td>0.000000</td>\n",
       "      <td>0.000000</td>\n",
       "      <td>0.000000</td>\n",
       "      <td>0.003773</td>\n",
       "      <td>0.000000</td>\n",
       "      <td>0.000230</td>\n",
       "      <td>tired/sick</td>\n",
       "    </tr>\n",
       "    <tr>\n",
       "      <th>2</th>\n",
       "      <td>1451348063</td>\n",
       "      <td>depression</td>\n",
       "      <td>t1h3ro4w5aw6ay7</td>\n",
       "      <td>self.depression</td>\n",
       "      <td>https://www.reddit.com/r/depression/comments/3...</td>\n",
       "      <td>0</td>\n",
       "      <td>1</td>\n",
       "      <td>1.0</td>\n",
       "      <td>0.0</td>\n",
       "      <td>Caring about a person that doesn't</td>\n",
       "      <td>...</td>\n",
       "      <td>0.000000</td>\n",
       "      <td>0.002910</td>\n",
       "      <td>0.004704</td>\n",
       "      <td>0.000000</td>\n",
       "      <td>0.000000</td>\n",
       "      <td>0.000000</td>\n",
       "      <td>0.009897</td>\n",
       "      <td>0.000000</td>\n",
       "      <td>0.000000</td>\n",
       "      <td>friend/best/girl</td>\n",
       "    </tr>\n",
       "    <tr>\n",
       "      <th>3</th>\n",
       "      <td>1451091347</td>\n",
       "      <td>depression</td>\n",
       "      <td>iu4pkz0</td>\n",
       "      <td>self.depression</td>\n",
       "      <td>https://www.reddit.com/r/depression/comments/3...</td>\n",
       "      <td>0</td>\n",
       "      <td>0</td>\n",
       "      <td>0.0</td>\n",
       "      <td>0.0</td>\n",
       "      <td>I really screwed up this year</td>\n",
       "      <td>...</td>\n",
       "      <td>0.000000</td>\n",
       "      <td>0.000157</td>\n",
       "      <td>0.000000</td>\n",
       "      <td>0.000000</td>\n",
       "      <td>0.000000</td>\n",
       "      <td>0.000000</td>\n",
       "      <td>0.000000</td>\n",
       "      <td>0.006024</td>\n",
       "      <td>0.000000</td>\n",
       "      <td>sad</td>\n",
       "    </tr>\n",
       "    <tr>\n",
       "      <th>4</th>\n",
       "      <td>1451536175</td>\n",
       "      <td>depression</td>\n",
       "      <td>SmellyDagger</td>\n",
       "      <td>self.depression</td>\n",
       "      <td>https://www.reddit.com/r/depression/comments/3...</td>\n",
       "      <td>1</td>\n",
       "      <td>2</td>\n",
       "      <td>2.0</td>\n",
       "      <td>0.0</td>\n",
       "      <td>It has been 596 days since I have debated suic...</td>\n",
       "      <td>...</td>\n",
       "      <td>0.000000</td>\n",
       "      <td>0.000805</td>\n",
       "      <td>0.000000</td>\n",
       "      <td>0.000000</td>\n",
       "      <td>0.000000</td>\n",
       "      <td>0.000000</td>\n",
       "      <td>0.000000</td>\n",
       "      <td>0.000000</td>\n",
       "      <td>0.000788</td>\n",
       "      <td>depression/anxiety/meds</td>\n",
       "    </tr>\n",
       "    <tr>\n",
       "      <th>...</th>\n",
       "      <td>...</td>\n",
       "      <td>...</td>\n",
       "      <td>...</td>\n",
       "      <td>...</td>\n",
       "      <td>...</td>\n",
       "      <td>...</td>\n",
       "      <td>...</td>\n",
       "      <td>...</td>\n",
       "      <td>...</td>\n",
       "      <td>...</td>\n",
       "      <td>...</td>\n",
       "      <td>...</td>\n",
       "      <td>...</td>\n",
       "      <td>...</td>\n",
       "      <td>...</td>\n",
       "      <td>...</td>\n",
       "      <td>...</td>\n",
       "      <td>...</td>\n",
       "      <td>...</td>\n",
       "      <td>...</td>\n",
       "      <td>...</td>\n",
       "    </tr>\n",
       "    <tr>\n",
       "      <th>361271</th>\n",
       "      <td>1495147948</td>\n",
       "      <td>depression</td>\n",
       "      <td>mangomangelo</td>\n",
       "      <td>self.depression</td>\n",
       "      <td>https://www.reddit.com/r/depression/comments/6...</td>\n",
       "      <td>3</td>\n",
       "      <td>7</td>\n",
       "      <td>NaN</td>\n",
       "      <td>NaN</td>\n",
       "      <td>Does a therapist really help?</td>\n",
       "      <td>...</td>\n",
       "      <td>0.000000</td>\n",
       "      <td>0.000000</td>\n",
       "      <td>0.000000</td>\n",
       "      <td>0.003916</td>\n",
       "      <td>0.000000</td>\n",
       "      <td>0.000000</td>\n",
       "      <td>0.000000</td>\n",
       "      <td>0.000000</td>\n",
       "      <td>0.000000</td>\n",
       "      <td>depression/anxiety/meds</td>\n",
       "    </tr>\n",
       "    <tr>\n",
       "      <th>361272</th>\n",
       "      <td>1494172701</td>\n",
       "      <td>depression</td>\n",
       "      <td>franksinatraisbest</td>\n",
       "      <td>self.depression</td>\n",
       "      <td>https://www.reddit.com/r/depression/comments/6...</td>\n",
       "      <td>1</td>\n",
       "      <td>4</td>\n",
       "      <td>NaN</td>\n",
       "      <td>NaN</td>\n",
       "      <td>I have no ambition, no desires, no interests, ...</td>\n",
       "      <td>...</td>\n",
       "      <td>0.001395</td>\n",
       "      <td>0.004246</td>\n",
       "      <td>0.004349</td>\n",
       "      <td>0.000000</td>\n",
       "      <td>0.004071</td>\n",
       "      <td>0.005378</td>\n",
       "      <td>0.000820</td>\n",
       "      <td>0.001035</td>\n",
       "      <td>0.000000</td>\n",
       "      <td>job</td>\n",
       "    </tr>\n",
       "    <tr>\n",
       "      <th>361273</th>\n",
       "      <td>1494005055</td>\n",
       "      <td>depression</td>\n",
       "      <td>Vanillexhope</td>\n",
       "      <td>self.depression</td>\n",
       "      <td>https://www.reddit.com/r/depression/comments/6...</td>\n",
       "      <td>1</td>\n",
       "      <td>3</td>\n",
       "      <td>NaN</td>\n",
       "      <td>NaN</td>\n",
       "      <td>I Am a Failure</td>\n",
       "      <td>...</td>\n",
       "      <td>0.000000</td>\n",
       "      <td>0.000000</td>\n",
       "      <td>0.011800</td>\n",
       "      <td>0.001595</td>\n",
       "      <td>0.002072</td>\n",
       "      <td>0.012941</td>\n",
       "      <td>0.000000</td>\n",
       "      <td>0.000000</td>\n",
       "      <td>0.000000</td>\n",
       "      <td>job</td>\n",
       "    </tr>\n",
       "    <tr>\n",
       "      <th>361274</th>\n",
       "      <td>1495750855</td>\n",
       "      <td>depression</td>\n",
       "      <td>Trip_SS</td>\n",
       "      <td>self.depression</td>\n",
       "      <td>https://www.reddit.com/r/depression/comments/6...</td>\n",
       "      <td>6</td>\n",
       "      <td>9</td>\n",
       "      <td>NaN</td>\n",
       "      <td>NaN</td>\n",
       "      <td>I feel alone, sick, empty, unneeded.</td>\n",
       "      <td>...</td>\n",
       "      <td>0.010587</td>\n",
       "      <td>0.000000</td>\n",
       "      <td>0.000000</td>\n",
       "      <td>0.000000</td>\n",
       "      <td>0.009567</td>\n",
       "      <td>0.000000</td>\n",
       "      <td>0.000000</td>\n",
       "      <td>0.000000</td>\n",
       "      <td>0.000000</td>\n",
       "      <td>tired/sick</td>\n",
       "    </tr>\n",
       "    <tr>\n",
       "      <th>361275</th>\n",
       "      <td>1494881456</td>\n",
       "      <td>depression</td>\n",
       "      <td>whodiz</td>\n",
       "      <td>self.depression</td>\n",
       "      <td>https://www.reddit.com/r/depression/comments/6...</td>\n",
       "      <td>3</td>\n",
       "      <td>2</td>\n",
       "      <td>NaN</td>\n",
       "      <td>NaN</td>\n",
       "      <td>When did everything get so hard?</td>\n",
       "      <td>...</td>\n",
       "      <td>0.000000</td>\n",
       "      <td>0.002766</td>\n",
       "      <td>0.000000</td>\n",
       "      <td>0.000000</td>\n",
       "      <td>0.009723</td>\n",
       "      <td>0.000415</td>\n",
       "      <td>0.000000</td>\n",
       "      <td>0.000000</td>\n",
       "      <td>0.000000</td>\n",
       "      <td>sleep</td>\n",
       "    </tr>\n",
       "  </tbody>\n",
       "</table>\n",
       "<p>361275 rows × 46 columns</p>\n",
       "</div>"
      ],
      "text/plain": [
       "        created_utc   subreddit              author           domain  \\\n",
       "0        1451434602  depression         IICHASE55II  self.depression   \n",
       "1        1451177182  depression       rastasquirtle  self.depression   \n",
       "2        1451348063  depression     t1h3ro4w5aw6ay7  self.depression   \n",
       "3        1451091347  depression             iu4pkz0  self.depression   \n",
       "4        1451536175  depression        SmellyDagger  self.depression   \n",
       "...             ...         ...                 ...              ...   \n",
       "361271   1495147948  depression        mangomangelo  self.depression   \n",
       "361272   1494172701  depression  franksinatraisbest  self.depression   \n",
       "361273   1494005055  depression        Vanillexhope  self.depression   \n",
       "361274   1495750855  depression             Trip_SS  self.depression   \n",
       "361275   1494881456  depression              whodiz  self.depression   \n",
       "\n",
       "                                                      url  num_comments  \\\n",
       "0       https://www.reddit.com/r/depression/comments/3...             0   \n",
       "1       https://www.reddit.com/r/depression/comments/3...             4   \n",
       "2       https://www.reddit.com/r/depression/comments/3...             0   \n",
       "3       https://www.reddit.com/r/depression/comments/3...             0   \n",
       "4       https://www.reddit.com/r/depression/comments/3...             1   \n",
       "...                                                   ...           ...   \n",
       "361271  https://www.reddit.com/r/depression/comments/6...             3   \n",
       "361272  https://www.reddit.com/r/depression/comments/6...             1   \n",
       "361273  https://www.reddit.com/r/depression/comments/6...             1   \n",
       "361274  https://www.reddit.com/r/depression/comments/6...             6   \n",
       "361275  https://www.reddit.com/r/depression/comments/6...             3   \n",
       "\n",
       "        score   ups  downs                                              title  \\\n",
       "0           1   1.0    0.0              Just got dismissed from my university   \n",
       "1          14  14.0    0.0                         im a spoiled piece of shit   \n",
       "2           1   1.0    0.0                 Caring about a person that doesn't   \n",
       "3           0   0.0    0.0                      I really screwed up this year   \n",
       "4           2   2.0    0.0  It has been 596 days since I have debated suic...   \n",
       "...       ...   ...    ...                                                ...   \n",
       "361271      7   NaN    NaN                      Does a therapist really help?   \n",
       "361272      4   NaN    NaN  I have no ambition, no desires, no interests, ...   \n",
       "361273      3   NaN    NaN                                     I Am a Failure   \n",
       "361274      9   NaN    NaN               I feel alone, sick, empty, unneeded.   \n",
       "361275      2   NaN    NaN                   When did everything get so hard?   \n",
       "\n",
       "        ... tired/sick friends/lonely    school  depressed/suicidal/reason  \\\n",
       "0       ...   0.000000       0.000000  0.004461                   0.000000   \n",
       "1       ...   0.005664       0.000867  0.000000                   0.000000   \n",
       "2       ...   0.000000       0.002910  0.004704                   0.000000   \n",
       "3       ...   0.000000       0.000157  0.000000                   0.000000   \n",
       "4       ...   0.000000       0.000805  0.000000                   0.000000   \n",
       "...     ...        ...            ...       ...                        ...   \n",
       "361271  ...   0.000000       0.000000  0.000000                   0.003916   \n",
       "361272  ...   0.001395       0.004246  0.004349                   0.000000   \n",
       "361273  ...   0.000000       0.000000  0.011800                   0.001595   \n",
       "361274  ...   0.010587       0.000000  0.000000                   0.000000   \n",
       "361275  ...   0.000000       0.002766  0.000000                   0.000000   \n",
       "\n",
       "           sleep       job  friend/best/girl       sad  kill/suicide  \\\n",
       "0       0.001357  0.006613          0.000000  0.000000      0.000000   \n",
       "1       0.000000  0.000000          0.003773  0.000000      0.000230   \n",
       "2       0.000000  0.000000          0.009897  0.000000      0.000000   \n",
       "3       0.000000  0.000000          0.000000  0.006024      0.000000   \n",
       "4       0.000000  0.000000          0.000000  0.000000      0.000788   \n",
       "...          ...       ...               ...       ...           ...   \n",
       "361271  0.000000  0.000000          0.000000  0.000000      0.000000   \n",
       "361272  0.004071  0.005378          0.000820  0.001035      0.000000   \n",
       "361273  0.002072  0.012941          0.000000  0.000000      0.000000   \n",
       "361274  0.009567  0.000000          0.000000  0.000000      0.000000   \n",
       "361275  0.009723  0.000415          0.000000  0.000000      0.000000   \n",
       "\n",
       "                      max_topic  \n",
       "0                           job  \n",
       "1                    tired/sick  \n",
       "2              friend/best/girl  \n",
       "3                           sad  \n",
       "4       depression/anxiety/meds  \n",
       "...                         ...  \n",
       "361271  depression/anxiety/meds  \n",
       "361272                      job  \n",
       "361273                      job  \n",
       "361274               tired/sick  \n",
       "361275                    sleep  \n",
       "\n",
       "[361275 rows x 46 columns]"
      ]
     },
     "execution_count": 131,
     "metadata": {},
     "output_type": "execute_result"
    }
   ],
   "source": [
    "data"
   ]
  },
  {
   "cell_type": "code",
   "execution_count": 66,
   "metadata": {},
   "outputs": [
    {
     "data": {
      "text/plain": [
       "28998"
      ]
     },
     "execution_count": 66,
     "metadata": {},
     "output_type": "execute_result"
    }
   ],
   "source": [
    "idk = authors[(authors.values == 3) & (authors.index != '[deleted]')]\n",
    "idk.shape[0] * 3"
   ]
  },
  {
   "cell_type": "code",
   "execution_count": 70,
   "metadata": {
    "scrolled": true
   },
   "outputs": [
    {
     "data": {
      "text/html": [
       "<div>\n",
       "<style scoped>\n",
       "    .dataframe tbody tr th:only-of-type {\n",
       "        vertical-align: middle;\n",
       "    }\n",
       "\n",
       "    .dataframe tbody tr th {\n",
       "        vertical-align: top;\n",
       "    }\n",
       "\n",
       "    .dataframe thead th {\n",
       "        text-align: right;\n",
       "    }\n",
       "</style>\n",
       "<table border=\"1\" class=\"dataframe\">\n",
       "  <thead>\n",
       "    <tr style=\"text-align: right;\">\n",
       "      <th></th>\n",
       "      <th>index</th>\n",
       "      <th>created_utc</th>\n",
       "      <th>subreddit</th>\n",
       "      <th>author</th>\n",
       "      <th>domain</th>\n",
       "      <th>url</th>\n",
       "      <th>num_comments</th>\n",
       "      <th>score</th>\n",
       "      <th>ups</th>\n",
       "      <th>downs</th>\n",
       "      <th>...</th>\n",
       "      <th>friends/lonely</th>\n",
       "      <th>school</th>\n",
       "      <th>depressed/suicidal/reason</th>\n",
       "      <th>sleep</th>\n",
       "      <th>job</th>\n",
       "      <th>friend/best/girl</th>\n",
       "      <th>sad</th>\n",
       "      <th>kill/suicide</th>\n",
       "      <th>max_topic</th>\n",
       "      <th>repeated_poster</th>\n",
       "    </tr>\n",
       "  </thead>\n",
       "  <tbody>\n",
       "    <tr>\n",
       "      <th>0</th>\n",
       "      <td>20</td>\n",
       "      <td>1450062238</td>\n",
       "      <td>depression</td>\n",
       "      <td>throwaway168233</td>\n",
       "      <td>self.depression</td>\n",
       "      <td>https://www.reddit.com/r/depression/comments/3...</td>\n",
       "      <td>6</td>\n",
       "      <td>2</td>\n",
       "      <td>2.0</td>\n",
       "      <td>0.0</td>\n",
       "      <td>...</td>\n",
       "      <td>0.000186</td>\n",
       "      <td>0.000451</td>\n",
       "      <td>0.000000</td>\n",
       "      <td>0.001659</td>\n",
       "      <td>0.000000</td>\n",
       "      <td>0.000000</td>\n",
       "      <td>0.000000</td>\n",
       "      <td>0.000000</td>\n",
       "      <td>depression/anxiety/meds</td>\n",
       "      <td>True</td>\n",
       "    </tr>\n",
       "    <tr>\n",
       "      <th>1</th>\n",
       "      <td>23</td>\n",
       "      <td>1449014444</td>\n",
       "      <td>depression</td>\n",
       "      <td>engxcommish</td>\n",
       "      <td>self.depression</td>\n",
       "      <td>https://www.reddit.com/r/depression/comments/3...</td>\n",
       "      <td>2</td>\n",
       "      <td>1</td>\n",
       "      <td>1.0</td>\n",
       "      <td>0.0</td>\n",
       "      <td>...</td>\n",
       "      <td>0.000000</td>\n",
       "      <td>0.001916</td>\n",
       "      <td>0.000000</td>\n",
       "      <td>0.000000</td>\n",
       "      <td>0.011483</td>\n",
       "      <td>0.000000</td>\n",
       "      <td>0.000000</td>\n",
       "      <td>0.000403</td>\n",
       "      <td>job</td>\n",
       "      <td>True</td>\n",
       "    </tr>\n",
       "    <tr>\n",
       "      <th>2</th>\n",
       "      <td>32</td>\n",
       "      <td>1449723822</td>\n",
       "      <td>depression</td>\n",
       "      <td>Saraphaim</td>\n",
       "      <td>self.depression</td>\n",
       "      <td>https://www.reddit.com/r/depression/comments/3...</td>\n",
       "      <td>7</td>\n",
       "      <td>8</td>\n",
       "      <td>8.0</td>\n",
       "      <td>0.0</td>\n",
       "      <td>...</td>\n",
       "      <td>0.000748</td>\n",
       "      <td>0.000000</td>\n",
       "      <td>0.000000</td>\n",
       "      <td>0.000000</td>\n",
       "      <td>0.000000</td>\n",
       "      <td>0.000000</td>\n",
       "      <td>0.000000</td>\n",
       "      <td>0.000000</td>\n",
       "      <td>depression/anxiety/meds</td>\n",
       "      <td>True</td>\n",
       "    </tr>\n",
       "    <tr>\n",
       "      <th>3</th>\n",
       "      <td>55</td>\n",
       "      <td>1449206083</td>\n",
       "      <td>depression</td>\n",
       "      <td>johannamaeja</td>\n",
       "      <td>self.depression</td>\n",
       "      <td>https://www.reddit.com/r/depression/comments/3...</td>\n",
       "      <td>6</td>\n",
       "      <td>5</td>\n",
       "      <td>5.0</td>\n",
       "      <td>0.0</td>\n",
       "      <td>...</td>\n",
       "      <td>0.000000</td>\n",
       "      <td>0.000000</td>\n",
       "      <td>0.000000</td>\n",
       "      <td>0.000000</td>\n",
       "      <td>0.000642</td>\n",
       "      <td>0.000000</td>\n",
       "      <td>0.000000</td>\n",
       "      <td>0.000000</td>\n",
       "      <td>job</td>\n",
       "      <td>True</td>\n",
       "    </tr>\n",
       "    <tr>\n",
       "      <th>4</th>\n",
       "      <td>61</td>\n",
       "      <td>1449826163</td>\n",
       "      <td>depression</td>\n",
       "      <td>stingraymenace</td>\n",
       "      <td>self.depression</td>\n",
       "      <td>https://www.reddit.com/r/depression/comments/3...</td>\n",
       "      <td>1</td>\n",
       "      <td>2</td>\n",
       "      <td>2.0</td>\n",
       "      <td>0.0</td>\n",
       "      <td>...</td>\n",
       "      <td>0.006119</td>\n",
       "      <td>0.000000</td>\n",
       "      <td>0.000000</td>\n",
       "      <td>0.000000</td>\n",
       "      <td>0.000000</td>\n",
       "      <td>0.000097</td>\n",
       "      <td>0.000000</td>\n",
       "      <td>0.000000</td>\n",
       "      <td>tired/sick</td>\n",
       "      <td>True</td>\n",
       "    </tr>\n",
       "    <tr>\n",
       "      <th>...</th>\n",
       "      <td>...</td>\n",
       "      <td>...</td>\n",
       "      <td>...</td>\n",
       "      <td>...</td>\n",
       "      <td>...</td>\n",
       "      <td>...</td>\n",
       "      <td>...</td>\n",
       "      <td>...</td>\n",
       "      <td>...</td>\n",
       "      <td>...</td>\n",
       "      <td>...</td>\n",
       "      <td>...</td>\n",
       "      <td>...</td>\n",
       "      <td>...</td>\n",
       "      <td>...</td>\n",
       "      <td>...</td>\n",
       "      <td>...</td>\n",
       "      <td>...</td>\n",
       "      <td>...</td>\n",
       "      <td>...</td>\n",
       "      <td>...</td>\n",
       "    </tr>\n",
       "    <tr>\n",
       "      <th>60023</th>\n",
       "      <td>361258</td>\n",
       "      <td>1496034840</td>\n",
       "      <td>depression</td>\n",
       "      <td>fierydreams</td>\n",
       "      <td>self.depression</td>\n",
       "      <td>https://www.reddit.com/r/depression/comments/6...</td>\n",
       "      <td>1</td>\n",
       "      <td>1</td>\n",
       "      <td>NaN</td>\n",
       "      <td>NaN</td>\n",
       "      <td>...</td>\n",
       "      <td>0.000000</td>\n",
       "      <td>0.000000</td>\n",
       "      <td>0.000000</td>\n",
       "      <td>0.000879</td>\n",
       "      <td>0.000000</td>\n",
       "      <td>0.000000</td>\n",
       "      <td>0.000298</td>\n",
       "      <td>0.000000</td>\n",
       "      <td>sleep</td>\n",
       "      <td>True</td>\n",
       "    </tr>\n",
       "    <tr>\n",
       "      <th>60024</th>\n",
       "      <td>361259</td>\n",
       "      <td>1493922393</td>\n",
       "      <td>depression</td>\n",
       "      <td>Unfukkkmee</td>\n",
       "      <td>self.depression</td>\n",
       "      <td>https://www.reddit.com/r/depression/comments/6...</td>\n",
       "      <td>3</td>\n",
       "      <td>3</td>\n",
       "      <td>NaN</td>\n",
       "      <td>NaN</td>\n",
       "      <td>...</td>\n",
       "      <td>0.000000</td>\n",
       "      <td>0.007254</td>\n",
       "      <td>0.005254</td>\n",
       "      <td>0.000000</td>\n",
       "      <td>0.000000</td>\n",
       "      <td>0.000000</td>\n",
       "      <td>0.000000</td>\n",
       "      <td>0.000000</td>\n",
       "      <td>school</td>\n",
       "      <td>True</td>\n",
       "    </tr>\n",
       "    <tr>\n",
       "      <th>60025</th>\n",
       "      <td>361260</td>\n",
       "      <td>1493918253</td>\n",
       "      <td>depression</td>\n",
       "      <td>chadthecat</td>\n",
       "      <td>self.depression</td>\n",
       "      <td>https://www.reddit.com/r/depression/comments/6...</td>\n",
       "      <td>1</td>\n",
       "      <td>2</td>\n",
       "      <td>NaN</td>\n",
       "      <td>NaN</td>\n",
       "      <td>...</td>\n",
       "      <td>0.000000</td>\n",
       "      <td>0.000000</td>\n",
       "      <td>0.000000</td>\n",
       "      <td>0.000000</td>\n",
       "      <td>0.000000</td>\n",
       "      <td>0.000000</td>\n",
       "      <td>0.000000</td>\n",
       "      <td>0.000000</td>\n",
       "      <td>depression/anxiety/meds</td>\n",
       "      <td>True</td>\n",
       "    </tr>\n",
       "    <tr>\n",
       "      <th>60026</th>\n",
       "      <td>361268</td>\n",
       "      <td>1494650262</td>\n",
       "      <td>depression</td>\n",
       "      <td>unpollutedfantasy</td>\n",
       "      <td>self.depression</td>\n",
       "      <td>https://www.reddit.com/r/depression/comments/6...</td>\n",
       "      <td>2</td>\n",
       "      <td>7</td>\n",
       "      <td>NaN</td>\n",
       "      <td>NaN</td>\n",
       "      <td>...</td>\n",
       "      <td>0.000000</td>\n",
       "      <td>0.000000</td>\n",
       "      <td>0.000000</td>\n",
       "      <td>0.000683</td>\n",
       "      <td>0.000000</td>\n",
       "      <td>0.000000</td>\n",
       "      <td>0.000000</td>\n",
       "      <td>0.000000</td>\n",
       "      <td>sleep</td>\n",
       "      <td>True</td>\n",
       "    </tr>\n",
       "    <tr>\n",
       "      <th>60027</th>\n",
       "      <td>361272</td>\n",
       "      <td>1494172701</td>\n",
       "      <td>depression</td>\n",
       "      <td>franksinatraisbest</td>\n",
       "      <td>self.depression</td>\n",
       "      <td>https://www.reddit.com/r/depression/comments/6...</td>\n",
       "      <td>1</td>\n",
       "      <td>4</td>\n",
       "      <td>NaN</td>\n",
       "      <td>NaN</td>\n",
       "      <td>...</td>\n",
       "      <td>0.004246</td>\n",
       "      <td>0.004349</td>\n",
       "      <td>0.000000</td>\n",
       "      <td>0.004071</td>\n",
       "      <td>0.005378</td>\n",
       "      <td>0.000820</td>\n",
       "      <td>0.001035</td>\n",
       "      <td>0.000000</td>\n",
       "      <td>job</td>\n",
       "      <td>True</td>\n",
       "    </tr>\n",
       "  </tbody>\n",
       "</table>\n",
       "<p>60028 rows × 48 columns</p>\n",
       "</div>"
      ],
      "text/plain": [
       "        index  created_utc   subreddit              author           domain  \\\n",
       "0          20   1450062238  depression     throwaway168233  self.depression   \n",
       "1          23   1449014444  depression         engxcommish  self.depression   \n",
       "2          32   1449723822  depression           Saraphaim  self.depression   \n",
       "3          55   1449206083  depression        johannamaeja  self.depression   \n",
       "4          61   1449826163  depression      stingraymenace  self.depression   \n",
       "...       ...          ...         ...                 ...              ...   \n",
       "60023  361258   1496034840  depression         fierydreams  self.depression   \n",
       "60024  361259   1493922393  depression          Unfukkkmee  self.depression   \n",
       "60025  361260   1493918253  depression          chadthecat  self.depression   \n",
       "60026  361268   1494650262  depression   unpollutedfantasy  self.depression   \n",
       "60027  361272   1494172701  depression  franksinatraisbest  self.depression   \n",
       "\n",
       "                                                     url  num_comments  score  \\\n",
       "0      https://www.reddit.com/r/depression/comments/3...             6      2   \n",
       "1      https://www.reddit.com/r/depression/comments/3...             2      1   \n",
       "2      https://www.reddit.com/r/depression/comments/3...             7      8   \n",
       "3      https://www.reddit.com/r/depression/comments/3...             6      5   \n",
       "4      https://www.reddit.com/r/depression/comments/3...             1      2   \n",
       "...                                                  ...           ...    ...   \n",
       "60023  https://www.reddit.com/r/depression/comments/6...             1      1   \n",
       "60024  https://www.reddit.com/r/depression/comments/6...             3      3   \n",
       "60025  https://www.reddit.com/r/depression/comments/6...             1      2   \n",
       "60026  https://www.reddit.com/r/depression/comments/6...             2      7   \n",
       "60027  https://www.reddit.com/r/depression/comments/6...             1      4   \n",
       "\n",
       "       ups  downs  ... friends/lonely    school depressed/suicidal/reason  \\\n",
       "0      2.0    0.0  ...       0.000186  0.000451                  0.000000   \n",
       "1      1.0    0.0  ...       0.000000  0.001916                  0.000000   \n",
       "2      8.0    0.0  ...       0.000748  0.000000                  0.000000   \n",
       "3      5.0    0.0  ...       0.000000  0.000000                  0.000000   \n",
       "4      2.0    0.0  ...       0.006119  0.000000                  0.000000   \n",
       "...    ...    ...  ...            ...       ...                       ...   \n",
       "60023  NaN    NaN  ...       0.000000  0.000000                  0.000000   \n",
       "60024  NaN    NaN  ...       0.000000  0.007254                  0.005254   \n",
       "60025  NaN    NaN  ...       0.000000  0.000000                  0.000000   \n",
       "60026  NaN    NaN  ...       0.000000  0.000000                  0.000000   \n",
       "60027  NaN    NaN  ...       0.004246  0.004349                  0.000000   \n",
       "\n",
       "          sleep       job  friend/best/girl       sad  kill/suicide  \\\n",
       "0      0.001659  0.000000          0.000000  0.000000      0.000000   \n",
       "1      0.000000  0.011483          0.000000  0.000000      0.000403   \n",
       "2      0.000000  0.000000          0.000000  0.000000      0.000000   \n",
       "3      0.000000  0.000642          0.000000  0.000000      0.000000   \n",
       "4      0.000000  0.000000          0.000097  0.000000      0.000000   \n",
       "...         ...       ...               ...       ...           ...   \n",
       "60023  0.000879  0.000000          0.000000  0.000298      0.000000   \n",
       "60024  0.000000  0.000000          0.000000  0.000000      0.000000   \n",
       "60025  0.000000  0.000000          0.000000  0.000000      0.000000   \n",
       "60026  0.000683  0.000000          0.000000  0.000000      0.000000   \n",
       "60027  0.004071  0.005378          0.000820  0.001035      0.000000   \n",
       "\n",
       "                     max_topic  repeated_poster  \n",
       "0      depression/anxiety/meds             True  \n",
       "1                          job             True  \n",
       "2      depression/anxiety/meds             True  \n",
       "3                          job             True  \n",
       "4                   tired/sick             True  \n",
       "...                        ...              ...  \n",
       "60023                    sleep             True  \n",
       "60024                   school             True  \n",
       "60025  depression/anxiety/meds             True  \n",
       "60026                    sleep             True  \n",
       "60027                      job             True  \n",
       "\n",
       "[60028 rows x 48 columns]"
      ]
     },
     "execution_count": 70,
     "metadata": {},
     "output_type": "execute_result"
    }
   ],
   "source": [
    "repeated_posters_df = data[data.repeated_poster == True].copy().reset_index()\n",
    "repeated_posters_df"
   ]
  },
  {
   "cell_type": "code",
   "execution_count": 134,
   "metadata": {},
   "outputs": [
    {
     "data": {
      "text/html": [
       "<div>\n",
       "<style scoped>\n",
       "    .dataframe tbody tr th:only-of-type {\n",
       "        vertical-align: middle;\n",
       "    }\n",
       "\n",
       "    .dataframe tbody tr th {\n",
       "        vertical-align: top;\n",
       "    }\n",
       "\n",
       "    .dataframe thead th {\n",
       "        text-align: right;\n",
       "    }\n",
       "</style>\n",
       "<table border=\"1\" class=\"dataframe\">\n",
       "  <thead>\n",
       "    <tr style=\"text-align: right;\">\n",
       "      <th></th>\n",
       "      <th>index</th>\n",
       "      <th>created_utc</th>\n",
       "      <th>subreddit</th>\n",
       "      <th>author</th>\n",
       "      <th>domain</th>\n",
       "      <th>url</th>\n",
       "      <th>num_comments</th>\n",
       "      <th>score</th>\n",
       "      <th>ups</th>\n",
       "      <th>downs</th>\n",
       "      <th>...</th>\n",
       "      <th>tired/sick</th>\n",
       "      <th>friends/lonely</th>\n",
       "      <th>school</th>\n",
       "      <th>depressed/suicidal/reason</th>\n",
       "      <th>sleep</th>\n",
       "      <th>job</th>\n",
       "      <th>friend/best/girl</th>\n",
       "      <th>sad</th>\n",
       "      <th>kill/suicide</th>\n",
       "      <th>max_topic</th>\n",
       "    </tr>\n",
       "  </thead>\n",
       "  <tbody>\n",
       "    <tr>\n",
       "      <th>0</th>\n",
       "      <td>0</td>\n",
       "      <td>1451434602</td>\n",
       "      <td>depression</td>\n",
       "      <td>IICHASE55II</td>\n",
       "      <td>self.depression</td>\n",
       "      <td>https://www.reddit.com/r/depression/comments/3...</td>\n",
       "      <td>0</td>\n",
       "      <td>1</td>\n",
       "      <td>1.0</td>\n",
       "      <td>0.0</td>\n",
       "      <td>...</td>\n",
       "      <td>0.000000</td>\n",
       "      <td>0.000000</td>\n",
       "      <td>0.004461</td>\n",
       "      <td>0.000000</td>\n",
       "      <td>0.001357</td>\n",
       "      <td>0.006613</td>\n",
       "      <td>0.000000</td>\n",
       "      <td>0.000000</td>\n",
       "      <td>0.000000</td>\n",
       "      <td>job</td>\n",
       "    </tr>\n",
       "    <tr>\n",
       "      <th>1</th>\n",
       "      <td>1</td>\n",
       "      <td>1451177182</td>\n",
       "      <td>depression</td>\n",
       "      <td>rastasquirtle</td>\n",
       "      <td>self.depression</td>\n",
       "      <td>https://www.reddit.com/r/depression/comments/3...</td>\n",
       "      <td>4</td>\n",
       "      <td>14</td>\n",
       "      <td>14.0</td>\n",
       "      <td>0.0</td>\n",
       "      <td>...</td>\n",
       "      <td>0.005664</td>\n",
       "      <td>0.000867</td>\n",
       "      <td>0.000000</td>\n",
       "      <td>0.000000</td>\n",
       "      <td>0.000000</td>\n",
       "      <td>0.000000</td>\n",
       "      <td>0.003773</td>\n",
       "      <td>0.000000</td>\n",
       "      <td>0.000230</td>\n",
       "      <td>tired/sick</td>\n",
       "    </tr>\n",
       "    <tr>\n",
       "      <th>2</th>\n",
       "      <td>2</td>\n",
       "      <td>1451348063</td>\n",
       "      <td>depression</td>\n",
       "      <td>t1h3ro4w5aw6ay7</td>\n",
       "      <td>self.depression</td>\n",
       "      <td>https://www.reddit.com/r/depression/comments/3...</td>\n",
       "      <td>0</td>\n",
       "      <td>1</td>\n",
       "      <td>1.0</td>\n",
       "      <td>0.0</td>\n",
       "      <td>...</td>\n",
       "      <td>0.000000</td>\n",
       "      <td>0.002910</td>\n",
       "      <td>0.004704</td>\n",
       "      <td>0.000000</td>\n",
       "      <td>0.000000</td>\n",
       "      <td>0.000000</td>\n",
       "      <td>0.009897</td>\n",
       "      <td>0.000000</td>\n",
       "      <td>0.000000</td>\n",
       "      <td>friend/best/girl</td>\n",
       "    </tr>\n",
       "    <tr>\n",
       "      <th>3</th>\n",
       "      <td>3</td>\n",
       "      <td>1451091347</td>\n",
       "      <td>depression</td>\n",
       "      <td>iu4pkz0</td>\n",
       "      <td>self.depression</td>\n",
       "      <td>https://www.reddit.com/r/depression/comments/3...</td>\n",
       "      <td>0</td>\n",
       "      <td>0</td>\n",
       "      <td>0.0</td>\n",
       "      <td>0.0</td>\n",
       "      <td>...</td>\n",
       "      <td>0.000000</td>\n",
       "      <td>0.000157</td>\n",
       "      <td>0.000000</td>\n",
       "      <td>0.000000</td>\n",
       "      <td>0.000000</td>\n",
       "      <td>0.000000</td>\n",
       "      <td>0.000000</td>\n",
       "      <td>0.006024</td>\n",
       "      <td>0.000000</td>\n",
       "      <td>sad</td>\n",
       "    </tr>\n",
       "    <tr>\n",
       "      <th>4</th>\n",
       "      <td>4</td>\n",
       "      <td>1451536175</td>\n",
       "      <td>depression</td>\n",
       "      <td>SmellyDagger</td>\n",
       "      <td>self.depression</td>\n",
       "      <td>https://www.reddit.com/r/depression/comments/3...</td>\n",
       "      <td>1</td>\n",
       "      <td>2</td>\n",
       "      <td>2.0</td>\n",
       "      <td>0.0</td>\n",
       "      <td>...</td>\n",
       "      <td>0.000000</td>\n",
       "      <td>0.000805</td>\n",
       "      <td>0.000000</td>\n",
       "      <td>0.000000</td>\n",
       "      <td>0.000000</td>\n",
       "      <td>0.000000</td>\n",
       "      <td>0.000000</td>\n",
       "      <td>0.000000</td>\n",
       "      <td>0.000788</td>\n",
       "      <td>depression/anxiety/meds</td>\n",
       "    </tr>\n",
       "    <tr>\n",
       "      <th>...</th>\n",
       "      <td>...</td>\n",
       "      <td>...</td>\n",
       "      <td>...</td>\n",
       "      <td>...</td>\n",
       "      <td>...</td>\n",
       "      <td>...</td>\n",
       "      <td>...</td>\n",
       "      <td>...</td>\n",
       "      <td>...</td>\n",
       "      <td>...</td>\n",
       "      <td>...</td>\n",
       "      <td>...</td>\n",
       "      <td>...</td>\n",
       "      <td>...</td>\n",
       "      <td>...</td>\n",
       "      <td>...</td>\n",
       "      <td>...</td>\n",
       "      <td>...</td>\n",
       "      <td>...</td>\n",
       "      <td>...</td>\n",
       "      <td>...</td>\n",
       "    </tr>\n",
       "    <tr>\n",
       "      <th>353382</th>\n",
       "      <td>361271</td>\n",
       "      <td>1495147948</td>\n",
       "      <td>depression</td>\n",
       "      <td>mangomangelo</td>\n",
       "      <td>self.depression</td>\n",
       "      <td>https://www.reddit.com/r/depression/comments/6...</td>\n",
       "      <td>3</td>\n",
       "      <td>7</td>\n",
       "      <td>NaN</td>\n",
       "      <td>NaN</td>\n",
       "      <td>...</td>\n",
       "      <td>0.000000</td>\n",
       "      <td>0.000000</td>\n",
       "      <td>0.000000</td>\n",
       "      <td>0.003916</td>\n",
       "      <td>0.000000</td>\n",
       "      <td>0.000000</td>\n",
       "      <td>0.000000</td>\n",
       "      <td>0.000000</td>\n",
       "      <td>0.000000</td>\n",
       "      <td>depression/anxiety/meds</td>\n",
       "    </tr>\n",
       "    <tr>\n",
       "      <th>353383</th>\n",
       "      <td>361272</td>\n",
       "      <td>1494172701</td>\n",
       "      <td>depression</td>\n",
       "      <td>franksinatraisbest</td>\n",
       "      <td>self.depression</td>\n",
       "      <td>https://www.reddit.com/r/depression/comments/6...</td>\n",
       "      <td>1</td>\n",
       "      <td>4</td>\n",
       "      <td>NaN</td>\n",
       "      <td>NaN</td>\n",
       "      <td>...</td>\n",
       "      <td>0.001395</td>\n",
       "      <td>0.004246</td>\n",
       "      <td>0.004349</td>\n",
       "      <td>0.000000</td>\n",
       "      <td>0.004071</td>\n",
       "      <td>0.005378</td>\n",
       "      <td>0.000820</td>\n",
       "      <td>0.001035</td>\n",
       "      <td>0.000000</td>\n",
       "      <td>job</td>\n",
       "    </tr>\n",
       "    <tr>\n",
       "      <th>353384</th>\n",
       "      <td>361273</td>\n",
       "      <td>1494005055</td>\n",
       "      <td>depression</td>\n",
       "      <td>Vanillexhope</td>\n",
       "      <td>self.depression</td>\n",
       "      <td>https://www.reddit.com/r/depression/comments/6...</td>\n",
       "      <td>1</td>\n",
       "      <td>3</td>\n",
       "      <td>NaN</td>\n",
       "      <td>NaN</td>\n",
       "      <td>...</td>\n",
       "      <td>0.000000</td>\n",
       "      <td>0.000000</td>\n",
       "      <td>0.011800</td>\n",
       "      <td>0.001595</td>\n",
       "      <td>0.002072</td>\n",
       "      <td>0.012941</td>\n",
       "      <td>0.000000</td>\n",
       "      <td>0.000000</td>\n",
       "      <td>0.000000</td>\n",
       "      <td>job</td>\n",
       "    </tr>\n",
       "    <tr>\n",
       "      <th>353385</th>\n",
       "      <td>361274</td>\n",
       "      <td>1495750855</td>\n",
       "      <td>depression</td>\n",
       "      <td>Trip_SS</td>\n",
       "      <td>self.depression</td>\n",
       "      <td>https://www.reddit.com/r/depression/comments/6...</td>\n",
       "      <td>6</td>\n",
       "      <td>9</td>\n",
       "      <td>NaN</td>\n",
       "      <td>NaN</td>\n",
       "      <td>...</td>\n",
       "      <td>0.010587</td>\n",
       "      <td>0.000000</td>\n",
       "      <td>0.000000</td>\n",
       "      <td>0.000000</td>\n",
       "      <td>0.009567</td>\n",
       "      <td>0.000000</td>\n",
       "      <td>0.000000</td>\n",
       "      <td>0.000000</td>\n",
       "      <td>0.000000</td>\n",
       "      <td>tired/sick</td>\n",
       "    </tr>\n",
       "    <tr>\n",
       "      <th>353386</th>\n",
       "      <td>361275</td>\n",
       "      <td>1494881456</td>\n",
       "      <td>depression</td>\n",
       "      <td>whodiz</td>\n",
       "      <td>self.depression</td>\n",
       "      <td>https://www.reddit.com/r/depression/comments/6...</td>\n",
       "      <td>3</td>\n",
       "      <td>2</td>\n",
       "      <td>NaN</td>\n",
       "      <td>NaN</td>\n",
       "      <td>...</td>\n",
       "      <td>0.000000</td>\n",
       "      <td>0.002766</td>\n",
       "      <td>0.000000</td>\n",
       "      <td>0.000000</td>\n",
       "      <td>0.009723</td>\n",
       "      <td>0.000415</td>\n",
       "      <td>0.000000</td>\n",
       "      <td>0.000000</td>\n",
       "      <td>0.000000</td>\n",
       "      <td>sleep</td>\n",
       "    </tr>\n",
       "  </tbody>\n",
       "</table>\n",
       "<p>353387 rows × 47 columns</p>\n",
       "</div>"
      ],
      "text/plain": [
       "         index  created_utc   subreddit              author           domain  \\\n",
       "0            0   1451434602  depression         IICHASE55II  self.depression   \n",
       "1            1   1451177182  depression       rastasquirtle  self.depression   \n",
       "2            2   1451348063  depression     t1h3ro4w5aw6ay7  self.depression   \n",
       "3            3   1451091347  depression             iu4pkz0  self.depression   \n",
       "4            4   1451536175  depression        SmellyDagger  self.depression   \n",
       "...        ...          ...         ...                 ...              ...   \n",
       "353382  361271   1495147948  depression        mangomangelo  self.depression   \n",
       "353383  361272   1494172701  depression  franksinatraisbest  self.depression   \n",
       "353384  361273   1494005055  depression        Vanillexhope  self.depression   \n",
       "353385  361274   1495750855  depression             Trip_SS  self.depression   \n",
       "353386  361275   1494881456  depression              whodiz  self.depression   \n",
       "\n",
       "                                                      url  num_comments  \\\n",
       "0       https://www.reddit.com/r/depression/comments/3...             0   \n",
       "1       https://www.reddit.com/r/depression/comments/3...             4   \n",
       "2       https://www.reddit.com/r/depression/comments/3...             0   \n",
       "3       https://www.reddit.com/r/depression/comments/3...             0   \n",
       "4       https://www.reddit.com/r/depression/comments/3...             1   \n",
       "...                                                   ...           ...   \n",
       "353382  https://www.reddit.com/r/depression/comments/6...             3   \n",
       "353383  https://www.reddit.com/r/depression/comments/6...             1   \n",
       "353384  https://www.reddit.com/r/depression/comments/6...             1   \n",
       "353385  https://www.reddit.com/r/depression/comments/6...             6   \n",
       "353386  https://www.reddit.com/r/depression/comments/6...             3   \n",
       "\n",
       "        score   ups  downs  ... tired/sick friends/lonely    school  \\\n",
       "0           1   1.0    0.0  ...   0.000000       0.000000  0.004461   \n",
       "1          14  14.0    0.0  ...   0.005664       0.000867  0.000000   \n",
       "2           1   1.0    0.0  ...   0.000000       0.002910  0.004704   \n",
       "3           0   0.0    0.0  ...   0.000000       0.000157  0.000000   \n",
       "4           2   2.0    0.0  ...   0.000000       0.000805  0.000000   \n",
       "...       ...   ...    ...  ...        ...            ...       ...   \n",
       "353382      7   NaN    NaN  ...   0.000000       0.000000  0.000000   \n",
       "353383      4   NaN    NaN  ...   0.001395       0.004246  0.004349   \n",
       "353384      3   NaN    NaN  ...   0.000000       0.000000  0.011800   \n",
       "353385      9   NaN    NaN  ...   0.010587       0.000000  0.000000   \n",
       "353386      2   NaN    NaN  ...   0.000000       0.002766  0.000000   \n",
       "\n",
       "       depressed/suicidal/reason     sleep       job  friend/best/girl  \\\n",
       "0                       0.000000  0.001357  0.006613          0.000000   \n",
       "1                       0.000000  0.000000  0.000000          0.003773   \n",
       "2                       0.000000  0.000000  0.000000          0.009897   \n",
       "3                       0.000000  0.000000  0.000000          0.000000   \n",
       "4                       0.000000  0.000000  0.000000          0.000000   \n",
       "...                          ...       ...       ...               ...   \n",
       "353382                  0.003916  0.000000  0.000000          0.000000   \n",
       "353383                  0.000000  0.004071  0.005378          0.000820   \n",
       "353384                  0.001595  0.002072  0.012941          0.000000   \n",
       "353385                  0.000000  0.009567  0.000000          0.000000   \n",
       "353386                  0.000000  0.009723  0.000415          0.000000   \n",
       "\n",
       "             sad  kill/suicide                max_topic  \n",
       "0       0.000000      0.000000                      job  \n",
       "1       0.000000      0.000230               tired/sick  \n",
       "2       0.000000      0.000000         friend/best/girl  \n",
       "3       0.006024      0.000000                      sad  \n",
       "4       0.000000      0.000788  depression/anxiety/meds  \n",
       "...          ...           ...                      ...  \n",
       "353382  0.000000      0.000000  depression/anxiety/meds  \n",
       "353383  0.001035      0.000000                      job  \n",
       "353384  0.000000      0.000000                      job  \n",
       "353385  0.000000      0.000000               tired/sick  \n",
       "353386  0.000000      0.000000                    sleep  \n",
       "\n",
       "[353387 rows x 47 columns]"
      ]
     },
     "execution_count": 134,
     "metadata": {},
     "output_type": "execute_result"
    }
   ],
   "source": [
    "data_copy = data[data.author != '[deleted]'].copy().reset_index()\n",
    "data_copy"
   ]
  },
  {
   "cell_type": "code",
   "execution_count": 135,
   "metadata": {},
   "outputs": [],
   "source": [
    "from gensim.models.doc2vec import Doc2Vec, TaggedDocument\n",
    "from nltk.tokenize import word_tokenize\n",
    "\n",
    "text = data_copy.text_title\n",
    "tokenized_self_text = [gensim.utils.simple_preprocess(d) for d in text]\n",
    "\n",
    "author = data_copy.author\n",
    "tokenized_title = [gensim.utils.simple_preprocess(d) for d in author]\n",
    "\n",
    "\n",
    "# tagged_data = [TaggedDocument(words=word_tokenize(_d.lower()), tags=[str(i)]) for i, _d in enumerate(data)]\n",
    "# tagged_data[1:10]"
   ]
  },
  {
   "cell_type": "code",
   "execution_count": 136,
   "metadata": {
    "scrolled": true
   },
   "outputs": [
    {
     "data": {
      "text/html": [
       "<div>\n",
       "<style scoped>\n",
       "    .dataframe tbody tr th:only-of-type {\n",
       "        vertical-align: middle;\n",
       "    }\n",
       "\n",
       "    .dataframe tbody tr th {\n",
       "        vertical-align: top;\n",
       "    }\n",
       "\n",
       "    .dataframe thead th {\n",
       "        text-align: right;\n",
       "    }\n",
       "</style>\n",
       "<table border=\"1\" class=\"dataframe\">\n",
       "  <thead>\n",
       "    <tr style=\"text-align: right;\">\n",
       "      <th></th>\n",
       "      <th>text</th>\n",
       "      <th>author</th>\n",
       "    </tr>\n",
       "  </thead>\n",
       "  <tbody>\n",
       "    <tr>\n",
       "      <th>0</th>\n",
       "      <td>just got dismissed from my university i had a ...</td>\n",
       "      <td>IICHASE55II</td>\n",
       "    </tr>\n",
       "    <tr>\n",
       "      <th>1</th>\n",
       "      <td>im a spoiled piece of shit im on a vacation wi...</td>\n",
       "      <td>rastasquirtle</td>\n",
       "    </tr>\n",
       "    <tr>\n",
       "      <th>2</th>\n",
       "      <td>caring about a person that doesn't i'm a 17 ye...</td>\n",
       "      <td>t1h3ro4w5aw6ay7</td>\n",
       "    </tr>\n",
       "    <tr>\n",
       "      <th>3</th>\n",
       "      <td>i really screwed up this year i feel like such...</td>\n",
       "      <td>iu4pkz0</td>\n",
       "    </tr>\n",
       "    <tr>\n",
       "      <th>4</th>\n",
       "      <td>it has been 596 days since i have debated suic...</td>\n",
       "      <td>SmellyDagger</td>\n",
       "    </tr>\n",
       "    <tr>\n",
       "      <th>...</th>\n",
       "      <td>...</td>\n",
       "      <td>...</td>\n",
       "    </tr>\n",
       "    <tr>\n",
       "      <th>353382</th>\n",
       "      <td>does a therapist really help? for the longest ...</td>\n",
       "      <td>mangomangelo</td>\n",
       "    </tr>\n",
       "    <tr>\n",
       "      <th>353383</th>\n",
       "      <td>i have no ambition, no desires, no interests, ...</td>\n",
       "      <td>franksinatraisbest</td>\n",
       "    </tr>\n",
       "    <tr>\n",
       "      <th>353384</th>\n",
       "      <td>i am a failure i feel like a total failure. i ...</td>\n",
       "      <td>Vanillexhope</td>\n",
       "    </tr>\n",
       "    <tr>\n",
       "      <th>353385</th>\n",
       "      <td>i feel alone, sick, empty, unneeded. i've neve...</td>\n",
       "      <td>Trip_SS</td>\n",
       "    </tr>\n",
       "    <tr>\n",
       "      <th>353386</th>\n",
       "      <td>when did everything get so hard? it's been a r...</td>\n",
       "      <td>whodiz</td>\n",
       "    </tr>\n",
       "  </tbody>\n",
       "</table>\n",
       "<p>353387 rows × 2 columns</p>\n",
       "</div>"
      ],
      "text/plain": [
       "                                                     text              author\n",
       "0       just got dismissed from my university i had a ...         IICHASE55II\n",
       "1       im a spoiled piece of shit im on a vacation wi...       rastasquirtle\n",
       "2       caring about a person that doesn't i'm a 17 ye...     t1h3ro4w5aw6ay7\n",
       "3       i really screwed up this year i feel like such...             iu4pkz0\n",
       "4       it has been 596 days since i have debated suic...        SmellyDagger\n",
       "...                                                   ...                 ...\n",
       "353382  does a therapist really help? for the longest ...        mangomangelo\n",
       "353383  i have no ambition, no desires, no interests, ...  franksinatraisbest\n",
       "353384  i am a failure i feel like a total failure. i ...        Vanillexhope\n",
       "353385  i feel alone, sick, empty, unneeded. i've neve...             Trip_SS\n",
       "353386  when did everything get so hard? it's been a r...              whodiz\n",
       "\n",
       "[353387 rows x 2 columns]"
      ]
     },
     "execution_count": 136,
     "metadata": {},
     "output_type": "execute_result"
    }
   ],
   "source": [
    "repeat_posters_clean = pd.DataFrame({'text': text, 'author': author})\n",
    "repeat_posters_clean"
   ]
  },
  {
   "cell_type": "code",
   "execution_count": 137,
   "metadata": {},
   "outputs": [],
   "source": [
    "docs = []\n",
    "for idx, row in repeat_posters_clean.iterrows():\n",
    "    tagged = TaggedDocument(words=row['text'], tags=[row['author']])\n",
    "    docs.append(tagged)"
   ]
  },
  {
   "cell_type": "code",
   "execution_count": 138,
   "metadata": {},
   "outputs": [
    {
     "data": {
      "text/plain": [
       "TaggedDocument(words=\"just got dismissed from my university i had a reallllllly bad semester, my ocd and anxiety were at their worst, and i ended up failing a couple classes while i was already on academic probation, so i got dismissed. now i feel worthless and down, and can barely get out of bed. i have no motivation to get a job because i feel like i can't even move. obviously i can move to another city and attend another college but my gpa is pretty bad now. sorry for the rant, i just really wanted to know if their could possibly be any good outcomes out of this. thanks guys.\", tags=['IICHASE55II'])"
      ]
     },
     "execution_count": 138,
     "metadata": {},
     "output_type": "execute_result"
    }
   ],
   "source": [
    "docs[0]"
   ]
  },
  {
   "cell_type": "code",
   "execution_count": 77,
   "metadata": {},
   "outputs": [],
   "source": [
    "# docs = []\n",
    "# for index, doc in enumerate(tokenized_self_text):\n",
    "#     tagged = TaggedDocument(words=doc, tags=[index])\n",
    "#     docs.append(tagged)"
   ]
  },
  {
   "cell_type": "code",
   "execution_count": 139,
   "metadata": {},
   "outputs": [],
   "source": [
    "# define parameters for doc2vec\n",
    "doc_model = gensim.models.Doc2Vec(\n",
    "                                  vector_size=300,\n",
    "                                  window=5,\n",
    "                                  min_count=5,\n",
    "                                  workers=cores,\n",
    "                                  epochs=10,\n",
    "                                  alpha=.025,\n",
    "                                  min_alpha = 0.0001)\n",
    "doc_model.build_vocab(docs)"
   ]
  },
  {
   "cell_type": "code",
   "execution_count": 140,
   "metadata": {},
   "outputs": [],
   "source": [
    "# train model\n",
    "doc_model.train(docs, total_examples=doc_model.corpus_count, epochs=doc_model.epochs)"
   ]
  },
  {
   "cell_type": "code",
   "execution_count": 155,
   "metadata": {
    "scrolled": true
   },
   "outputs": [],
   "source": [
    "a = '''\n",
    "Slowly isolating myself\n",
    "Sorry just wanted to say something to anyone really\n",
    "but i used to talk to a couple people about my issues\n",
    "and how i was doing but i feel like everytime i do i\n",
    "annoy them and that im being boring or just a pain to be around.\n",
    "I always overthink situations and im probably doing the same here but\n",
    "im sat here just wishing i could talk to those i trust but i\n",
    "also dont want to be a burden all the time. I cant talk to many people\n",
    "and i struggle to talk to new people. Also there some of my best friends\n",
    "i dont want to lose them but i also know i need to express how I feel.\n",
    "Thank you for reading my rambling if you did..\n",
    "'''"
   ]
  },
  {
   "cell_type": "code",
   "execution_count": 156,
   "metadata": {},
   "outputs": [],
   "source": [
    "testing = gensim.utils.simple_preprocess(a)"
   ]
  },
  {
   "cell_type": "code",
   "execution_count": 161,
   "metadata": {},
   "outputs": [
    {
     "data": {
      "text/plain": [
       "array([\"in one fell sweep, i managed to fuck everything up in the span of one year. i was thinking of doing a long blog about my experiences, yadda yadda, but i figured i might as well do it in short. basically, in the space of one year, i've lost almost everything. i lost my friends because i tried to lean on them too hard and ended up being 'self-absorbed and negative' (real quote btw) and i feel like i'm in the steady process of losing my parents as the intricate lies i've set up over the past 4-5-ish years of my not being gay are being slowly unravelled. lost the crush for, well, literally blogging too hard about her and forgetting that she actually could see it. losing the social group at my current school because i'm a) too absorbed in the past and b) the friends i've made (the total of two who tbh i don't really connect with that well) have total drama with the rest of the school and its hard for me to step out. lost everything i've worked for in my old school by moving schools in the second last year of high school - so yay to my younger self, no leadership positions for you. will probably lose my academic achievements as the final year passes. i mean, all that i haven't lost are my achievements in love live: school idol festival! (holler at me if you play btw) which has pretty much been the coping mechanism the entire year. so, apparently i'm awful at listening to advice and receiving help, but now that there's nowhere else to really turn to (i debated posting here a few months back), i'd like to ask. what should i do now?  i don't really have any huge prospects for uni, motivation at school is low, my social circle is close to nil and as it's the holidays i spend all my time with my parents (not like school's any better with what the close relationships of others being constantly shoved into my face.) so, i reiterate: what now? i'll make an effort to try, i just feel like i've been trying and doing the wrong thing in every possible scenario this year. edit: can't believe i forgot to mention. i write this reeling from an email from a friend two days ago, announcing that she was cutting me off because she couldn't take it anymore (in short, anyway. it was peppered with a lot of generic motivational stuff but i really couldn't feel it.)\",\n",
       "       'throwitthe-hell-away'], dtype=object)"
      ]
     },
     "execution_count": 161,
     "metadata": {},
     "output_type": "execute_result"
    }
   ],
   "source": [
    "repeat_posters_clean[repeat_posters_clean.author == 'throwitthe-hell-away'].values[0]"
   ]
  },
  {
   "cell_type": "code",
   "execution_count": 158,
   "metadata": {},
   "outputs": [
    {
     "data": {
      "text/plain": [
       "[('Injuredanddepressed', 0.18138465285301208),\n",
       " ('throwitthe-hell-away', 0.1684267818927765),\n",
       " ('Pupsbear', 0.1674778163433075),\n",
       " ('VintageTorrie', 0.16679109632968903),\n",
       " ('symph0ny95', 0.1650032252073288),\n",
       " ('JustASearcher', 0.16299882531166077),\n",
       " ('jock_jam_door_slam', 0.16211357712745667),\n",
       " ('tupacat', 0.16062667965888977),\n",
       " ('trvestory', 0.16008146107196808),\n",
       " ('gigabyte898', 0.15889379382133484)]"
      ]
     },
     "execution_count": 158,
     "metadata": {},
     "output_type": "execute_result"
    }
   ],
   "source": [
    "inferred_vector = doc_model.infer_vector(testing)\n",
    "sims = doc_model.docvecs.most_similar([inferred_vector], topn=len(doc_model.docvecs))\n",
    "sims[:10]"
   ]
  },
  {
   "cell_type": "code",
   "execution_count": 526,
   "metadata": {
    "scrolled": true
   },
   "outputs": [
    {
     "data": {
      "text/plain": [
       "['really',\n",
       " 'need',\n",
       " 'advice',\n",
       " 'on',\n",
       " 'my',\n",
       " 'medication',\n",
       " 'just',\n",
       " 'starting',\n",
       " 'taking',\n",
       " 'zoloft']"
      ]
     },
     "execution_count": 526,
     "metadata": {},
     "output_type": "execute_result"
    }
   ],
   "source": [
    "testing = '''\n",
    "i really need advice on my medication i just starting taking zoloft'''\n",
    "\n",
    "testing = gensim.utils.simple_preprocess(testing)\n",
    "testing"
   ]
  },
  {
   "cell_type": "code",
   "execution_count": 934,
   "metadata": {},
   "outputs": [],
   "source": [
    "vec_df = pd.DataFrame(doc_model.docvecs.vectors_docs)"
   ]
  },
  {
   "cell_type": "code",
   "execution_count": 931,
   "metadata": {
    "scrolled": true
   },
   "outputs": [
    {
     "data": {
      "text/plain": [
       "(361275, 300)"
      ]
     },
     "execution_count": 931,
     "metadata": {},
     "output_type": "execute_result"
    }
   ],
   "source": [
    "doc_model.docvecs.vectors_docs.shape"
   ]
  },
  {
   "cell_type": "code",
   "execution_count": 940,
   "metadata": {},
   "outputs": [],
   "source": [
    "import numpy as npm"
   ]
  },
  {
   "cell_type": "code",
   "execution_count": 944,
   "metadata": {},
   "outputs": [],
   "source": [
    "# from nltk.cluster import KMeansClusterer, euclidean_distance\n",
    "\n",
    "# X = doc_model.docvecs.vectors_docs\n",
    "# vec = [npm.array(idk) for idk in vec_df.values]\n",
    "\n",
    "# NUM_CLUSTERS=3\n",
    "# kclusterer = KMeansClusterer(NUM_CLUSTERS, distance=nltk.cluster.util.cosine_distance, repeats=5)\n",
    "# assigned_clusters = kclusterer.cluster(vectors, assign_clusters=True)"
   ]
  },
  {
   "cell_type": "code",
   "execution_count": null,
   "metadata": {},
   "outputs": [],
   "source": [
    "assigned_clusters"
   ]
  },
  {
   "cell_type": "code",
   "execution_count": 45,
   "metadata": {},
   "outputs": [],
   "source": [
    "# model = gensim.models.Word2Vec.load(\"models/depression2vec.model\")\n",
    "model = gensim.models.Word2Vec.load(\"models/depression2vec.model\")\n",
    "\n",
    "words = []\n",
    "counts =[]\n",
    "w2v = model\n",
    "for index in range(len(w2v.wv.index2word)):\n",
    "    word = w2v.wv.index2word[index]\n",
    "    words.append(word)\n",
    "    counts.append(w2v.wv.vocab[word].count)\n",
    "    \n",
    "pd.DataFrame({'word':words, 'count':counts}).to_csv('/Users/collinswestnedge/programming/project_05/tensor_data/depression/depression2_meta.tsv', index=False,sep='\\t' )\n",
    "\n",
    "import io\n",
    "\n",
    "# Vector file, `\\t` seperated the vectors and `\\n` seperate the words\n",
    "# \"\"\"\n",
    "# 0.1\\t0.2\\t0.5\\t0.9\n",
    "# 0.2\\t0.1\\t5.0\\t0.2\n",
    "# 0.4\\t0.1\\t7.0\\t0.8\n",
    "# \"\"\"\n",
    "\n",
    "path2 = '/Users/collinswestnedge/programming/project_05/tensor_data/depression/depression2_'\n",
    "\n",
    "out_v = io.open(path2+'vecs.tsv', 'w', encoding='utf-8')\n",
    "\n",
    "# Meta data file, `\\n` seperated word\n",
    "# \"\"\"\n",
    "# token1\n",
    "# token2\n",
    "# token3\n",
    "# \"\"\"\n",
    "# out_m = io.open(path2+'meta.tsv', 'w', encoding='utf-8')\n",
    "\n",
    "# Write meta file and vector file\n",
    "for index in range(len(w2v.wv.index2word)):\n",
    "    word = w2v.wv.index2word[index]\n",
    "    vec = w2v.wv.vectors[index]\n",
    "    count = w2v.wv.vocab[word].count\n",
    "#     out_m.write(word + \"\\n\")\n",
    "    out_v.write('\\t'.join([str(x) for x in vec]) + \"\\n\")\n",
    "out_v.close()\n",
    "# out_m.close()"
   ]
  },
  {
   "cell_type": "code",
   "execution_count": null,
   "metadata": {
    "scrolled": true
   },
   "outputs": [],
   "source": []
  },
  {
   "cell_type": "code",
   "execution_count": 13,
   "metadata": {},
   "outputs": [],
   "source": [
    "# doc_vec_df = pd.DataFrame(doc_model.docvecs.vectors_docs)\n",
    "# doc_vec_df['num_comments'] = df_full.num_comments\n",
    "# doc_vec_df['docs'] = df_full.text_title\n",
    "# doc_vec_df.head()\n",
    "\n",
    "# cols= [str(i) for i in range(doc_model.docvecs.vectors_docs.shape[1])]\n",
    "# cols.append('num_comments')\n",
    "# cols.append('docs')\n",
    "\n",
    "# doc_vec_df.columns = cols\n",
    "# doc_vec_df"
   ]
  },
  {
   "cell_type": "code",
   "execution_count": null,
   "metadata": {},
   "outputs": [],
   "source": [
    "doc_model = "
   ]
  },
  {
   "cell_type": "code",
   "execution_count": 1,
   "metadata": {},
   "outputs": [],
   "source": [
    "from sklearn import preprocessing\n",
    "from sklearn.cluster import KMeans\n",
    "from sklearn.preprocessing import MinMaxScaler\n",
    "\n",
    "# X = doc_model.docvecs.vectors_docs\n",
    "# length = npm.sqrt((X**2).sum(axis=1))[:,None]\n",
    "# Xscl = X / length\n",
    "\n",
    "# X_Norm = scaler.fit_transform(doc_vec_df.iloc[:,0:-2])\n",
    "# to normalise existing X\n",
    "# X_Norm\n",
    "\n",
    "# kmeans = KMeans(init='k-means++', n_clusters=5, n_init=10)\n",
    "# kmeans.fit(Xscl)\n",
    "# doc_model = Doc2Vec.load(\"docvec.model\")\n",
    "\n",
    "# from sklearn.cluster import DBSCAN\n",
    "# X = doc_model.docvecs.vectors_docs\n",
    "# clustering = DBSCAN(eps=3, min_samples=5, metric='cosine').fit(X)\n",
    "# clustering.labels_"
   ]
  },
  {
   "cell_type": "code",
   "execution_count": null,
   "metadata": {},
   "outputs": [],
   "source": [
    "temp_depression = df_full[['selftext', 'max_topic']].copy()\n",
    "temp_depression['label'] = clustering.labels_\n",
    "\n",
    "temp_depression.groupby('label').max_topic.value_counts(normalize=True)"
   ]
  },
  {
   "cell_type": "code",
   "execution_count": 985,
   "metadata": {},
   "outputs": [
    {
     "data": {
      "text/plain": [
       "(361275,)"
      ]
     },
     "execution_count": 985,
     "metadata": {},
     "output_type": "execute_result"
    }
   ],
   "source": [
    "kmeans.labels_.shape"
   ]
  },
  {
   "cell_type": "code",
   "execution_count": 986,
   "metadata": {
    "scrolled": true
   },
   "outputs": [],
   "source": [
    "doc_vec_copy = doc_vec_df.copy()\n",
    "doc_vec_copy['labels'] = kmeans.labels_\n",
    "doc_vec_copy['topic'] = df_full.max_topic"
   ]
  },
  {
   "cell_type": "code",
   "execution_count": 987,
   "metadata": {},
   "outputs": [
    {
     "data": {
      "text/plain": [
       "labels  topic                    \n",
       "0       depression/anxiety/meds      0.234128\n",
       "        friends/lonely               0.120373\n",
       "        school                       0.102583\n",
       "        job                          0.099152\n",
       "        sleep                        0.092855\n",
       "        friend/best/girl             0.078879\n",
       "        kill/suicide                 0.078621\n",
       "        depressed/suicidal/reason    0.073970\n",
       "        sad                          0.066682\n",
       "        tired/sick                   0.052756\n",
       "1       depression/anxiety/meds      0.232509\n",
       "        friends/lonely               0.117118\n",
       "        school                       0.104790\n",
       "        job                          0.099607\n",
       "        sleep                        0.094935\n",
       "        friend/best/girl             0.077581\n",
       "        depressed/suicidal/reason    0.076639\n",
       "        kill/suicide                 0.075579\n",
       "        sad                          0.067452\n",
       "        tired/sick                   0.053789\n",
       "2       depression/anxiety/meds      0.236160\n",
       "        friends/lonely               0.119059\n",
       "        school                       0.105252\n",
       "        job                          0.100149\n",
       "        sleep                        0.093943\n",
       "        kill/suicide                 0.076274\n",
       "        friend/best/girl             0.075927\n",
       "        depressed/suicidal/reason    0.074971\n",
       "        sad                          0.066398\n",
       "        tired/sick                   0.051867\n",
       "3       depression/anxiety/meds      0.233495\n",
       "        friends/lonely               0.118115\n",
       "        school                       0.103810\n",
       "        job                          0.100666\n",
       "        sleep                        0.093121\n",
       "        friend/best/girl             0.080640\n",
       "        kill/suicide                 0.078219\n",
       "        depressed/suicidal/reason    0.075075\n",
       "        sad                          0.065958\n",
       "        tired/sick                   0.050899\n",
       "4       depression/anxiety/meds      0.234814\n",
       "        friends/lonely               0.119706\n",
       "        school                       0.107629\n",
       "        job                          0.100278\n",
       "        sleep                        0.093835\n",
       "        kill/suicide                 0.076998\n",
       "        depressed/suicidal/reason    0.075767\n",
       "        friend/best/girl             0.074666\n",
       "        sad                          0.065730\n",
       "        tired/sick                   0.050576\n",
       "Name: topic, dtype: float64"
      ]
     },
     "execution_count": 987,
     "metadata": {},
     "output_type": "execute_result"
    }
   ],
   "source": [
    "doc_vec_copy.groupby('labels').topic.value_counts(normalize=True).head(50)"
   ]
  },
  {
   "cell_type": "code",
   "execution_count": 975,
   "metadata": {},
   "outputs": [],
   "source": [
    "# doc_vec_copy.max_topic.unique()"
   ]
  },
  {
   "cell_type": "code",
   "execution_count": 976,
   "metadata": {},
   "outputs": [],
   "source": [
    "# doc_vec_df['max_topic'] = df_full.max_topic\n",
    "# doc_vec_df[doc_vec_df.max_topic == 'kill/suicide'].labels.value_counts()"
   ]
  },
  {
   "cell_type": "code",
   "execution_count": null,
   "metadata": {},
   "outputs": [],
   "source": [
    "inertia = []\n",
    "sil = []\n",
    "# changing the number of clusters \n",
    "for k in range(5,30):\n",
    "    \n",
    "    km = KMeans(n_clusters=k, random_state=1)\n",
    "    km.fit(X_Norm)\n",
    "    y_pred = km.predict(X_Norm)\n",
    "    inertia.append((k, km.inertia_))\n",
    "    print(k)"
   ]
  },
  {
   "cell_type": "code",
   "execution_count": null,
   "metadata": {},
   "outputs": [],
   "source": [
    "import matplotlib.pyplot as plt\n",
    "\n",
    "fig, ax = plt.subplots(1,2, figsize=(12,4))\n",
    "\n",
    "# Plotting Elbow Curve\n",
    "x_iner = [x[0] for x in inertia]\n",
    "y_iner  = [x[1] for x in inertia]\n",
    "ax[0].plot(x_iner, y_iner)\n",
    "ax[0].set_xlabel('Number of Clusters')\n",
    "ax[0].set_ylabel('Intertia')\n",
    "ax[0].set_title('Elbow Curve')\n",
    "\n"
   ]
  },
  {
   "cell_type": "code",
   "execution_count": null,
   "metadata": {},
   "outputs": [],
   "source": []
  }
 ],
 "metadata": {
  "kernelspec": {
   "display_name": "Python 3",
   "language": "python",
   "name": "python3"
  },
  "language_info": {
   "codemirror_mode": {
    "name": "ipython",
    "version": 3
   },
   "file_extension": ".py",
   "mimetype": "text/x-python",
   "name": "python",
   "nbconvert_exporter": "python",
   "pygments_lexer": "ipython3",
   "version": "3.8.5"
  }
 },
 "nbformat": 4,
 "nbformat_minor": 4
}
