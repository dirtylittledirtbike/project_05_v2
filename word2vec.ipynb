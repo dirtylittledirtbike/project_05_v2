{
 "cells": [
  {
   "cell_type": "code",
   "execution_count": 68,
   "metadata": {},
   "outputs": [],
   "source": [
    "import pandas as pd\n",
    "import numpy as np\n",
    "import datetime \n",
    "import re\n",
    "from urlextract import URLExtract\n",
    "import spacy\n",
    "import time\n",
    "import pickle\n",
    "import matplotlib.pyplot as plt"
   ]
  },
  {
   "cell_type": "code",
   "execution_count": 69,
   "metadata": {},
   "outputs": [],
   "source": [
    "from sklearn.feature_extraction.text import CountVectorizer \n",
    "from sklearn.decomposition import TruncatedSVD\n",
    "from sklearn.decomposition import NMF\n",
    "from sklearn.decomposition import LatentDirichletAllocation\n",
    "from sklearn.metrics.pairwise import cosine_similarity\n",
    "from sklearn.feature_extraction.text import TfidfVectorizer"
   ]
  },
  {
   "cell_type": "code",
   "execution_count": 70,
   "metadata": {},
   "outputs": [],
   "source": [
    "extractor = URLExtract()\n",
    "# remove all urls from posts\n",
    "def replace_urls(x):\n",
    "    urls = extractor.find_urls(x)\n",
    "    if urls:\n",
    "        x_new = replace_urls(x.replace(urls[0],''))\n",
    "        return x_new\n",
    "    else:\n",
    "        return x"
   ]
  },
  {
   "cell_type": "code",
   "execution_count": 71,
   "metadata": {},
   "outputs": [],
   "source": [
    "# df_full = pd.read_csv('data/anxiety_full.csv', low_memory=False)\n",
    "df_full = pd.read_csv('data/depression_full.csv', low_memory=False)"
   ]
  },
  {
   "cell_type": "code",
   "execution_count": 72,
   "metadata": {},
   "outputs": [
    {
     "data": {
      "text/plain": [
       "(201144, 33)"
      ]
     },
     "execution_count": 72,
     "metadata": {},
     "output_type": "execute_result"
    }
   ],
   "source": [
    "df_full.shape"
   ]
  },
  {
   "cell_type": "code",
   "execution_count": 73,
   "metadata": {},
   "outputs": [],
   "source": [
    "df_full = df_full[(df_full['selftext'] != '[deleted]') & (df_full['selftext'] != '[removed]')].copy()"
   ]
  },
  {
   "cell_type": "code",
   "execution_count": 74,
   "metadata": {},
   "outputs": [],
   "source": [
    "df_full.drop_duplicates(subset=['selftext'], inplace=True)\n",
    "df_full.drop_duplicates(subset=['id'], inplace=True)"
   ]
  },
  {
   "cell_type": "code",
   "execution_count": 75,
   "metadata": {},
   "outputs": [
    {
     "data": {
      "text/plain": [
       "(126781, 33)"
      ]
     },
     "execution_count": 75,
     "metadata": {},
     "output_type": "execute_result"
    }
   ],
   "source": [
    "df_full.shape"
   ]
  },
  {
   "cell_type": "code",
   "execution_count": 76,
   "metadata": {},
   "outputs": [],
   "source": [
    "df_full['date'] = df_full.created_utc.apply(lambda x: pd.to_datetime(time.ctime(x)))"
   ]
  },
  {
   "cell_type": "code",
   "execution_count": 77,
   "metadata": {},
   "outputs": [],
   "source": [
    "df_full['selftext'] = df_full.selftext.map(lambda x: re.sub(\"&amp;#x200B;\",' ',str(x)))\n",
    "df_full['selftext'] = df_full.selftext.map(lambda x: re.sub(\"&amp;nbsp;\",' ',str(x)))\n",
    "df_full['selftext'] = df_full.selftext.map(lambda x: re.sub(\"&amp;\",' ',str(x)))\n",
    "df_full['selftext'] = df_full.selftext.map(lambda x: re.sub(\"nbsp;\",' ',str(x)))\n",
    "\n",
    "\n",
    "df_full['selftext'] = df_full.selftext.map(lambda x: re.sub('\\n',' ',str(x)))\n",
    "df_full['selftext'] = df_full.selftext.map(lambda x: re.sub('  ',' ',str(x)))\n",
    "df_full['selftext'] = df_full.selftext.map(lambda x: replace_urls(x))\n",
    "# df_full['date'] = df_full.created_utc.apply(lambda x: pd.to_datetime(time.ctime(x)))"
   ]
  },
  {
   "cell_type": "code",
   "execution_count": 78,
   "metadata": {},
   "outputs": [],
   "source": [
    "df_full['text_title'] = df_full.title + ' ' + df_full.selftext\n",
    "df_full['text_title'] = df_full['text_title'].apply(lambda x: str(x))\n",
    "df_full['text_title'] = df_full['text_title'].apply(lambda x: x.lower())"
   ]
  },
  {
   "cell_type": "code",
   "execution_count": 79,
   "metadata": {},
   "outputs": [],
   "source": [
    "df_full.groupby('text_title').size().sort_values(ascending=False)\n",
    "df_full.drop_duplicates(subset=['text_title'], inplace=True)"
   ]
  },
  {
   "cell_type": "code",
   "execution_count": null,
   "metadata": {},
   "outputs": [],
   "source": []
  },
  {
   "cell_type": "code",
   "execution_count": 80,
   "metadata": {
    "scrolled": false
   },
   "outputs": [
    {
     "data": {
      "text/html": [
       "<div>\n",
       "<style scoped>\n",
       "    .dataframe tbody tr th:only-of-type {\n",
       "        vertical-align: middle;\n",
       "    }\n",
       "\n",
       "    .dataframe tbody tr th {\n",
       "        vertical-align: top;\n",
       "    }\n",
       "\n",
       "    .dataframe thead th {\n",
       "        text-align: right;\n",
       "    }\n",
       "</style>\n",
       "<table border=\"1\" class=\"dataframe\">\n",
       "  <thead>\n",
       "    <tr style=\"text-align: right;\">\n",
       "      <th></th>\n",
       "      <th>created_utc</th>\n",
       "      <th>subreddit</th>\n",
       "      <th>author</th>\n",
       "      <th>domain</th>\n",
       "      <th>url</th>\n",
       "      <th>num_comments</th>\n",
       "      <th>score</th>\n",
       "      <th>ups</th>\n",
       "      <th>downs</th>\n",
       "      <th>title</th>\n",
       "      <th>...</th>\n",
       "      <th>is_self</th>\n",
       "      <th>from_id</th>\n",
       "      <th>permalink</th>\n",
       "      <th>name</th>\n",
       "      <th>author_flair_text</th>\n",
       "      <th>quarantine</th>\n",
       "      <th>link_flair_text</th>\n",
       "      <th>distinguished</th>\n",
       "      <th>date</th>\n",
       "      <th>text_title</th>\n",
       "    </tr>\n",
       "  </thead>\n",
       "  <tbody>\n",
       "    <tr>\n",
       "      <th>0</th>\n",
       "      <td>1533158538</td>\n",
       "      <td>Anxiety</td>\n",
       "      <td>HelpfulBush</td>\n",
       "      <td>self.Anxiety</td>\n",
       "      <td>https://www.reddit.com/r/Anxiety/comments/93t5...</td>\n",
       "      <td>1</td>\n",
       "      <td>1</td>\n",
       "      <td>NaN</td>\n",
       "      <td>NaN</td>\n",
       "      <td>Best anxiety apps?</td>\n",
       "      <td>...</td>\n",
       "      <td>True</td>\n",
       "      <td>NaN</td>\n",
       "      <td>/r/Anxiety/comments/93t5va/best_anxiety_apps/</td>\n",
       "      <td>NaN</td>\n",
       "      <td>NaN</td>\n",
       "      <td>False</td>\n",
       "      <td>NaN</td>\n",
       "      <td>NaN</td>\n",
       "      <td>2018-08-01 16:22:18</td>\n",
       "      <td>best anxiety apps? what are the best free anxi...</td>\n",
       "    </tr>\n",
       "    <tr>\n",
       "      <th>1</th>\n",
       "      <td>1561404511</td>\n",
       "      <td>Anxiety</td>\n",
       "      <td>kyyface</td>\n",
       "      <td>self.Anxiety</td>\n",
       "      <td>https://www.reddit.com/r/Anxiety/comments/c4u1...</td>\n",
       "      <td>2</td>\n",
       "      <td>1</td>\n",
       "      <td>NaN</td>\n",
       "      <td>NaN</td>\n",
       "      <td>My anxiety is at an all time high...</td>\n",
       "      <td>...</td>\n",
       "      <td>True</td>\n",
       "      <td>NaN</td>\n",
       "      <td>/r/Anxiety/comments/c4u1gb/my_anxiety_is_at_an...</td>\n",
       "      <td>NaN</td>\n",
       "      <td>NaN</td>\n",
       "      <td>False</td>\n",
       "      <td>Venting</td>\n",
       "      <td>NaN</td>\n",
       "      <td>2019-06-24 14:28:31</td>\n",
       "      <td>my anxiety is at an all time high... i’ve alwa...</td>\n",
       "    </tr>\n",
       "    <tr>\n",
       "      <th>2</th>\n",
       "      <td>1524380653</td>\n",
       "      <td>Anxiety</td>\n",
       "      <td>Justbecauseweiner</td>\n",
       "      <td>self.Anxiety</td>\n",
       "      <td>https://www.reddit.com/r/Anxiety/comments/8e1q...</td>\n",
       "      <td>31</td>\n",
       "      <td>7</td>\n",
       "      <td>7.0</td>\n",
       "      <td>0.0</td>\n",
       "      <td>Late night anxiousness.</td>\n",
       "      <td>...</td>\n",
       "      <td>True</td>\n",
       "      <td>NaN</td>\n",
       "      <td>/r/Anxiety/comments/8e1qhi/late_night_anxiousn...</td>\n",
       "      <td>t3_8e1qhi</td>\n",
       "      <td>NaN</td>\n",
       "      <td>NaN</td>\n",
       "      <td>NaN</td>\n",
       "      <td>NaN</td>\n",
       "      <td>2018-04-22 02:04:13</td>\n",
       "      <td>late night anxiousness. anyone else up right n...</td>\n",
       "    </tr>\n",
       "    <tr>\n",
       "      <th>3</th>\n",
       "      <td>1462453218</td>\n",
       "      <td>Anxiety</td>\n",
       "      <td>Spennner</td>\n",
       "      <td>self.Anxiety</td>\n",
       "      <td>https://www.reddit.com/r/Anxiety/comments/4hzs...</td>\n",
       "      <td>7</td>\n",
       "      <td>3</td>\n",
       "      <td>3.0</td>\n",
       "      <td>0.0</td>\n",
       "      <td>Male, 24 years old, about to commit the weakes...</td>\n",
       "      <td>...</td>\n",
       "      <td>True</td>\n",
       "      <td>NaN</td>\n",
       "      <td>/r/Anxiety/comments/4hzs7o/male_24_years_old_a...</td>\n",
       "      <td>t3_4hzs7o</td>\n",
       "      <td>NaN</td>\n",
       "      <td>False</td>\n",
       "      <td>NaN</td>\n",
       "      <td>NaN</td>\n",
       "      <td>2016-05-05 08:00:18</td>\n",
       "      <td>male, 24 years old, about to commit the weakes...</td>\n",
       "    </tr>\n",
       "    <tr>\n",
       "      <th>4</th>\n",
       "      <td>1554417090</td>\n",
       "      <td>Anxiety</td>\n",
       "      <td>AnxietyBoatAllAboard</td>\n",
       "      <td>self.Anxiety</td>\n",
       "      <td>https://www.reddit.com/r/Anxiety/comments/b9jc...</td>\n",
       "      <td>1</td>\n",
       "      <td>2</td>\n",
       "      <td>NaN</td>\n",
       "      <td>NaN</td>\n",
       "      <td>constant work anxiety</td>\n",
       "      <td>...</td>\n",
       "      <td>True</td>\n",
       "      <td>NaN</td>\n",
       "      <td>/r/Anxiety/comments/b9jciy/constant_work_anxiety/</td>\n",
       "      <td>NaN</td>\n",
       "      <td>NaN</td>\n",
       "      <td>False</td>\n",
       "      <td>Work/School</td>\n",
       "      <td>NaN</td>\n",
       "      <td>2019-04-04 17:31:30</td>\n",
       "      <td>constant work anxiety i have constant anxiety ...</td>\n",
       "    </tr>\n",
       "    <tr>\n",
       "      <th>...</th>\n",
       "      <td>...</td>\n",
       "      <td>...</td>\n",
       "      <td>...</td>\n",
       "      <td>...</td>\n",
       "      <td>...</td>\n",
       "      <td>...</td>\n",
       "      <td>...</td>\n",
       "      <td>...</td>\n",
       "      <td>...</td>\n",
       "      <td>...</td>\n",
       "      <td>...</td>\n",
       "      <td>...</td>\n",
       "      <td>...</td>\n",
       "      <td>...</td>\n",
       "      <td>...</td>\n",
       "      <td>...</td>\n",
       "      <td>...</td>\n",
       "      <td>...</td>\n",
       "      <td>...</td>\n",
       "      <td>...</td>\n",
       "      <td>...</td>\n",
       "    </tr>\n",
       "    <tr>\n",
       "      <th>126771</th>\n",
       "      <td>1519961245</td>\n",
       "      <td>Anxiety</td>\n",
       "      <td>NeverNo</td>\n",
       "      <td>self.Anxiety</td>\n",
       "      <td>https://www.reddit.com/r/Anxiety/comments/81bd...</td>\n",
       "      <td>2</td>\n",
       "      <td>3</td>\n",
       "      <td>NaN</td>\n",
       "      <td>NaN</td>\n",
       "      <td>How many relationships has your anxiety destro...</td>\n",
       "      <td>...</td>\n",
       "      <td>True</td>\n",
       "      <td>NaN</td>\n",
       "      <td>/r/Anxiety/comments/81bdkt/how_many_relationsh...</td>\n",
       "      <td>NaN</td>\n",
       "      <td>NaN</td>\n",
       "      <td>NaN</td>\n",
       "      <td>Relationships</td>\n",
       "      <td>NaN</td>\n",
       "      <td>2018-03-01 21:27:25</td>\n",
       "      <td>how many relationships has your anxiety destro...</td>\n",
       "    </tr>\n",
       "    <tr>\n",
       "      <th>126772</th>\n",
       "      <td>1465918564</td>\n",
       "      <td>Anxiety</td>\n",
       "      <td>AnxiousDad73</td>\n",
       "      <td>self.Anxiety</td>\n",
       "      <td>https://www.reddit.com/r/Anxiety/comments/4o1y...</td>\n",
       "      <td>2</td>\n",
       "      <td>1</td>\n",
       "      <td>1.0</td>\n",
       "      <td>0.0</td>\n",
       "      <td>My anxiety increases when i do a cardio workout</td>\n",
       "      <td>...</td>\n",
       "      <td>True</td>\n",
       "      <td>NaN</td>\n",
       "      <td>/r/Anxiety/comments/4o1yy9/my_anxiety_increase...</td>\n",
       "      <td>t3_4o1yy9</td>\n",
       "      <td>GAD/Depression</td>\n",
       "      <td>False</td>\n",
       "      <td>NaN</td>\n",
       "      <td>NaN</td>\n",
       "      <td>2016-06-14 10:36:04</td>\n",
       "      <td>my anxiety increases when i do a cardio workou...</td>\n",
       "    </tr>\n",
       "    <tr>\n",
       "      <th>126773</th>\n",
       "      <td>1549876074</td>\n",
       "      <td>Anxiety</td>\n",
       "      <td>Sloppyorange</td>\n",
       "      <td>self.Anxiety</td>\n",
       "      <td>https://www.reddit.com/r/Anxiety/comments/apef...</td>\n",
       "      <td>0</td>\n",
       "      <td>1</td>\n",
       "      <td>NaN</td>\n",
       "      <td>NaN</td>\n",
       "      <td>Someone please help me: I have extreme anxiety...</td>\n",
       "      <td>...</td>\n",
       "      <td>True</td>\n",
       "      <td>NaN</td>\n",
       "      <td>/r/Anxiety/comments/apefsw/someone_please_help...</td>\n",
       "      <td>NaN</td>\n",
       "      <td>NaN</td>\n",
       "      <td>False</td>\n",
       "      <td>Advice Needed</td>\n",
       "      <td>NaN</td>\n",
       "      <td>2019-02-11 03:07:54</td>\n",
       "      <td>someone please help me: i have extreme anxiety...</td>\n",
       "    </tr>\n",
       "    <tr>\n",
       "      <th>126774</th>\n",
       "      <td>1497154728</td>\n",
       "      <td>Anxiety</td>\n",
       "      <td>datboy65656565656565</td>\n",
       "      <td>self.Anxiety</td>\n",
       "      <td>https://www.reddit.com/r/Anxiety/comments/6gjk...</td>\n",
       "      <td>1</td>\n",
       "      <td>3</td>\n",
       "      <td>NaN</td>\n",
       "      <td>NaN</td>\n",
       "      <td>I have to attend my cousin's graduation in a f...</td>\n",
       "      <td>...</td>\n",
       "      <td>True</td>\n",
       "      <td>NaN</td>\n",
       "      <td>/r/Anxiety/comments/6gjkwv/i_have_to_attend_my...</td>\n",
       "      <td>NaN</td>\n",
       "      <td>NaN</td>\n",
       "      <td>False</td>\n",
       "      <td>Needs A Hug/Support</td>\n",
       "      <td>NaN</td>\n",
       "      <td>2017-06-10 23:18:48</td>\n",
       "      <td>i have to attend my cousin's graduation in a f...</td>\n",
       "    </tr>\n",
       "    <tr>\n",
       "      <th>126775</th>\n",
       "      <td>1546510033</td>\n",
       "      <td>Anxiety</td>\n",
       "      <td>dudenotrightnow</td>\n",
       "      <td>self.Anxiety</td>\n",
       "      <td>https://www.reddit.com/r/Anxiety/comments/ac4d...</td>\n",
       "      <td>1</td>\n",
       "      <td>1</td>\n",
       "      <td>NaN</td>\n",
       "      <td>NaN</td>\n",
       "      <td>How do I stop myself from feeling guilty when ...</td>\n",
       "      <td>...</td>\n",
       "      <td>True</td>\n",
       "      <td>NaN</td>\n",
       "      <td>/r/Anxiety/comments/ac4d1f/how_do_i_stop_mysel...</td>\n",
       "      <td>NaN</td>\n",
       "      <td>NaN</td>\n",
       "      <td>False</td>\n",
       "      <td>NaN</td>\n",
       "      <td>NaN</td>\n",
       "      <td>2019-01-03 04:07:13</td>\n",
       "      <td>how do i stop myself from feeling guilty when ...</td>\n",
       "    </tr>\n",
       "  </tbody>\n",
       "</table>\n",
       "<p>126776 rows × 35 columns</p>\n",
       "</div>"
      ],
      "text/plain": [
       "        created_utc subreddit                author        domain  \\\n",
       "0        1533158538   Anxiety           HelpfulBush  self.Anxiety   \n",
       "1        1561404511   Anxiety               kyyface  self.Anxiety   \n",
       "2        1524380653   Anxiety     Justbecauseweiner  self.Anxiety   \n",
       "3        1462453218   Anxiety              Spennner  self.Anxiety   \n",
       "4        1554417090   Anxiety  AnxietyBoatAllAboard  self.Anxiety   \n",
       "...             ...       ...                   ...           ...   \n",
       "126771   1519961245   Anxiety               NeverNo  self.Anxiety   \n",
       "126772   1465918564   Anxiety          AnxiousDad73  self.Anxiety   \n",
       "126773   1549876074   Anxiety          Sloppyorange  self.Anxiety   \n",
       "126774   1497154728   Anxiety  datboy65656565656565  self.Anxiety   \n",
       "126775   1546510033   Anxiety       dudenotrightnow  self.Anxiety   \n",
       "\n",
       "                                                      url  num_comments  \\\n",
       "0       https://www.reddit.com/r/Anxiety/comments/93t5...             1   \n",
       "1       https://www.reddit.com/r/Anxiety/comments/c4u1...             2   \n",
       "2       https://www.reddit.com/r/Anxiety/comments/8e1q...            31   \n",
       "3       https://www.reddit.com/r/Anxiety/comments/4hzs...             7   \n",
       "4       https://www.reddit.com/r/Anxiety/comments/b9jc...             1   \n",
       "...                                                   ...           ...   \n",
       "126771  https://www.reddit.com/r/Anxiety/comments/81bd...             2   \n",
       "126772  https://www.reddit.com/r/Anxiety/comments/4o1y...             2   \n",
       "126773  https://www.reddit.com/r/Anxiety/comments/apef...             0   \n",
       "126774  https://www.reddit.com/r/Anxiety/comments/6gjk...             1   \n",
       "126775  https://www.reddit.com/r/Anxiety/comments/ac4d...             1   \n",
       "\n",
       "        score  ups  downs                                              title  \\\n",
       "0           1  NaN    NaN                                 Best anxiety apps?   \n",
       "1           1  NaN    NaN               My anxiety is at an all time high...   \n",
       "2           7  7.0    0.0                            Late night anxiousness.   \n",
       "3           3  3.0    0.0  Male, 24 years old, about to commit the weakes...   \n",
       "4           2  NaN    NaN                              constant work anxiety   \n",
       "...       ...  ...    ...                                                ...   \n",
       "126771      3  NaN    NaN  How many relationships has your anxiety destro...   \n",
       "126772      1  1.0    0.0    My anxiety increases when i do a cardio workout   \n",
       "126773      1  NaN    NaN  Someone please help me: I have extreme anxiety...   \n",
       "126774      3  NaN    NaN  I have to attend my cousin's graduation in a f...   \n",
       "126775      1  NaN    NaN  How do I stop myself from feeling guilty when ...   \n",
       "\n",
       "        ... is_self from_id  \\\n",
       "0       ...    True     NaN   \n",
       "1       ...    True     NaN   \n",
       "2       ...    True     NaN   \n",
       "3       ...    True     NaN   \n",
       "4       ...    True     NaN   \n",
       "...     ...     ...     ...   \n",
       "126771  ...    True     NaN   \n",
       "126772  ...    True     NaN   \n",
       "126773  ...    True     NaN   \n",
       "126774  ...    True     NaN   \n",
       "126775  ...    True     NaN   \n",
       "\n",
       "                                                permalink       name  \\\n",
       "0           /r/Anxiety/comments/93t5va/best_anxiety_apps/        NaN   \n",
       "1       /r/Anxiety/comments/c4u1gb/my_anxiety_is_at_an...        NaN   \n",
       "2       /r/Anxiety/comments/8e1qhi/late_night_anxiousn...  t3_8e1qhi   \n",
       "3       /r/Anxiety/comments/4hzs7o/male_24_years_old_a...  t3_4hzs7o   \n",
       "4       /r/Anxiety/comments/b9jciy/constant_work_anxiety/        NaN   \n",
       "...                                                   ...        ...   \n",
       "126771  /r/Anxiety/comments/81bdkt/how_many_relationsh...        NaN   \n",
       "126772  /r/Anxiety/comments/4o1yy9/my_anxiety_increase...  t3_4o1yy9   \n",
       "126773  /r/Anxiety/comments/apefsw/someone_please_help...        NaN   \n",
       "126774  /r/Anxiety/comments/6gjkwv/i_have_to_attend_my...        NaN   \n",
       "126775  /r/Anxiety/comments/ac4d1f/how_do_i_stop_mysel...        NaN   \n",
       "\n",
       "        author_flair_text  quarantine      link_flair_text  distinguished  \\\n",
       "0                     NaN       False                  NaN            NaN   \n",
       "1                     NaN       False              Venting            NaN   \n",
       "2                     NaN         NaN                  NaN            NaN   \n",
       "3                     NaN       False                  NaN            NaN   \n",
       "4                     NaN       False          Work/School            NaN   \n",
       "...                   ...         ...                  ...            ...   \n",
       "126771                NaN         NaN        Relationships            NaN   \n",
       "126772     GAD/Depression       False                  NaN            NaN   \n",
       "126773                NaN       False        Advice Needed            NaN   \n",
       "126774                NaN       False  Needs A Hug/Support            NaN   \n",
       "126775                NaN       False                  NaN            NaN   \n",
       "\n",
       "                      date                                         text_title  \n",
       "0      2018-08-01 16:22:18  best anxiety apps? what are the best free anxi...  \n",
       "1      2019-06-24 14:28:31  my anxiety is at an all time high... i’ve alwa...  \n",
       "2      2018-04-22 02:04:13  late night anxiousness. anyone else up right n...  \n",
       "3      2016-05-05 08:00:18  male, 24 years old, about to commit the weakes...  \n",
       "4      2019-04-04 17:31:30  constant work anxiety i have constant anxiety ...  \n",
       "...                    ...                                                ...  \n",
       "126771 2018-03-01 21:27:25  how many relationships has your anxiety destro...  \n",
       "126772 2016-06-14 10:36:04  my anxiety increases when i do a cardio workou...  \n",
       "126773 2019-02-11 03:07:54  someone please help me: i have extreme anxiety...  \n",
       "126774 2017-06-10 23:18:48  i have to attend my cousin's graduation in a f...  \n",
       "126775 2019-01-03 04:07:13  how do i stop myself from feeling guilty when ...  \n",
       "\n",
       "[126776 rows x 35 columns]"
      ]
     },
     "execution_count": 80,
     "metadata": {},
     "output_type": "execute_result"
    }
   ],
   "source": [
    "df_reset = df_full.reset_index().drop(columns=['index'])\n",
    "df_reset"
   ]
  },
  {
   "cell_type": "code",
   "execution_count": 81,
   "metadata": {
    "scrolled": true
   },
   "outputs": [
    {
     "data": {
      "text/plain": [
       "['amp', 'nbsp']"
      ]
     },
     "execution_count": 81,
     "metadata": {},
     "output_type": "execute_result"
    }
   ],
   "source": [
    "test = '&amp;nbsp;'\n",
    "gensim.utils.simple_preprocess(test)"
   ]
  },
  {
   "cell_type": "code",
   "execution_count": 2,
   "metadata": {},
   "outputs": [],
   "source": [
    "import gensim\n",
    "import multiprocessing\n",
    "from tqdm import tqdm\n",
    "from sklearn import utils\n",
    "from gensim.models.callbacks import CallbackAny2Vec"
   ]
  },
  {
   "cell_type": "code",
   "execution_count": 5,
   "metadata": {},
   "outputs": [],
   "source": [
    "\n",
    "\n",
    "class LossLogger(CallbackAny2Vec):\n",
    "    '''Callback to print loss after each epoch.'''\n",
    "\n",
    "    def __init__(self):\n",
    "        self.epoch = 0\n",
    "        self.loss_to_be_subed = 0\n",
    "\n",
    "    def on_epoch_end(self, model):\n",
    "        loss = model.get_latest_training_loss()\n",
    "        loss_now = loss - self.loss_to_be_subed\n",
    "        self.loss_to_be_subed = loss\n",
    "        print('Loss after epoch {}: {}'.format(self.epoch, loss_now))\n",
    "        self.epoch += 1\n",
    "\n",
    "loss_logger = LossLogger()\n",
    "# tqdm.pandas(desc=\"progress-bar\")\n",
    "# cores = multiprocessing.cpu_count()\n",
    "\n",
    "# documents = df_reset.text_title\n",
    "# tokenized_docs = [gensim.utils.simple_preprocess(d) for d in documents]\n",
    "# model = gensim.models.Word2Vec(tokenized_docs,\n",
    "#                                size=400,\n",
    "#                                window=5,\n",
    "#                                min_count=5,\n",
    "#                                sg=1,\n",
    "#                                callbacks=[loss_logger],\n",
    "#                                compute_loss=True,\n",
    "#                                iter=35,\n",
    "#                                workers=cores)"
   ]
  },
  {
   "cell_type": "code",
   "execution_count": 206,
   "metadata": {},
   "outputs": [],
   "source": [
    "# model.syn0"
   ]
  },
  {
   "cell_type": "code",
   "execution_count": null,
   "metadata": {},
   "outputs": [],
   "source": [
    "# model2.wv.most_similar(['motivation'], topn=30)"
   ]
  },
  {
   "cell_type": "code",
   "execution_count": 84,
   "metadata": {},
   "outputs": [],
   "source": [
    "# model.save(\"models/anxiety2vec_full.model\")"
   ]
  },
  {
   "cell_type": "code",
   "execution_count": 7,
   "metadata": {},
   "outputs": [],
   "source": [
    "model = gensim.models.Word2Vec.load(\"models/anxiety2vec_full.model\")\n",
    "model2 = gensim.models.Word2Vec.load(\"models/depression2vec_full.model\")"
   ]
  },
  {
   "cell_type": "code",
   "execution_count": 84,
   "metadata": {
    "scrolled": false
   },
   "outputs": [
    {
     "data": {
      "text/plain": [
       "[('energy', 0.6299775838851929),\n",
       " ('willpower', 0.6144546270370483),\n",
       " ('ambition', 0.5886609554290771),\n",
       " ('motvation', 0.5381804704666138),\n",
       " ('modivation', 0.5302222967147827),\n",
       " ('motiviation', 0.5192931294441223),\n",
       " ('motovation', 0.5171259641647339),\n",
       " ('desire', 0.5122600197792053),\n",
       " ('enthusiasm', 0.4983682632446289),\n",
       " ('motivated', 0.494276225566864),\n",
       " ('inspiration', 0.4916467070579529),\n",
       " ('unmotivated', 0.4851604998111725),\n",
       " ('passion', 0.48500457406044006),\n",
       " ('strengh', 0.4655093550682068),\n",
       " ('appetite', 0.46231281757354736),\n",
       " ('strength', 0.4595683515071869),\n",
       " ('zest', 0.45696038007736206),\n",
       " ('motivate', 0.4507544934749603),\n",
       " ('determination', 0.4479437470436096),\n",
       " ('confidence', 0.44607073068618774),\n",
       " ('preparedness', 0.4441033601760864),\n",
       " ('gumption', 0.44054946303367615),\n",
       " ('acomplishment', 0.43923187255859375),\n",
       " ('strenght', 0.43693986535072327),\n",
       " ('willingness', 0.4365207552909851),\n",
       " ('lustre', 0.4341988265514374),\n",
       " ('concentration', 0.4321267008781433),\n",
       " ('apetite', 0.4266323149204254),\n",
       " ('wherewithal', 0.4265719950199127),\n",
       " ('therof', 0.4248182475566864)]"
      ]
     },
     "execution_count": 84,
     "metadata": {},
     "output_type": "execute_result"
    }
   ],
   "source": [
    "model2.wv.most_similar(['motivation'], topn=30)"
   ]
  },
  {
   "cell_type": "code",
   "execution_count": 203,
   "metadata": {},
   "outputs": [
    {
     "data": {
      "text/plain": [
       "[('sleep', 0.5626819133758545),\n",
       " ('hyperarousal', 0.46251243352890015),\n",
       " ('nausea', 0.4568025767803192),\n",
       " ('fitful', 0.4513145387172699),\n",
       " ('sleeping', 0.44332319498062134),\n",
       " ('wakefulness', 0.44202369451522827),\n",
       " ('dystonia', 0.4266470670700073),\n",
       " ('dizziness', 0.4246782064437866),\n",
       " ('addison', 0.41871753334999084),\n",
       " ('hypermobility', 0.4170190691947937),\n",
       " ('rem', 0.4168033003807068),\n",
       " ('postural', 0.4120637774467468),\n",
       " ('ehlers', 0.4114263951778412),\n",
       " ('myoclonic', 0.41049331426620483),\n",
       " ('asleep', 0.40417349338531494),\n",
       " ('restoril', 0.4024139940738678),\n",
       " ('temazepam', 0.40231069922447205),\n",
       " ('hypersomnia', 0.40160632133483887),\n",
       " ('deprivation', 0.40064889192581177),\n",
       " ('chronic', 0.3989311456680298),\n",
       " ('fatigue', 0.3986816108226776),\n",
       " ('famished', 0.39693641662597656),\n",
       " ('gastroparesis', 0.39597469568252563),\n",
       " ('restlessly', 0.3947986364364624),\n",
       " ('unrested', 0.3925420641899109),\n",
       " ('apnea', 0.39095157384872437),\n",
       " ('reching', 0.39048999547958374),\n",
       " ('chiari', 0.38957351446151733),\n",
       " ('ratcheting', 0.38929030299186707),\n",
       " ('jetlag', 0.3889957666397095)]"
      ]
     },
     "execution_count": 203,
     "metadata": {},
     "output_type": "execute_result"
    }
   ],
   "source": [
    "model.wv.most_similar(positive=['circadian', 'b'], topn=30)"
   ]
  },
  {
   "cell_type": "code",
   "execution_count": 204,
   "metadata": {
    "scrolled": true
   },
   "outputs": [
    {
     "data": {
      "text/plain": [
       "[('somnolence', 0.5951311588287354),\n",
       " ('unrefreshing', 0.5921083092689514),\n",
       " ('insomina', 0.588383674621582),\n",
       " ('wakefulness', 0.5844882130622864),\n",
       " ('hypersomnia', 0.5742589235305786),\n",
       " ('obstructive', 0.568565845489502),\n",
       " ('leaden', 0.5646314024925232),\n",
       " ('lpr', 0.5565174221992493),\n",
       " ('rem', 0.553957462310791),\n",
       " ('premenstrual', 0.5466313362121582),\n",
       " ('cystitis', 0.5464724898338318),\n",
       " ('minipress', 0.5437217950820923),\n",
       " ('amotivation', 0.5436208248138428),\n",
       " ('shakiness', 0.5403155088424683),\n",
       " ('prazosin', 0.5389235019683838),\n",
       " ('pituitary', 0.5361229181289673),\n",
       " ('prostatitis', 0.5347299575805664),\n",
       " ('dysmenorrhea', 0.5340983867645264),\n",
       " ('grogginess', 0.5336235165596008),\n",
       " ('hyperthyroidism', 0.5334459543228149),\n",
       " ('focalin', 0.531782865524292),\n",
       " ('intractable', 0.5309022068977356),\n",
       " ('arousals', 0.529588520526886),\n",
       " ('sleepiness', 0.5293586254119873),\n",
       " ('atrial', 0.5287660956382751),\n",
       " ('gerd', 0.5285047292709351),\n",
       " ('spd', 0.5272490978240967),\n",
       " ('insomia', 0.5268694162368774),\n",
       " ('hypoglycemia', 0.524581253528595),\n",
       " ('disturbances', 0.5235260725021362)]"
      ]
     },
     "execution_count": 204,
     "metadata": {},
     "output_type": "execute_result"
    }
   ],
   "source": [
    "model2.wv.most_similar(positive=['circadian', 'insomnia'], topn=30)"
   ]
  },
  {
   "cell_type": "code",
   "execution_count": null,
   "metadata": {},
   "outputs": [],
   "source": []
  },
  {
   "cell_type": "code",
   "execution_count": 198,
   "metadata": {},
   "outputs": [
    {
     "data": {
      "text/plain": [
       "[('sleep', 0.47666364908218384),\n",
       " ('rhythm', 0.42202499508857727),\n",
       " ('unrested', 0.4173068404197693),\n",
       " ('fitful', 0.4103149473667145),\n",
       " ('rem', 0.3847265839576721),\n",
       " ('depravation', 0.3718340992927551),\n",
       " ('deficit', 0.3573581278324127),\n",
       " ('insomnia', 0.35166892409324646),\n",
       " ('waken', 0.3500707149505615),\n",
       " ('addison', 0.34997791051864624),\n",
       " ('wakefulness', 0.34935683012008667),\n",
       " ('schedule', 0.3488864302635193),\n",
       " ('reestablish', 0.3453125059604645),\n",
       " ('pituitary', 0.3438349962234497),\n",
       " ('myoclonic', 0.343575656414032),\n",
       " ('chiari', 0.34182488918304443),\n",
       " ('taxed', 0.34070485830307007),\n",
       " ('sleeping', 0.33881139755249023),\n",
       " ('postural', 0.33795297145843506),\n",
       " ('autonomic', 0.33772537112236023),\n",
       " ('awaking', 0.33689069747924805),\n",
       " ('heats', 0.33540409803390503),\n",
       " ('schedual', 0.3346595764160156),\n",
       " ('famished', 0.3325856328010559),\n",
       " ('unclenching', 0.3308364748954773),\n",
       " ('hyperarousal', 0.33080703020095825),\n",
       " ('insomniac', 0.33016833662986755),\n",
       " ('restful', 0.33013397455215454),\n",
       " ('apnea', 0.32922470569610596),\n",
       " ('prefrontal', 0.32921910285949707)]"
      ]
     },
     "execution_count": 198,
     "metadata": {},
     "output_type": "execute_result"
    }
   ],
   "source": [
    "model.wv.most_similar(['circadian'], topn=30)"
   ]
  },
  {
   "cell_type": "code",
   "execution_count": 199,
   "metadata": {
    "scrolled": true
   },
   "outputs": [
    {
     "data": {
      "text/plain": [
       "[('rhythm', 0.567959189414978),\n",
       " ('entrainment', 0.5579742789268494),\n",
       " ('rhythms', 0.5566973686218262),\n",
       " ('arousals', 0.5274004936218262),\n",
       " ('wakefulness', 0.5225017070770264),\n",
       " ('pituitary', 0.5206567049026489),\n",
       " ('bdnf', 0.5151847004890442),\n",
       " ('glutamate', 0.5128660202026367),\n",
       " ('alertness', 0.5124078392982483),\n",
       " ('endocrine', 0.5079496502876282),\n",
       " ('hydration', 0.5067459344863892),\n",
       " ('overstimulation', 0.5057584047317505),\n",
       " ('rem', 0.5053410530090332),\n",
       " ('haziness', 0.5034893751144409),\n",
       " ('dysregulation', 0.4925832450389862),\n",
       " ('cortical', 0.49022603034973145),\n",
       " ('synaptic', 0.4869855046272278),\n",
       " ('unrefreshing', 0.48379236459732056),\n",
       " ('atrial', 0.47749829292297363),\n",
       " ('prefrontal', 0.4761282801628113),\n",
       " ('alters', 0.47473955154418945),\n",
       " ('focalin', 0.47416776418685913),\n",
       " ('asanas', 0.47034919261932373),\n",
       " ('postural', 0.4698242247104645),\n",
       " ('sibo', 0.46905219554901123),\n",
       " ('neurogenesis', 0.46842050552368164),\n",
       " ('microbiome', 0.4679766893386841),\n",
       " ('cingulate', 0.4678953289985657),\n",
       " ('somnolence', 0.46753954887390137),\n",
       " ('neurochemistry', 0.4663064479827881)]"
      ]
     },
     "execution_count": 199,
     "metadata": {},
     "output_type": "execute_result"
    }
   ],
   "source": [
    "model2.wv.most_similar(['circadian'], topn=30)"
   ]
  },
  {
   "cell_type": "code",
   "execution_count": 209,
   "metadata": {},
   "outputs": [
    {
     "data": {
      "text/plain": [
       "[('lay', 0.24297469854354858),\n",
       " ('eather', 0.24210433661937714),\n",
       " ('bed', 0.23931246995925903),\n",
       " ('stayin', 0.2342747300863266),\n",
       " ('sleeplessly', 0.2233375608921051),\n",
       " ('lather', 0.21556782722473145),\n",
       " ('sit', 0.21533411741256714),\n",
       " ('dehydrate', 0.21226242184638977),\n",
       " ('huddle', 0.21080973744392395),\n",
       " ('curl', 0.2105681151151657),\n",
       " ('cryed', 0.2104918211698532),\n",
       " ('sulk', 0.2095808982849121),\n",
       " ('lock', 0.20663698017597198),\n",
       " ('pjs', 0.20502379536628723),\n",
       " ('asleep', 0.20276586711406708),\n",
       " ('grt', 0.20015347003936768),\n",
       " ('sleeped', 0.1986388862133026),\n",
       " ('unwind', 0.1981518566608429),\n",
       " ('asphyxiate', 0.19742079079151154),\n",
       " ('minimun', 0.19731174409389496)]"
      ]
     },
     "execution_count": 209,
     "metadata": {},
     "output_type": "execute_result"
    }
   ],
   "source": [
    "model2.wv.most_similar(positive=['sleep'], negative=['insomnia'], topn=20)"
   ]
  },
  {
   "cell_type": "code",
   "execution_count": 210,
   "metadata": {},
   "outputs": [],
   "source": [
    "w2c = dict()\n",
    "for item in model.wv.vocab:\n",
    "    w2c[item]=model.wv.vocab[item].count"
   ]
  },
  {
   "cell_type": "code",
   "execution_count": 216,
   "metadata": {},
   "outputs": [],
   "source": [
    "import pandas as pd"
   ]
  },
  {
   "cell_type": "code",
   "execution_count": 223,
   "metadata": {},
   "outputs": [
    {
     "data": {
      "text/html": [
       "<div>\n",
       "<style scoped>\n",
       "    .dataframe tbody tr th:only-of-type {\n",
       "        vertical-align: middle;\n",
       "    }\n",
       "\n",
       "    .dataframe tbody tr th {\n",
       "        vertical-align: top;\n",
       "    }\n",
       "\n",
       "    .dataframe thead th {\n",
       "        text-align: right;\n",
       "    }\n",
       "</style>\n",
       "<table border=\"1\" class=\"dataframe\">\n",
       "  <thead>\n",
       "    <tr style=\"text-align: right;\">\n",
       "      <th></th>\n",
       "      <th>word</th>\n",
       "      <th>count</th>\n",
       "    </tr>\n",
       "  </thead>\n",
       "  <tbody>\n",
       "    <tr>\n",
       "      <th>0</th>\n",
       "      <td>best</td>\n",
       "      <td>12351</td>\n",
       "    </tr>\n",
       "    <tr>\n",
       "      <th>1</th>\n",
       "      <td>anxiety</td>\n",
       "      <td>208758</td>\n",
       "    </tr>\n",
       "    <tr>\n",
       "      <th>2</th>\n",
       "      <td>apps</td>\n",
       "      <td>499</td>\n",
       "    </tr>\n",
       "    <tr>\n",
       "      <th>3</th>\n",
       "      <td>what</td>\n",
       "      <td>100114</td>\n",
       "    </tr>\n",
       "    <tr>\n",
       "      <th>4</th>\n",
       "      <td>are</td>\n",
       "      <td>63934</td>\n",
       "    </tr>\n",
       "    <tr>\n",
       "      <th>...</th>\n",
       "      <td>...</td>\n",
       "      <td>...</td>\n",
       "    </tr>\n",
       "    <tr>\n",
       "      <th>25990</th>\n",
       "      <td>rodney</td>\n",
       "      <td>18</td>\n",
       "    </tr>\n",
       "    <tr>\n",
       "      <th>25991</th>\n",
       "      <td>miguel</td>\n",
       "      <td>6</td>\n",
       "    </tr>\n",
       "    <tr>\n",
       "      <th>25992</th>\n",
       "      <td>arkham</td>\n",
       "      <td>5</td>\n",
       "    </tr>\n",
       "    <tr>\n",
       "      <th>25993</th>\n",
       "      <td>franchisee</td>\n",
       "      <td>5</td>\n",
       "    </tr>\n",
       "    <tr>\n",
       "      <th>25994</th>\n",
       "      <td>hawe</td>\n",
       "      <td>8</td>\n",
       "    </tr>\n",
       "  </tbody>\n",
       "</table>\n",
       "<p>25995 rows × 2 columns</p>\n",
       "</div>"
      ],
      "text/plain": [
       "             word   count\n",
       "0            best   12351\n",
       "1         anxiety  208758\n",
       "2            apps     499\n",
       "3            what  100114\n",
       "4             are   63934\n",
       "...           ...     ...\n",
       "25990      rodney      18\n",
       "25991      miguel       6\n",
       "25992      arkham       5\n",
       "25993  franchisee       5\n",
       "25994        hawe       8\n",
       "\n",
       "[25995 rows x 2 columns]"
      ]
     },
     "execution_count": 223,
     "metadata": {},
     "output_type": "execute_result"
    }
   ],
   "source": [
    "df = pd.DataFrame(list(w2c.items()),columns = ['word','count']) \n",
    "df[['word', 'count']]"
   ]
  },
  {
   "cell_type": "code",
   "execution_count": 183,
   "metadata": {},
   "outputs": [
    {
     "data": {
      "text/plain": [
       "[('alcoholic', 0.33297860622406006),\n",
       " ('alcholic', 0.2626097798347473),\n",
       " ('stalker', 0.24276447296142578),\n",
       " ('freeloader', 0.24215564131736755),\n",
       " ('shithead', 0.2369920164346695),\n",
       " ('alchoholic', 0.23557531833648682),\n",
       " ('fuckwit', 0.22412621974945068),\n",
       " ('enabler', 0.2205098569393158),\n",
       " ('abuser', 0.21836131811141968),\n",
       " ('orphan', 0.21658724546432495),\n",
       " ('mouthed', 0.21618300676345825),\n",
       " ('wanker', 0.20907407999038696),\n",
       " ('seeker', 0.20816045999526978),\n",
       " ('junkie', 0.2070085108280182),\n",
       " ('understatement', 0.20617571473121643),\n",
       " ('thief', 0.20612667500972748),\n",
       " ('psychopathic', 0.20595476031303406),\n",
       " ('loser', 0.20561592280864716),\n",
       " ('narcissist', 0.20457029342651367),\n",
       " ('sicko', 0.2019149214029312)]"
      ]
     },
     "execution_count": 183,
     "metadata": {},
     "output_type": "execute_result"
    }
   ],
   "source": [
    "# model.wv.similar_by_vector(negative=['psychiatrist', 'prescribed'],topn=20)\n",
    "# model2.wv.most_similar(positive=['psychiatrist'], negative=['prescribed'], topn=20)\n",
    "# model2.wv.most_similar(positive=['addict'], negative=['drugs'], topn=20)\n",
    "model2.wv.most_similar(positive=['addict'], negative=['drugs'], topn=20)\n",
    "\n"
   ]
  },
  {
   "cell_type": "code",
   "execution_count": 185,
   "metadata": {},
   "outputs": [
    {
     "data": {
      "text/plain": [
       "[('insomnia', 0.8722215890884399),\n",
       " ('sleep', 0.8283430337905884),\n",
       " ('sleeping', 0.5788544416427612),\n",
       " ('asleep', 0.5290964245796204),\n",
       " ('nausea', 0.49453288316726685),\n",
       " ('circadian', 0.4812701940536499),\n",
       " ('restoril', 0.4718226492404938),\n",
       " ('hyperarousal', 0.46199142932891846),\n",
       " ('appetite', 0.4604637920856476),\n",
       " ('awake', 0.45851007103919983),\n",
       " ('nights', 0.4446353614330292),\n",
       " ('fitful', 0.43999016284942627),\n",
       " ('temazepam', 0.43586477637290955),\n",
       " ('mares', 0.42881038784980774),\n",
       " ('jetlag', 0.42802882194519043),\n",
       " ('night', 0.4269375205039978),\n",
       " ('slept', 0.42618077993392944),\n",
       " ('wakefulness', 0.42589688301086426),\n",
       " ('dizziness', 0.4254881739616394),\n",
       " ('sleeplessness', 0.42475250363349915)]"
      ]
     },
     "execution_count": 185,
     "metadata": {},
     "output_type": "execute_result"
    }
   ],
   "source": [
    "diff = model.wv['sleep'] - model.wv['prescribed']\n",
    "model.wv.similar_by_vector(diff,topn=20)\n",
    "\n"
   ]
  },
  {
   "cell_type": "code",
   "execution_count": 43,
   "metadata": {
    "scrolled": false
   },
   "outputs": [
    {
     "data": {
      "text/plain": [
       "[('psychiatrist', 0.6058940291404724),\n",
       " ('psychologist', 0.453220933675766),\n",
       " ('therapist', 0.44538718461990356),\n",
       " ('counselor', 0.4171057343482971),\n",
       " ('doctor', 0.3817121386528015),\n",
       " ('gp', 0.3656955361366272),\n",
       " ('physiatrist', 0.34224098920822144),\n",
       " ('physician', 0.30193591117858887),\n",
       " ('opthalmologist', 0.2976304888725281),\n",
       " ('urologist', 0.2969989776611328)]"
      ]
     },
     "execution_count": 43,
     "metadata": {},
     "output_type": "execute_result"
    }
   ],
   "source": [
    "# man_wom = model.wv['psychiatrist'] - model.wv['meds'] \n",
    "# model.wv.similar_by_vector(man_wom,topn=20)\n",
    "\n",
    "diff = model.wv['psychiatrist'] - model.wv['meds']\n",
    "model.wv.similar_by_vector(diff,topn=10)\n"
   ]
  },
  {
   "cell_type": "code",
   "execution_count": 154,
   "metadata": {},
   "outputs": [
    {
     "data": {
      "text/plain": [
       "[('scream', 0.4388599991798401),\n",
       " ('punch', 0.33786454796791077),\n",
       " ('anger', 0.32701078057289124),\n",
       " ('tears', 0.3185722529888153),\n",
       " ('thrash', 0.31270092725753784),\n",
       " ('crying', 0.30638131499290466),\n",
       " ('rage', 0.3007892668247223),\n",
       " ('lash', 0.2961653470993042),\n",
       " ('bawl', 0.29389554262161255),\n",
       " ('sheer', 0.28733697533607483),\n",
       " ('sobbing', 0.27876782417297363),\n",
       " ('wail', 0.2766817808151245),\n",
       " ('rip', 0.2749730944633484),\n",
       " ('bawling', 0.27308955788612366),\n",
       " ('yell', 0.27242252230644226),\n",
       " ('vomit', 0.2722880244255066),\n",
       " ('punching', 0.2709498703479767),\n",
       " ('burst', 0.2680802643299103),\n",
       " ('gulps', 0.2678743600845337),\n",
       " ('curl', 0.262950599193573)]"
      ]
     },
     "execution_count": 154,
     "metadata": {},
     "output_type": "execute_result"
    }
   ],
   "source": [
    "model.wv.most_similar(positive=['cry', 'frustration'], negative=['sad'], topn=20)\n",
    "# model2.wv.most_similar(positive=['cry', 'frustration'], negative=['sad'], topn=20)\n"
   ]
  },
  {
   "cell_type": "code",
   "execution_count": 125,
   "metadata": {},
   "outputs": [
    {
     "data": {
      "text/plain": [
       "[('anger', 0.43362170457839966),\n",
       " ('rage', 0.40245386958122253),\n",
       " ('scream', 0.3819226920604706),\n",
       " ('wail', 0.3624647855758667),\n",
       " ('frustrations', 0.35270392894744873),\n",
       " ('resentment', 0.3517230153083801),\n",
       " ('crying', 0.3339613378047943),\n",
       " ('groan', 0.3325698971748352),\n",
       " ('hatred', 0.3315785825252533),\n",
       " ('bawl', 0.33156394958496094),\n",
       " ('drench', 0.33120957016944885),\n",
       " ('whimper', 0.3275694251060486),\n",
       " ('cried', 0.32559311389923096),\n",
       " ('shear', 0.325377494096756),\n",
       " ('unleash', 0.3189791440963745),\n",
       " ('curdling', 0.31834590435028076),\n",
       " ('saddnes', 0.3181757628917694),\n",
       " ('defensiveness', 0.317504346370697),\n",
       " ('overflows', 0.31660544872283936),\n",
       " ('pent', 0.3139970898628235)]"
      ]
     },
     "execution_count": 125,
     "metadata": {},
     "output_type": "execute_result"
    }
   ],
   "source": [
    "model2.wv.most_similar(positive=['cry', 'frustration'], negative=['sad'], topn=20)\n"
   ]
  },
  {
   "cell_type": "code",
   "execution_count": 42,
   "metadata": {},
   "outputs": [
    {
     "data": {
      "text/plain": [
       "[('crying', 0.39194464683532715),\n",
       " ('nervous', 0.38030683994293213),\n",
       " ('hyperventilate', 0.3797268867492676),\n",
       " ('cried', 0.356989324092865),\n",
       " ('panicky', 0.35588353872299194),\n",
       " ('shakey', 0.33299189805984497),\n",
       " ('sobbing', 0.328744113445282),\n",
       " ('bawl', 0.32808876037597656),\n",
       " ('heaving', 0.31815457344055176),\n",
       " ('attacks', 0.3146486282348633),\n",
       " ('startle', 0.3142939507961273),\n",
       " ('crouch', 0.3120366930961609),\n",
       " ('nausious', 0.3094452917575836),\n",
       " ('panic', 0.306612104177475),\n",
       " ('scream', 0.30297374725341797),\n",
       " ('heave', 0.3026064932346344),\n",
       " ('retch', 0.3016483783721924),\n",
       " ('hyperventilated', 0.29968297481536865),\n",
       " ('spazzing', 0.2962726056575775),\n",
       " ('weeping', 0.2943868041038513)]"
      ]
     },
     "execution_count": 42,
     "metadata": {},
     "output_type": "execute_result"
    }
   ],
   "source": [
    "model2.wv.most_similar(positive=['cry', 'anxious'], negative=['sad'], topn=20)\n"
   ]
  },
  {
   "cell_type": "code",
   "execution_count": 41,
   "metadata": {},
   "outputs": [
    {
     "data": {
      "text/plain": [
       "[('nervous', 0.3819749355316162),\n",
       " ('sweat', 0.3713247776031494),\n",
       " ('scream', 0.367182195186615),\n",
       " ('vomit', 0.36197972297668457),\n",
       " ('crying', 0.35808974504470825),\n",
       " ('nauseous', 0.35409674048423767),\n",
       " ('hyperventilate', 0.33382436633110046),\n",
       " ('throw', 0.3329312205314636),\n",
       " ('panicky', 0.33205458521842957),\n",
       " ('tremble', 0.3284249007701874),\n",
       " ('thrash', 0.3222140967845917),\n",
       " ('squirm', 0.31927067041397095),\n",
       " ('worry', 0.3176902234554291),\n",
       " ('panicked', 0.3168250620365143),\n",
       " ('panicking', 0.3159446716308594),\n",
       " ('seizes', 0.31565237045288086),\n",
       " ('restlessly', 0.3155618906021118),\n",
       " ('tears', 0.30303144454956055),\n",
       " ('bawl', 0.3029019832611084),\n",
       " ('defecate', 0.29996174573898315)]"
      ]
     },
     "execution_count": 41,
     "metadata": {},
     "output_type": "execute_result"
    }
   ],
   "source": [
    "# model.most_similar(positive=['paris', 'australia'], negative=['france'], topn=10)\n",
    "model.wv.most_similar(positive=['cry', 'anxious'], negative=['sad'], topn=20)\n",
    "# print()\n",
    "# print(model2.wv.most_similar(positive=['cry', 'nervous'], negative=['sad'], topn=20))\n",
    "\n",
    "# diff = model.wv['psychiatrist'] - model.wv['therapist']\n",
    "# diff2 = model2.wv['psychiatrist'] - model2.wv['therapist']\n",
    "# print(model.wv.similar_by_vector(diff,topn=10))\n",
    "# print()\n",
    "# print(model2.wv.similar_by_vector(diff2,topn=10))"
   ]
  },
  {
   "cell_type": "code",
   "execution_count": 458,
   "metadata": {},
   "outputs": [
    {
     "data": {
      "text/plain": [
       "[('addict', 0.6733916401863098),\n",
       " ('alcoholic', 0.4120483696460724),\n",
       " ('alcholic', 0.3180551826953888),\n",
       " ('alchoholic', 0.2982047498226166),\n",
       " ('junkie', 0.2741677761077881),\n",
       " ('enabler', 0.2727421820163727),\n",
       " ('freeloader', 0.2725487947463989),\n",
       " ('abuser', 0.26774370670318604),\n",
       " ('stalker', 0.2676283121109009),\n",
       " ('shithead', 0.26650702953338623),\n",
       " ('fuckwit', 0.2555328905582428),\n",
       " ('orphan', 0.25468891859054565),\n",
       " ('seeker', 0.25299978256225586),\n",
       " ('drunkard', 0.24964818358421326),\n",
       " ('mouthed', 0.24752940237522125),\n",
       " ('narcissist', 0.24744683504104614),\n",
       " ('psychopathic', 0.24710029363632202),\n",
       " ('manipulator', 0.2415054440498352),\n",
       " ('wanker', 0.23988217115402222),\n",
       " ('lier', 0.23946475982666016)]"
      ]
     },
     "execution_count": 458,
     "metadata": {},
     "output_type": "execute_result"
    }
   ],
   "source": [
    "diff = model2.wv['addict'] - model2.wv['drugs']\n",
    "model2.wv.similar_by_vector(diff,topn=20)"
   ]
  },
  {
   "cell_type": "code",
   "execution_count": 89,
   "metadata": {},
   "outputs": [
    {
     "name": "stdout",
     "output_type": "stream",
     "text": [
      "[('drug', 0.469160795211792), ('alcoholic', 0.46443772315979004), ('heroin', 0.43080058693885803), ('addiction', 0.4193027913570404), ('druggie', 0.3963623642921448), ('opiate', 0.3945620656013489), ('meth', 0.39068734645843506), ('abuse', 0.355867475271225), ('enabler', 0.3490749001502991), ('addicts', 0.34255698323249817), ('methadone', 0.3423783779144287), ('seeker', 0.3361815810203552), ('oxycodone', 0.33102577924728394), ('junkie', 0.327989399433136), ('addicted', 0.32739943265914917), ('abused', 0.32622241973876953), ('alcoholics', 0.3261690139770508), ('felon', 0.3255310654640198), ('alcoholism', 0.32128578424453735), ('narcotics', 0.31861862540245056), ('suboxone', 0.3161890208721161), ('heroine', 0.30493849515914917), ('porn', 0.3038252592086792), ('methamphetamine', 0.30095574259757996), ('smoker', 0.2991180419921875), ('drinker', 0.2989364564418793), ('complainer', 0.29300469160079956), ('idiot', 0.2919292151927948), ('crutch', 0.2909916043281555), ('drugs', 0.2870754301548004), ('opiates', 0.2854071855545044), ('asshole', 0.28505825996398926), ('phenibut', 0.28473323583602905), ('benzos', 0.28427281975746155), ('addictiveness', 0.28363415598869324), ('promiscuous', 0.2829623222351074), ('withered', 0.2820613384246826), ('barbiturates', 0.2817447781562805), ('felony', 0.28164172172546387), ('fundamentalist', 0.2816343903541565), ('faker', 0.28020161390304565), ('addictive', 0.27861565351486206), ('narcissist', 0.2780877351760864), ('abusive', 0.2779051661491394), ('deadbeat', 0.2775906026363373), ('user', 0.2775333523750305), ('salesperson', 0.2767191529273987), ('unprescribed', 0.2762962877750397), ('mmm', 0.27586159110069275), ('phishing', 0.27568602561950684)]\n"
     ]
    }
   ],
   "source": [
    "print(model.wv.most_similar(['addict'], topn=50))"
   ]
  },
  {
   "cell_type": "code",
   "execution_count": 90,
   "metadata": {},
   "outputs": [
    {
     "data": {
      "text/plain": [
       "[('alcoholic', 0.7425734996795654),\n",
       " ('abusive', 0.3379460871219635),\n",
       " ('addict', 0.2977589964866638),\n",
       " ('arguement', 0.27292490005493164),\n",
       " ('scammed', 0.2637854218482971),\n",
       " ('narcissistic', 0.26005345582962036),\n",
       " ('dad', 0.25782108306884766),\n",
       " ('divorced', 0.2562631070613861),\n",
       " ('father', 0.24566684663295746),\n",
       " ('stepdad', 0.24473626911640167)]"
      ]
     },
     "execution_count": 90,
     "metadata": {},
     "output_type": "execute_result"
    }
   ],
   "source": [
    "diff = model.wv['alcoholic'] - model.wv['alcohol']\n",
    "model.wv.similar_by_vector(diff,topn=10)\n"
   ]
  },
  {
   "cell_type": "code",
   "execution_count": 180,
   "metadata": {},
   "outputs": [
    {
     "data": {
      "text/plain": [
       "[('addict', 0.6733916401863098),\n",
       " ('alcoholic', 0.4120483696460724),\n",
       " ('alcholic', 0.3180551826953888),\n",
       " ('alchoholic', 0.2982047498226166),\n",
       " ('junkie', 0.2741677761077881),\n",
       " ('enabler', 0.2727421820163727),\n",
       " ('freeloader', 0.2725487947463989),\n",
       " ('abuser', 0.26774370670318604),\n",
       " ('stalker', 0.2676283121109009),\n",
       " ('shithead', 0.26650702953338623),\n",
       " ('fuckwit', 0.2555328905582428),\n",
       " ('orphan', 0.25468891859054565),\n",
       " ('seeker', 0.25299978256225586),\n",
       " ('drunkard', 0.24964818358421326),\n",
       " ('mouthed', 0.24752940237522125),\n",
       " ('narcissist', 0.24744683504104614),\n",
       " ('psychopathic', 0.24710029363632202),\n",
       " ('manipulator', 0.2415054440498352),\n",
       " ('wanker', 0.23988217115402222),\n",
       " ('lier', 0.23946475982666016)]"
      ]
     },
     "execution_count": 180,
     "metadata": {},
     "output_type": "execute_result"
    }
   ],
   "source": [
    "# man_wom = model.wv['sex'] - model.wv['partner'] \n",
    "# model.wv.similar_by_vector(man_wom,topn=20)\n",
    "man_wom = model2.wv['addict'] - model2.wv['drugs'] \n",
    "model2.wv.similar_by_vector(man_wom,topn=20)"
   ]
  },
  {
   "cell_type": "code",
   "execution_count": 30,
   "metadata": {
    "scrolled": true
   },
   "outputs": [
    {
     "data": {
      "text/plain": [
       "[('home', 0.6776692271232605),\n",
       " ('house', 0.2571713924407959),\n",
       " ('hometown', 0.2533918619155884),\n",
       " ('apartment', 0.2508479356765747),\n",
       " ('courthouse', 0.24342043697834015),\n",
       " ('nebraska', 0.24190139770507812),\n",
       " ('donuts', 0.2303203046321869),\n",
       " ('wawa', 0.22885316610336304),\n",
       " ('hotel', 0.22734153270721436),\n",
       " ('detour', 0.22647640109062195),\n",
       " ('explorer', 0.22098472714424133),\n",
       " ('kilometers', 0.21982544660568237),\n",
       " ('overseas', 0.21878460049629211),\n",
       " ('nans', 0.2183181643486023),\n",
       " ('dunkin', 0.21745258569717407),\n",
       " ('mns', 0.21161328256130219),\n",
       " ('wales', 0.21135979890823364),\n",
       " ('tram', 0.21128252148628235),\n",
       " ('angie', 0.21119913458824158),\n",
       " ('car', 0.21045488119125366)]"
      ]
     },
     "execution_count": 30,
     "metadata": {},
     "output_type": "execute_result"
    }
   ],
   "source": [
    "man_wom = model.wv['home'] - model.wv['good'] \n",
    "model.wv.similar_by_vector(man_wom,topn=20)\n",
    "# names = []\n",
    "# vals = []\n",
    "\n",
    "# for item in simvecs:\n",
    "#     names.append(item[0])\n",
    "#     vals.append(item[1])\n",
    "\n",
    "\n",
    "    \n",
    "# man_wom2 = model2.wv['addict'] - model2.wv['drugs'] \n",
    "# simvecs2 = model2.wv.similar_by_vector(man_wom2,topn=20)\n",
    "# names2 = []\n",
    "# vals2 = []\n",
    "\n",
    "# for item in simvecs2:\n",
    "#     names2.append(item[0])\n",
    "#     vals2.append(item[1])\n",
    "    \n",
    "    "
   ]
  },
  {
   "cell_type": "code",
   "execution_count": 462,
   "metadata": {},
   "outputs": [],
   "source": [
    "# fig, ax = plt.subplots(figsize=[10, 8])\n",
    "# plt.title('addict - drugs', color='white', fontsize=15)\n",
    "# ax.barh(names2[::-2], vals2[::-2], color = 'orange')\n",
    "\n",
    "# ax.axes.tick_params(axis=\"y\", colors='white', labelsize=15)\n",
    "# ax.axes.tick_params(axis=\"x\", colors=\"white\", labelsize=10)\n",
    "# plt.savefig('graph3.png', transparent=True, dpi=300)"
   ]
  },
  {
   "cell_type": "code",
   "execution_count": 460,
   "metadata": {},
   "outputs": [
    {
     "data": {
      "text/plain": [
       "['addict',\n",
       " 'alcoholic',\n",
       " 'alcholic',\n",
       " 'alchoholic',\n",
       " 'junkie',\n",
       " 'enabler',\n",
       " 'freeloader',\n",
       " 'abuser',\n",
       " 'stalker',\n",
       " 'shithead',\n",
       " 'fuckwit',\n",
       " 'orphan',\n",
       " 'seeker',\n",
       " 'drunkard',\n",
       " 'mouthed',\n",
       " 'narcissist',\n",
       " 'psychopathic',\n",
       " 'manipulator',\n",
       " 'wanker',\n",
       " 'lier']"
      ]
     },
     "execution_count": 460,
     "metadata": {},
     "output_type": "execute_result"
    }
   ],
   "source": [
    "names2"
   ]
  },
  {
   "cell_type": "code",
   "execution_count": 450,
   "metadata": {},
   "outputs": [],
   "source": [
    "\n",
    "fig, ax = plt.subplots(figsize=[10, 8])\n",
    "plt.title('addiction - drugs', color='white', fontsize=15)\n",
    "ax.barh(names[::-2], vals[::-2], color = 'orange')\n",
    "\n",
    "ax.axes.tick_params(axis=\"y\", colors='white', labelsize=15)\n",
    "ax.axes.tick_params(axis=\"x\", colors=\"white\", labelsize=10)\n",
    "plt.savefig('graph2.png', transparent=True, dpi=300)"
   ]
  },
  {
   "cell_type": "code",
   "execution_count": 46,
   "metadata": {},
   "outputs": [
    {
     "data": {
      "text/plain": [
       "[('need', 0.5421233177185059),\n",
       " ('needed', 0.4064671993255615),\n",
       " ('needing', 0.3301694989204407),\n",
       " ('reassurance', 0.27454960346221924),\n",
       " ('needs', 0.269459992647171),\n",
       " ('urgently', 0.2560148239135742),\n",
       " ('brotha', 0.25420570373535156),\n",
       " ('assurance', 0.2503100633621216),\n",
       " ('necessary', 0.2470582127571106),\n",
       " ('guidance', 0.24680472910404205),\n",
       " ('profesional', 0.23446135222911835),\n",
       " ('unbiased', 0.2293991595506668),\n",
       " ('relocation', 0.2289716601371765),\n",
       " ('commiseration', 0.22886931896209717),\n",
       " ('urgent', 0.22775787115097046),\n",
       " ('asinine', 0.2271844744682312),\n",
       " ('glean', 0.2233790159225464),\n",
       " ('saught', 0.22306659817695618),\n",
       " ('counceling', 0.22179396450519562),\n",
       " ('tipps', 0.22020339965820312)]"
      ]
     },
     "execution_count": 46,
     "metadata": {},
     "output_type": "execute_result"
    }
   ],
   "source": [
    "man_wom = model.wv['need'] - model.wv['want'] \n",
    "model.wv.similar_by_vector(man_wom,topn=20)"
   ]
  },
  {
   "cell_type": "code",
   "execution_count": 93,
   "metadata": {},
   "outputs": [
    {
     "data": {
      "text/plain": [
       "[('die', 0.3843366503715515),\n",
       " ('died', 0.38023027777671814),\n",
       " ('dying', 0.3480793237686157),\n",
       " ('killed', 0.33431774377822876),\n",
       " ('perry', 0.32132482528686523),\n",
       " ('farce', 0.30476123094558716),\n",
       " ('bundling', 0.29651960730552673),\n",
       " ('frigid', 0.2954271733760834),\n",
       " ('cremated', 0.2945195436477661),\n",
       " ('clutched', 0.29045289754867554),\n",
       " ('spaniel', 0.29021742939949036),\n",
       " ('motionless', 0.28876975178718567),\n",
       " ('splinters', 0.2875170111656189),\n",
       " ('corpse', 0.28733059763908386),\n",
       " ('beetle', 0.2857452929019928),\n",
       " ('deer', 0.28557074069976807),\n",
       " ('bombshell', 0.28502655029296875),\n",
       " ('reborn', 0.28432855010032654),\n",
       " ('mining', 0.28151267766952515),\n",
       " ('collapses', 0.2803266942501068)]"
      ]
     },
     "execution_count": 93,
     "metadata": {},
     "output_type": "execute_result"
    }
   ],
   "source": [
    "model.wv.most_similar('dead', topn=20)"
   ]
  },
  {
   "cell_type": "code",
   "execution_count": 276,
   "metadata": {},
   "outputs": [
    {
     "data": {
      "text/plain": [
       "[('friend', 0.5932840704917908),\n",
       " ('roommate', 0.29324641823768616),\n",
       " ('coworker', 0.2641681432723999),\n",
       " ('cousin', 0.24512945115566254),\n",
       " ('invited', 0.23886226117610931),\n",
       " ('friends', 0.23793013393878937),\n",
       " ('classmate', 0.23626333475112915),\n",
       " ('guest', 0.22579124569892883),\n",
       " ('acquaintance', 0.2181546986103058),\n",
       " ('roommates', 0.2178659439086914),\n",
       " ('colleague', 0.21560321748256683),\n",
       " ('bff', 0.21553850173950195),\n",
       " ('mates', 0.2144087851047516),\n",
       " ('snitch', 0.21318280696868896),\n",
       " ('member', 0.21312469244003296),\n",
       " ('buddy', 0.2110852301120758),\n",
       " ('boyfriend', 0.21022632718086243),\n",
       " ('sister', 0.20855426788330078),\n",
       " ('mom', 0.20567438006401062),\n",
       " ('ra', 0.20301009714603424)]"
      ]
     },
     "execution_count": 276,
     "metadata": {},
     "output_type": "execute_result"
    }
   ],
   "source": [
    "man_wom = model.wv['friend'] - model.wv['love']\n",
    "model.wv.similar_by_vector(man_wom,topn=20)"
   ]
  },
  {
   "cell_type": "code",
   "execution_count": 277,
   "metadata": {},
   "outputs": [
    {
     "data": {
      "text/plain": [
       "[('gender', 0.6417267918586731),\n",
       " ('dysphoria', 0.21997776627540588),\n",
       " ('cultures', 0.1915351152420044),\n",
       " ('girls', 0.18292824923992157),\n",
       " ('germs', 0.17764028906822205),\n",
       " ('boys', 0.17688800394535065),\n",
       " ('hygienist', 0.1764385849237442),\n",
       " ('causal', 0.1757318377494812),\n",
       " ('nonbinary', 0.17540894448757172),\n",
       " ('asian', 0.1744622141122818),\n",
       " ('women', 0.1737489104270935),\n",
       " ('websites', 0.17140163481235504),\n",
       " ('shoved', 0.17010046541690826),\n",
       " ('virgin', 0.16930550336837769),\n",
       " ('outrageous', 0.16813811659812927),\n",
       " ('location', 0.16515594720840454),\n",
       " ('halter', 0.16500529646873474),\n",
       " ('conservative', 0.16415444016456604),\n",
       " ('nonchalant', 0.16408485174179077),\n",
       " ('patron', 0.1637495458126068)]"
      ]
     },
     "execution_count": 277,
     "metadata": {},
     "output_type": "execute_result"
    }
   ],
   "source": [
    "man_wom = model.wv['gender'] - model.wv['identity'] \n",
    "model.wv.similar_by_vector(man_wom,topn=20)"
   ]
  },
  {
   "cell_type": "code",
   "execution_count": 98,
   "metadata": {},
   "outputs": [],
   "source": [
    "# psych = model.wv['pyschiatrist']\n",
    "# meds = model.wv['meds']\n"
   ]
  },
  {
   "cell_type": "code",
   "execution_count": 204,
   "metadata": {},
   "outputs": [],
   "source": [
    "# doc_model = gensim.models.doc2vec.Doc2Vec(vector_size=50, min_count=2, epochs=40)\n",
    "# doc_model"
   ]
  },
  {
   "cell_type": "code",
   "execution_count": 221,
   "metadata": {
    "scrolled": false
   },
   "outputs": [
    {
     "data": {
      "text/plain": [
       "0         my bday today. treated myself to a full cake. ...\n",
       "1         is it normal for depression to last so long? i...\n",
       "4         i need help hi it’s my first time here and i’m...\n",
       "5         morning depression i have really bad morning d...\n",
       "8         how about those grandparents !!! yesterday was...\n",
       "                                ...                        \n",
       "199989    how dare they i'm 21. struggled with depressio...\n",
       "199991    my depression but make it sexual assault lol w...\n",
       "199996    its been 140 days its been 140 since my attemp...\n",
       "199997    i wish i could teleport back to the old ages. ...\n",
       "199998    i don’t want to do anything i have an exam on ...\n",
       "Name: text_title, Length: 117378, dtype: object"
      ]
     },
     "execution_count": 221,
     "metadata": {},
     "output_type": "execute_result"
    }
   ],
   "source": [
    "df_full.text_title"
   ]
  },
  {
   "cell_type": "code",
   "execution_count": null,
   "metadata": {},
   "outputs": [],
   "source": []
  },
  {
   "cell_type": "code",
   "execution_count": 374,
   "metadata": {
    "scrolled": true
   },
   "outputs": [],
   "source": [
    "# # anxiety = model.wv['anxious']\n",
    "# import seaborn as sns\n",
    "\n",
    "# sns.set_theme(style=\"whitegrid\")\n",
    "# a = model.wv['psychiatrist']\n",
    "# b = model.wv['prescribed']\n",
    "\n",
    "# x = a - b\n",
    "\n",
    "# x2 = model.wv['therapist']\n",
    "\n",
    "# # fig = plt.figure(figsize=[15,15])\n",
    "# # ax = ax.gca(projection='3d')\n",
    "# fig, ax = plt.subplots(figsize=[10, 8])\n",
    "# V = np.array([a, b, x2])\n",
    "# origin = np.array([[0, 0, 0],[0, 0, 0]]) # origin point\n",
    "\n",
    "# ax.quiver(*origin, V[:,0], V[:,1], color=['r','b','g'], scale=.7)\n",
    "# # plt.xlim([-.002, .002])\n",
    "# # plt.show()\n",
    "# # model.wv.similar_by_vector(x)\n",
    "\n",
    "# ax.axes.tick_params(axis=\"y\", colors='white', labelsize=10)\n",
    "# ax.axes.tick_params(axis=\"x\", colors=\"white\", labelsize=10)\n",
    "# plt.grid(False)\n",
    "# plt.savefig('vecs.png', transparent=True, dpi=300)\n"
   ]
  },
  {
   "cell_type": "code",
   "execution_count": 257,
   "metadata": {},
   "outputs": [],
   "source": [
    "# x, y  = [1, 2, 3], [0.5, 0.5, 0.5]\n",
    "# u1,v1 = np.random.randn(3), np.random.randn(3)\n",
    "# u2,v2 = np.random.randn(3), np.random.randn(3)\n",
    "# u3,v3 = np.random.randn(3), np.random.randn(3)\n",
    "\n",
    "# QV1 = plt.quiver(x, y, u1, v1, color='r')\n",
    "# QV2 = plt.quiver(x, y, u2, v2, color='b')\n",
    "# QV3 = plt.quiver(x, y, u3, v3, color='g')"
   ]
  },
  {
   "cell_type": "code",
   "execution_count": 136,
   "metadata": {},
   "outputs": [],
   "source": [
    "zero = np.zeros(400,)"
   ]
  },
  {
   "cell_type": "code",
   "execution_count": 225,
   "metadata": {},
   "outputs": [],
   "source": [
    "from gensim.models.doc2vec import Doc2Vec, TaggedDocument\n",
    "from nltk.tokenize import word_tokenize\n",
    "\n",
    "documents = df_reset.text_title\n",
    "tokenized_docs = [gensim.utils.simple_preprocess(d) for d in documents]\n",
    "\n",
    "# data = df_full.text_title\n",
    "\n",
    "# tagged_data = [TaggedDocument(words=word_tokenize(_d.lower()), tags=[str(i)]) for i, _d in enumerate(data)]\n",
    "# tagged_data[1:10]"
   ]
  },
  {
   "cell_type": "code",
   "execution_count": null,
   "metadata": {},
   "outputs": [],
   "source": [
    "# model= Doc2Vec.load(\"d2v.model\")"
   ]
  },
  {
   "cell_type": "code",
   "execution_count": 1437,
   "metadata": {},
   "outputs": [],
   "source": [
    "# tag documents\n",
    "data = df_reset.text_title   \n",
    "docs = []\n",
    "for i, doc in enumerate(data):\n",
    "    docs.append(TaggedDocument(words=doc.split(), tags=[str(i)]))"
   ]
  },
  {
   "cell_type": "code",
   "execution_count": 1438,
   "metadata": {},
   "outputs": [
    {
     "data": {
      "text/plain": [
       "60111"
      ]
     },
     "execution_count": 1438,
     "metadata": {},
     "output_type": "execute_result"
    }
   ],
   "source": [
    "# tagged_data[1:10]\n",
    "len(docs)"
   ]
  },
  {
   "cell_type": "code",
   "execution_count": 1483,
   "metadata": {},
   "outputs": [],
   "source": [
    "# define parameters for doc2vec\n",
    "doc_model = gensim.models.Doc2Vec(\n",
    "                                  vector_size=300,\n",
    "                                  window=5,\n",
    "                                  min_count=5,\n",
    "                                  workers=cores,\n",
    "                                  epochs=35,\n",
    "                                  alpha=.025,\n",
    "                                  min_alpha = 0.0001)\n",
    "doc_model.build_vocab(docs)"
   ]
  },
  {
   "cell_type": "code",
   "execution_count": 1484,
   "metadata": {},
   "outputs": [],
   "source": [
    "# train model\n",
    "doc_model.train(docs, total_examples=model.corpus_count, epochs=model.epochs)"
   ]
  },
  {
   "cell_type": "code",
   "execution_count": 1485,
   "metadata": {},
   "outputs": [
    {
     "data": {
      "text/plain": [
       "['0']"
      ]
     },
     "execution_count": 1485,
     "metadata": {},
     "output_type": "execute_result"
    }
   ],
   "source": [
    "docs[0].tags"
   ]
  },
  {
   "cell_type": "code",
   "execution_count": 763,
   "metadata": {},
   "outputs": [],
   "source": [
    "# ranks = []\n",
    "# second_ranks = []\n",
    "# for doc_id in range(len(docs)):\n",
    "#     inferred_vector = doc_model.infer_vector(docs[doc_id].words)\n",
    "#     sims = doc_model.docvecs.most_similar([inferred_vector], topn=len(doc_model.docvecs))\n",
    "#     rank = [docid for docid, sim in sims].index(str(doc_id))\n",
    "#     ranks.append(rank)\n",
    "\n",
    "#     second_ranks.append(sims[1])"
   ]
  },
  {
   "cell_type": "code",
   "execution_count": 764,
   "metadata": {},
   "outputs": [],
   "source": [
    "# import collections\n",
    "\n",
    "# counter = collections.Counter(ranks)\n",
    "# print(counter)"
   ]
  },
  {
   "cell_type": "code",
   "execution_count": 594,
   "metadata": {},
   "outputs": [],
   "source": [
    "# doc_model.save(\"doc2vec.model\")"
   ]
  },
  {
   "cell_type": "code",
   "execution_count": 1489,
   "metadata": {},
   "outputs": [],
   "source": [
    "testing = \"\"\"\n",
    "Does anyone else get bothered when people say they’re feeling manic or acting manic when they’re not bipolar?\n",
    "I just got diagnosed this year with bipolar 2. It really bothers me when people say they’re going manic or acting it when they’re not bi polar at all. Or when people say they’re bi polar just because they’re in a mood.\n",
    "\n",
    "Don’t mind me. Just venting away as I snack lol\n",
    "\"\"\"\n",
    "testing = gensim.utils.simple_preprocess(testing)"
   ]
  },
  {
   "cell_type": "code",
   "execution_count": 1490,
   "metadata": {},
   "outputs": [],
   "source": [
    "# doc2vec_best = gensim.models.Word2Vec.load(\"models/doc2vec.model\")"
   ]
  },
  {
   "cell_type": "code",
   "execution_count": 1491,
   "metadata": {},
   "outputs": [
    {
     "data": {
      "text/plain": [
       "[('10951', 0.5179792046546936),\n",
       " ('43157', 0.5052784085273743),\n",
       " ('54200', 0.4878782033920288),\n",
       " ('30806', 0.4802919924259186),\n",
       " ('58801', 0.4742465913295746),\n",
       " ('912', 0.473446249961853),\n",
       " ('43760', 0.47278130054473877),\n",
       " ('29264', 0.47181829810142517),\n",
       " ('6909', 0.47102224826812744),\n",
       " ('19415', 0.4650293290615082)]"
      ]
     },
     "execution_count": 1491,
     "metadata": {},
     "output_type": "execute_result"
    }
   ],
   "source": [
    "# from gensim.models.doc2vec import Doc2Vec\n",
    "new_vector = doc_model.infer_vector(testing)\n",
    "sims = doc_model.docvecs.most_similar([new_vector])\n",
    "sims\n"
   ]
  },
  {
   "cell_type": "code",
   "execution_count": 1492,
   "metadata": {},
   "outputs": [
    {
     "data": {
      "text/plain": [
       "[('180494', 0.39420461654663086),\n",
       " ('175533', 0.38218963146209717),\n",
       " ('140476', 0.37668436765670776),\n",
       " ('75540', 0.3756507635116577),\n",
       " ('55942', 0.3647383749485016),\n",
       " ('141121', 0.3565114736557007),\n",
       " ('28763', 0.3537557125091553),\n",
       " ('37483', 0.3517759442329407),\n",
       " ('163016', 0.34997788071632385),\n",
       " ('59592', 0.3493573069572449)]"
      ]
     },
     "execution_count": 1492,
     "metadata": {},
     "output_type": "execute_result"
    }
   ],
   "source": [
    "# from gensim.models.doc2vec import Doc2Vec\n",
    "# new_vector = doc2vec_best.infer_vector(testing)\n",
    "# sims = doc2vec_best.docvecs.most_similar([new_vector])\n",
    "# sims"
   ]
  },
  {
   "cell_type": "code",
   "execution_count": 1495,
   "metadata": {},
   "outputs": [
    {
     "data": {
      "text/plain": [
       "'extreme breakdowns when hungry asking for a friend: usually a calm, happy, enthusiastic person. but when they get hungry, they get extremely angry and irritated. they begin to get irrational thoughts and self-describe as \"my life feels like shit\" and feel hopeless. they describe these incidents as traumatic. they don\\'t want to be around people or do anything. this happens when even mildly not eating enough- like after 2-3 hours after a meal. what could this be?'"
      ]
     },
     "execution_count": 1495,
     "metadata": {},
     "output_type": "execute_result"
    }
   ],
   "source": [
    "' '.join(docs[43157][0])"
   ]
  },
  {
   "cell_type": "code",
   "execution_count": null,
   "metadata": {},
   "outputs": [],
   "source": [
    "# ranks = []\n",
    "# second_ranks = []\n",
    "# for doc_id in range(len(tagged_data)):\n",
    "#     inferred_vector = doc_model.infer_vector(tagged_data[doc_id].words)\n",
    "#     sims = doc_model.docvecs.most_similar([inferred_vector], topn=len(doc_model.docvecs))\n",
    "#     rank = [docid for docid, sim in sims].index(doc_id)\n",
    "#     ranks.append(rank)\n",
    "\n",
    "#     second_ranks.append(sims[1])"
   ]
  },
  {
   "cell_type": "code",
   "execution_count": 1290,
   "metadata": {},
   "outputs": [
    {
     "ename": "TypeError",
     "evalue": "'method' object is not subscriptable",
     "output_type": "error",
     "traceback": [
      "\u001b[0;31m---------------------------------------------------------------------------\u001b[0m",
      "\u001b[0;31mTypeError\u001b[0m                                 Traceback (most recent call last)",
      "\u001b[0;32m<ipython-input-1290-afb6c2eaebdf>\u001b[0m in \u001b[0;36m<module>\u001b[0;34m\u001b[0m\n\u001b[0;32m----> 1\u001b[0;31m \u001b[0mdoc_model\u001b[0m\u001b[0;34m.\u001b[0m\u001b[0mmost_similar\u001b[0m\u001b[0;34m[\u001b[0m\u001b[0;34m'hate'\u001b[0m\u001b[0;34m]\u001b[0m\u001b[0;34m\u001b[0m\u001b[0;34m\u001b[0m\u001b[0m\n\u001b[0m",
      "\u001b[0;31mTypeError\u001b[0m: 'method' object is not subscriptable"
     ]
    }
   ],
   "source": [
    "# doc_model.most_similar['hate']"
   ]
  },
  {
   "cell_type": "code",
   "execution_count": 534,
   "metadata": {},
   "outputs": [
    {
     "data": {
      "text/plain": [
       "['i',\n",
       " 'loved',\n",
       " 'her',\n",
       " 'so',\n",
       " 'much',\n",
       " 'she',\n",
       " 'meant',\n",
       " 'everything',\n",
       " 'to',\n",
       " 'me',\n",
       " '.',\n",
       " 'she',\n",
       " 'was',\n",
       " 'the',\n",
       " 'reason',\n",
       " 'i',\n",
       " 'got',\n",
       " 'up',\n",
       " 'in',\n",
       " 'the',\n",
       " 'morning',\n",
       " ',',\n",
       " 'the',\n",
       " 'reason',\n",
       " 'i',\n",
       " 'looked',\n",
       " 'forward',\n",
       " 'into',\n",
       " 'the',\n",
       " 'future',\n",
       " '.',\n",
       " 'she',\n",
       " 'was',\n",
       " 'the',\n",
       " 'only',\n",
       " 'person',\n",
       " 'i',\n",
       " 'could',\n",
       " 'truly',\n",
       " 'be',\n",
       " 'myself',\n",
       " 'with',\n",
       " '.',\n",
       " 'i',\n",
       " 'would',\n",
       " 'give',\n",
       " 'anything',\n",
       " 'to',\n",
       " 'go',\n",
       " 'back',\n",
       " 'to',\n",
       " 'the',\n",
       " 'times',\n",
       " 'we',\n",
       " 'were',\n",
       " 'still',\n",
       " 'together',\n",
       " '.',\n",
       " 'but',\n",
       " 'i',\n",
       " 'messed',\n",
       " 'up',\n",
       " 'too',\n",
       " 'bad',\n",
       " '.',\n",
       " 'since',\n",
       " 'one',\n",
       " 'of',\n",
       " 'her',\n",
       " 'relatives',\n",
       " 'died',\n",
       " 'she',\n",
       " 'became',\n",
       " 'depressed',\n",
       " 'and',\n",
       " 'i',\n",
       " 'did',\n",
       " \"n't\",\n",
       " 'realise',\n",
       " 'it',\n",
       " 'and',\n",
       " 'put',\n",
       " 'myself',\n",
       " 'as',\n",
       " 'a',\n",
       " 'priority',\n",
       " '.',\n",
       " 'worst',\n",
       " 'mistake',\n",
       " 'of',\n",
       " 'my',\n",
       " 'life',\n",
       " '.',\n",
       " 'and',\n",
       " 'i',\n",
       " 'did',\n",
       " 'this',\n",
       " 'multiple',\n",
       " 'times',\n",
       " 'without',\n",
       " 'realising',\n",
       " 'too',\n",
       " '.',\n",
       " 'i',\n",
       " 'deserve',\n",
       " 'that',\n",
       " 'she',\n",
       " 'broke',\n",
       " 'up',\n",
       " 'with',\n",
       " 'me',\n",
       " ',',\n",
       " 'i',\n",
       " 'deserve',\n",
       " 'this',\n",
       " 'depression',\n",
       " 'and',\n",
       " 'she',\n",
       " 'deserves',\n",
       " 'much',\n",
       " 'better',\n",
       " 'than',\n",
       " 'me',\n",
       " 'but',\n",
       " 'jesus',\n",
       " 'fucking',\n",
       " 'christ',\n",
       " 'the',\n",
       " 'shit',\n",
       " 'that',\n",
       " 'i',\n",
       " 'would',\n",
       " 'do',\n",
       " 'to',\n",
       " 'get',\n",
       " 'back',\n",
       " 'with',\n",
       " 'her',\n",
       " '....',\n",
       " 'i',\n",
       " 'hate',\n",
       " 'myself',\n",
       " 'and',\n",
       " 'my',\n",
       " 'life']"
      ]
     },
     "execution_count": 534,
     "metadata": {},
     "output_type": "execute_result"
    }
   ],
   "source": [
    "tagged_data[183903][0]"
   ]
  },
  {
   "cell_type": "code",
   "execution_count": 513,
   "metadata": {},
   "outputs": [
    {
     "data": {
      "text/plain": [
       "[('52459', 0.24828779697418213),\n",
       " ('3679', 0.2148471623659134),\n",
       " ('111671', 0.20974236726760864),\n",
       " ('116430', 0.20800384879112244),\n",
       " ('21543', 0.20616112649440765),\n",
       " ('69029', 0.20351946353912354),\n",
       " ('17204', 0.20307250320911407),\n",
       " ('78466', 0.20283262431621552),\n",
       " ('38693', 0.19461870193481445),\n",
       " ('94048', 0.19434437155723572)]"
      ]
     },
     "execution_count": 513,
     "metadata": {},
     "output_type": "execute_result"
    }
   ],
   "source": [
    "new_vector = doc_model.infer_vector(test)\n",
    "sims = doc_model.docvecs.most_similar([new_vector])\n",
    "sims"
   ]
  },
  {
   "cell_type": "code",
   "execution_count": 511,
   "metadata": {
    "scrolled": false
   },
   "outputs": [
    {
     "data": {
      "text/plain": [
       "TaggedDocument(words=['never', 'quite', 'understood', 'depression', '...', 'until', 'now', '.', 'i', '’', 've', 'literally', 'been', 'in', 'a', 'downward', 'spiral', 'mentally', 'since', 'september', '.', 'i', '’', 've', 'pushed', 'some', 'of', 'my', 'friends', 'away', 'over', 'time', '..', 'partly', 'because', 'i', 'felt', 'that', 'some', 'weren', '’', 't', 'really', 'my', 'friends', ',', 'but', 'others', 'jus', 'cause', 'life', 'takes', 'us', 'in', 'different', 'directions', '.', 'loneliness', 'is', 'something', 'i', '’', 've', 'come', 'to', 'accept', 'and', 'hate', '.', 'the', 'career', 'i', '’', 've', 'been', 'working', 'towards', 'feels', 'like', 'a', 'lost', 'cause', ',', 'and', 'i', 'fear', 'failing', 'out', 'of', 'grad', 'school', '.', 'i', '’', 've', 'never', 'felt', 'my', 'thoughts', 'get', 'so', 'interrupted', 'before', '.', 'interrupted', 'by', 'mainly', 'a', 'feeling', 'of', 'hopelessness', '.', 'i', 'find', 'no', 'passion', 'in', 'what', 'i', 'study', ',', 'and', 'school', 'has', 'robbed', 'me', 'of', 'so', 'much', '.', 'to', 'be', 'fair', ',', 'i', 'did', 'this', 'to', 'myself', 'since', 'i', 'actively', 'chose', 'to', 'enroll', '.', 'anxiety', 'and', 'doubt', 'have', 'slowly', 'crept', 'over', 'me', 'and', 'i', 'find', 'myself', 'getting', 'more', 'awkward', 'in', 'social', 'situations', '.', 'or', 'maybe', 'it', '’', 's', 'all', 'in', 'my', 'head', '...', 'all', 'i', 'know', 'is', 'that', 'i', 'feel', 'myself', 'unraveling', 'slowly', ',', 'and', 'i', 'find', 'myself', 'caring', 'less', 'and', 'less', 'that', 'i', 'am', 'with', 'each', 'day', '.', 'i', '’', 've', 'had', 'recurring', 'dreams', 'of', 'falling', '.', 'wishes', 'of', 'falling', '.', 'i', 'just', 'want', 'it', 'to', 'end', '.'], tags=['8160'])"
      ]
     },
     "execution_count": 511,
     "metadata": {},
     "output_type": "execute_result"
    }
   ],
   "source": [
    "tagged_data[8160]"
   ]
  },
  {
   "cell_type": "code",
   "execution_count": 259,
   "metadata": {},
   "outputs": [],
   "source": [
    "model = gensim.models.Word2Vec.load(\"models/anxiety2vec_full.model\")\n",
    "model2 = gensim.models.Word2Vec.load(\"models/depression2vec_full.model\")\n",
    "\n",
    "words = []\n",
    "counts =[]\n",
    "w2v = model\n",
    "for index in range(len(w2v.wv.index2word)):\n",
    "    word = w2v.wv.index2word[index]\n",
    "    words.append(word)\n",
    "    counts.append(w2v.wv.vocab[word].count)\n",
    "    \n",
    "# pd.DataFrame({'word':words, 'count':counts}).to_csv('tensor_data/anxiety/anxiety_meta.tsv', index=False,sep=' ' )\n",
    "\n",
    "import io\n",
    "\n",
    "# Vector file, `\\t` seperated the vectors and `\\n` seperate the words\n",
    "# \"\"\"\n",
    "# 0.1\\t0.2\\t0.5\\t0.9\n",
    "# 0.2\\t0.1\\t5.0\\t0.2\n",
    "# 0.4\\t0.1\\t7.0\\t0.8\n",
    "# \"\"\"\n",
    "\n",
    "path2 = '/Users/collinswestnedge/programming/project_05/tensor_data/anxiety/anxiety_'\n",
    "\n",
    "# out_v = io.open(path2+'vecs.tsv', 'w', encoding='utf-8')\n",
    "\n",
    "# Meta data file, `\\n` seperated word\n",
    "# \"\"\"\n",
    "# token1\n",
    "# token2\n",
    "# token3\n",
    "# \"\"\"\n",
    "# out_m = io.open(path2+'meta.tsv', 'w', encoding='utf-8')\n",
    "\n",
    "# Write meta file and vector file\n",
    "for index in range(len(w2v.wv.index2word)):\n",
    "    word = w2v.wv.index2word[index]\n",
    "    vec = w2v.wv.vectors[index]\n",
    "    count = w2v.wv.vocab[word].count\n",
    "#     out_m.write(word + \"\\n\")\n",
    "    out_v.write('\\t'.join([str(x) for x in vec]) + \"\\n\")\n",
    "out_v.close()\n",
    "out_m.close()"
   ]
  },
  {
   "cell_type": "code",
   "execution_count": 806,
   "metadata": {
    "scrolled": true
   },
   "outputs": [
    {
     "data": {
      "text/html": [
       "<div>\n",
       "<style scoped>\n",
       "    .dataframe tbody tr th:only-of-type {\n",
       "        vertical-align: middle;\n",
       "    }\n",
       "\n",
       "    .dataframe tbody tr th {\n",
       "        vertical-align: top;\n",
       "    }\n",
       "\n",
       "    .dataframe thead th {\n",
       "        text-align: right;\n",
       "    }\n",
       "</style>\n",
       "<table border=\"1\" class=\"dataframe\">\n",
       "  <thead>\n",
       "    <tr style=\"text-align: right;\">\n",
       "      <th></th>\n",
       "      <th>0</th>\n",
       "      <th>1</th>\n",
       "      <th>2</th>\n",
       "      <th>3</th>\n",
       "      <th>4</th>\n",
       "      <th>5</th>\n",
       "      <th>6</th>\n",
       "      <th>7</th>\n",
       "      <th>8</th>\n",
       "      <th>9</th>\n",
       "      <th>...</th>\n",
       "      <th>292</th>\n",
       "      <th>293</th>\n",
       "      <th>294</th>\n",
       "      <th>295</th>\n",
       "      <th>296</th>\n",
       "      <th>297</th>\n",
       "      <th>298</th>\n",
       "      <th>299</th>\n",
       "      <th>docs</th>\n",
       "      <th>num_comments</th>\n",
       "    </tr>\n",
       "  </thead>\n",
       "  <tbody>\n",
       "    <tr>\n",
       "      <th>0</th>\n",
       "      <td>-0.044936</td>\n",
       "      <td>0.520540</td>\n",
       "      <td>0.297664</td>\n",
       "      <td>-0.633278</td>\n",
       "      <td>-0.639522</td>\n",
       "      <td>1.324903</td>\n",
       "      <td>-0.572327</td>\n",
       "      <td>-0.123448</td>\n",
       "      <td>-1.326039</td>\n",
       "      <td>1.022799</td>\n",
       "      <td>...</td>\n",
       "      <td>1.476781</td>\n",
       "      <td>1.022502</td>\n",
       "      <td>0.630570</td>\n",
       "      <td>0.282395</td>\n",
       "      <td>-0.189325</td>\n",
       "      <td>0.277642</td>\n",
       "      <td>-0.254412</td>\n",
       "      <td>-0.453682</td>\n",
       "      <td>i miss having good days i'm looking at a reall...</td>\n",
       "      <td>4</td>\n",
       "    </tr>\n",
       "    <tr>\n",
       "      <th>1</th>\n",
       "      <td>-0.915679</td>\n",
       "      <td>0.197295</td>\n",
       "      <td>0.394015</td>\n",
       "      <td>-0.364234</td>\n",
       "      <td>0.008477</td>\n",
       "      <td>-0.170550</td>\n",
       "      <td>-0.080744</td>\n",
       "      <td>-0.664542</td>\n",
       "      <td>-1.037869</td>\n",
       "      <td>0.653916</td>\n",
       "      <td>...</td>\n",
       "      <td>0.256806</td>\n",
       "      <td>0.040021</td>\n",
       "      <td>-0.768031</td>\n",
       "      <td>-0.181038</td>\n",
       "      <td>-0.050529</td>\n",
       "      <td>0.544944</td>\n",
       "      <td>0.055534</td>\n",
       "      <td>-0.602254</td>\n",
       "      <td>i feel like i don't belong firstly i must say ...</td>\n",
       "      <td>3</td>\n",
       "    </tr>\n",
       "    <tr>\n",
       "      <th>2</th>\n",
       "      <td>-1.389762</td>\n",
       "      <td>0.417339</td>\n",
       "      <td>0.569990</td>\n",
       "      <td>0.131901</td>\n",
       "      <td>0.367433</td>\n",
       "      <td>0.128845</td>\n",
       "      <td>-0.341438</td>\n",
       "      <td>-0.608718</td>\n",
       "      <td>-0.395197</td>\n",
       "      <td>-0.190117</td>\n",
       "      <td>...</td>\n",
       "      <td>-0.292848</td>\n",
       "      <td>0.368557</td>\n",
       "      <td>1.021488</td>\n",
       "      <td>0.427908</td>\n",
       "      <td>-0.050864</td>\n",
       "      <td>-1.787373</td>\n",
       "      <td>-0.747154</td>\n",
       "      <td>-0.388342</td>\n",
       "      <td>i just read a post here someone on here said t...</td>\n",
       "      <td>0</td>\n",
       "    </tr>\n",
       "    <tr>\n",
       "      <th>3</th>\n",
       "      <td>-0.069560</td>\n",
       "      <td>0.432485</td>\n",
       "      <td>1.350291</td>\n",
       "      <td>-0.808754</td>\n",
       "      <td>-1.195333</td>\n",
       "      <td>0.878532</td>\n",
       "      <td>0.483246</td>\n",
       "      <td>0.614651</td>\n",
       "      <td>0.318892</td>\n",
       "      <td>0.881236</td>\n",
       "      <td>...</td>\n",
       "      <td>-1.459201</td>\n",
       "      <td>-1.160588</td>\n",
       "      <td>0.692426</td>\n",
       "      <td>-0.498555</td>\n",
       "      <td>0.001215</td>\n",
       "      <td>0.312774</td>\n",
       "      <td>0.623916</td>\n",
       "      <td>0.255476</td>\n",
       "      <td>everything is falling apart in life and i'm ti...</td>\n",
       "      <td>0</td>\n",
       "    </tr>\n",
       "    <tr>\n",
       "      <th>4</th>\n",
       "      <td>0.552676</td>\n",
       "      <td>0.075528</td>\n",
       "      <td>0.283143</td>\n",
       "      <td>-0.457708</td>\n",
       "      <td>0.237152</td>\n",
       "      <td>0.366468</td>\n",
       "      <td>-0.007420</td>\n",
       "      <td>0.031663</td>\n",
       "      <td>-0.646435</td>\n",
       "      <td>0.389935</td>\n",
       "      <td>...</td>\n",
       "      <td>-0.040199</td>\n",
       "      <td>0.328641</td>\n",
       "      <td>-0.713822</td>\n",
       "      <td>-0.428586</td>\n",
       "      <td>0.300699</td>\n",
       "      <td>0.446857</td>\n",
       "      <td>-0.438353</td>\n",
       "      <td>-0.583585</td>\n",
       "      <td>for the first time in 2 years i've started wan...</td>\n",
       "      <td>1</td>\n",
       "    </tr>\n",
       "  </tbody>\n",
       "</table>\n",
       "<p>5 rows × 302 columns</p>\n",
       "</div>"
      ],
      "text/plain": [
       "          0         1         2         3         4         5         6  \\\n",
       "0 -0.044936  0.520540  0.297664 -0.633278 -0.639522  1.324903 -0.572327   \n",
       "1 -0.915679  0.197295  0.394015 -0.364234  0.008477 -0.170550 -0.080744   \n",
       "2 -1.389762  0.417339  0.569990  0.131901  0.367433  0.128845 -0.341438   \n",
       "3 -0.069560  0.432485  1.350291 -0.808754 -1.195333  0.878532  0.483246   \n",
       "4  0.552676  0.075528  0.283143 -0.457708  0.237152  0.366468 -0.007420   \n",
       "\n",
       "          7         8         9  ...       292       293       294       295  \\\n",
       "0 -0.123448 -1.326039  1.022799  ...  1.476781  1.022502  0.630570  0.282395   \n",
       "1 -0.664542 -1.037869  0.653916  ...  0.256806  0.040021 -0.768031 -0.181038   \n",
       "2 -0.608718 -0.395197 -0.190117  ... -0.292848  0.368557  1.021488  0.427908   \n",
       "3  0.614651  0.318892  0.881236  ... -1.459201 -1.160588  0.692426 -0.498555   \n",
       "4  0.031663 -0.646435  0.389935  ... -0.040199  0.328641 -0.713822 -0.428586   \n",
       "\n",
       "        296       297       298       299  \\\n",
       "0 -0.189325  0.277642 -0.254412 -0.453682   \n",
       "1 -0.050529  0.544944  0.055534 -0.602254   \n",
       "2 -0.050864 -1.787373 -0.747154 -0.388342   \n",
       "3  0.001215  0.312774  0.623916  0.255476   \n",
       "4  0.300699  0.446857 -0.438353 -0.583585   \n",
       "\n",
       "                                                docs  num_comments  \n",
       "0  i miss having good days i'm looking at a reall...             4  \n",
       "1  i feel like i don't belong firstly i must say ...             3  \n",
       "2  i just read a post here someone on here said t...             0  \n",
       "3  everything is falling apart in life and i'm ti...             0  \n",
       "4  for the first time in 2 years i've started wan...             1  \n",
       "\n",
       "[5 rows x 302 columns]"
      ]
     },
     "execution_count": 806,
     "metadata": {},
     "output_type": "execute_result"
    }
   ],
   "source": []
  },
  {
   "cell_type": "code",
   "execution_count": 819,
   "metadata": {},
   "outputs": [
    {
     "data": {
      "text/html": [
       "<div>\n",
       "<style scoped>\n",
       "    .dataframe tbody tr th:only-of-type {\n",
       "        vertical-align: middle;\n",
       "    }\n",
       "\n",
       "    .dataframe tbody tr th {\n",
       "        vertical-align: top;\n",
       "    }\n",
       "\n",
       "    .dataframe thead th {\n",
       "        text-align: right;\n",
       "    }\n",
       "</style>\n",
       "<table border=\"1\" class=\"dataframe\">\n",
       "  <thead>\n",
       "    <tr style=\"text-align: right;\">\n",
       "      <th></th>\n",
       "      <th>0</th>\n",
       "      <th>1</th>\n",
       "      <th>2</th>\n",
       "      <th>3</th>\n",
       "      <th>4</th>\n",
       "      <th>5</th>\n",
       "      <th>6</th>\n",
       "      <th>7</th>\n",
       "      <th>8</th>\n",
       "      <th>9</th>\n",
       "      <th>...</th>\n",
       "      <th>292</th>\n",
       "      <th>293</th>\n",
       "      <th>294</th>\n",
       "      <th>295</th>\n",
       "      <th>296</th>\n",
       "      <th>297</th>\n",
       "      <th>298</th>\n",
       "      <th>299</th>\n",
       "      <th>num_comments</th>\n",
       "      <th>docs</th>\n",
       "    </tr>\n",
       "  </thead>\n",
       "  <tbody>\n",
       "    <tr>\n",
       "      <th>0</th>\n",
       "      <td>-0.044936</td>\n",
       "      <td>0.520540</td>\n",
       "      <td>0.297664</td>\n",
       "      <td>-0.633278</td>\n",
       "      <td>-0.639522</td>\n",
       "      <td>1.324903</td>\n",
       "      <td>-0.572327</td>\n",
       "      <td>-0.123448</td>\n",
       "      <td>-1.326039</td>\n",
       "      <td>1.022799</td>\n",
       "      <td>...</td>\n",
       "      <td>1.476781</td>\n",
       "      <td>1.022502</td>\n",
       "      <td>0.630570</td>\n",
       "      <td>0.282395</td>\n",
       "      <td>-0.189325</td>\n",
       "      <td>0.277642</td>\n",
       "      <td>-0.254412</td>\n",
       "      <td>-0.453682</td>\n",
       "      <td>4</td>\n",
       "      <td>i miss having good days i'm looking at a reall...</td>\n",
       "    </tr>\n",
       "    <tr>\n",
       "      <th>1</th>\n",
       "      <td>-0.915679</td>\n",
       "      <td>0.197295</td>\n",
       "      <td>0.394015</td>\n",
       "      <td>-0.364234</td>\n",
       "      <td>0.008477</td>\n",
       "      <td>-0.170550</td>\n",
       "      <td>-0.080744</td>\n",
       "      <td>-0.664542</td>\n",
       "      <td>-1.037869</td>\n",
       "      <td>0.653916</td>\n",
       "      <td>...</td>\n",
       "      <td>0.256806</td>\n",
       "      <td>0.040021</td>\n",
       "      <td>-0.768031</td>\n",
       "      <td>-0.181038</td>\n",
       "      <td>-0.050529</td>\n",
       "      <td>0.544944</td>\n",
       "      <td>0.055534</td>\n",
       "      <td>-0.602254</td>\n",
       "      <td>3</td>\n",
       "      <td>i feel like i don't belong firstly i must say ...</td>\n",
       "    </tr>\n",
       "    <tr>\n",
       "      <th>2</th>\n",
       "      <td>-1.389762</td>\n",
       "      <td>0.417339</td>\n",
       "      <td>0.569990</td>\n",
       "      <td>0.131901</td>\n",
       "      <td>0.367433</td>\n",
       "      <td>0.128845</td>\n",
       "      <td>-0.341438</td>\n",
       "      <td>-0.608718</td>\n",
       "      <td>-0.395197</td>\n",
       "      <td>-0.190117</td>\n",
       "      <td>...</td>\n",
       "      <td>-0.292848</td>\n",
       "      <td>0.368557</td>\n",
       "      <td>1.021488</td>\n",
       "      <td>0.427908</td>\n",
       "      <td>-0.050864</td>\n",
       "      <td>-1.787373</td>\n",
       "      <td>-0.747154</td>\n",
       "      <td>-0.388342</td>\n",
       "      <td>0</td>\n",
       "      <td>i just read a post here someone on here said t...</td>\n",
       "    </tr>\n",
       "    <tr>\n",
       "      <th>3</th>\n",
       "      <td>-0.069560</td>\n",
       "      <td>0.432485</td>\n",
       "      <td>1.350291</td>\n",
       "      <td>-0.808754</td>\n",
       "      <td>-1.195333</td>\n",
       "      <td>0.878532</td>\n",
       "      <td>0.483246</td>\n",
       "      <td>0.614651</td>\n",
       "      <td>0.318892</td>\n",
       "      <td>0.881236</td>\n",
       "      <td>...</td>\n",
       "      <td>-1.459201</td>\n",
       "      <td>-1.160588</td>\n",
       "      <td>0.692426</td>\n",
       "      <td>-0.498555</td>\n",
       "      <td>0.001215</td>\n",
       "      <td>0.312774</td>\n",
       "      <td>0.623916</td>\n",
       "      <td>0.255476</td>\n",
       "      <td>0</td>\n",
       "      <td>everything is falling apart in life and i'm ti...</td>\n",
       "    </tr>\n",
       "    <tr>\n",
       "      <th>4</th>\n",
       "      <td>0.552676</td>\n",
       "      <td>0.075528</td>\n",
       "      <td>0.283143</td>\n",
       "      <td>-0.457708</td>\n",
       "      <td>0.237152</td>\n",
       "      <td>0.366468</td>\n",
       "      <td>-0.007420</td>\n",
       "      <td>0.031663</td>\n",
       "      <td>-0.646435</td>\n",
       "      <td>0.389935</td>\n",
       "      <td>...</td>\n",
       "      <td>-0.040199</td>\n",
       "      <td>0.328641</td>\n",
       "      <td>-0.713822</td>\n",
       "      <td>-0.428586</td>\n",
       "      <td>0.300699</td>\n",
       "      <td>0.446857</td>\n",
       "      <td>-0.438353</td>\n",
       "      <td>-0.583585</td>\n",
       "      <td>1</td>\n",
       "      <td>for the first time in 2 years i've started wan...</td>\n",
       "    </tr>\n",
       "  </tbody>\n",
       "</table>\n",
       "<p>5 rows × 302 columns</p>\n",
       "</div>"
      ],
      "text/plain": [
       "          0         1         2         3         4         5         6  \\\n",
       "0 -0.044936  0.520540  0.297664 -0.633278 -0.639522  1.324903 -0.572327   \n",
       "1 -0.915679  0.197295  0.394015 -0.364234  0.008477 -0.170550 -0.080744   \n",
       "2 -1.389762  0.417339  0.569990  0.131901  0.367433  0.128845 -0.341438   \n",
       "3 -0.069560  0.432485  1.350291 -0.808754 -1.195333  0.878532  0.483246   \n",
       "4  0.552676  0.075528  0.283143 -0.457708  0.237152  0.366468 -0.007420   \n",
       "\n",
       "          7         8         9  ...       292       293       294       295  \\\n",
       "0 -0.123448 -1.326039  1.022799  ...  1.476781  1.022502  0.630570  0.282395   \n",
       "1 -0.664542 -1.037869  0.653916  ...  0.256806  0.040021 -0.768031 -0.181038   \n",
       "2 -0.608718 -0.395197 -0.190117  ... -0.292848  0.368557  1.021488  0.427908   \n",
       "3  0.614651  0.318892  0.881236  ... -1.459201 -1.160588  0.692426 -0.498555   \n",
       "4  0.031663 -0.646435  0.389935  ... -0.040199  0.328641 -0.713822 -0.428586   \n",
       "\n",
       "        296       297       298       299  num_comments  \\\n",
       "0 -0.189325  0.277642 -0.254412 -0.453682             4   \n",
       "1 -0.050529  0.544944  0.055534 -0.602254             3   \n",
       "2 -0.050864 -1.787373 -0.747154 -0.388342             0   \n",
       "3  0.001215  0.312774  0.623916  0.255476             0   \n",
       "4  0.300699  0.446857 -0.438353 -0.583585             1   \n",
       "\n",
       "                                                docs  \n",
       "0  i miss having good days i'm looking at a reall...  \n",
       "1  i feel like i don't belong firstly i must say ...  \n",
       "2  i just read a post here someone on here said t...  \n",
       "3  everything is falling apart in life and i'm ti...  \n",
       "4  for the first time in 2 years i've started wan...  \n",
       "\n",
       "[5 rows x 302 columns]"
      ]
     },
     "execution_count": 819,
     "metadata": {},
     "output_type": "execute_result"
    }
   ],
   "source": [
    "doc_vec_df = pd.DataFrame(doc_model.docvecs.vectors_docs)\n",
    "doc_vec_df['num_comments'] = df_reset.num_comments\n",
    "doc_vec_df['docs'] = df_reset.text_title\n",
    "doc_vec_df.head()\n",
    "\n",
    "cols= [str(i) for i in range(doc_model.docvecs.vectors_docs.shape[1])]\n",
    "cols.append('num_comments')\n",
    "cols.append('docs')\n",
    "\n",
    "doc_vec_df.columns = cols\n",
    "doc_vec_df.head()"
   ]
  },
  {
   "cell_type": "code",
   "execution_count": 822,
   "metadata": {},
   "outputs": [
    {
     "data": {
      "text/html": [
       "<div>\n",
       "<style scoped>\n",
       "    .dataframe tbody tr th:only-of-type {\n",
       "        vertical-align: middle;\n",
       "    }\n",
       "\n",
       "    .dataframe tbody tr th {\n",
       "        vertical-align: top;\n",
       "    }\n",
       "\n",
       "    .dataframe thead th {\n",
       "        text-align: right;\n",
       "    }\n",
       "</style>\n",
       "<table border=\"1\" class=\"dataframe\">\n",
       "  <thead>\n",
       "    <tr style=\"text-align: right;\">\n",
       "      <th></th>\n",
       "      <th>0</th>\n",
       "      <th>1</th>\n",
       "      <th>2</th>\n",
       "      <th>3</th>\n",
       "      <th>4</th>\n",
       "      <th>5</th>\n",
       "      <th>6</th>\n",
       "      <th>7</th>\n",
       "      <th>8</th>\n",
       "      <th>9</th>\n",
       "      <th>...</th>\n",
       "      <th>290</th>\n",
       "      <th>291</th>\n",
       "      <th>292</th>\n",
       "      <th>293</th>\n",
       "      <th>294</th>\n",
       "      <th>295</th>\n",
       "      <th>296</th>\n",
       "      <th>297</th>\n",
       "      <th>298</th>\n",
       "      <th>299</th>\n",
       "    </tr>\n",
       "  </thead>\n",
       "  <tbody>\n",
       "    <tr>\n",
       "      <th>0</th>\n",
       "      <td>-0.044936</td>\n",
       "      <td>0.520540</td>\n",
       "      <td>0.297664</td>\n",
       "      <td>-0.633278</td>\n",
       "      <td>-0.639522</td>\n",
       "      <td>1.324903</td>\n",
       "      <td>-0.572327</td>\n",
       "      <td>-0.123448</td>\n",
       "      <td>-1.326039</td>\n",
       "      <td>1.022799</td>\n",
       "      <td>...</td>\n",
       "      <td>0.502041</td>\n",
       "      <td>0.742274</td>\n",
       "      <td>1.476781</td>\n",
       "      <td>1.022502</td>\n",
       "      <td>0.630570</td>\n",
       "      <td>0.282395</td>\n",
       "      <td>-0.189325</td>\n",
       "      <td>0.277642</td>\n",
       "      <td>-0.254412</td>\n",
       "      <td>-0.453682</td>\n",
       "    </tr>\n",
       "    <tr>\n",
       "      <th>1</th>\n",
       "      <td>-0.915679</td>\n",
       "      <td>0.197295</td>\n",
       "      <td>0.394015</td>\n",
       "      <td>-0.364234</td>\n",
       "      <td>0.008477</td>\n",
       "      <td>-0.170550</td>\n",
       "      <td>-0.080744</td>\n",
       "      <td>-0.664542</td>\n",
       "      <td>-1.037869</td>\n",
       "      <td>0.653916</td>\n",
       "      <td>...</td>\n",
       "      <td>0.824775</td>\n",
       "      <td>-0.478621</td>\n",
       "      <td>0.256806</td>\n",
       "      <td>0.040021</td>\n",
       "      <td>-0.768031</td>\n",
       "      <td>-0.181038</td>\n",
       "      <td>-0.050529</td>\n",
       "      <td>0.544944</td>\n",
       "      <td>0.055534</td>\n",
       "      <td>-0.602254</td>\n",
       "    </tr>\n",
       "    <tr>\n",
       "      <th>2</th>\n",
       "      <td>-1.389762</td>\n",
       "      <td>0.417339</td>\n",
       "      <td>0.569990</td>\n",
       "      <td>0.131901</td>\n",
       "      <td>0.367433</td>\n",
       "      <td>0.128845</td>\n",
       "      <td>-0.341438</td>\n",
       "      <td>-0.608718</td>\n",
       "      <td>-0.395197</td>\n",
       "      <td>-0.190117</td>\n",
       "      <td>...</td>\n",
       "      <td>0.207874</td>\n",
       "      <td>1.057422</td>\n",
       "      <td>-0.292848</td>\n",
       "      <td>0.368557</td>\n",
       "      <td>1.021488</td>\n",
       "      <td>0.427908</td>\n",
       "      <td>-0.050864</td>\n",
       "      <td>-1.787373</td>\n",
       "      <td>-0.747154</td>\n",
       "      <td>-0.388342</td>\n",
       "    </tr>\n",
       "    <tr>\n",
       "      <th>3</th>\n",
       "      <td>-0.069560</td>\n",
       "      <td>0.432485</td>\n",
       "      <td>1.350291</td>\n",
       "      <td>-0.808754</td>\n",
       "      <td>-1.195333</td>\n",
       "      <td>0.878532</td>\n",
       "      <td>0.483246</td>\n",
       "      <td>0.614651</td>\n",
       "      <td>0.318892</td>\n",
       "      <td>0.881236</td>\n",
       "      <td>...</td>\n",
       "      <td>-0.045553</td>\n",
       "      <td>0.953733</td>\n",
       "      <td>-1.459201</td>\n",
       "      <td>-1.160588</td>\n",
       "      <td>0.692426</td>\n",
       "      <td>-0.498555</td>\n",
       "      <td>0.001215</td>\n",
       "      <td>0.312774</td>\n",
       "      <td>0.623916</td>\n",
       "      <td>0.255476</td>\n",
       "    </tr>\n",
       "    <tr>\n",
       "      <th>4</th>\n",
       "      <td>0.552676</td>\n",
       "      <td>0.075528</td>\n",
       "      <td>0.283143</td>\n",
       "      <td>-0.457708</td>\n",
       "      <td>0.237152</td>\n",
       "      <td>0.366468</td>\n",
       "      <td>-0.007420</td>\n",
       "      <td>0.031663</td>\n",
       "      <td>-0.646435</td>\n",
       "      <td>0.389935</td>\n",
       "      <td>...</td>\n",
       "      <td>0.134260</td>\n",
       "      <td>-0.156145</td>\n",
       "      <td>-0.040199</td>\n",
       "      <td>0.328641</td>\n",
       "      <td>-0.713822</td>\n",
       "      <td>-0.428586</td>\n",
       "      <td>0.300699</td>\n",
       "      <td>0.446857</td>\n",
       "      <td>-0.438353</td>\n",
       "      <td>-0.583585</td>\n",
       "    </tr>\n",
       "    <tr>\n",
       "      <th>...</th>\n",
       "      <td>...</td>\n",
       "      <td>...</td>\n",
       "      <td>...</td>\n",
       "      <td>...</td>\n",
       "      <td>...</td>\n",
       "      <td>...</td>\n",
       "      <td>...</td>\n",
       "      <td>...</td>\n",
       "      <td>...</td>\n",
       "      <td>...</td>\n",
       "      <td>...</td>\n",
       "      <td>...</td>\n",
       "      <td>...</td>\n",
       "      <td>...</td>\n",
       "      <td>...</td>\n",
       "      <td>...</td>\n",
       "      <td>...</td>\n",
       "      <td>...</td>\n",
       "      <td>...</td>\n",
       "      <td>...</td>\n",
       "      <td>...</td>\n",
       "    </tr>\n",
       "    <tr>\n",
       "      <th>201352</th>\n",
       "      <td>0.298886</td>\n",
       "      <td>0.197538</td>\n",
       "      <td>-1.344621</td>\n",
       "      <td>0.500490</td>\n",
       "      <td>0.220331</td>\n",
       "      <td>0.197895</td>\n",
       "      <td>-0.020537</td>\n",
       "      <td>0.081666</td>\n",
       "      <td>0.181198</td>\n",
       "      <td>-0.076670</td>\n",
       "      <td>...</td>\n",
       "      <td>0.027662</td>\n",
       "      <td>0.178918</td>\n",
       "      <td>1.145354</td>\n",
       "      <td>-0.087398</td>\n",
       "      <td>-0.049152</td>\n",
       "      <td>-0.351741</td>\n",
       "      <td>0.202527</td>\n",
       "      <td>0.068889</td>\n",
       "      <td>-0.270401</td>\n",
       "      <td>0.126972</td>\n",
       "    </tr>\n",
       "    <tr>\n",
       "      <th>201353</th>\n",
       "      <td>-0.602596</td>\n",
       "      <td>0.377942</td>\n",
       "      <td>0.085982</td>\n",
       "      <td>-0.337944</td>\n",
       "      <td>0.449444</td>\n",
       "      <td>0.074730</td>\n",
       "      <td>-0.225704</td>\n",
       "      <td>-0.201027</td>\n",
       "      <td>0.582127</td>\n",
       "      <td>0.235354</td>\n",
       "      <td>...</td>\n",
       "      <td>0.019660</td>\n",
       "      <td>0.710241</td>\n",
       "      <td>0.053188</td>\n",
       "      <td>-0.577499</td>\n",
       "      <td>-0.259348</td>\n",
       "      <td>-0.568318</td>\n",
       "      <td>0.079483</td>\n",
       "      <td>-0.000426</td>\n",
       "      <td>-0.238406</td>\n",
       "      <td>-0.316102</td>\n",
       "    </tr>\n",
       "    <tr>\n",
       "      <th>201354</th>\n",
       "      <td>-0.065782</td>\n",
       "      <td>0.442552</td>\n",
       "      <td>0.095001</td>\n",
       "      <td>-0.093407</td>\n",
       "      <td>-0.216463</td>\n",
       "      <td>0.219249</td>\n",
       "      <td>-0.140672</td>\n",
       "      <td>-0.025479</td>\n",
       "      <td>-0.165297</td>\n",
       "      <td>0.122063</td>\n",
       "      <td>...</td>\n",
       "      <td>0.392786</td>\n",
       "      <td>0.174501</td>\n",
       "      <td>0.092954</td>\n",
       "      <td>0.176399</td>\n",
       "      <td>-0.276574</td>\n",
       "      <td>-0.063548</td>\n",
       "      <td>0.544563</td>\n",
       "      <td>-0.152216</td>\n",
       "      <td>0.060663</td>\n",
       "      <td>0.155498</td>\n",
       "    </tr>\n",
       "    <tr>\n",
       "      <th>201355</th>\n",
       "      <td>-1.123527</td>\n",
       "      <td>1.239098</td>\n",
       "      <td>-0.538115</td>\n",
       "      <td>0.291597</td>\n",
       "      <td>-0.859328</td>\n",
       "      <td>-0.666605</td>\n",
       "      <td>-0.884606</td>\n",
       "      <td>0.280054</td>\n",
       "      <td>-0.898989</td>\n",
       "      <td>-0.767195</td>\n",
       "      <td>...</td>\n",
       "      <td>-0.872320</td>\n",
       "      <td>1.616813</td>\n",
       "      <td>0.040773</td>\n",
       "      <td>1.471004</td>\n",
       "      <td>-1.165609</td>\n",
       "      <td>0.006591</td>\n",
       "      <td>0.587708</td>\n",
       "      <td>1.030469</td>\n",
       "      <td>-0.090478</td>\n",
       "      <td>0.318005</td>\n",
       "    </tr>\n",
       "    <tr>\n",
       "      <th>201356</th>\n",
       "      <td>0.255952</td>\n",
       "      <td>0.059568</td>\n",
       "      <td>-0.084691</td>\n",
       "      <td>0.080674</td>\n",
       "      <td>0.235415</td>\n",
       "      <td>-0.183446</td>\n",
       "      <td>-0.254634</td>\n",
       "      <td>0.552920</td>\n",
       "      <td>-0.784781</td>\n",
       "      <td>0.250036</td>\n",
       "      <td>...</td>\n",
       "      <td>0.232155</td>\n",
       "      <td>-0.205780</td>\n",
       "      <td>0.564365</td>\n",
       "      <td>0.106352</td>\n",
       "      <td>-0.249765</td>\n",
       "      <td>-0.393851</td>\n",
       "      <td>0.292377</td>\n",
       "      <td>0.046475</td>\n",
       "      <td>-0.421520</td>\n",
       "      <td>-0.538898</td>\n",
       "    </tr>\n",
       "  </tbody>\n",
       "</table>\n",
       "<p>201357 rows × 300 columns</p>\n",
       "</div>"
      ],
      "text/plain": [
       "               0         1         2         3         4         5         6  \\\n",
       "0      -0.044936  0.520540  0.297664 -0.633278 -0.639522  1.324903 -0.572327   \n",
       "1      -0.915679  0.197295  0.394015 -0.364234  0.008477 -0.170550 -0.080744   \n",
       "2      -1.389762  0.417339  0.569990  0.131901  0.367433  0.128845 -0.341438   \n",
       "3      -0.069560  0.432485  1.350291 -0.808754 -1.195333  0.878532  0.483246   \n",
       "4       0.552676  0.075528  0.283143 -0.457708  0.237152  0.366468 -0.007420   \n",
       "...          ...       ...       ...       ...       ...       ...       ...   \n",
       "201352  0.298886  0.197538 -1.344621  0.500490  0.220331  0.197895 -0.020537   \n",
       "201353 -0.602596  0.377942  0.085982 -0.337944  0.449444  0.074730 -0.225704   \n",
       "201354 -0.065782  0.442552  0.095001 -0.093407 -0.216463  0.219249 -0.140672   \n",
       "201355 -1.123527  1.239098 -0.538115  0.291597 -0.859328 -0.666605 -0.884606   \n",
       "201356  0.255952  0.059568 -0.084691  0.080674  0.235415 -0.183446 -0.254634   \n",
       "\n",
       "               7         8         9  ...       290       291       292  \\\n",
       "0      -0.123448 -1.326039  1.022799  ...  0.502041  0.742274  1.476781   \n",
       "1      -0.664542 -1.037869  0.653916  ...  0.824775 -0.478621  0.256806   \n",
       "2      -0.608718 -0.395197 -0.190117  ...  0.207874  1.057422 -0.292848   \n",
       "3       0.614651  0.318892  0.881236  ... -0.045553  0.953733 -1.459201   \n",
       "4       0.031663 -0.646435  0.389935  ...  0.134260 -0.156145 -0.040199   \n",
       "...          ...       ...       ...  ...       ...       ...       ...   \n",
       "201352  0.081666  0.181198 -0.076670  ...  0.027662  0.178918  1.145354   \n",
       "201353 -0.201027  0.582127  0.235354  ...  0.019660  0.710241  0.053188   \n",
       "201354 -0.025479 -0.165297  0.122063  ...  0.392786  0.174501  0.092954   \n",
       "201355  0.280054 -0.898989 -0.767195  ... -0.872320  1.616813  0.040773   \n",
       "201356  0.552920 -0.784781  0.250036  ...  0.232155 -0.205780  0.564365   \n",
       "\n",
       "             293       294       295       296       297       298       299  \n",
       "0       1.022502  0.630570  0.282395 -0.189325  0.277642 -0.254412 -0.453682  \n",
       "1       0.040021 -0.768031 -0.181038 -0.050529  0.544944  0.055534 -0.602254  \n",
       "2       0.368557  1.021488  0.427908 -0.050864 -1.787373 -0.747154 -0.388342  \n",
       "3      -1.160588  0.692426 -0.498555  0.001215  0.312774  0.623916  0.255476  \n",
       "4       0.328641 -0.713822 -0.428586  0.300699  0.446857 -0.438353 -0.583585  \n",
       "...          ...       ...       ...       ...       ...       ...       ...  \n",
       "201352 -0.087398 -0.049152 -0.351741  0.202527  0.068889 -0.270401  0.126972  \n",
       "201353 -0.577499 -0.259348 -0.568318  0.079483 -0.000426 -0.238406 -0.316102  \n",
       "201354  0.176399 -0.276574 -0.063548  0.544563 -0.152216  0.060663  0.155498  \n",
       "201355  1.471004 -1.165609  0.006591  0.587708  1.030469 -0.090478  0.318005  \n",
       "201356  0.106352 -0.249765 -0.393851  0.292377  0.046475 -0.421520 -0.538898  \n",
       "\n",
       "[201357 rows x 300 columns]"
      ]
     },
     "execution_count": 822,
     "metadata": {},
     "output_type": "execute_result"
    }
   ],
   "source": [
    "doc_vec_df.iloc[:,0:-2]"
   ]
  },
  {
   "cell_type": "code",
   "execution_count": 926,
   "metadata": {},
   "outputs": [],
   "source": [
    "from sklearn import preprocessing\n",
    "from sklearn.cluster import KMeans\n",
    "\n",
    "# to normalise existing X\n",
    "X_Norm = preprocessing.normalize(doc_vec_df.iloc[:,0:-2], axis=1)\n",
    "X_Norm\n",
    "\n",
    "kmeans = KMeans(n_clusters=40, random_state=0).fit(X_Norm)"
   ]
  },
  {
   "cell_type": "code",
   "execution_count": 927,
   "metadata": {},
   "outputs": [
    {
     "data": {
      "text/plain": [
       "array([ 5, 25,  4, ..., 31, 13,  9], dtype=int32)"
      ]
     },
     "execution_count": 927,
     "metadata": {},
     "output_type": "execute_result"
    }
   ],
   "source": [
    "kmeans.labels_"
   ]
  },
  {
   "cell_type": "code",
   "execution_count": 946,
   "metadata": {},
   "outputs": [
    {
     "data": {
      "text/plain": [
       "'i feel depressed i am gonna be 12 soon and am getting to stretch out a bit and i am feeling mildly depressed during the day and its way worse at night i don’t know what to do my parents think i’m lying help?'"
      ]
     },
     "execution_count": 946,
     "metadata": {},
     "output_type": "execute_result"
    }
   ],
   "source": [
    "doc_vec_df['labels'] = kmeans.labels_\n",
    "doc_vec_df[doc_vec_df.labels == 1]['docs'].values[3]"
   ]
  },
  {
   "cell_type": "code",
   "execution_count": 863,
   "metadata": {},
   "outputs": [],
   "source": [
    "inertia = []\n",
    "sil = []\n",
    "# changing the number of clusters \n",
    "for k in range(5,30):\n",
    "    \n",
    "    km = KMeans(n_clusters=k, random_state=1)\n",
    "    km.fit(X_Norm)\n",
    "    y_pred = km.predict(X_Norm)\n",
    "    inertia.append((k, km.inertia_))\n",
    "    print(k)"
   ]
  },
  {
   "cell_type": "code",
   "execution_count": 866,
   "metadata": {},
   "outputs": [
    {
     "data": {
      "text/plain": [
       "Text(0.5, 1.0, 'Elbow Curve')"
      ]
     },
     "execution_count": 866,
     "metadata": {},
     "output_type": "execute_result"
    },
    {
     "data": {
      "image/png": "[encoded data removed]",
      "text/plain": [
       "<Figure size 864x288 with 2 Axes>"
      ]
     },
     "metadata": {
      "needs_background": "light"
     },
     "output_type": "display_data"
    }
   ],
   "source": [
    "import matplotlib.pyplot as plt\n",
    "\n",
    "fig, ax = plt.subplots(1,2, figsize=(12,4))\n",
    "\n",
    "# Plotting Elbow Curve\n",
    "x_iner = [x[0] for x in inertia]\n",
    "y_iner  = [x[1] for x in inertia]\n",
    "ax[0].plot(x_iner, y_iner)\n",
    "ax[0].set_xlabel('Number of Clusters')\n",
    "ax[0].set_ylabel('Intertia')\n",
    "ax[0].set_title('Elbow Curve')\n",
    "\n"
   ]
  },
  {
   "cell_type": "code",
   "execution_count": null,
   "metadata": {},
   "outputs": [],
   "source": []
  }
 ],
 "metadata": {
  "kernelspec": {
   "display_name": "Python 3",
   "language": "python",
   "name": "python3"
  },
  "language_info": {
   "codemirror_mode": {
    "name": "ipython",
    "version": 3
   },
   "file_extension": ".py",
   "mimetype": "text/x-python",
   "name": "python",
   "nbconvert_exporter": "python",
   "pygments_lexer": "ipython3",
   "version": "3.8.5"
  }
 },
 "nbformat": 4,
 "nbformat_minor": 4
}
