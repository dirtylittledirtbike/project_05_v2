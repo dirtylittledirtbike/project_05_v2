{
 "cells": [
  {
   "cell_type": "code",
   "execution_count": 797,
   "metadata": {},
   "outputs": [],
   "source": [
    "import numpy as np\n",
    "import pandas as pd\n",
    "import matplotlib.pyplot as plt\n",
    "\n",
    "from matplotlib import rcParams\n",
    "rcParams.update({'figure.autolayout': True})"
   ]
  },
  {
   "cell_type": "code",
   "execution_count": 154,
   "metadata": {},
   "outputs": [],
   "source": [
    "df = pd.read_csv('data/anxiety_topics.csv', low_memory=False, lineterminator='\\n')\n",
    "df.drop(columns=['Unnamed: 0'], inplace=True)"
   ]
  },
  {
   "cell_type": "code",
   "execution_count": 155,
   "metadata": {},
   "outputs": [],
   "source": [
    "df2 = pd.read_csv('data/depression_topics_15.csv', low_memory=False, lineterminator='\\n')\n",
    "df2.drop(columns=['Unnamed: 0'], inplace=True)"
   ]
  },
  {
   "cell_type": "code",
   "execution_count": 720,
   "metadata": {},
   "outputs": [
    {
     "data": {
      "text/html": [
       "<div>\n",
       "<style scoped>\n",
       "    .dataframe tbody tr th:only-of-type {\n",
       "        vertical-align: middle;\n",
       "    }\n",
       "\n",
       "    .dataframe tbody tr th {\n",
       "        vertical-align: top;\n",
       "    }\n",
       "\n",
       "    .dataframe thead th {\n",
       "        text-align: right;\n",
       "    }\n",
       "</style>\n",
       "<table border=\"1\" class=\"dataframe\">\n",
       "  <thead>\n",
       "    <tr style=\"text-align: right;\">\n",
       "      <th></th>\n",
       "      <th>created_utc</th>\n",
       "      <th>subreddit</th>\n",
       "      <th>author</th>\n",
       "      <th>domain</th>\n",
       "      <th>url</th>\n",
       "      <th>num_comments</th>\n",
       "      <th>score</th>\n",
       "      <th>ups</th>\n",
       "      <th>downs</th>\n",
       "      <th>title</th>\n",
       "      <th>...</th>\n",
       "      <th>anxious/super/reason</th>\n",
       "      <th>school</th>\n",
       "      <th>work</th>\n",
       "      <th>friends</th>\n",
       "      <th>home/house</th>\n",
       "      <th>food/dietary</th>\n",
       "      <th>fear/death</th>\n",
       "      <th>social</th>\n",
       "      <th>driving</th>\n",
       "      <th>max_topic</th>\n",
       "    </tr>\n",
       "  </thead>\n",
       "  <tbody>\n",
       "    <tr>\n",
       "      <th>0</th>\n",
       "      <td>1533158538</td>\n",
       "      <td>Anxiety</td>\n",
       "      <td>HelpfulBush</td>\n",
       "      <td>self.Anxiety</td>\n",
       "      <td>https://www.reddit.com/r/Anxiety/comments/93t5...</td>\n",
       "      <td>1</td>\n",
       "      <td>1</td>\n",
       "      <td>NaN</td>\n",
       "      <td>NaN</td>\n",
       "      <td>Best anxiety apps?</td>\n",
       "      <td>...</td>\n",
       "      <td>0.000000</td>\n",
       "      <td>0.000000</td>\n",
       "      <td>0.000000</td>\n",
       "      <td>0.002009</td>\n",
       "      <td>0.000000</td>\n",
       "      <td>0.000000</td>\n",
       "      <td>0.000000</td>\n",
       "      <td>0.000000</td>\n",
       "      <td>0.000000</td>\n",
       "      <td>friends</td>\n",
       "    </tr>\n",
       "    <tr>\n",
       "      <th>1</th>\n",
       "      <td>1561404511</td>\n",
       "      <td>Anxiety</td>\n",
       "      <td>kyyface</td>\n",
       "      <td>self.Anxiety</td>\n",
       "      <td>https://www.reddit.com/r/Anxiety/comments/c4u1...</td>\n",
       "      <td>2</td>\n",
       "      <td>1</td>\n",
       "      <td>NaN</td>\n",
       "      <td>NaN</td>\n",
       "      <td>My anxiety is at an all time high...</td>\n",
       "      <td>...</td>\n",
       "      <td>0.000000</td>\n",
       "      <td>0.000000</td>\n",
       "      <td>0.000000</td>\n",
       "      <td>0.000000</td>\n",
       "      <td>0.007551</td>\n",
       "      <td>0.003221</td>\n",
       "      <td>0.000398</td>\n",
       "      <td>0.000000</td>\n",
       "      <td>0.002788</td>\n",
       "      <td>home/house</td>\n",
       "    </tr>\n",
       "    <tr>\n",
       "      <th>2</th>\n",
       "      <td>1524380653</td>\n",
       "      <td>Anxiety</td>\n",
       "      <td>Justbecauseweiner</td>\n",
       "      <td>self.Anxiety</td>\n",
       "      <td>https://www.reddit.com/r/Anxiety/comments/8e1q...</td>\n",
       "      <td>31</td>\n",
       "      <td>7</td>\n",
       "      <td>7.0</td>\n",
       "      <td>0.0</td>\n",
       "      <td>Late night anxiousness.</td>\n",
       "      <td>...</td>\n",
       "      <td>0.005429</td>\n",
       "      <td>0.000000</td>\n",
       "      <td>0.000000</td>\n",
       "      <td>0.000000</td>\n",
       "      <td>0.006583</td>\n",
       "      <td>0.000000</td>\n",
       "      <td>0.000000</td>\n",
       "      <td>0.000000</td>\n",
       "      <td>0.000000</td>\n",
       "      <td>panic</td>\n",
       "    </tr>\n",
       "    <tr>\n",
       "      <th>3</th>\n",
       "      <td>1462453218</td>\n",
       "      <td>Anxiety</td>\n",
       "      <td>Spennner</td>\n",
       "      <td>self.Anxiety</td>\n",
       "      <td>https://www.reddit.com/r/Anxiety/comments/4hzs...</td>\n",
       "      <td>7</td>\n",
       "      <td>3</td>\n",
       "      <td>3.0</td>\n",
       "      <td>0.0</td>\n",
       "      <td>Male, 24 years old, about to commit the weakes...</td>\n",
       "      <td>...</td>\n",
       "      <td>0.000000</td>\n",
       "      <td>0.013018</td>\n",
       "      <td>0.000000</td>\n",
       "      <td>0.000000</td>\n",
       "      <td>0.000946</td>\n",
       "      <td>0.000000</td>\n",
       "      <td>0.000000</td>\n",
       "      <td>0.010673</td>\n",
       "      <td>0.000000</td>\n",
       "      <td>school</td>\n",
       "    </tr>\n",
       "    <tr>\n",
       "      <th>4</th>\n",
       "      <td>1554417090</td>\n",
       "      <td>Anxiety</td>\n",
       "      <td>AnxietyBoatAllAboard</td>\n",
       "      <td>self.Anxiety</td>\n",
       "      <td>https://www.reddit.com/r/Anxiety/comments/b9jc...</td>\n",
       "      <td>1</td>\n",
       "      <td>2</td>\n",
       "      <td>NaN</td>\n",
       "      <td>NaN</td>\n",
       "      <td>constant work anxiety</td>\n",
       "      <td>...</td>\n",
       "      <td>0.000000</td>\n",
       "      <td>0.000000</td>\n",
       "      <td>0.015021</td>\n",
       "      <td>0.000000</td>\n",
       "      <td>0.000000</td>\n",
       "      <td>0.000000</td>\n",
       "      <td>0.000000</td>\n",
       "      <td>0.000000</td>\n",
       "      <td>0.000000</td>\n",
       "      <td>work</td>\n",
       "    </tr>\n",
       "    <tr>\n",
       "      <th>...</th>\n",
       "      <td>...</td>\n",
       "      <td>...</td>\n",
       "      <td>...</td>\n",
       "      <td>...</td>\n",
       "      <td>...</td>\n",
       "      <td>...</td>\n",
       "      <td>...</td>\n",
       "      <td>...</td>\n",
       "      <td>...</td>\n",
       "      <td>...</td>\n",
       "      <td>...</td>\n",
       "      <td>...</td>\n",
       "      <td>...</td>\n",
       "      <td>...</td>\n",
       "      <td>...</td>\n",
       "      <td>...</td>\n",
       "      <td>...</td>\n",
       "      <td>...</td>\n",
       "      <td>...</td>\n",
       "      <td>...</td>\n",
       "      <td>...</td>\n",
       "    </tr>\n",
       "    <tr>\n",
       "      <th>126776</th>\n",
       "      <td>1519961245</td>\n",
       "      <td>Anxiety</td>\n",
       "      <td>NeverNo</td>\n",
       "      <td>self.Anxiety</td>\n",
       "      <td>https://www.reddit.com/r/Anxiety/comments/81bd...</td>\n",
       "      <td>2</td>\n",
       "      <td>3</td>\n",
       "      <td>NaN</td>\n",
       "      <td>NaN</td>\n",
       "      <td>How many relationships has your anxiety destro...</td>\n",
       "      <td>...</td>\n",
       "      <td>0.000000</td>\n",
       "      <td>0.000000</td>\n",
       "      <td>0.000000</td>\n",
       "      <td>0.001206</td>\n",
       "      <td>0.000000</td>\n",
       "      <td>0.000000</td>\n",
       "      <td>0.000000</td>\n",
       "      <td>0.000000</td>\n",
       "      <td>0.000000</td>\n",
       "      <td>friends</td>\n",
       "    </tr>\n",
       "    <tr>\n",
       "      <th>126777</th>\n",
       "      <td>1465918564</td>\n",
       "      <td>Anxiety</td>\n",
       "      <td>AnxiousDad73</td>\n",
       "      <td>self.Anxiety</td>\n",
       "      <td>https://www.reddit.com/r/Anxiety/comments/4o1y...</td>\n",
       "      <td>2</td>\n",
       "      <td>1</td>\n",
       "      <td>1.0</td>\n",
       "      <td>0.0</td>\n",
       "      <td>My anxiety increases when i do a cardio workout</td>\n",
       "      <td>...</td>\n",
       "      <td>0.000000</td>\n",
       "      <td>0.000000</td>\n",
       "      <td>0.000000</td>\n",
       "      <td>0.000000</td>\n",
       "      <td>0.000211</td>\n",
       "      <td>0.000000</td>\n",
       "      <td>0.000000</td>\n",
       "      <td>0.000000</td>\n",
       "      <td>0.000000</td>\n",
       "      <td>home/house</td>\n",
       "    </tr>\n",
       "    <tr>\n",
       "      <th>126778</th>\n",
       "      <td>1549876074</td>\n",
       "      <td>Anxiety</td>\n",
       "      <td>Sloppyorange</td>\n",
       "      <td>self.Anxiety</td>\n",
       "      <td>https://www.reddit.com/r/Anxiety/comments/apef...</td>\n",
       "      <td>0</td>\n",
       "      <td>1</td>\n",
       "      <td>NaN</td>\n",
       "      <td>NaN</td>\n",
       "      <td>Someone please help me: I have extreme anxiety...</td>\n",
       "      <td>...</td>\n",
       "      <td>0.000000</td>\n",
       "      <td>0.000000</td>\n",
       "      <td>0.000000</td>\n",
       "      <td>0.000000</td>\n",
       "      <td>0.019850</td>\n",
       "      <td>0.000000</td>\n",
       "      <td>0.000000</td>\n",
       "      <td>0.000000</td>\n",
       "      <td>0.000000</td>\n",
       "      <td>home/house</td>\n",
       "    </tr>\n",
       "    <tr>\n",
       "      <th>126779</th>\n",
       "      <td>1497154728</td>\n",
       "      <td>Anxiety</td>\n",
       "      <td>datboy65656565656565</td>\n",
       "      <td>self.Anxiety</td>\n",
       "      <td>https://www.reddit.com/r/Anxiety/comments/6gjk...</td>\n",
       "      <td>1</td>\n",
       "      <td>3</td>\n",
       "      <td>NaN</td>\n",
       "      <td>NaN</td>\n",
       "      <td>I have to attend my cousin's graduation in a f...</td>\n",
       "      <td>...</td>\n",
       "      <td>0.000000</td>\n",
       "      <td>0.000181</td>\n",
       "      <td>0.000000</td>\n",
       "      <td>0.000000</td>\n",
       "      <td>0.000000</td>\n",
       "      <td>0.000000</td>\n",
       "      <td>0.006103</td>\n",
       "      <td>0.016030</td>\n",
       "      <td>0.000000</td>\n",
       "      <td>social</td>\n",
       "    </tr>\n",
       "    <tr>\n",
       "      <th>126780</th>\n",
       "      <td>1546510033</td>\n",
       "      <td>Anxiety</td>\n",
       "      <td>dudenotrightnow</td>\n",
       "      <td>self.Anxiety</td>\n",
       "      <td>https://www.reddit.com/r/Anxiety/comments/ac4d...</td>\n",
       "      <td>1</td>\n",
       "      <td>1</td>\n",
       "      <td>NaN</td>\n",
       "      <td>NaN</td>\n",
       "      <td>How do I stop myself from feeling guilty when ...</td>\n",
       "      <td>...</td>\n",
       "      <td>0.000000</td>\n",
       "      <td>0.000000</td>\n",
       "      <td>0.011281</td>\n",
       "      <td>0.001912</td>\n",
       "      <td>0.000000</td>\n",
       "      <td>0.000000</td>\n",
       "      <td>0.000000</td>\n",
       "      <td>0.000000</td>\n",
       "      <td>0.000000</td>\n",
       "      <td>work</td>\n",
       "    </tr>\n",
       "  </tbody>\n",
       "</table>\n",
       "<p>126781 rows × 50 columns</p>\n",
       "</div>"
      ],
      "text/plain": [
       "        created_utc subreddit                author        domain  \\\n",
       "0        1533158538   Anxiety           HelpfulBush  self.Anxiety   \n",
       "1        1561404511   Anxiety               kyyface  self.Anxiety   \n",
       "2        1524380653   Anxiety     Justbecauseweiner  self.Anxiety   \n",
       "3        1462453218   Anxiety              Spennner  self.Anxiety   \n",
       "4        1554417090   Anxiety  AnxietyBoatAllAboard  self.Anxiety   \n",
       "...             ...       ...                   ...           ...   \n",
       "126776   1519961245   Anxiety               NeverNo  self.Anxiety   \n",
       "126777   1465918564   Anxiety          AnxiousDad73  self.Anxiety   \n",
       "126778   1549876074   Anxiety          Sloppyorange  self.Anxiety   \n",
       "126779   1497154728   Anxiety  datboy65656565656565  self.Anxiety   \n",
       "126780   1546510033   Anxiety       dudenotrightnow  self.Anxiety   \n",
       "\n",
       "                                                      url  num_comments  \\\n",
       "0       https://www.reddit.com/r/Anxiety/comments/93t5...             1   \n",
       "1       https://www.reddit.com/r/Anxiety/comments/c4u1...             2   \n",
       "2       https://www.reddit.com/r/Anxiety/comments/8e1q...            31   \n",
       "3       https://www.reddit.com/r/Anxiety/comments/4hzs...             7   \n",
       "4       https://www.reddit.com/r/Anxiety/comments/b9jc...             1   \n",
       "...                                                   ...           ...   \n",
       "126776  https://www.reddit.com/r/Anxiety/comments/81bd...             2   \n",
       "126777  https://www.reddit.com/r/Anxiety/comments/4o1y...             2   \n",
       "126778  https://www.reddit.com/r/Anxiety/comments/apef...             0   \n",
       "126779  https://www.reddit.com/r/Anxiety/comments/6gjk...             1   \n",
       "126780  https://www.reddit.com/r/Anxiety/comments/ac4d...             1   \n",
       "\n",
       "        score  ups  downs                                              title  \\\n",
       "0           1  NaN    NaN                                 Best anxiety apps?   \n",
       "1           1  NaN    NaN               My anxiety is at an all time high...   \n",
       "2           7  7.0    0.0                            Late night anxiousness.   \n",
       "3           3  3.0    0.0  Male, 24 years old, about to commit the weakes...   \n",
       "4           2  NaN    NaN                              constant work anxiety   \n",
       "...       ...  ...    ...                                                ...   \n",
       "126776      3  NaN    NaN  How many relationships has your anxiety destro...   \n",
       "126777      1  1.0    0.0    My anxiety increases when i do a cardio workout   \n",
       "126778      1  NaN    NaN  Someone please help me: I have extreme anxiety...   \n",
       "126779      3  NaN    NaN  I have to attend my cousin's graduation in a f...   \n",
       "126780      1  NaN    NaN  How do I stop myself from feeling guilty when ...   \n",
       "\n",
       "        ... anxious/super/reason    school      work   friends  home/house  \\\n",
       "0       ...             0.000000  0.000000  0.000000  0.002009    0.000000   \n",
       "1       ...             0.000000  0.000000  0.000000  0.000000    0.007551   \n",
       "2       ...             0.005429  0.000000  0.000000  0.000000    0.006583   \n",
       "3       ...             0.000000  0.013018  0.000000  0.000000    0.000946   \n",
       "4       ...             0.000000  0.000000  0.015021  0.000000    0.000000   \n",
       "...     ...                  ...       ...       ...       ...         ...   \n",
       "126776  ...             0.000000  0.000000  0.000000  0.001206    0.000000   \n",
       "126777  ...             0.000000  0.000000  0.000000  0.000000    0.000211   \n",
       "126778  ...             0.000000  0.000000  0.000000  0.000000    0.019850   \n",
       "126779  ...             0.000000  0.000181  0.000000  0.000000    0.000000   \n",
       "126780  ...             0.000000  0.000000  0.011281  0.001912    0.000000   \n",
       "\n",
       "        food/dietary  fear/death    social   driving   max_topic  \n",
       "0           0.000000    0.000000  0.000000  0.000000     friends  \n",
       "1           0.003221    0.000398  0.000000  0.002788  home/house  \n",
       "2           0.000000    0.000000  0.000000  0.000000       panic  \n",
       "3           0.000000    0.000000  0.010673  0.000000      school  \n",
       "4           0.000000    0.000000  0.000000  0.000000        work  \n",
       "...              ...         ...       ...       ...         ...  \n",
       "126776      0.000000    0.000000  0.000000  0.000000     friends  \n",
       "126777      0.000000    0.000000  0.000000  0.000000  home/house  \n",
       "126778      0.000000    0.000000  0.000000  0.000000  home/house  \n",
       "126779      0.000000    0.006103  0.016030  0.000000      social  \n",
       "126780      0.000000    0.000000  0.000000  0.000000        work  \n",
       "\n",
       "[126781 rows x 50 columns]"
      ]
     },
     "execution_count": 720,
     "metadata": {},
     "output_type": "execute_result"
    }
   ],
   "source": [
    "df"
   ]
  },
  {
   "cell_type": "code",
   "execution_count": 721,
   "metadata": {},
   "outputs": [
    {
     "data": {
      "text/plain": [
       "(361698, 50)"
      ]
     },
     "execution_count": 721,
     "metadata": {},
     "output_type": "execute_result"
    }
   ],
   "source": [
    "df2.shape"
   ]
  },
  {
   "cell_type": "code",
   "execution_count": 156,
   "metadata": {},
   "outputs": [],
   "source": [
    "df['date'] = pd.to_datetime(df.date)\n",
    "df2['date'] = pd.to_datetime(df2.date)"
   ]
  },
  {
   "cell_type": "code",
   "execution_count": 246,
   "metadata": {
    "scrolled": false
   },
   "outputs": [
    {
     "data": {
      "text/plain": [
       "max_topic\n",
       "depressed/suicidal/reason       21913\n",
       "depression/anxiety/diagnosed    49518\n",
       "friend/best/girl                22200\n",
       "friends/social                  29655\n",
       "job                             28454\n",
       "lonely                          11964\n",
       "mom/dad                         31894\n",
       "pain/hurt                       19864\n",
       "sad                             17892\n",
       "school                          28098\n",
       "sleep                           25865\n",
       "suicide                         19721\n",
       "therapy/meds                    39260\n",
       "tired/sick                      15400\n",
       "Name: ups, dtype: int64"
      ]
     },
     "execution_count": 246,
     "metadata": {},
     "output_type": "execute_result"
    }
   ],
   "source": [
    "df2.groupby('max_topic')['ups'].size()"
   ]
  },
  {
   "cell_type": "code",
   "execution_count": 556,
   "metadata": {
    "scrolled": true
   },
   "outputs": [
    {
     "data": {
      "text/plain": [
       "(array([89526., 73523., 53881., 35690., 41714.]),\n",
       " array([0., 1., 2., 3., 4., 5.]),\n",
       " <BarContainer object of 5 artists>)"
      ]
     },
     "execution_count": 556,
     "metadata": {},
     "output_type": "execute_result"
    },
    {
     "data": {
      "image/png": "[encoded data removed]",
      "text/plain": [
       "<Figure size 432x288 with 1 Axes>"
      ]
     },
     "metadata": {
      "needs_background": "light"
     },
     "output_type": "display_data"
    }
   ],
   "source": [
    "a = df2[df2.num_comments <=5].num_comments\n",
    "plt.hist(a, bins=5)"
   ]
  },
  {
   "cell_type": "code",
   "execution_count": 585,
   "metadata": {
    "scrolled": false
   },
   "outputs": [
    {
     "data": {
      "text/html": [
       "<div>\n",
       "<style scoped>\n",
       "    .dataframe tbody tr th:only-of-type {\n",
       "        vertical-align: middle;\n",
       "    }\n",
       "\n",
       "    .dataframe tbody tr th {\n",
       "        vertical-align: top;\n",
       "    }\n",
       "\n",
       "    .dataframe thead th {\n",
       "        text-align: right;\n",
       "    }\n",
       "</style>\n",
       "<table border=\"1\" class=\"dataframe\">\n",
       "  <thead>\n",
       "    <tr style=\"text-align: right;\">\n",
       "      <th></th>\n",
       "      <th>created_utc</th>\n",
       "      <th>subreddit</th>\n",
       "      <th>author</th>\n",
       "      <th>domain</th>\n",
       "      <th>url</th>\n",
       "      <th>num_comments</th>\n",
       "      <th>score</th>\n",
       "      <th>ups</th>\n",
       "      <th>downs</th>\n",
       "      <th>title</th>\n",
       "      <th>...</th>\n",
       "      <th>sleep</th>\n",
       "      <th>job</th>\n",
       "      <th>friend/best/girl</th>\n",
       "      <th>sad</th>\n",
       "      <th>mom/dad</th>\n",
       "      <th>suicide</th>\n",
       "      <th>therapy/meds</th>\n",
       "      <th>pain/hurt</th>\n",
       "      <th>lonely</th>\n",
       "      <th>max_topic</th>\n",
       "    </tr>\n",
       "  </thead>\n",
       "  <tbody>\n",
       "    <tr>\n",
       "      <th>0</th>\n",
       "      <td>1451434602</td>\n",
       "      <td>depression</td>\n",
       "      <td>IICHASE55II</td>\n",
       "      <td>self.depression</td>\n",
       "      <td>https://www.reddit.com/r/depression/comments/3...</td>\n",
       "      <td>0</td>\n",
       "      <td>1</td>\n",
       "      <td>1.0</td>\n",
       "      <td>0.0</td>\n",
       "      <td>Just got dismissed from my university</td>\n",
       "      <td>...</td>\n",
       "      <td>0.001291</td>\n",
       "      <td>0.006737</td>\n",
       "      <td>0.000000</td>\n",
       "      <td>0.000000</td>\n",
       "      <td>0.000000</td>\n",
       "      <td>0.000000</td>\n",
       "      <td>0.001123</td>\n",
       "      <td>0.0</td>\n",
       "      <td>0.0</td>\n",
       "      <td>job</td>\n",
       "    </tr>\n",
       "    <tr>\n",
       "      <th>1</th>\n",
       "      <td>1451177182</td>\n",
       "      <td>depression</td>\n",
       "      <td>rastasquirtle</td>\n",
       "      <td>self.depression</td>\n",
       "      <td>https://www.reddit.com/r/depression/comments/3...</td>\n",
       "      <td>4</td>\n",
       "      <td>14</td>\n",
       "      <td>14.0</td>\n",
       "      <td>0.0</td>\n",
       "      <td>im a spoiled piece of shit</td>\n",
       "      <td>...</td>\n",
       "      <td>0.000000</td>\n",
       "      <td>0.000000</td>\n",
       "      <td>0.003809</td>\n",
       "      <td>0.000000</td>\n",
       "      <td>0.005279</td>\n",
       "      <td>0.000127</td>\n",
       "      <td>0.000000</td>\n",
       "      <td>0.0</td>\n",
       "      <td>0.0</td>\n",
       "      <td>tired/sick</td>\n",
       "    </tr>\n",
       "    <tr>\n",
       "      <th>2</th>\n",
       "      <td>1451348063</td>\n",
       "      <td>depression</td>\n",
       "      <td>t1h3ro4w5aw6ay7</td>\n",
       "      <td>self.depression</td>\n",
       "      <td>https://www.reddit.com/r/depression/comments/3...</td>\n",
       "      <td>0</td>\n",
       "      <td>1</td>\n",
       "      <td>1.0</td>\n",
       "      <td>0.0</td>\n",
       "      <td>Caring about a person that doesn't</td>\n",
       "      <td>...</td>\n",
       "      <td>0.000000</td>\n",
       "      <td>0.000000</td>\n",
       "      <td>0.009897</td>\n",
       "      <td>0.000000</td>\n",
       "      <td>0.000000</td>\n",
       "      <td>0.000000</td>\n",
       "      <td>0.000000</td>\n",
       "      <td>0.0</td>\n",
       "      <td>0.0</td>\n",
       "      <td>friend/best/girl</td>\n",
       "    </tr>\n",
       "    <tr>\n",
       "      <th>3</th>\n",
       "      <td>1451091347</td>\n",
       "      <td>depression</td>\n",
       "      <td>iu4pkz0</td>\n",
       "      <td>self.depression</td>\n",
       "      <td>https://www.reddit.com/r/depression/comments/3...</td>\n",
       "      <td>0</td>\n",
       "      <td>0</td>\n",
       "      <td>0.0</td>\n",
       "      <td>0.0</td>\n",
       "      <td>I really screwed up this year</td>\n",
       "      <td>...</td>\n",
       "      <td>0.000000</td>\n",
       "      <td>0.000000</td>\n",
       "      <td>0.000000</td>\n",
       "      <td>0.006170</td>\n",
       "      <td>0.003005</td>\n",
       "      <td>0.000000</td>\n",
       "      <td>0.000391</td>\n",
       "      <td>0.0</td>\n",
       "      <td>0.0</td>\n",
       "      <td>sad</td>\n",
       "    </tr>\n",
       "    <tr>\n",
       "      <th>4</th>\n",
       "      <td>1451536175</td>\n",
       "      <td>depression</td>\n",
       "      <td>SmellyDagger</td>\n",
       "      <td>self.depression</td>\n",
       "      <td>https://www.reddit.com/r/depression/comments/3...</td>\n",
       "      <td>1</td>\n",
       "      <td>2</td>\n",
       "      <td>2.0</td>\n",
       "      <td>0.0</td>\n",
       "      <td>It has been 596 days since I have debated suic...</td>\n",
       "      <td>...</td>\n",
       "      <td>0.000000</td>\n",
       "      <td>0.000000</td>\n",
       "      <td>0.000000</td>\n",
       "      <td>0.000000</td>\n",
       "      <td>0.001121</td>\n",
       "      <td>0.000769</td>\n",
       "      <td>0.002357</td>\n",
       "      <td>0.0</td>\n",
       "      <td>0.0</td>\n",
       "      <td>depression/anxiety/diagnosed</td>\n",
       "    </tr>\n",
       "    <tr>\n",
       "      <th>...</th>\n",
       "      <td>...</td>\n",
       "      <td>...</td>\n",
       "      <td>...</td>\n",
       "      <td>...</td>\n",
       "      <td>...</td>\n",
       "      <td>...</td>\n",
       "      <td>...</td>\n",
       "      <td>...</td>\n",
       "      <td>...</td>\n",
       "      <td>...</td>\n",
       "      <td>...</td>\n",
       "      <td>...</td>\n",
       "      <td>...</td>\n",
       "      <td>...</td>\n",
       "      <td>...</td>\n",
       "      <td>...</td>\n",
       "      <td>...</td>\n",
       "      <td>...</td>\n",
       "      <td>...</td>\n",
       "      <td>...</td>\n",
       "      <td>...</td>\n",
       "    </tr>\n",
       "    <tr>\n",
       "      <th>361693</th>\n",
       "      <td>1495147948</td>\n",
       "      <td>depression</td>\n",
       "      <td>mangomangelo</td>\n",
       "      <td>self.depression</td>\n",
       "      <td>https://www.reddit.com/r/depression/comments/6...</td>\n",
       "      <td>3</td>\n",
       "      <td>7</td>\n",
       "      <td>NaN</td>\n",
       "      <td>NaN</td>\n",
       "      <td>Does a therapist really help?</td>\n",
       "      <td>...</td>\n",
       "      <td>0.000000</td>\n",
       "      <td>0.000000</td>\n",
       "      <td>0.000017</td>\n",
       "      <td>0.000000</td>\n",
       "      <td>0.000000</td>\n",
       "      <td>0.000000</td>\n",
       "      <td>0.007465</td>\n",
       "      <td>0.0</td>\n",
       "      <td>0.0</td>\n",
       "      <td>therapy/meds</td>\n",
       "    </tr>\n",
       "    <tr>\n",
       "      <th>361694</th>\n",
       "      <td>1494172701</td>\n",
       "      <td>depression</td>\n",
       "      <td>franksinatraisbest</td>\n",
       "      <td>self.depression</td>\n",
       "      <td>https://www.reddit.com/r/depression/comments/6...</td>\n",
       "      <td>1</td>\n",
       "      <td>4</td>\n",
       "      <td>NaN</td>\n",
       "      <td>NaN</td>\n",
       "      <td>I have no ambition, no desires, no interests, ...</td>\n",
       "      <td>...</td>\n",
       "      <td>0.003775</td>\n",
       "      <td>0.005477</td>\n",
       "      <td>0.000657</td>\n",
       "      <td>0.000999</td>\n",
       "      <td>0.000000</td>\n",
       "      <td>0.000000</td>\n",
       "      <td>0.000000</td>\n",
       "      <td>0.0</td>\n",
       "      <td>0.0</td>\n",
       "      <td>job</td>\n",
       "    </tr>\n",
       "    <tr>\n",
       "      <th>361695</th>\n",
       "      <td>1494005055</td>\n",
       "      <td>depression</td>\n",
       "      <td>Vanillexhope</td>\n",
       "      <td>self.depression</td>\n",
       "      <td>https://www.reddit.com/r/depression/comments/6...</td>\n",
       "      <td>1</td>\n",
       "      <td>3</td>\n",
       "      <td>NaN</td>\n",
       "      <td>NaN</td>\n",
       "      <td>I Am a Failure</td>\n",
       "      <td>...</td>\n",
       "      <td>0.002027</td>\n",
       "      <td>0.013013</td>\n",
       "      <td>0.000000</td>\n",
       "      <td>0.000000</td>\n",
       "      <td>0.000000</td>\n",
       "      <td>0.000000</td>\n",
       "      <td>0.000000</td>\n",
       "      <td>0.0</td>\n",
       "      <td>0.0</td>\n",
       "      <td>job</td>\n",
       "    </tr>\n",
       "    <tr>\n",
       "      <th>361696</th>\n",
       "      <td>1495750855</td>\n",
       "      <td>depression</td>\n",
       "      <td>Trip_SS</td>\n",
       "      <td>self.depression</td>\n",
       "      <td>https://www.reddit.com/r/depression/comments/6...</td>\n",
       "      <td>6</td>\n",
       "      <td>9</td>\n",
       "      <td>NaN</td>\n",
       "      <td>NaN</td>\n",
       "      <td>I feel alone, sick, empty, unneeded.</td>\n",
       "      <td>...</td>\n",
       "      <td>0.009516</td>\n",
       "      <td>0.000000</td>\n",
       "      <td>0.000000</td>\n",
       "      <td>0.000000</td>\n",
       "      <td>0.000121</td>\n",
       "      <td>0.000000</td>\n",
       "      <td>0.000000</td>\n",
       "      <td>0.0</td>\n",
       "      <td>0.0</td>\n",
       "      <td>tired/sick</td>\n",
       "    </tr>\n",
       "    <tr>\n",
       "      <th>361697</th>\n",
       "      <td>1494881456</td>\n",
       "      <td>depression</td>\n",
       "      <td>whodiz</td>\n",
       "      <td>self.depression</td>\n",
       "      <td>https://www.reddit.com/r/depression/comments/6...</td>\n",
       "      <td>3</td>\n",
       "      <td>2</td>\n",
       "      <td>NaN</td>\n",
       "      <td>NaN</td>\n",
       "      <td>When did everything get so hard?</td>\n",
       "      <td>...</td>\n",
       "      <td>0.009717</td>\n",
       "      <td>0.000443</td>\n",
       "      <td>0.000000</td>\n",
       "      <td>0.000000</td>\n",
       "      <td>0.000458</td>\n",
       "      <td>0.000000</td>\n",
       "      <td>0.000000</td>\n",
       "      <td>0.0</td>\n",
       "      <td>0.0</td>\n",
       "      <td>sleep</td>\n",
       "    </tr>\n",
       "  </tbody>\n",
       "</table>\n",
       "<p>361698 rows × 50 columns</p>\n",
       "</div>"
      ],
      "text/plain": [
       "        created_utc   subreddit              author           domain  \\\n",
       "0        1451434602  depression         IICHASE55II  self.depression   \n",
       "1        1451177182  depression       rastasquirtle  self.depression   \n",
       "2        1451348063  depression     t1h3ro4w5aw6ay7  self.depression   \n",
       "3        1451091347  depression             iu4pkz0  self.depression   \n",
       "4        1451536175  depression        SmellyDagger  self.depression   \n",
       "...             ...         ...                 ...              ...   \n",
       "361693   1495147948  depression        mangomangelo  self.depression   \n",
       "361694   1494172701  depression  franksinatraisbest  self.depression   \n",
       "361695   1494005055  depression        Vanillexhope  self.depression   \n",
       "361696   1495750855  depression             Trip_SS  self.depression   \n",
       "361697   1494881456  depression              whodiz  self.depression   \n",
       "\n",
       "                                                      url  num_comments  \\\n",
       "0       https://www.reddit.com/r/depression/comments/3...             0   \n",
       "1       https://www.reddit.com/r/depression/comments/3...             4   \n",
       "2       https://www.reddit.com/r/depression/comments/3...             0   \n",
       "3       https://www.reddit.com/r/depression/comments/3...             0   \n",
       "4       https://www.reddit.com/r/depression/comments/3...             1   \n",
       "...                                                   ...           ...   \n",
       "361693  https://www.reddit.com/r/depression/comments/6...             3   \n",
       "361694  https://www.reddit.com/r/depression/comments/6...             1   \n",
       "361695  https://www.reddit.com/r/depression/comments/6...             1   \n",
       "361696  https://www.reddit.com/r/depression/comments/6...             6   \n",
       "361697  https://www.reddit.com/r/depression/comments/6...             3   \n",
       "\n",
       "        score   ups  downs                                              title  \\\n",
       "0           1   1.0    0.0              Just got dismissed from my university   \n",
       "1          14  14.0    0.0                         im a spoiled piece of shit   \n",
       "2           1   1.0    0.0                 Caring about a person that doesn't   \n",
       "3           0   0.0    0.0                      I really screwed up this year   \n",
       "4           2   2.0    0.0  It has been 596 days since I have debated suic...   \n",
       "...       ...   ...    ...                                                ...   \n",
       "361693      7   NaN    NaN                      Does a therapist really help?   \n",
       "361694      4   NaN    NaN  I have no ambition, no desires, no interests, ...   \n",
       "361695      3   NaN    NaN                                     I Am a Failure   \n",
       "361696      9   NaN    NaN               I feel alone, sick, empty, unneeded.   \n",
       "361697      2   NaN    NaN                   When did everything get so hard?   \n",
       "\n",
       "        ...     sleep       job friend/best/girl       sad   mom/dad  \\\n",
       "0       ...  0.001291  0.006737         0.000000  0.000000  0.000000   \n",
       "1       ...  0.000000  0.000000         0.003809  0.000000  0.005279   \n",
       "2       ...  0.000000  0.000000         0.009897  0.000000  0.000000   \n",
       "3       ...  0.000000  0.000000         0.000000  0.006170  0.003005   \n",
       "4       ...  0.000000  0.000000         0.000000  0.000000  0.001121   \n",
       "...     ...       ...       ...              ...       ...       ...   \n",
       "361693  ...  0.000000  0.000000         0.000017  0.000000  0.000000   \n",
       "361694  ...  0.003775  0.005477         0.000657  0.000999  0.000000   \n",
       "361695  ...  0.002027  0.013013         0.000000  0.000000  0.000000   \n",
       "361696  ...  0.009516  0.000000         0.000000  0.000000  0.000121   \n",
       "361697  ...  0.009717  0.000443         0.000000  0.000000  0.000458   \n",
       "\n",
       "         suicide  therapy/meds  pain/hurt  lonely  \\\n",
       "0       0.000000      0.001123        0.0     0.0   \n",
       "1       0.000127      0.000000        0.0     0.0   \n",
       "2       0.000000      0.000000        0.0     0.0   \n",
       "3       0.000000      0.000391        0.0     0.0   \n",
       "4       0.000769      0.002357        0.0     0.0   \n",
       "...          ...           ...        ...     ...   \n",
       "361693  0.000000      0.007465        0.0     0.0   \n",
       "361694  0.000000      0.000000        0.0     0.0   \n",
       "361695  0.000000      0.000000        0.0     0.0   \n",
       "361696  0.000000      0.000000        0.0     0.0   \n",
       "361697  0.000000      0.000000        0.0     0.0   \n",
       "\n",
       "                           max_topic  \n",
       "0                                job  \n",
       "1                         tired/sick  \n",
       "2                   friend/best/girl  \n",
       "3                                sad  \n",
       "4       depression/anxiety/diagnosed  \n",
       "...                              ...  \n",
       "361693                  therapy/meds  \n",
       "361694                           job  \n",
       "361695                           job  \n",
       "361696                    tired/sick  \n",
       "361697                         sleep  \n",
       "\n",
       "[361698 rows x 50 columns]"
      ]
     },
     "execution_count": 585,
     "metadata": {},
     "output_type": "execute_result"
    }
   ],
   "source": [
    "df2"
   ]
  },
  {
   "cell_type": "code",
   "execution_count": 605,
   "metadata": {
    "scrolled": false
   },
   "outputs": [
    {
     "data": {
      "text/plain": [
       "86334     0.077762\n",
       "3658      0.059210\n",
       "116231    0.057774\n",
       "78310     0.057545\n",
       "74006     0.057318\n",
       "            ...   \n",
       "78913     0.000000\n",
       "78914     0.000000\n",
       "78915     0.000000\n",
       "78916     0.000000\n",
       "0         0.000000\n",
       "Name: school, Length: 126781, dtype: float64"
      ]
     },
     "execution_count": 605,
     "metadata": {},
     "output_type": "execute_result"
    }
   ],
   "source": [
    "df.school.sort_values(ascending=False)"
   ]
  },
  {
   "cell_type": "code",
   "execution_count": 629,
   "metadata": {
    "scrolled": true
   },
   "outputs": [
    {
     "data": {
      "text/plain": [
       "array([0.0,\n",
       "       \"i have no friends and i'm alone most of my friends have moved away this year, and i have no friends, i don't know how to make friends, and i feel incredibly alone. i have two friends, and one is moving away pretty soon. i have a so, but i still feel lonely, very lonely. i'm in college and i've forgotten how to make friends, i'm crying right now, and i've been feeling quite anxious because of it. it sucks, because i wish i had a nice group of friends i could hang out with on the weekends. \"],\n",
       "      dtype=object)"
      ]
     },
     "execution_count": 629,
     "metadata": {},
     "output_type": "execute_result"
    }
   ],
   "source": [
    "df.sort_values(by=['friends'],ascending=False)[['social', 'text_title']].values[1]"
   ]
  },
  {
   "cell_type": "code",
   "execution_count": null,
   "metadata": {},
   "outputs": [],
   "source": []
  },
  {
   "cell_type": "code",
   "execution_count": 619,
   "metadata": {},
   "outputs": [
    {
     "data": {
      "text/plain": [
       "array([0.017748306492302867,\n",
       "       'depressed because i don’t have friends, too depressed to want to try to make friends i feel almost completely alone and even the people who are in my life seem like they’re only there because they know i’ve got no one else, or because i’ll have sex with them. i’m sad because i feel alone and like people don’t like me, but i know it’s my own fault because i’m too depressed to make any effort to make any friends on the course i’m taking, i’d rather just go home during lunch and stay in bed while everyone else is having a night out. everything would be so much easier if i was happy being lonely or if i could just finally die'],\n",
       "      dtype=object)"
      ]
     },
     "execution_count": 619,
     "metadata": {},
     "output_type": "execute_result"
    }
   ],
   "source": [
    "df2.sort_values(by=['friends/social'],ascending=False)[['friends/social', 'text_title']].values[1000]"
   ]
  },
  {
   "cell_type": "code",
   "execution_count": 614,
   "metadata": {
    "scrolled": false
   },
   "outputs": [
    {
     "data": {
      "text/plain": [
       "array([0.05227866824069941,\n",
       "       'feeling so lonely recently�� why do i find it so hard to make new friends! tl dr; so after leaving school a couple of years ago, me and my best friends went off and did our own things. some have moved away, some have got engaged and started a family. and now we rarely even speak to each other��  so even though we all went on different paths in our lives, i honestly thought we’d still be best friends and that we’d still see each other regularly. i really have tried to stay in touch with them all, i’ve tried planning when we can all meet up or when we can go for food together or days out. but it always seems to be me making the effort. they don’t seem that bothered about keeping in touch with me. so after a while, i just stopped.... and now i barely hear from any of them. i keep telling myself to just send them a message but then i think what’s the point. i also blame myself sometimes, did i let my anxiety affect my friendships. is it my fault that i don’t feel like i have any close friends anymore?  when i became friends with this group of girls, i was a lot more confident in myself and my anxiety was no where near as bad as it is now. so i’m really struggling to make new friends, i don’t just want friends who aren’t really close friends..... i just really want a best friend. i hate feeling so lonely and upset about the fact i’m not friends with the girls i went through high school with.  i find it really hard when i see other groups of girls, having a laugh together, going on nights out and going on holidays together. because that’s all i want, is a best friend to share memories with�� what to do??! '],\n",
       "      dtype=object)"
      ]
     },
     "execution_count": 614,
     "metadata": {},
     "output_type": "execute_result"
    }
   ],
   "source": [
    "df.sort_values(by=['friends'],ascending=False)[['friends', 'text_title']].values[10]"
   ]
  },
  {
   "cell_type": "code",
   "execution_count": 682,
   "metadata": {
    "scrolled": false
   },
   "outputs": [
    {
     "data": {
      "text/plain": [
       "['friends',\n",
       " 'home/house',\n",
       " 'panic',\n",
       " 'school',\n",
       " 'work',\n",
       " 'anxious/super/reason',\n",
       " 'sleep',\n",
       " 'medication',\n",
       " 'food/dietary',\n",
       " 'fear/death',\n",
       " 'driving',\n",
       " 'heart/chest',\n",
       " 'occupational',\n",
       " 'social']"
      ]
     },
     "execution_count": 682,
     "metadata": {},
     "output_type": "execute_result"
    }
   ],
   "source": [
    "d_topics = list(df.max_topic.unique())\n",
    "d_topics"
   ]
  },
  {
   "cell_type": "code",
   "execution_count": 669,
   "metadata": {},
   "outputs": [],
   "source": [
    "def get_info(data, topic, idx):\n",
    "    topics = list(data.max_topic.unique())\n",
    "    print(data.sort_values(by=[topic],ascending=False)[topics + ['text_title']].iloc[idx])\n",
    "    print(data.sort_values(by=[topic],ascending=False)[['text_title', 'max_topic']].values[idx])"
   ]
  },
  {
   "cell_type": "code",
   "execution_count": 804,
   "metadata": {},
   "outputs": [
    {
     "name": "stdout",
     "output_type": "stream",
     "text": [
      "friends                                                                 0\n",
      "home/house                                                              0\n",
      "panic                                                         0.000365901\n",
      "school                                                                  0\n",
      "work                                                                    0\n",
      "anxious/super/reason                                                    0\n",
      "sleep                                                           0.0440635\n",
      "medication                                                    0.000440355\n",
      "food/dietary                                                            0\n",
      "fear/death                                                      0.0190994\n",
      "driving                                                                 0\n",
      "heart/chest                                                   0.000886834\n",
      "occupational                                                            0\n",
      "social                                                                  0\n",
      "text_title              couldn't breathe last night when i tried to sl...\n",
      "Name: 51939, dtype: object\n",
      "[\"couldn't breathe last night when i tried to sleep...help so i fell asleep last night and woke up at around 3am. then i stayed up for about 2 hours and tried to go back to sleep. but when i tried going to sleep, i would completely lose my breathe. it really scared me and i would just wake back up all nervous and scared. this is the first time something like this has ever happened to me. is this normal with anxiety?? what could this be? fyi: it's summer time and my sleep cycle is kinda wacky just so you know. but could this cause something scary like this? \"\n",
      " 'sleep']\n"
     ]
    }
   ],
   "source": [
    "get_info(df,'sleep', 120)"
   ]
  },
  {
   "cell_type": "code",
   "execution_count": 806,
   "metadata": {},
   "outputs": [
    {
     "name": "stdout",
     "output_type": "stream",
     "text": [
      "job                                                                             0\n",
      "tired/sick                                                                      0\n",
      "friend/best/girl                                                                0\n",
      "sad                                                                             0\n",
      "depression/anxiety/diagnosed                                                    0\n",
      "depressed/suicidal/reason                                                       0\n",
      "friends/social                                                                  0\n",
      "mom/dad                                                               0.000404086\n",
      "therapy/meds                                                                    0\n",
      "pain/hurt                                                                       0\n",
      "school                                                                 0.00957849\n",
      "sleep                                                                   0.0338069\n",
      "lonely                                                                          0\n",
      "suicide                                                                         0\n",
      "text_title                      i wish i could just sleep longer like sleep as...\n",
      "Name: 213148, dtype: object\n",
      "['i wish i could just sleep longer like sleep as soon i get home until i have to go to school and then literally sleep through the entire weekend��.'\n",
      " 'sleep']\n"
     ]
    }
   ],
   "source": [
    "get_info(df2,'sleep', 150)"
   ]
  },
  {
   "cell_type": "code",
   "execution_count": 817,
   "metadata": {
    "scrolled": false
   },
   "outputs": [
    {
     "name": "stdout",
     "output_type": "stream",
     "text": [
      "friends                                                                 0\n",
      "home/house                                                              0\n",
      "panic                                                                   0\n",
      "school                                                                  0\n",
      "work                                                                    0\n",
      "anxious/super/reason                                                    0\n",
      "sleep                                                           0.0537634\n",
      "medication                                                              0\n",
      "food/dietary                                                            0\n",
      "fear/death                                                              0\n",
      "driving                                                                 0\n",
      "heart/chest                                                             0\n",
      "occupational                                                            0\n",
      "social                                                                  0\n",
      "text_title              sleeping are you ever not able to fall asleep ...\n",
      "Name: 32912, dtype: object\n",
      "['sleeping are you ever not able to fall asleep and then you get anxiety about not being able to sleep knowing you have to be up in the morning and then that anxiety makes you not be able to sleep more and then you have anxiety about your anxiety? because same.'\n",
      " 'sleep']\n"
     ]
    }
   ],
   "source": [
    "get_info(df,'sleep', 17)"
   ]
  },
  {
   "cell_type": "code",
   "execution_count": 867,
   "metadata": {},
   "outputs": [
    {
     "name": "stdout",
     "output_type": "stream",
     "text": [
      "False    123014\n",
      "True       3767\n",
      "Name: text_title, dtype: int64\n",
      "False    5522\n",
      "True      289\n",
      "Name: text_title, dtype: int64\n"
     ]
    }
   ],
   "source": [
    "temp = df[df.max_topic=='social']\n",
    "print(df.text_title.str.contains('online').value_counts())\n",
    "\n",
    "temp = df[df.max_topic=='social']\n",
    "print(temp.text_title.str.contains('online').value_counts())"
   ]
  },
  {
   "cell_type": "code",
   "execution_count": 870,
   "metadata": {},
   "outputs": [
    {
     "name": "stdout",
     "output_type": "stream",
     "text": [
      "False    357497\n",
      "True       4200\n",
      "Name: text_title, dtype: int64\n",
      "False    28592\n",
      "True      1063\n",
      "Name: text_title, dtype: int64\n"
     ]
    }
   ],
   "source": [
    "# temp = df[df.max_topic=='friends/social']\n",
    "print(df2.text_title.str.contains('social media').value_counts())\n",
    "\n",
    "temp = df2[df2.max_topic=='friends/social']\n",
    "print(temp.text_title.str.contains('social media').value_counts())"
   ]
  },
  {
   "cell_type": "code",
   "execution_count": 854,
   "metadata": {},
   "outputs": [
    {
     "data": {
      "text/plain": [
       "\"the nice weather makes me feel bad the weather is really nice today, it hasn't been like this for a long time. while everyone else is outside having fun i sit here i a dark room. i want to go out, but i don't have anyone to be with and i don't want to be alone. it feels like i'm missing out when i see people enjoying the hot weather all over snapchat and social media. sometimes i wish i never existed, but at the same time i'm scared my life is passing me by and it's burning me up from the inside that i'm unable to enjoy this. \""
      ]
     },
     "execution_count": 854,
     "metadata": {},
     "output_type": "execute_result"
    }
   ],
   "source": [
    "df2.loc[361679]['text_title']"
   ]
  },
  {
   "cell_type": "code",
   "execution_count": 845,
   "metadata": {},
   "outputs": [
    {
     "name": "stdout",
     "output_type": "stream",
     "text": [
      "job                                                                             0\n",
      "tired/sick                                                                      0\n",
      "friend/best/girl                                                       0.00371001\n",
      "sad                                                                             0\n",
      "depression/anxiety/diagnosed                                          0.000417951\n",
      "depressed/suicidal/reason                                                       0\n",
      "friends/social                                                          0.0247355\n",
      "mom/dad                                                                         0\n",
      "therapy/meds                                                          0.000333215\n",
      "pain/hurt                                                                       0\n",
      "school                                                                  0.0114853\n",
      "sleep                                                                           0\n",
      "lonely                                                                  0.0041319\n",
      "suicide                                                                         0\n",
      "text_title                      why am i not okay with what i have i have frie...\n",
      "Name: 320898, dtype: object\n",
      "['why am i not okay with what i have i have friends. i have people to talk to everyday, groupchats i’m in, followers on social media. people have said they’re jealous of how many friends i have, said that i have more friends than they do, that “everyone knows me.” but i’ve never felt more lonely.  i know that i really don’t know that many people. that in many of my classes i stay to myself. that it’s incredibly hard for me to keep a conversation, and to become close with others despite what my posts on social media may look like. and that’s another thing. i know stuff like instagram and snapchat is so so so bad for me. i can’t stop comparing myself and my numbers and the amount of friends i have in my posts and everything and it scares me because i never thought it’d get to this. i get a reasonable amount of likes and views, and although that’s what i’m so jealous of, i know deep inside that it means nothing.  when i see my old friends from middle school, those that i was considered “more popular” than in the past (i hate saying that, but i think that’s a big reason why it hurts me so much today) hanging out with their new friends and assimilating so well, it literally crushes me. i get such intense anxiety. my day is ruined. all because my friends have found friends, and i can’t.  my old friends have changed. my best friend dropped me with no reason. the people i was once close with feel so far away now.  i guess it’s been hard for me because during the last few years of middle school, i was friends with everyone and had such an easier time talking to others. now i see all my old friends doing so much better than me, and i hate the fact that i want to be “better than them” while simultaneously just wanting to “be like them.” i should be proud of myself for making the friends i have now, considering my social anxiety and the rough transition between middle school and high school. i want to stop comparing myself and feel happy for what i have accomplished, but fuck, it’s so so so hard.  i have things that other people would be jealous of, and i’m ungrateful as hell.  '\n",
      " 'friends/social']\n"
     ]
    }
   ],
   "source": [
    "get_info(df2,'friends/social', 171)"
   ]
  },
  {
   "cell_type": "code",
   "execution_count": 743,
   "metadata": {},
   "outputs": [
    {
     "data": {
      "text/plain": [
       "['friends',\n",
       " 'home/house',\n",
       " 'panic',\n",
       " 'school',\n",
       " 'work',\n",
       " 'anxious/super/reason',\n",
       " 'sleep',\n",
       " 'medication',\n",
       " 'food/dietary',\n",
       " 'fear/death',\n",
       " 'driving',\n",
       " 'heart/chest',\n",
       " 'occupational',\n",
       " 'social']"
      ]
     },
     "execution_count": 743,
     "metadata": {},
     "output_type": "execute_result"
    }
   ],
   "source": [
    "topics = list(df.max_topic.unique())\n",
    "topics"
   ]
  },
  {
   "cell_type": "code",
   "execution_count": 800,
   "metadata": {},
   "outputs": [
    {
     "data": {
      "text/plain": [
       "['created_utc',\n",
       " 'subreddit',\n",
       " 'author',\n",
       " 'domain',\n",
       " 'url',\n",
       " 'num_comments',\n",
       " 'score',\n",
       " 'ups',\n",
       " 'downs',\n",
       " 'title',\n",
       " 'selftext',\n",
       " 'saved',\n",
       " 'id',\n",
       " 'from_kind',\n",
       " 'gilded',\n",
       " 'from',\n",
       " 'stickied',\n",
       " 'retrieved_on',\n",
       " 'over_18',\n",
       " 'thumbnail',\n",
       " 'subreddit_id',\n",
       " 'hide_score',\n",
       " 'link_flair_css_class',\n",
       " 'author_flair_css_class',\n",
       " 'archived',\n",
       " 'is_self',\n",
       " 'from_id',\n",
       " 'permalink',\n",
       " 'name',\n",
       " 'author_flair_text',\n",
       " 'quarantine',\n",
       " 'link_flair_text',\n",
       " 'distinguished',\n",
       " 'date',\n",
       " 'text_title',\n",
       " 'panic',\n",
       " 'occupational',\n",
       " 'sleep',\n",
       " 'medication',\n",
       " 'heart/chest',\n",
       " 'anxious/super/reason',\n",
       " 'school',\n",
       " 'work',\n",
       " 'friends',\n",
       " 'home/house',\n",
       " 'food/dietary',\n",
       " 'fear/death',\n",
       " 'social',\n",
       " 'driving',\n",
       " 'max_topic']"
      ]
     },
     "execution_count": 800,
     "metadata": {},
     "output_type": "execute_result"
    }
   ],
   "source": [
    "df.columns.to_list()"
   ]
  },
  {
   "cell_type": "code",
   "execution_count": 799,
   "metadata": {
    "scrolled": false
   },
   "outputs": [
    {
     "data": {
      "image/png": "[encoded data removed]",
      "text/plain": [
       "<Figure size 720x576 with 1 Axes>"
      ]
     },
     "metadata": {
      "needs_background": "dark"
     },
     "output_type": "display_data"
    }
   ],
   "source": [
    "temp = df.max_topic.value_counts().sort_values()\n",
    "x = temp.index\n",
    "y = temp.values\n",
    "\n",
    "fig, ax = plt.subplots(figsize=[10, 8])\n",
    "plt.title('r/anxiety', color='white')\n",
    "ax.barh(x, y, color = 'orange')\n",
    "\n",
    "ax.axes.tick_params(axis=\"y\", colors='white', labelsize=15)\n",
    "ax.axes.tick_params(axis=\"x\", colors=\"white\", labelsize=10)\n",
    "plt.savefig('deprssion_topics.png', transparent=True, dpi=300)"
   ]
  },
  {
   "cell_type": "code",
   "execution_count": null,
   "metadata": {},
   "outputs": [],
   "source": [
    "# df2[depression_cols[1::]].idxmax(axis=1)"
   ]
  },
  {
   "cell_type": "code",
   "execution_count": 687,
   "metadata": {
    "scrolled": false
   },
   "outputs": [
    {
     "data": {
      "text/plain": [
       "<AxesSubplot:>"
      ]
     },
     "execution_count": 687,
     "metadata": {},
     "output_type": "execute_result"
    },
    {
     "data": {
      "image/png": "[encoded data removed]",
      "text/plain": [
       "<Figure size 432x288 with 1 Axes>"
      ]
     },
     "metadata": {
      "needs_background": "light"
     },
     "output_type": "display_data"
    }
   ],
   "source": [
    "df2.max_topic.value_counts().sort_values().plot.barh()"
   ]
  },
  {
   "cell_type": "code",
   "execution_count": 789,
   "metadata": {},
   "outputs": [
    {
     "data": {
      "text/plain": [
       "date              \n",
       "2015-11-30  101037    0.015125\n",
       "            73642     0.010688\n",
       "2015-12-01  48936     0.023917\n",
       "            5089      0.012947\n",
       "2015-12-02  30037     0.019362\n",
       "                        ...   \n",
       "2019-08-29  37896     0.028981\n",
       "2019-08-30  61730     0.038564\n",
       "            79545     0.028841\n",
       "2019-08-31  32373     0.036601\n",
       "            39050     0.031709\n",
       "Name: school, Length: 2684, dtype: float64"
      ]
     },
     "execution_count": 789,
     "metadata": {},
     "output_type": "execute_result"
    }
   ],
   "source": [
    "df.groupby(df.date.dt.date).school.nlargest(2)\n"
   ]
  },
  {
   "cell_type": "code",
   "execution_count": 785,
   "metadata": {},
   "outputs": [
    {
     "data": {
      "text/plain": [
       "array([1450140826, 'depression', 'CCNB', 'self.depression',\n",
       "       'https://www.reddit.com/r/depression/comments/3wv2a2/i_feel_like_if_i_dont_help_my_mom_out_now_she_is/',\n",
       "       2, 1, 1.0, 0.0,\n",
       "       \"I feel like if I don't help my Mom out now, she is going to die alone and miserable.\",\n",
       "       \"Hi Everyone and Happy Holidays from Canada, I'm looking for some real advice as I can't figure out this situation myself and I'm really trying to find a real solution as my resources are rather limited so I thought I'd ask on here. I truly miss my Mom and she is deep down a good person but she had a really bad life. I won't get into specifics or make this super long as I want to concentrate more on helping her out this Christmas. As a kid she was sexually abused by a family member. She left home at a young age and met my Father. As far as I remember, they had a real bad and abusive relationship. All I remember from when I was a toddler to about 8 years old is seeing them fight and my mom getting hit.  We moved away and I pretty much grew up with my Mom while on welfare, we were always broke and she always had new boyfriends. Once I was at an age where I could defend my Mom, I had to fight one of her boyfriends to save her. My Mom has always smoked, she did drugs, she drank, she gambled and she always used people for money. Once I was at an age where I can work and make money she would literally con me into giving her whatever I make so she can feed her various addictions.  She kicked me out of the house numerous times and I was kicked out for a final time when I was 16, I had to drop out of highschool and work full time to afford a room to rent and food and etc.  Regardless, she moved to another province afterwards and I thought it was a good idea to live with her again, which it clearly wasn't.  I would give her money when I could and I even gave her my car while I was in Basic Training in the military as she complained that she had to walk too far for work and public transit sucked in the city she was living, being in her 50s I kind of always felt bad for her. Fast forward a couple years, I was releasing out of the military because of some medical issues on my end and I was in a bit of a bind financially and my Mom asked me for $2,000 so she can move closer to family to get her life straightened out. I told her that I can't do that as I had to think about myself and my future. She then told me she wished I wasn't her child and she regrets giving birth to me. I went through a depressive phase as I couldn't believe someone I loved and cared and helped out for so long would say that to me, I guess it was reality.  I didn't talk to her in over 3 years until a couple days ago, I sent a letter to her telling her that I got Engaged, trying to pursue a different career, living a healthy lifestyle and that everything is great with me. I included some pictures and told her that I love her and miss her. One of her sisters that helps her out once in awhile that live close to her said that they visited her a couple days ago and she was sleeping on an air mattress, didn't have much food in the fridge and she was in such a bad living condition.  Only her mom and one of her sisters out of the whole family talks to her because she burnt way too many bridges and she refuses to get help. Now I have a sister which I take care of and do things for whenever I can since she didn't have much of a chance in life with her childhood, and she has lost all hope for our Mom too. Life is too short and I feel terrible for my Mom, I wish there was a way to help her without either bringing on too much anxiety/depression in my life(I do have to think of myself). and without throwing money at her as I don't have a lot to begin with but who knows what she will do with her money. I think her main addictions now is gambling, and smoking so I don't think I can get her into rehab, I don't think she would volunteerly go anyways. I have NO idea as to what I should do, I just want to help but then again I haven't seen her in years and I blocked her out of my life to protect myself but now that I'm mentally stable again and able to help I do not know how to approach this. Please reddit, I need some advice. I feel like if I don't help her, she will die alone and in a room by herself. She is human and she deserves better in life. I love her.\",\n",
       "       False, '3wv2a2', nan, 0, nan, False, 1454929178, False, 'self',\n",
       "       't5_2qqqf', False, nan, nan, False, True, nan,\n",
       "       '/r/depression/comments/3wv2a2/i_feel_like_if_i_dont_help_my_mom_out_now_she_is/',\n",
       "       't3_3wv2a2', nan, False, nan, nan,\n",
       "       Timestamp('2015-12-14 18:53:46'),\n",
       "       \"i feel like if i don't help my mom out now, she is going to die alone and miserable. hi everyone and happy holidays from canada, i'm looking for some real advice as i can't figure out this situation myself and i'm really trying to find a real solution as my resources are rather limited so i thought i'd ask on here. i truly miss my mom and she is deep down a good person but she had a really bad life. i won't get into specifics or make this super long as i want to concentrate more on helping her out this christmas. as a kid she was sexually abused by a family member. she left home at a young age and met my father. as far as i remember, they had a real bad and abusive relationship. all i remember from when i was a toddler to about 8 years old is seeing them fight and my mom getting hit.  we moved away and i pretty much grew up with my mom while on welfare, we were always broke and she always had new boyfriends. once i was at an age where i could defend my mom, i had to fight one of her boyfriends to save her. my mom has always smoked, she did drugs, she drank, she gambled and she always used people for money. once i was at an age where i can work and make money she would literally con me into giving her whatever i make so she can feed her various addictions.  she kicked me out of the house numerous times and i was kicked out for a final time when i was 16, i had to drop out of highschool and work full time to afford a room to rent and food and etc.  regardless, she moved to another province afterwards and i thought it was a good idea to live with her again, which it clearly wasn't.  i would give her money when i could and i even gave her my car while i was in basic training in the military as she complained that she had to walk too far for work and public transit sucked in the city she was living, being in her 50s i kind of always felt bad for her. fast forward a couple years, i was releasing out of the military because of some medical issues on my end and i was in a bit of a bind financially and my mom asked me for $2,000 so she can move closer to family to get her life straightened out. i told her that i can't do that as i had to think about myself and my future. she then told me she wished i wasn't her child and she regrets giving birth to me. i went through a depressive phase as i couldn't believe someone i loved and cared and helped out for so long would say that to me, i guess it was reality.  i didn't talk to her in over 3 years until a couple days ago, i sent a letter to her telling her that i got engaged, trying to pursue a different career, living a healthy lifestyle and that everything is great with me. i included some pictures and told her that i love her and miss her. one of her sisters that helps her out once in awhile that live close to her said that they visited her a couple days ago and she was sleeping on an air mattress, didn't have much food in the fridge and she was in such a bad living condition.  only her mom and one of her sisters out of the whole family talks to her because she burnt way too many bridges and she refuses to get help. now i have a sister which i take care of and do things for whenever i can since she didn't have much of a chance in life with her childhood, and she has lost all hope for our mom too. life is too short and i feel terrible for my mom, i wish there was a way to help her without either bringing on too much anxiety/depression in my life(i do have to think of myself). and without throwing money at her as i don't have a lot to begin with but who knows what she will do with her money. i think her main addictions now is gambling, and smoking so i don't think i can get her into rehab, i don't think she would volunteerly go anyways. i have no idea as to what i should do, i just want to help but then again i haven't seen her in years and i blocked her out of my life to protect myself but now that i'm mentally stable again and able to help i do not know how to approach this. please reddit, i need some advice. i feel like if i don't help her, she will die alone and in a room by herself. she is human and she deserves better in life. i love her.\",\n",
       "       0.000922359616455315, 0.0, 0.0, 0.0, 0.0, 0.0,\n",
       "       0.0021744760245630155, 0.0, 0.0, 0.02075820003833845, 0.0, 0.0,\n",
       "       0.0, 0.0, 'mom/dad'], dtype=object)"
      ]
     },
     "execution_count": 785,
     "metadata": {},
     "output_type": "execute_result"
    }
   ],
   "source": [
    "temp = df2.dropna(subset=['text_title'])\n",
    "temp[temp.text_title.str.contains('looking for ')].values[7]"
   ]
  },
  {
   "cell_type": "code",
   "execution_count": 744,
   "metadata": {},
   "outputs": [
    {
     "name": "stdout",
     "output_type": "stream",
     "text": [
      "friends                                                                 0\n",
      "home/house                                                              0\n",
      "panic                                                                   0\n",
      "school                                                                  0\n",
      "work                                                                    0\n",
      "anxious/super/reason                                                    0\n",
      "sleep                                                                   0\n",
      "medication                                                      0.0434025\n",
      "food/dietary                                                            0\n",
      "fear/death                                                              0\n",
      "driving                                                                 0\n",
      "heart/chest                                                             0\n",
      "occupational                                                            0\n",
      "social                                                                  0\n",
      "text_title              lexapro my doctor just prescribed lexapro for ...\n",
      "Name: 111694, dtype: object\n",
      "['lexapro my doctor just prescribed lexapro for depression and anxiety. is there anything that i can expect from this medication? '\n",
      " 'medication']\n"
     ]
    }
   ],
   "source": [
    "get_info(df, 'medication', 3)"
   ]
  },
  {
   "cell_type": "code",
   "execution_count": 692,
   "metadata": {},
   "outputs": [
    {
     "name": "stdout",
     "output_type": "stream",
     "text": [
      "job                                                                     0\n",
      "tired/sick                                                              0\n",
      "friend/best/girl                                                        0\n",
      "sad                                                              0.031679\n",
      "depression/anxiety/diagnosed                                            0\n",
      "depressed/suicidal/reason                                               0\n",
      "friends/social                                                          0\n",
      "mom/dad                                                                 0\n",
      "therapy/meds                                                            0\n",
      "pain/hurt                                                               0\n",
      "school                                                                  0\n",
      "sleep                                                            0.034926\n",
      "lonely                                                                  0\n",
      "suicide                                                                 0\n",
      "text_title                      sad i wish i’d sleep and never wake up ��\n",
      "Name: 209414, dtype: object\n",
      "['sad i wish i’d sleep and never wake up ��' 'sleep']\n"
     ]
    }
   ],
   "source": [
    "get_info(df2, 'sleep', 121)"
   ]
  },
  {
   "cell_type": "code",
   "execution_count": 684,
   "metadata": {},
   "outputs": [
    {
     "name": "stdout",
     "output_type": "stream",
     "text": [
      "job                                                                             0\n",
      "tired/sick                                                                      0\n",
      "friend/best/girl                                                                0\n",
      "sad                                                                             0\n",
      "depression/anxiety/diagnosed                                           0.00407267\n",
      "depressed/suicidal/reason                                                       0\n",
      "friends/social                                                          0.0260471\n",
      "mom/dad                                                                         0\n",
      "therapy/meds                                                                    0\n",
      "pain/hurt                                                                       0\n",
      "school                                                                 0.00515327\n",
      "sleep                                                                           0\n",
      "lonely                                                                          0\n",
      "suicide                                                                         0\n",
      "text_title                      i feel like i don't have friends anymore i hav...\n",
      "Name: 188073, dtype: object\n",
      "[\"i feel like i don't have friends anymore i have like one or two real friends. yeah, i have those people that i talk to at school that i refer to as my friends when talking to or about them, but they're not /really/ my friends. i have my bestfriend and two other people that i hang out with that i guess you could call my friends, but i honestly feel so alone anymore that i don't wanna be here. i kind of did this to myself because as my depression got worse i continued to push the people in my life away from me and here i am today.\"\n",
      " 'friends/social']\n"
     ]
    }
   ],
   "source": [
    "get_info(df2, 'friends/social', 120)"
   ]
  },
  {
   "cell_type": "code",
   "execution_count": 708,
   "metadata": {},
   "outputs": [
    {
     "name": "stdout",
     "output_type": "stream",
     "text": [
      "friends                                                                 0\n",
      "home/house                                                      0.0375647\n",
      "panic                                                                   0\n",
      "school                                                         0.00400195\n",
      "work                                                           0.00110712\n",
      "anxious/super/reason                                                    0\n",
      "sleep                                                                   0\n",
      "medication                                                              0\n",
      "food/dietary                                                            0\n",
      "fear/death                                                    0.000926766\n",
      "driving                                                                 0\n",
      "heart/chest                                                             0\n",
      "occupational                                                  0.000734615\n",
      "social                                                                  0\n",
      "text_title              i feel anger building up against my mom. what ...\n",
      "Name: 124495, dtype: object\n",
      "[\"i feel anger building up against my mom. what should i do? a little background first. my parents have had a tumultuous relationship as long as i can remember. my mom always felt like my dad's side of the family never treated her with any respect, and my dad gets mad at her for overspending and not properly putting things away around the house. this criticism from my dad infuriates my mom in turn, who looks for mistakes my dad has made in the past (sometimes way back) to respond with. this has been the structure of their fights for a long time. my mom always felt like my dad never wanted her to buy things, but he would say that she ought to just think about if the purchase is useful before making it. fast forward to now. i graduated from college and am now a graduate student. college was fairly expensive, but my parents did their best to pay for it as long as i tried to get the financial aid i could. some scholarships from the school and federal loans eased their burden, but they still ended up having to take home equity loans to stay afloat while paying for my tuition. meanwhile, i was also paying a few hundred from their money for food, which was something i dearly regret doing now (if i had learned to cook, i could have lived off campus and saved them a lot of money instead of ordering food). after we came back home from my graduation ceremony, my dad was clearly more furious with my mom through the summer and kept complaining about how tight they had to be with their finances, all the while undertaking renovation projects around the house that were certainly not cheap. i had always thought that my dad was complaining too much about my mom and wasn't being fair to her, so when he would complain about her to me, i got upset with him and told him to shut up. however, last winter break when i was home, my mom berated my dad for not wanting to go to work. it seemed like the financial situation of my family was taking a toll on his mental health, and it must have exhausted him to the point where he thought it wasn't worth it to do his work. i immediately got mad at my mom for not being better with finances, and she was furious. she yelled saying that she didn't want to live like a saint and that she had so little that she should be allowed to buy some clothes and accessories. unfortunately, over all these years she has tended to fill the house with those kinds of items that she never really uses and eventually gets rid of. i tried to be emphatic about her need to save money for my parents' future and my sister's college education, and eventually she broke down crying over her mistake. then my dad burst out at her and stormed out of the house. an hour later, somewhat past midnight, he returned home safe, but he said he may have suffered a mild stroke and refused to see a doctor. when i left home for the next semester, i was starting to realize how serious my parents' situation was, especially now. i acknowledged that i could have done better with my parents' money as a college student, but eventually i started to build up anger against my mom for not saving enough money over time and for spending it on things that weren't necessary. we could have gone on more vacations and they could have been in a better position for retirement. our family is indian, and the indian american families tend to be financially well off from what i perceive. we don't seem to be like that, and now i blame my mom for my family's financial problems. however, i don't make that anger apparent to her when we talk over the phone. i do love her and i am grateful to her for all the sacrifices she has made for me, so i will have no hesitation to take care of her and my dad through their old age. but i'm worried that that may hurt my finances in turn, so i try to be as diligent as possible with my money now as a grad student in order to have a secure future, and i mostly do well at it. still, no matter how much my mom assures me that things seem to be getting better for them, i can't help but feel like if she had been better with money, they wouldn't be facing these problems. my dad has a good income, even if it's not the highest. why couldn't she save more from it? and why did she keep getting mad at him when he asked her to stop spending so much? i have so much regret for getting mad at my dad for complaining about the finances. i now understand how hard it is to make ends meet, just as a single person... imagine how it must be for a family. so now i try to be as loving to him as possible, and we have a great relationship. but i'm worried that his physical health may take a toll soon because of all this, and i'm scared of what that means. all that being said, i know this anger against my mom is wrong. but i can't help but feel like she caused our family so much trouble with her recklessness, and i am worried that i will lash out at her and perhaps abandon her all together. i don't want to make her suffer, but i keep getting those terrible thoughts of doing so. what should i do? this anger is really distracting me from my studies. i am seeing a therapist, but i can only tell her so much about this situation because ultimately it's my mom who needs help (i think she has depression and anxiety like i do), so she should seek it, but i don't know how to get her to do that.\"\n",
      " 'home/house']\n"
     ]
    }
   ],
   "source": [
    "get_info(df, 'home/house', 10)"
   ]
  },
  {
   "cell_type": "code",
   "execution_count": 715,
   "metadata": {},
   "outputs": [
    {
     "name": "stdout",
     "output_type": "stream",
     "text": [
      "job                                                                             0\n",
      "tired/sick                                                                      0\n",
      "friend/best/girl                                                                0\n",
      "sad                                                                             0\n",
      "depression/anxiety/diagnosed                                                    0\n",
      "depressed/suicidal/reason                                                       0\n",
      "friends/social                                                          0.0487004\n",
      "mom/dad                                                                         0\n",
      "therapy/meds                                                                    0\n",
      "pain/hurt                                                                       0\n",
      "school                                                                          0\n",
      "sleep                                                                           0\n",
      "lonely                                                                          0\n",
      "suicide                                                                         0\n",
      "text_title                      how many years have you been without friends? ...\n",
      "Name: 172508, dtype: object\n",
      "['how many years have you been without friends? how many years have you been without friends? 1? 4? 10?'\n",
      " 'friends/social']\n"
     ]
    }
   ],
   "source": [
    "get_info(df2, 'friends/social', 1)"
   ]
  },
  {
   "cell_type": "code",
   "execution_count": 673,
   "metadata": {},
   "outputs": [
    {
     "name": "stdout",
     "output_type": "stream",
     "text": [
      "friends                                                        0.00527628\n",
      "home/house                                                              0\n",
      "panic                                                                   0\n",
      "school                                                         0.00715611\n",
      "work                                                                    0\n",
      "anxious/super/reason                                                    0\n",
      "sleep                                                                   0\n",
      "medication                                                              0\n",
      "food/dietary                                                            0\n",
      "fear/death                                                              0\n",
      "driving                                                                 0\n",
      "heart/chest                                                   0.000289105\n",
      "occupational                                                            0\n",
      "social                                                           0.040309\n",
      "text_title              why do i feel like deleting social media would...\n",
      "Name: 64781, dtype: object\n",
      "[\"why do i feel like deleting social media would give me more anxiety than keeping it title says it all. obviously, social media is detrimental to your overall emotional well being, but i cant seem to shake it. i guess i feel like my existence \\\\(kinda pathetic\\\\) is solely online. im very shy and tend to not venture outside my close circle of friends, so i feel like im left out of a lot of typical high school stuff and being online makes me feel more involved, even if im not immensely noticed. i don't trust easily and feel like social media makes me feel like i can be social without having to be..well social irl. i see that everyone is fake and annoying online, but it feels like a weird addiction. i hate feeling that my worth and importance is a number of followers or likes i get, but deleting my accounts completely would give me more anxiety because eventually, i'd have to start over one again when college comes, so at least then some people may see i exist. sigh.\"\n",
      " 'social']\n"
     ]
    }
   ],
   "source": [
    "get_info(df, 'social', 120)"
   ]
  },
  {
   "cell_type": "code",
   "execution_count": 679,
   "metadata": {},
   "outputs": [
    {
     "name": "stdout",
     "output_type": "stream",
     "text": [
      "friends                                                                 0\n",
      "home/house                                                              0\n",
      "panic                                                                   0\n",
      "school                                                                  0\n",
      "work                                                                    0\n",
      "anxious/super/reason                                                    0\n",
      "sleep                                                                   0\n",
      "medication                                                      0.0010258\n",
      "food/dietary                                                            0\n",
      "fear/death                                                              0\n",
      "driving                                                                 0\n",
      "heart/chest                                                             0\n",
      "occupational                                                            0\n",
      "social                                                          0.0574174\n",
      "text_title              social worries, would it link to generalized a...\n",
      "Name: 101488, dtype: object\n",
      "['social worries, would it link to generalized anxiety or socialized anxiety? if someone has gad and thinks they have social anxiety and worries about social situations, how can they tell whether that is gad or social anxiety?'\n",
      " 'social']\n"
     ]
    }
   ],
   "source": [
    "get_info(df, 'social', 16)"
   ]
  },
  {
   "cell_type": "code",
   "execution_count": 681,
   "metadata": {},
   "outputs": [
    {
     "name": "stdout",
     "output_type": "stream",
     "text": [
      "job                                                                             0\n",
      "tired/sick                                                                      0\n",
      "friend/best/girl                                                                0\n",
      "sad                                                                             0\n",
      "depression/anxiety/diagnosed                                                    0\n",
      "depressed/suicidal/reason                                                       0\n",
      "friends/social                                                          0.0487004\n",
      "mom/dad                                                                         0\n",
      "therapy/meds                                                                    0\n",
      "pain/hurt                                                                       0\n",
      "school                                                                          0\n",
      "sleep                                                                           0\n",
      "lonely                                                                          0\n",
      "suicide                                                                         0\n",
      "text_title                      i have no friends or someone to talk to i wann...\n",
      "Name: 109181, dtype: object\n",
      "['i have no friends or someone to talk to i wanna die.' 'friends/social']\n"
     ]
    }
   ],
   "source": [
    "get_info(df2, 'friends/social', 16)"
   ]
  },
  {
   "cell_type": "code",
   "execution_count": 642,
   "metadata": {},
   "outputs": [
    {
     "data": {
      "text/plain": [
       "array([0.0, 0.0, 0.0, 0.0021873424923041225, 0.0, 0.00023975930057993419,\n",
       "       0.0, 0.0005653850019631086, 0.0, 0.0, 0.0, 0.0007519843405452037,\n",
       "       0.06094307965650466, 0.00048735224304475964,\n",
       "       \"feeling lonely just feeling lonely and really want someone to talk to about anything... because i'm just here crying to myself. there's no reason to, but it's just how i feel.\"],\n",
       "      dtype=object)"
      ]
     },
     "execution_count": 642,
     "metadata": {},
     "output_type": "execute_result"
    }
   ],
   "source": [
    "df2.sort_values(by=['lonely'],ascending=False)[d_topics + ['text_title']].values[61]"
   ]
  },
  {
   "cell_type": "code",
   "execution_count": null,
   "metadata": {},
   "outputs": [],
   "source": []
  },
  {
   "cell_type": "code",
   "execution_count": 590,
   "metadata": {},
   "outputs": [
    {
     "data": {
      "text/plain": [
       "array(['friends', 'home/house', 'panic', 'school', 'work',\n",
       "       'anxious/super/reason', 'sleep', 'medication', 'food/dietary',\n",
       "       'fear/death', 'driving', 'heart/chest', 'occupational', 'social'],\n",
       "      dtype=object)"
      ]
     },
     "execution_count": 590,
     "metadata": {},
     "output_type": "execute_result"
    }
   ],
   "source": [
    "df.max_topic.unique()"
   ]
  },
  {
   "cell_type": "code",
   "execution_count": 591,
   "metadata": {},
   "outputs": [
    {
     "data": {
      "text/plain": [
       "array(['job', 'tired/sick', 'friend/best/girl', 'sad',\n",
       "       'depression/anxiety/diagnosed', 'depressed/suicidal/reason',\n",
       "       'friends/social', 'mom/dad', 'therapy/meds', 'pain/hurt', 'school',\n",
       "       'sleep', 'lonely', 'suicide'], dtype=object)"
      ]
     },
     "execution_count": 591,
     "metadata": {},
     "output_type": "execute_result"
    }
   ],
   "source": [
    "df2.max_topic.unique()"
   ]
  },
  {
   "cell_type": "code",
   "execution_count": 588,
   "metadata": {
    "scrolled": false
   },
   "outputs": [
    {
     "data": {
      "text/plain": [
       "<seaborn.axisgrid.FacetGrid at 0x7fb1000afbb0>"
      ]
     },
     "execution_count": 588,
     "metadata": {},
     "output_type": "execute_result"
    },
    {
     "name": "stdout",
     "output_type": "stream",
     "text": [
      "Error in callback <function flush_figures at 0x7fb2c669dc10> (for post_execute):\n"
     ]
    },
    {
     "ename": "KeyboardInterrupt",
     "evalue": "",
     "output_type": "error",
     "traceback": [
      "\u001b[0;31m---------------------------------------------------------------------------\u001b[0m",
      "\u001b[0;31mKeyboardInterrupt\u001b[0m                         Traceback (most recent call last)",
      "\u001b[0;32m~/opt/anaconda3/lib/python3.8/site-packages/ipykernel/pylab/backend_inline.py\u001b[0m in \u001b[0;36mflush_figures\u001b[0;34m()\u001b[0m\n\u001b[1;32m    119\u001b[0m         \u001b[0;31m# ignore the tracking, just draw and close all figures\u001b[0m\u001b[0;34m\u001b[0m\u001b[0;34m\u001b[0m\u001b[0;34m\u001b[0m\u001b[0m\n\u001b[1;32m    120\u001b[0m         \u001b[0;32mtry\u001b[0m\u001b[0;34m:\u001b[0m\u001b[0;34m\u001b[0m\u001b[0;34m\u001b[0m\u001b[0m\n\u001b[0;32m--> 121\u001b[0;31m             \u001b[0;32mreturn\u001b[0m \u001b[0mshow\u001b[0m\u001b[0;34m(\u001b[0m\u001b[0;32mTrue\u001b[0m\u001b[0;34m)\u001b[0m\u001b[0;34m\u001b[0m\u001b[0;34m\u001b[0m\u001b[0m\n\u001b[0m\u001b[1;32m    122\u001b[0m         \u001b[0;32mexcept\u001b[0m \u001b[0mException\u001b[0m \u001b[0;32mas\u001b[0m \u001b[0me\u001b[0m\u001b[0;34m:\u001b[0m\u001b[0;34m\u001b[0m\u001b[0;34m\u001b[0m\u001b[0m\n\u001b[1;32m    123\u001b[0m             \u001b[0;31m# safely show traceback if in IPython, else raise\u001b[0m\u001b[0;34m\u001b[0m\u001b[0;34m\u001b[0m\u001b[0;34m\u001b[0m\u001b[0m\n",
      "\u001b[0;32m~/opt/anaconda3/lib/python3.8/site-packages/ipykernel/pylab/backend_inline.py\u001b[0m in \u001b[0;36mshow\u001b[0;34m(close, block)\u001b[0m\n\u001b[1;32m     39\u001b[0m     \u001b[0;32mtry\u001b[0m\u001b[0;34m:\u001b[0m\u001b[0;34m\u001b[0m\u001b[0;34m\u001b[0m\u001b[0m\n\u001b[1;32m     40\u001b[0m         \u001b[0;32mfor\u001b[0m \u001b[0mfigure_manager\u001b[0m \u001b[0;32min\u001b[0m \u001b[0mGcf\u001b[0m\u001b[0;34m.\u001b[0m\u001b[0mget_all_fig_managers\u001b[0m\u001b[0;34m(\u001b[0m\u001b[0;34m)\u001b[0m\u001b[0;34m:\u001b[0m\u001b[0;34m\u001b[0m\u001b[0;34m\u001b[0m\u001b[0m\n\u001b[0;32m---> 41\u001b[0;31m             display(\n\u001b[0m\u001b[1;32m     42\u001b[0m                 \u001b[0mfigure_manager\u001b[0m\u001b[0;34m.\u001b[0m\u001b[0mcanvas\u001b[0m\u001b[0;34m.\u001b[0m\u001b[0mfigure\u001b[0m\u001b[0;34m,\u001b[0m\u001b[0;34m\u001b[0m\u001b[0;34m\u001b[0m\u001b[0m\n\u001b[1;32m     43\u001b[0m                 \u001b[0mmetadata\u001b[0m\u001b[0;34m=\u001b[0m\u001b[0m_fetch_figure_metadata\u001b[0m\u001b[0;34m(\u001b[0m\u001b[0mfigure_manager\u001b[0m\u001b[0;34m.\u001b[0m\u001b[0mcanvas\u001b[0m\u001b[0;34m.\u001b[0m\u001b[0mfigure\u001b[0m\u001b[0;34m)\u001b[0m\u001b[0;34m\u001b[0m\u001b[0;34m\u001b[0m\u001b[0m\n",
      "\u001b[0;32m~/opt/anaconda3/lib/python3.8/site-packages/IPython/core/display.py\u001b[0m in \u001b[0;36mdisplay\u001b[0;34m(include, exclude, metadata, transient, display_id, *objs, **kwargs)\u001b[0m\n\u001b[1;32m    311\u001b[0m             \u001b[0mpublish_display_data\u001b[0m\u001b[0;34m(\u001b[0m\u001b[0mdata\u001b[0m\u001b[0;34m=\u001b[0m\u001b[0mobj\u001b[0m\u001b[0;34m,\u001b[0m \u001b[0mmetadata\u001b[0m\u001b[0;34m=\u001b[0m\u001b[0mmetadata\u001b[0m\u001b[0;34m,\u001b[0m \u001b[0;34m**\u001b[0m\u001b[0mkwargs\u001b[0m\u001b[0;34m)\u001b[0m\u001b[0;34m\u001b[0m\u001b[0;34m\u001b[0m\u001b[0m\n\u001b[1;32m    312\u001b[0m         \u001b[0;32melse\u001b[0m\u001b[0;34m:\u001b[0m\u001b[0;34m\u001b[0m\u001b[0;34m\u001b[0m\u001b[0m\n\u001b[0;32m--> 313\u001b[0;31m             \u001b[0mformat_dict\u001b[0m\u001b[0;34m,\u001b[0m \u001b[0mmd_dict\u001b[0m \u001b[0;34m=\u001b[0m \u001b[0mformat\u001b[0m\u001b[0;34m(\u001b[0m\u001b[0mobj\u001b[0m\u001b[0;34m,\u001b[0m \u001b[0minclude\u001b[0m\u001b[0;34m=\u001b[0m\u001b[0minclude\u001b[0m\u001b[0;34m,\u001b[0m \u001b[0mexclude\u001b[0m\u001b[0;34m=\u001b[0m\u001b[0mexclude\u001b[0m\u001b[0;34m)\u001b[0m\u001b[0;34m\u001b[0m\u001b[0;34m\u001b[0m\u001b[0m\n\u001b[0m\u001b[1;32m    314\u001b[0m             \u001b[0;32mif\u001b[0m \u001b[0;32mnot\u001b[0m \u001b[0mformat_dict\u001b[0m\u001b[0;34m:\u001b[0m\u001b[0;34m\u001b[0m\u001b[0;34m\u001b[0m\u001b[0m\n\u001b[1;32m    315\u001b[0m                 \u001b[0;31m# nothing to display (e.g. _ipython_display_ took over)\u001b[0m\u001b[0;34m\u001b[0m\u001b[0;34m\u001b[0m\u001b[0;34m\u001b[0m\u001b[0m\n",
      "\u001b[0;32m~/opt/anaconda3/lib/python3.8/site-packages/IPython/core/formatters.py\u001b[0m in \u001b[0;36mformat\u001b[0;34m(self, obj, include, exclude)\u001b[0m\n\u001b[1;32m    178\u001b[0m             \u001b[0mmd\u001b[0m \u001b[0;34m=\u001b[0m \u001b[0;32mNone\u001b[0m\u001b[0;34m\u001b[0m\u001b[0;34m\u001b[0m\u001b[0m\n\u001b[1;32m    179\u001b[0m             \u001b[0;32mtry\u001b[0m\u001b[0;34m:\u001b[0m\u001b[0;34m\u001b[0m\u001b[0;34m\u001b[0m\u001b[0m\n\u001b[0;32m--> 180\u001b[0;31m                 \u001b[0mdata\u001b[0m \u001b[0;34m=\u001b[0m \u001b[0mformatter\u001b[0m\u001b[0;34m(\u001b[0m\u001b[0mobj\u001b[0m\u001b[0;34m)\u001b[0m\u001b[0;34m\u001b[0m\u001b[0;34m\u001b[0m\u001b[0m\n\u001b[0m\u001b[1;32m    181\u001b[0m             \u001b[0;32mexcept\u001b[0m\u001b[0;34m:\u001b[0m\u001b[0;34m\u001b[0m\u001b[0;34m\u001b[0m\u001b[0m\n\u001b[1;32m    182\u001b[0m                 \u001b[0;31m# FIXME: log the exception\u001b[0m\u001b[0;34m\u001b[0m\u001b[0;34m\u001b[0m\u001b[0;34m\u001b[0m\u001b[0m\n",
      "\u001b[0;32m<decorator-gen-2>\u001b[0m in \u001b[0;36m__call__\u001b[0;34m(self, obj)\u001b[0m\n",
      "\u001b[0;32m~/opt/anaconda3/lib/python3.8/site-packages/IPython/core/formatters.py\u001b[0m in \u001b[0;36mcatch_format_error\u001b[0;34m(method, self, *args, **kwargs)\u001b[0m\n\u001b[1;32m    222\u001b[0m     \u001b[0;34m\"\"\"show traceback on failed format call\"\"\"\u001b[0m\u001b[0;34m\u001b[0m\u001b[0;34m\u001b[0m\u001b[0m\n\u001b[1;32m    223\u001b[0m     \u001b[0;32mtry\u001b[0m\u001b[0;34m:\u001b[0m\u001b[0;34m\u001b[0m\u001b[0;34m\u001b[0m\u001b[0m\n\u001b[0;32m--> 224\u001b[0;31m         \u001b[0mr\u001b[0m \u001b[0;34m=\u001b[0m \u001b[0mmethod\u001b[0m\u001b[0;34m(\u001b[0m\u001b[0mself\u001b[0m\u001b[0;34m,\u001b[0m \u001b[0;34m*\u001b[0m\u001b[0margs\u001b[0m\u001b[0;34m,\u001b[0m \u001b[0;34m**\u001b[0m\u001b[0mkwargs\u001b[0m\u001b[0;34m)\u001b[0m\u001b[0;34m\u001b[0m\u001b[0;34m\u001b[0m\u001b[0m\n\u001b[0m\u001b[1;32m    225\u001b[0m     \u001b[0;32mexcept\u001b[0m \u001b[0mNotImplementedError\u001b[0m\u001b[0;34m:\u001b[0m\u001b[0;34m\u001b[0m\u001b[0;34m\u001b[0m\u001b[0m\n\u001b[1;32m    226\u001b[0m         \u001b[0;31m# don't warn on NotImplementedErrors\u001b[0m\u001b[0;34m\u001b[0m\u001b[0;34m\u001b[0m\u001b[0;34m\u001b[0m\u001b[0m\n",
      "\u001b[0;32m~/opt/anaconda3/lib/python3.8/site-packages/IPython/core/formatters.py\u001b[0m in \u001b[0;36m__call__\u001b[0;34m(self, obj)\u001b[0m\n\u001b[1;32m    339\u001b[0m                 \u001b[0;32mpass\u001b[0m\u001b[0;34m\u001b[0m\u001b[0;34m\u001b[0m\u001b[0m\n\u001b[1;32m    340\u001b[0m             \u001b[0;32melse\u001b[0m\u001b[0;34m:\u001b[0m\u001b[0;34m\u001b[0m\u001b[0;34m\u001b[0m\u001b[0m\n\u001b[0;32m--> 341\u001b[0;31m                 \u001b[0;32mreturn\u001b[0m \u001b[0mprinter\u001b[0m\u001b[0;34m(\u001b[0m\u001b[0mobj\u001b[0m\u001b[0;34m)\u001b[0m\u001b[0;34m\u001b[0m\u001b[0;34m\u001b[0m\u001b[0m\n\u001b[0m\u001b[1;32m    342\u001b[0m             \u001b[0;31m# Finally look for special method names\u001b[0m\u001b[0;34m\u001b[0m\u001b[0;34m\u001b[0m\u001b[0;34m\u001b[0m\u001b[0m\n\u001b[1;32m    343\u001b[0m             \u001b[0mmethod\u001b[0m \u001b[0;34m=\u001b[0m \u001b[0mget_real_method\u001b[0m\u001b[0;34m(\u001b[0m\u001b[0mobj\u001b[0m\u001b[0;34m,\u001b[0m \u001b[0mself\u001b[0m\u001b[0;34m.\u001b[0m\u001b[0mprint_method\u001b[0m\u001b[0;34m)\u001b[0m\u001b[0;34m\u001b[0m\u001b[0;34m\u001b[0m\u001b[0m\n",
      "\u001b[0;32m~/opt/anaconda3/lib/python3.8/site-packages/IPython/core/pylabtools.py\u001b[0m in \u001b[0;36m<lambda>\u001b[0;34m(fig)\u001b[0m\n\u001b[1;32m    246\u001b[0m \u001b[0;34m\u001b[0m\u001b[0m\n\u001b[1;32m    247\u001b[0m     \u001b[0;32mif\u001b[0m \u001b[0;34m'png'\u001b[0m \u001b[0;32min\u001b[0m \u001b[0mformats\u001b[0m\u001b[0;34m:\u001b[0m\u001b[0;34m\u001b[0m\u001b[0;34m\u001b[0m\u001b[0m\n\u001b[0;32m--> 248\u001b[0;31m         \u001b[0mpng_formatter\u001b[0m\u001b[0;34m.\u001b[0m\u001b[0mfor_type\u001b[0m\u001b[0;34m(\u001b[0m\u001b[0mFigure\u001b[0m\u001b[0;34m,\u001b[0m \u001b[0;32mlambda\u001b[0m \u001b[0mfig\u001b[0m\u001b[0;34m:\u001b[0m \u001b[0mprint_figure\u001b[0m\u001b[0;34m(\u001b[0m\u001b[0mfig\u001b[0m\u001b[0;34m,\u001b[0m \u001b[0;34m'png'\u001b[0m\u001b[0;34m,\u001b[0m \u001b[0;34m**\u001b[0m\u001b[0mkwargs\u001b[0m\u001b[0;34m)\u001b[0m\u001b[0;34m)\u001b[0m\u001b[0;34m\u001b[0m\u001b[0;34m\u001b[0m\u001b[0m\n\u001b[0m\u001b[1;32m    249\u001b[0m     \u001b[0;32mif\u001b[0m \u001b[0;34m'retina'\u001b[0m \u001b[0;32min\u001b[0m \u001b[0mformats\u001b[0m \u001b[0;32mor\u001b[0m \u001b[0;34m'png2x'\u001b[0m \u001b[0;32min\u001b[0m \u001b[0mformats\u001b[0m\u001b[0;34m:\u001b[0m\u001b[0;34m\u001b[0m\u001b[0;34m\u001b[0m\u001b[0m\n\u001b[1;32m    250\u001b[0m         \u001b[0mpng_formatter\u001b[0m\u001b[0;34m.\u001b[0m\u001b[0mfor_type\u001b[0m\u001b[0;34m(\u001b[0m\u001b[0mFigure\u001b[0m\u001b[0;34m,\u001b[0m \u001b[0;32mlambda\u001b[0m \u001b[0mfig\u001b[0m\u001b[0;34m:\u001b[0m \u001b[0mretina_figure\u001b[0m\u001b[0;34m(\u001b[0m\u001b[0mfig\u001b[0m\u001b[0;34m,\u001b[0m \u001b[0;34m**\u001b[0m\u001b[0mkwargs\u001b[0m\u001b[0;34m)\u001b[0m\u001b[0;34m)\u001b[0m\u001b[0;34m\u001b[0m\u001b[0;34m\u001b[0m\u001b[0m\n",
      "\u001b[0;32m~/opt/anaconda3/lib/python3.8/site-packages/IPython/core/pylabtools.py\u001b[0m in \u001b[0;36mprint_figure\u001b[0;34m(fig, fmt, bbox_inches, **kwargs)\u001b[0m\n\u001b[1;32m    130\u001b[0m         \u001b[0mFigureCanvasBase\u001b[0m\u001b[0;34m(\u001b[0m\u001b[0mfig\u001b[0m\u001b[0;34m)\u001b[0m\u001b[0;34m\u001b[0m\u001b[0;34m\u001b[0m\u001b[0m\n\u001b[1;32m    131\u001b[0m \u001b[0;34m\u001b[0m\u001b[0m\n\u001b[0;32m--> 132\u001b[0;31m     \u001b[0mfig\u001b[0m\u001b[0;34m.\u001b[0m\u001b[0mcanvas\u001b[0m\u001b[0;34m.\u001b[0m\u001b[0mprint_figure\u001b[0m\u001b[0;34m(\u001b[0m\u001b[0mbytes_io\u001b[0m\u001b[0;34m,\u001b[0m \u001b[0;34m**\u001b[0m\u001b[0mkw\u001b[0m\u001b[0;34m)\u001b[0m\u001b[0;34m\u001b[0m\u001b[0;34m\u001b[0m\u001b[0m\n\u001b[0m\u001b[1;32m    133\u001b[0m     \u001b[0mdata\u001b[0m \u001b[0;34m=\u001b[0m \u001b[0mbytes_io\u001b[0m\u001b[0;34m.\u001b[0m\u001b[0mgetvalue\u001b[0m\u001b[0;34m(\u001b[0m\u001b[0;34m)\u001b[0m\u001b[0;34m\u001b[0m\u001b[0;34m\u001b[0m\u001b[0m\n\u001b[1;32m    134\u001b[0m     \u001b[0;32mif\u001b[0m \u001b[0mfmt\u001b[0m \u001b[0;34m==\u001b[0m \u001b[0;34m'svg'\u001b[0m\u001b[0;34m:\u001b[0m\u001b[0;34m\u001b[0m\u001b[0;34m\u001b[0m\u001b[0m\n",
      "\u001b[0;32m~/opt/anaconda3/lib/python3.8/site-packages/matplotlib/backend_bases.py\u001b[0m in \u001b[0;36mprint_figure\u001b[0;34m(self, filename, dpi, facecolor, edgecolor, orientation, format, bbox_inches, pad_inches, bbox_extra_artists, backend, **kwargs)\u001b[0m\n\u001b[1;32m   2193\u001b[0m                         \u001b[0mself\u001b[0m\u001b[0;34m.\u001b[0m\u001b[0mfigure\u001b[0m\u001b[0;34m.\u001b[0m\u001b[0mdraw\u001b[0m\u001b[0;34m(\u001b[0m\u001b[0mrenderer\u001b[0m\u001b[0;34m)\u001b[0m\u001b[0;34m\u001b[0m\u001b[0;34m\u001b[0m\u001b[0m\n\u001b[1;32m   2194\u001b[0m \u001b[0;34m\u001b[0m\u001b[0m\n\u001b[0;32m-> 2195\u001b[0;31m                     bbox_inches = self.figure.get_tightbbox(\n\u001b[0m\u001b[1;32m   2196\u001b[0m                         renderer, bbox_extra_artists=bbox_extra_artists)\n\u001b[1;32m   2197\u001b[0m                     \u001b[0;32mif\u001b[0m \u001b[0mpad_inches\u001b[0m \u001b[0;32mis\u001b[0m \u001b[0;32mNone\u001b[0m\u001b[0;34m:\u001b[0m\u001b[0;34m\u001b[0m\u001b[0;34m\u001b[0m\u001b[0m\n",
      "\u001b[0;32m~/opt/anaconda3/lib/python3.8/site-packages/matplotlib/figure.py\u001b[0m in \u001b[0;36mget_tightbbox\u001b[0;34m(self, renderer, bbox_extra_artists)\u001b[0m\n\u001b[1;32m   2504\u001b[0m \u001b[0;34m\u001b[0m\u001b[0m\n\u001b[1;32m   2505\u001b[0m         \u001b[0;32mfor\u001b[0m \u001b[0ma\u001b[0m \u001b[0;32min\u001b[0m \u001b[0martists\u001b[0m\u001b[0;34m:\u001b[0m\u001b[0;34m\u001b[0m\u001b[0;34m\u001b[0m\u001b[0m\n\u001b[0;32m-> 2506\u001b[0;31m             \u001b[0mbbox\u001b[0m \u001b[0;34m=\u001b[0m \u001b[0ma\u001b[0m\u001b[0;34m.\u001b[0m\u001b[0mget_tightbbox\u001b[0m\u001b[0;34m(\u001b[0m\u001b[0mrenderer\u001b[0m\u001b[0;34m)\u001b[0m\u001b[0;34m\u001b[0m\u001b[0;34m\u001b[0m\u001b[0m\n\u001b[0m\u001b[1;32m   2507\u001b[0m             \u001b[0;32mif\u001b[0m \u001b[0mbbox\u001b[0m \u001b[0;32mis\u001b[0m \u001b[0;32mnot\u001b[0m \u001b[0;32mNone\u001b[0m \u001b[0;32mand\u001b[0m \u001b[0;34m(\u001b[0m\u001b[0mbbox\u001b[0m\u001b[0;34m.\u001b[0m\u001b[0mwidth\u001b[0m \u001b[0;34m!=\u001b[0m \u001b[0;36m0\u001b[0m \u001b[0;32mor\u001b[0m \u001b[0mbbox\u001b[0m\u001b[0;34m.\u001b[0m\u001b[0mheight\u001b[0m \u001b[0;34m!=\u001b[0m \u001b[0;36m0\u001b[0m\u001b[0;34m)\u001b[0m\u001b[0;34m:\u001b[0m\u001b[0;34m\u001b[0m\u001b[0;34m\u001b[0m\u001b[0m\n\u001b[1;32m   2508\u001b[0m                 \u001b[0mbb\u001b[0m\u001b[0;34m.\u001b[0m\u001b[0mappend\u001b[0m\u001b[0;34m(\u001b[0m\u001b[0mbbox\u001b[0m\u001b[0;34m)\u001b[0m\u001b[0;34m\u001b[0m\u001b[0;34m\u001b[0m\u001b[0m\n",
      "\u001b[0;32m~/opt/anaconda3/lib/python3.8/site-packages/matplotlib/artist.py\u001b[0m in \u001b[0;36mget_tightbbox\u001b[0;34m(self, renderer)\u001b[0m\n\u001b[1;32m    276\u001b[0m             \u001b[0mThe\u001b[0m \u001b[0menclosing\u001b[0m \u001b[0mbounding\u001b[0m \u001b[0mbox\u001b[0m \u001b[0;34m(\u001b[0m\u001b[0;32min\u001b[0m \u001b[0mfigure\u001b[0m \u001b[0mpixel\u001b[0m \u001b[0mcoordinates\u001b[0m\u001b[0;34m)\u001b[0m\u001b[0;34m.\u001b[0m\u001b[0;34m\u001b[0m\u001b[0;34m\u001b[0m\u001b[0m\n\u001b[1;32m    277\u001b[0m         \"\"\"\n\u001b[0;32m--> 278\u001b[0;31m         \u001b[0mbbox\u001b[0m \u001b[0;34m=\u001b[0m \u001b[0mself\u001b[0m\u001b[0;34m.\u001b[0m\u001b[0mget_window_extent\u001b[0m\u001b[0;34m(\u001b[0m\u001b[0mrenderer\u001b[0m\u001b[0;34m)\u001b[0m\u001b[0;34m\u001b[0m\u001b[0;34m\u001b[0m\u001b[0m\n\u001b[0m\u001b[1;32m    279\u001b[0m         \u001b[0;32mif\u001b[0m \u001b[0mself\u001b[0m\u001b[0;34m.\u001b[0m\u001b[0mget_clip_on\u001b[0m\u001b[0;34m(\u001b[0m\u001b[0;34m)\u001b[0m\u001b[0;34m:\u001b[0m\u001b[0;34m\u001b[0m\u001b[0;34m\u001b[0m\u001b[0m\n\u001b[1;32m    280\u001b[0m             \u001b[0mclip_box\u001b[0m \u001b[0;34m=\u001b[0m \u001b[0mself\u001b[0m\u001b[0;34m.\u001b[0m\u001b[0mget_clip_box\u001b[0m\u001b[0;34m(\u001b[0m\u001b[0;34m)\u001b[0m\u001b[0;34m\u001b[0m\u001b[0;34m\u001b[0m\u001b[0m\n",
      "\u001b[0;32m~/opt/anaconda3/lib/python3.8/site-packages/matplotlib/patches.py\u001b[0m in \u001b[0;36mget_window_extent\u001b[0;34m(self, renderer)\u001b[0m\n\u001b[1;32m    596\u001b[0m \u001b[0;34m\u001b[0m\u001b[0m\n\u001b[1;32m    597\u001b[0m     \u001b[0;32mdef\u001b[0m \u001b[0mget_window_extent\u001b[0m\u001b[0;34m(\u001b[0m\u001b[0mself\u001b[0m\u001b[0;34m,\u001b[0m \u001b[0mrenderer\u001b[0m\u001b[0;34m=\u001b[0m\u001b[0;32mNone\u001b[0m\u001b[0;34m)\u001b[0m\u001b[0;34m:\u001b[0m\u001b[0;34m\u001b[0m\u001b[0;34m\u001b[0m\u001b[0m\n\u001b[0;32m--> 598\u001b[0;31m         \u001b[0;32mreturn\u001b[0m \u001b[0mself\u001b[0m\u001b[0;34m.\u001b[0m\u001b[0mget_path\u001b[0m\u001b[0;34m(\u001b[0m\u001b[0;34m)\u001b[0m\u001b[0;34m.\u001b[0m\u001b[0mget_extents\u001b[0m\u001b[0;34m(\u001b[0m\u001b[0mself\u001b[0m\u001b[0;34m.\u001b[0m\u001b[0mget_transform\u001b[0m\u001b[0;34m(\u001b[0m\u001b[0;34m)\u001b[0m\u001b[0;34m)\u001b[0m\u001b[0;34m\u001b[0m\u001b[0;34m\u001b[0m\u001b[0m\n\u001b[0m\u001b[1;32m    599\u001b[0m \u001b[0;34m\u001b[0m\u001b[0m\n\u001b[1;32m    600\u001b[0m     \u001b[0;32mdef\u001b[0m \u001b[0m_convert_xy_units\u001b[0m\u001b[0;34m(\u001b[0m\u001b[0mself\u001b[0m\u001b[0;34m,\u001b[0m \u001b[0mxy\u001b[0m\u001b[0;34m)\u001b[0m\u001b[0;34m:\u001b[0m\u001b[0;34m\u001b[0m\u001b[0;34m\u001b[0m\u001b[0m\n",
      "\u001b[0;32m~/opt/anaconda3/lib/python3.8/site-packages/matplotlib/patches.py\u001b[0m in \u001b[0;36mget_transform\u001b[0;34m(self)\u001b[0m\n\u001b[1;32m    258\u001b[0m     \u001b[0;32mdef\u001b[0m \u001b[0mget_transform\u001b[0m\u001b[0;34m(\u001b[0m\u001b[0mself\u001b[0m\u001b[0;34m)\u001b[0m\u001b[0;34m:\u001b[0m\u001b[0;34m\u001b[0m\u001b[0;34m\u001b[0m\u001b[0m\n\u001b[1;32m    259\u001b[0m         \u001b[0;34m\"\"\"Return the `~.transforms.Transform` applied to the `Patch`.\"\"\"\u001b[0m\u001b[0;34m\u001b[0m\u001b[0;34m\u001b[0m\u001b[0m\n\u001b[0;32m--> 260\u001b[0;31m         \u001b[0;32mreturn\u001b[0m \u001b[0mself\u001b[0m\u001b[0;34m.\u001b[0m\u001b[0mget_patch_transform\u001b[0m\u001b[0;34m(\u001b[0m\u001b[0;34m)\u001b[0m \u001b[0;34m+\u001b[0m \u001b[0martist\u001b[0m\u001b[0;34m.\u001b[0m\u001b[0mArtist\u001b[0m\u001b[0;34m.\u001b[0m\u001b[0mget_transform\u001b[0m\u001b[0;34m(\u001b[0m\u001b[0mself\u001b[0m\u001b[0;34m)\u001b[0m\u001b[0;34m\u001b[0m\u001b[0;34m\u001b[0m\u001b[0m\n\u001b[0m\u001b[1;32m    261\u001b[0m \u001b[0;34m\u001b[0m\u001b[0m\n\u001b[1;32m    262\u001b[0m     \u001b[0;32mdef\u001b[0m \u001b[0mget_data_transform\u001b[0m\u001b[0;34m(\u001b[0m\u001b[0mself\u001b[0m\u001b[0;34m)\u001b[0m\u001b[0;34m:\u001b[0m\u001b[0;34m\u001b[0m\u001b[0;34m\u001b[0m\u001b[0m\n",
      "\u001b[0;32m~/opt/anaconda3/lib/python3.8/site-packages/matplotlib/patches.py\u001b[0m in \u001b[0;36mget_patch_transform\u001b[0;34m(self)\u001b[0m\n\u001b[1;32m    790\u001b[0m \u001b[0;34m\u001b[0m\u001b[0m\n\u001b[1;32m    791\u001b[0m     \u001b[0;32mdef\u001b[0m \u001b[0mget_patch_transform\u001b[0m\u001b[0;34m(\u001b[0m\u001b[0mself\u001b[0m\u001b[0;34m)\u001b[0m\u001b[0;34m:\u001b[0m\u001b[0;34m\u001b[0m\u001b[0;34m\u001b[0m\u001b[0m\n\u001b[0;32m--> 792\u001b[0;31m         \u001b[0mself\u001b[0m\u001b[0;34m.\u001b[0m\u001b[0m_update_patch_transform\u001b[0m\u001b[0;34m(\u001b[0m\u001b[0;34m)\u001b[0m\u001b[0;34m\u001b[0m\u001b[0;34m\u001b[0m\u001b[0m\n\u001b[0m\u001b[1;32m    793\u001b[0m         \u001b[0;32mreturn\u001b[0m \u001b[0mself\u001b[0m\u001b[0;34m.\u001b[0m\u001b[0m_rect_transform\u001b[0m\u001b[0;34m\u001b[0m\u001b[0;34m\u001b[0m\u001b[0m\n\u001b[1;32m    794\u001b[0m \u001b[0;34m\u001b[0m\u001b[0m\n",
      "\u001b[0;32m~/opt/anaconda3/lib/python3.8/site-packages/matplotlib/patches.py\u001b[0m in \u001b[0;36m_update_patch_transform\u001b[0;34m(self)\u001b[0m\n\u001b[1;32m    768\u001b[0m         \u001b[0mmember\u001b[0m \u001b[0mvariable\u001b[0m\u001b[0;34m.\u001b[0m\u001b[0;34m\u001b[0m\u001b[0;34m\u001b[0m\u001b[0m\n\u001b[1;32m    769\u001b[0m         \"\"\"\n\u001b[0;32m--> 770\u001b[0;31m         \u001b[0mx0\u001b[0m\u001b[0;34m,\u001b[0m \u001b[0my0\u001b[0m\u001b[0;34m,\u001b[0m \u001b[0mx1\u001b[0m\u001b[0;34m,\u001b[0m \u001b[0my1\u001b[0m \u001b[0;34m=\u001b[0m \u001b[0mself\u001b[0m\u001b[0;34m.\u001b[0m\u001b[0m_convert_units\u001b[0m\u001b[0;34m(\u001b[0m\u001b[0;34m)\u001b[0m\u001b[0;34m\u001b[0m\u001b[0;34m\u001b[0m\u001b[0m\n\u001b[0m\u001b[1;32m    771\u001b[0m         \u001b[0mbbox\u001b[0m \u001b[0;34m=\u001b[0m \u001b[0mtransforms\u001b[0m\u001b[0;34m.\u001b[0m\u001b[0mBbox\u001b[0m\u001b[0;34m.\u001b[0m\u001b[0mfrom_extents\u001b[0m\u001b[0;34m(\u001b[0m\u001b[0mx0\u001b[0m\u001b[0;34m,\u001b[0m \u001b[0my0\u001b[0m\u001b[0;34m,\u001b[0m \u001b[0mx1\u001b[0m\u001b[0;34m,\u001b[0m \u001b[0my1\u001b[0m\u001b[0;34m)\u001b[0m\u001b[0;34m\u001b[0m\u001b[0;34m\u001b[0m\u001b[0m\n\u001b[1;32m    772\u001b[0m         \u001b[0mrot_trans\u001b[0m \u001b[0;34m=\u001b[0m \u001b[0mtransforms\u001b[0m\u001b[0;34m.\u001b[0m\u001b[0mAffine2D\u001b[0m\u001b[0;34m(\u001b[0m\u001b[0;34m)\u001b[0m\u001b[0;34m\u001b[0m\u001b[0;34m\u001b[0m\u001b[0m\n",
      "\u001b[0;32m~/opt/anaconda3/lib/python3.8/site-packages/matplotlib/patches.py\u001b[0m in \u001b[0;36m_convert_units\u001b[0;34m(self)\u001b[0m\n\u001b[1;32m    786\u001b[0m         \u001b[0my0\u001b[0m \u001b[0;34m=\u001b[0m \u001b[0mself\u001b[0m\u001b[0;34m.\u001b[0m\u001b[0mconvert_yunits\u001b[0m\u001b[0;34m(\u001b[0m\u001b[0mself\u001b[0m\u001b[0;34m.\u001b[0m\u001b[0m_y0\u001b[0m\u001b[0;34m)\u001b[0m\u001b[0;34m\u001b[0m\u001b[0;34m\u001b[0m\u001b[0m\n\u001b[1;32m    787\u001b[0m         \u001b[0mx1\u001b[0m \u001b[0;34m=\u001b[0m \u001b[0mself\u001b[0m\u001b[0;34m.\u001b[0m\u001b[0mconvert_xunits\u001b[0m\u001b[0;34m(\u001b[0m\u001b[0mself\u001b[0m\u001b[0;34m.\u001b[0m\u001b[0m_x1\u001b[0m\u001b[0;34m)\u001b[0m\u001b[0;34m\u001b[0m\u001b[0;34m\u001b[0m\u001b[0m\n\u001b[0;32m--> 788\u001b[0;31m         \u001b[0my1\u001b[0m \u001b[0;34m=\u001b[0m \u001b[0mself\u001b[0m\u001b[0;34m.\u001b[0m\u001b[0mconvert_yunits\u001b[0m\u001b[0;34m(\u001b[0m\u001b[0mself\u001b[0m\u001b[0;34m.\u001b[0m\u001b[0m_y1\u001b[0m\u001b[0;34m)\u001b[0m\u001b[0;34m\u001b[0m\u001b[0;34m\u001b[0m\u001b[0m\n\u001b[0m\u001b[1;32m    789\u001b[0m         \u001b[0;32mreturn\u001b[0m \u001b[0mx0\u001b[0m\u001b[0;34m,\u001b[0m \u001b[0my0\u001b[0m\u001b[0;34m,\u001b[0m \u001b[0mx1\u001b[0m\u001b[0;34m,\u001b[0m \u001b[0my1\u001b[0m\u001b[0;34m\u001b[0m\u001b[0;34m\u001b[0m\u001b[0m\n\u001b[1;32m    790\u001b[0m \u001b[0;34m\u001b[0m\u001b[0m\n",
      "\u001b[0;32m~/opt/anaconda3/lib/python3.8/site-packages/matplotlib/artist.py\u001b[0m in \u001b[0;36mconvert_yunits\u001b[0;34m(self, y)\u001b[0m\n\u001b[1;32m    185\u001b[0m         \u001b[0;32mif\u001b[0m \u001b[0max\u001b[0m \u001b[0;32mis\u001b[0m \u001b[0;32mNone\u001b[0m \u001b[0;32mor\u001b[0m \u001b[0max\u001b[0m\u001b[0;34m.\u001b[0m\u001b[0myaxis\u001b[0m \u001b[0;32mis\u001b[0m \u001b[0;32mNone\u001b[0m\u001b[0;34m:\u001b[0m\u001b[0;34m\u001b[0m\u001b[0;34m\u001b[0m\u001b[0m\n\u001b[1;32m    186\u001b[0m             \u001b[0;32mreturn\u001b[0m \u001b[0my\u001b[0m\u001b[0;34m\u001b[0m\u001b[0;34m\u001b[0m\u001b[0m\n\u001b[0;32m--> 187\u001b[0;31m         \u001b[0;32mreturn\u001b[0m \u001b[0max\u001b[0m\u001b[0;34m.\u001b[0m\u001b[0myaxis\u001b[0m\u001b[0;34m.\u001b[0m\u001b[0mconvert_units\u001b[0m\u001b[0;34m(\u001b[0m\u001b[0my\u001b[0m\u001b[0;34m)\u001b[0m\u001b[0;34m\u001b[0m\u001b[0;34m\u001b[0m\u001b[0m\n\u001b[0m\u001b[1;32m    188\u001b[0m \u001b[0;34m\u001b[0m\u001b[0m\n\u001b[1;32m    189\u001b[0m     \u001b[0;34m@\u001b[0m\u001b[0mproperty\u001b[0m\u001b[0;34m\u001b[0m\u001b[0;34m\u001b[0m\u001b[0m\n",
      "\u001b[0;32m~/opt/anaconda3/lib/python3.8/site-packages/matplotlib/axis.py\u001b[0m in \u001b[0;36mconvert_units\u001b[0;34m(self, x)\u001b[0m\n\u001b[1;32m   1509\u001b[0m     \u001b[0;32mdef\u001b[0m \u001b[0mconvert_units\u001b[0m\u001b[0;34m(\u001b[0m\u001b[0mself\u001b[0m\u001b[0;34m,\u001b[0m \u001b[0mx\u001b[0m\u001b[0;34m)\u001b[0m\u001b[0;34m:\u001b[0m\u001b[0;34m\u001b[0m\u001b[0;34m\u001b[0m\u001b[0m\n\u001b[1;32m   1510\u001b[0m         \u001b[0;31m# If x is natively supported by Matplotlib, doesn't need converting\u001b[0m\u001b[0;34m\u001b[0m\u001b[0;34m\u001b[0m\u001b[0;34m\u001b[0m\u001b[0m\n\u001b[0;32m-> 1511\u001b[0;31m         \u001b[0;32mif\u001b[0m \u001b[0mmunits\u001b[0m\u001b[0;34m.\u001b[0m\u001b[0m_is_natively_supported\u001b[0m\u001b[0;34m(\u001b[0m\u001b[0mx\u001b[0m\u001b[0;34m)\u001b[0m\u001b[0;34m:\u001b[0m\u001b[0;34m\u001b[0m\u001b[0;34m\u001b[0m\u001b[0m\n\u001b[0m\u001b[1;32m   1512\u001b[0m             \u001b[0;32mreturn\u001b[0m \u001b[0mx\u001b[0m\u001b[0;34m\u001b[0m\u001b[0;34m\u001b[0m\u001b[0m\n\u001b[1;32m   1513\u001b[0m \u001b[0;34m\u001b[0m\u001b[0m\n",
      "\u001b[0;32m~/opt/anaconda3/lib/python3.8/site-packages/matplotlib/units.py\u001b[0m in \u001b[0;36m_is_natively_supported\u001b[0;34m(x)\u001b[0m\n\u001b[1;32m     62\u001b[0m     \"\"\"\n\u001b[1;32m     63\u001b[0m     \u001b[0;31m# Matplotlib natively supports all number types except Decimal.\u001b[0m\u001b[0;34m\u001b[0m\u001b[0;34m\u001b[0m\u001b[0;34m\u001b[0m\u001b[0m\n\u001b[0;32m---> 64\u001b[0;31m     \u001b[0;32mif\u001b[0m \u001b[0mnp\u001b[0m\u001b[0;34m.\u001b[0m\u001b[0miterable\u001b[0m\u001b[0;34m(\u001b[0m\u001b[0mx\u001b[0m\u001b[0;34m)\u001b[0m\u001b[0;34m:\u001b[0m\u001b[0;34m\u001b[0m\u001b[0;34m\u001b[0m\u001b[0m\n\u001b[0m\u001b[1;32m     65\u001b[0m         \u001b[0;31m# Assume lists are homogeneous as other functions in unit system.\u001b[0m\u001b[0;34m\u001b[0m\u001b[0;34m\u001b[0m\u001b[0;34m\u001b[0m\u001b[0m\n\u001b[1;32m     66\u001b[0m         \u001b[0;32mfor\u001b[0m \u001b[0mthisx\u001b[0m \u001b[0;32min\u001b[0m \u001b[0mx\u001b[0m\u001b[0;34m:\u001b[0m\u001b[0;34m\u001b[0m\u001b[0;34m\u001b[0m\u001b[0m\n",
      "\u001b[0;31mKeyboardInterrupt\u001b[0m: "
     ]
    }
   ],
   "source": [
    "import seaborn as sns\n",
    "\n",
    "a = df2[df2.max_topic=='job']\n",
    "\n",
    "a\n",
    "# plt.hist(a, bins=50, density=1);\n",
    "sns.displot(data=df2, col='max_topic', x='num_comments')"
   ]
  },
  {
   "cell_type": "code",
   "execution_count": null,
   "metadata": {},
   "outputs": [],
   "source": [
    "import seaborn as sns\n",
    "\n",
    "a = df2[df2.max_topic=='suicide']\n",
    "\n",
    "a\n",
    "# plt.hist(a, bins=50, density=1);\n",
    "plt.figure(figsize=[20,6])\n",
    "sns.boxplot(a.num_comments)"
   ]
  },
  {
   "cell_type": "code",
   "execution_count": 525,
   "metadata": {},
   "outputs": [
    {
     "data": {
      "text/plain": [
       "Text(0.5, 0, 'number of comments')"
      ]
     },
     "execution_count": 525,
     "metadata": {},
     "output_type": "execute_result"
    },
    {
     "data": {
      "image/png": "[encoded data removed]",
      "text/plain": [
       "<Figure size 720x360 with 1 Axes>"
      ]
     },
     "metadata": {
      "needs_background": "light"
     },
     "output_type": "display_data"
    }
   ],
   "source": [
    "testing = df2.sort_values(by=['score'], ascending=False)[['max_topic', 'score', 'num_comments', 'ups']]\n",
    "a = testing.num_comments\n",
    "b = testing.score\n",
    "plt.figure(figsize=[10,5])\n",
    "plt.title('r/depression \\ncomments against score')\n",
    "plt.scatter(a, b, alpha=.5)\n",
    "plt.ylabel('score')\n",
    "plt.xlabel('number of comments')"
   ]
  },
  {
   "cell_type": "code",
   "execution_count": null,
   "metadata": {},
   "outputs": [],
   "source": []
  },
  {
   "cell_type": "code",
   "execution_count": 524,
   "metadata": {
    "scrolled": false
   },
   "outputs": [
    {
     "data": {
      "text/plain": [
       "Text(0.5, 0, 'number of comments')"
      ]
     },
     "execution_count": 524,
     "metadata": {},
     "output_type": "execute_result"
    },
    {
     "data": {
      "image/png": "[encoded data removed]",
      "text/plain": [
       "<Figure size 720x360 with 1 Axes>"
      ]
     },
     "metadata": {
      "needs_background": "light"
     },
     "output_type": "display_data"
    }
   ],
   "source": [
    "testing = df.sort_values(by=['score'], ascending=False)[['max_topic', 'score', 'num_comments', 'ups']]\n",
    "a = testing.num_comments\n",
    "b = testing.score\n",
    "plt.figure(figsize=[10,5])\n",
    "plt.title('r/anxiety \\ncomments against score')\n",
    "plt.scatter(a, b, alpha=.5)\n",
    "plt.ylabel('score')\n",
    "plt.xlabel('number of comments')"
   ]
  },
  {
   "cell_type": "code",
   "execution_count": 526,
   "metadata": {},
   "outputs": [],
   "source": [
    "# df2[df2.date.dt.date == pd.to_datetime('2015-12-29')]"
   ]
  },
  {
   "cell_type": "code",
   "execution_count": 533,
   "metadata": {
    "scrolled": false
   },
   "outputs": [
    {
     "data": {
      "text/html": [
       "<div>\n",
       "<style scoped>\n",
       "    .dataframe tbody tr th:only-of-type {\n",
       "        vertical-align: middle;\n",
       "    }\n",
       "\n",
       "    .dataframe tbody tr th {\n",
       "        vertical-align: top;\n",
       "    }\n",
       "\n",
       "    .dataframe thead th {\n",
       "        text-align: right;\n",
       "    }\n",
       "</style>\n",
       "<table border=\"1\" class=\"dataframe\">\n",
       "  <thead>\n",
       "    <tr style=\"text-align: right;\">\n",
       "      <th></th>\n",
       "      <th>created_utc</th>\n",
       "      <th>subreddit</th>\n",
       "      <th>author</th>\n",
       "      <th>domain</th>\n",
       "      <th>url</th>\n",
       "      <th>num_comments</th>\n",
       "      <th>score</th>\n",
       "      <th>ups</th>\n",
       "      <th>downs</th>\n",
       "      <th>title</th>\n",
       "      <th>...</th>\n",
       "      <th>sleep</th>\n",
       "      <th>job</th>\n",
       "      <th>friend/best/girl</th>\n",
       "      <th>sad</th>\n",
       "      <th>mom/dad</th>\n",
       "      <th>suicide</th>\n",
       "      <th>therapy/meds</th>\n",
       "      <th>pain/hurt</th>\n",
       "      <th>lonely</th>\n",
       "      <th>max_topic</th>\n",
       "    </tr>\n",
       "  </thead>\n",
       "  <tbody>\n",
       "    <tr>\n",
       "      <th>0</th>\n",
       "      <td>1451434602</td>\n",
       "      <td>depression</td>\n",
       "      <td>IICHASE55II</td>\n",
       "      <td>self.depression</td>\n",
       "      <td>https://www.reddit.com/r/depression/comments/3...</td>\n",
       "      <td>0</td>\n",
       "      <td>1</td>\n",
       "      <td>1.0</td>\n",
       "      <td>0.0</td>\n",
       "      <td>Just got dismissed from my university</td>\n",
       "      <td>...</td>\n",
       "      <td>0.001291</td>\n",
       "      <td>0.006737</td>\n",
       "      <td>0.000000</td>\n",
       "      <td>0.000000</td>\n",
       "      <td>0.000000</td>\n",
       "      <td>0.000000</td>\n",
       "      <td>0.001123</td>\n",
       "      <td>0.0</td>\n",
       "      <td>0.0</td>\n",
       "      <td>job</td>\n",
       "    </tr>\n",
       "    <tr>\n",
       "      <th>1</th>\n",
       "      <td>1451177182</td>\n",
       "      <td>depression</td>\n",
       "      <td>rastasquirtle</td>\n",
       "      <td>self.depression</td>\n",
       "      <td>https://www.reddit.com/r/depression/comments/3...</td>\n",
       "      <td>4</td>\n",
       "      <td>14</td>\n",
       "      <td>14.0</td>\n",
       "      <td>0.0</td>\n",
       "      <td>im a spoiled piece of shit</td>\n",
       "      <td>...</td>\n",
       "      <td>0.000000</td>\n",
       "      <td>0.000000</td>\n",
       "      <td>0.003809</td>\n",
       "      <td>0.000000</td>\n",
       "      <td>0.005279</td>\n",
       "      <td>0.000127</td>\n",
       "      <td>0.000000</td>\n",
       "      <td>0.0</td>\n",
       "      <td>0.0</td>\n",
       "      <td>tired/sick</td>\n",
       "    </tr>\n",
       "    <tr>\n",
       "      <th>2</th>\n",
       "      <td>1451348063</td>\n",
       "      <td>depression</td>\n",
       "      <td>t1h3ro4w5aw6ay7</td>\n",
       "      <td>self.depression</td>\n",
       "      <td>https://www.reddit.com/r/depression/comments/3...</td>\n",
       "      <td>0</td>\n",
       "      <td>1</td>\n",
       "      <td>1.0</td>\n",
       "      <td>0.0</td>\n",
       "      <td>Caring about a person that doesn't</td>\n",
       "      <td>...</td>\n",
       "      <td>0.000000</td>\n",
       "      <td>0.000000</td>\n",
       "      <td>0.009897</td>\n",
       "      <td>0.000000</td>\n",
       "      <td>0.000000</td>\n",
       "      <td>0.000000</td>\n",
       "      <td>0.000000</td>\n",
       "      <td>0.0</td>\n",
       "      <td>0.0</td>\n",
       "      <td>friend/best/girl</td>\n",
       "    </tr>\n",
       "    <tr>\n",
       "      <th>3</th>\n",
       "      <td>1451091347</td>\n",
       "      <td>depression</td>\n",
       "      <td>iu4pkz0</td>\n",
       "      <td>self.depression</td>\n",
       "      <td>https://www.reddit.com/r/depression/comments/3...</td>\n",
       "      <td>0</td>\n",
       "      <td>0</td>\n",
       "      <td>0.0</td>\n",
       "      <td>0.0</td>\n",
       "      <td>I really screwed up this year</td>\n",
       "      <td>...</td>\n",
       "      <td>0.000000</td>\n",
       "      <td>0.000000</td>\n",
       "      <td>0.000000</td>\n",
       "      <td>0.006170</td>\n",
       "      <td>0.003005</td>\n",
       "      <td>0.000000</td>\n",
       "      <td>0.000391</td>\n",
       "      <td>0.0</td>\n",
       "      <td>0.0</td>\n",
       "      <td>sad</td>\n",
       "    </tr>\n",
       "    <tr>\n",
       "      <th>4</th>\n",
       "      <td>1451536175</td>\n",
       "      <td>depression</td>\n",
       "      <td>SmellyDagger</td>\n",
       "      <td>self.depression</td>\n",
       "      <td>https://www.reddit.com/r/depression/comments/3...</td>\n",
       "      <td>1</td>\n",
       "      <td>2</td>\n",
       "      <td>2.0</td>\n",
       "      <td>0.0</td>\n",
       "      <td>It has been 596 days since I have debated suic...</td>\n",
       "      <td>...</td>\n",
       "      <td>0.000000</td>\n",
       "      <td>0.000000</td>\n",
       "      <td>0.000000</td>\n",
       "      <td>0.000000</td>\n",
       "      <td>0.001121</td>\n",
       "      <td>0.000769</td>\n",
       "      <td>0.002357</td>\n",
       "      <td>0.0</td>\n",
       "      <td>0.0</td>\n",
       "      <td>depression/anxiety/diagnosed</td>\n",
       "    </tr>\n",
       "    <tr>\n",
       "      <th>...</th>\n",
       "      <td>...</td>\n",
       "      <td>...</td>\n",
       "      <td>...</td>\n",
       "      <td>...</td>\n",
       "      <td>...</td>\n",
       "      <td>...</td>\n",
       "      <td>...</td>\n",
       "      <td>...</td>\n",
       "      <td>...</td>\n",
       "      <td>...</td>\n",
       "      <td>...</td>\n",
       "      <td>...</td>\n",
       "      <td>...</td>\n",
       "      <td>...</td>\n",
       "      <td>...</td>\n",
       "      <td>...</td>\n",
       "      <td>...</td>\n",
       "      <td>...</td>\n",
       "      <td>...</td>\n",
       "      <td>...</td>\n",
       "      <td>...</td>\n",
       "    </tr>\n",
       "    <tr>\n",
       "      <th>361693</th>\n",
       "      <td>1495147948</td>\n",
       "      <td>depression</td>\n",
       "      <td>mangomangelo</td>\n",
       "      <td>self.depression</td>\n",
       "      <td>https://www.reddit.com/r/depression/comments/6...</td>\n",
       "      <td>3</td>\n",
       "      <td>7</td>\n",
       "      <td>NaN</td>\n",
       "      <td>NaN</td>\n",
       "      <td>Does a therapist really help?</td>\n",
       "      <td>...</td>\n",
       "      <td>0.000000</td>\n",
       "      <td>0.000000</td>\n",
       "      <td>0.000017</td>\n",
       "      <td>0.000000</td>\n",
       "      <td>0.000000</td>\n",
       "      <td>0.000000</td>\n",
       "      <td>0.007465</td>\n",
       "      <td>0.0</td>\n",
       "      <td>0.0</td>\n",
       "      <td>therapy/meds</td>\n",
       "    </tr>\n",
       "    <tr>\n",
       "      <th>361694</th>\n",
       "      <td>1494172701</td>\n",
       "      <td>depression</td>\n",
       "      <td>franksinatraisbest</td>\n",
       "      <td>self.depression</td>\n",
       "      <td>https://www.reddit.com/r/depression/comments/6...</td>\n",
       "      <td>1</td>\n",
       "      <td>4</td>\n",
       "      <td>NaN</td>\n",
       "      <td>NaN</td>\n",
       "      <td>I have no ambition, no desires, no interests, ...</td>\n",
       "      <td>...</td>\n",
       "      <td>0.003775</td>\n",
       "      <td>0.005477</td>\n",
       "      <td>0.000657</td>\n",
       "      <td>0.000999</td>\n",
       "      <td>0.000000</td>\n",
       "      <td>0.000000</td>\n",
       "      <td>0.000000</td>\n",
       "      <td>0.0</td>\n",
       "      <td>0.0</td>\n",
       "      <td>job</td>\n",
       "    </tr>\n",
       "    <tr>\n",
       "      <th>361695</th>\n",
       "      <td>1494005055</td>\n",
       "      <td>depression</td>\n",
       "      <td>Vanillexhope</td>\n",
       "      <td>self.depression</td>\n",
       "      <td>https://www.reddit.com/r/depression/comments/6...</td>\n",
       "      <td>1</td>\n",
       "      <td>3</td>\n",
       "      <td>NaN</td>\n",
       "      <td>NaN</td>\n",
       "      <td>I Am a Failure</td>\n",
       "      <td>...</td>\n",
       "      <td>0.002027</td>\n",
       "      <td>0.013013</td>\n",
       "      <td>0.000000</td>\n",
       "      <td>0.000000</td>\n",
       "      <td>0.000000</td>\n",
       "      <td>0.000000</td>\n",
       "      <td>0.000000</td>\n",
       "      <td>0.0</td>\n",
       "      <td>0.0</td>\n",
       "      <td>job</td>\n",
       "    </tr>\n",
       "    <tr>\n",
       "      <th>361696</th>\n",
       "      <td>1495750855</td>\n",
       "      <td>depression</td>\n",
       "      <td>Trip_SS</td>\n",
       "      <td>self.depression</td>\n",
       "      <td>https://www.reddit.com/r/depression/comments/6...</td>\n",
       "      <td>6</td>\n",
       "      <td>9</td>\n",
       "      <td>NaN</td>\n",
       "      <td>NaN</td>\n",
       "      <td>I feel alone, sick, empty, unneeded.</td>\n",
       "      <td>...</td>\n",
       "      <td>0.009516</td>\n",
       "      <td>0.000000</td>\n",
       "      <td>0.000000</td>\n",
       "      <td>0.000000</td>\n",
       "      <td>0.000121</td>\n",
       "      <td>0.000000</td>\n",
       "      <td>0.000000</td>\n",
       "      <td>0.0</td>\n",
       "      <td>0.0</td>\n",
       "      <td>tired/sick</td>\n",
       "    </tr>\n",
       "    <tr>\n",
       "      <th>361697</th>\n",
       "      <td>1494881456</td>\n",
       "      <td>depression</td>\n",
       "      <td>whodiz</td>\n",
       "      <td>self.depression</td>\n",
       "      <td>https://www.reddit.com/r/depression/comments/6...</td>\n",
       "      <td>3</td>\n",
       "      <td>2</td>\n",
       "      <td>NaN</td>\n",
       "      <td>NaN</td>\n",
       "      <td>When did everything get so hard?</td>\n",
       "      <td>...</td>\n",
       "      <td>0.009717</td>\n",
       "      <td>0.000443</td>\n",
       "      <td>0.000000</td>\n",
       "      <td>0.000000</td>\n",
       "      <td>0.000458</td>\n",
       "      <td>0.000000</td>\n",
       "      <td>0.000000</td>\n",
       "      <td>0.0</td>\n",
       "      <td>0.0</td>\n",
       "      <td>sleep</td>\n",
       "    </tr>\n",
       "  </tbody>\n",
       "</table>\n",
       "<p>361698 rows × 50 columns</p>\n",
       "</div>"
      ],
      "text/plain": [
       "        created_utc   subreddit              author           domain  \\\n",
       "0        1451434602  depression         IICHASE55II  self.depression   \n",
       "1        1451177182  depression       rastasquirtle  self.depression   \n",
       "2        1451348063  depression     t1h3ro4w5aw6ay7  self.depression   \n",
       "3        1451091347  depression             iu4pkz0  self.depression   \n",
       "4        1451536175  depression        SmellyDagger  self.depression   \n",
       "...             ...         ...                 ...              ...   \n",
       "361693   1495147948  depression        mangomangelo  self.depression   \n",
       "361694   1494172701  depression  franksinatraisbest  self.depression   \n",
       "361695   1494005055  depression        Vanillexhope  self.depression   \n",
       "361696   1495750855  depression             Trip_SS  self.depression   \n",
       "361697   1494881456  depression              whodiz  self.depression   \n",
       "\n",
       "                                                      url  num_comments  \\\n",
       "0       https://www.reddit.com/r/depression/comments/3...             0   \n",
       "1       https://www.reddit.com/r/depression/comments/3...             4   \n",
       "2       https://www.reddit.com/r/depression/comments/3...             0   \n",
       "3       https://www.reddit.com/r/depression/comments/3...             0   \n",
       "4       https://www.reddit.com/r/depression/comments/3...             1   \n",
       "...                                                   ...           ...   \n",
       "361693  https://www.reddit.com/r/depression/comments/6...             3   \n",
       "361694  https://www.reddit.com/r/depression/comments/6...             1   \n",
       "361695  https://www.reddit.com/r/depression/comments/6...             1   \n",
       "361696  https://www.reddit.com/r/depression/comments/6...             6   \n",
       "361697  https://www.reddit.com/r/depression/comments/6...             3   \n",
       "\n",
       "        score   ups  downs                                              title  \\\n",
       "0           1   1.0    0.0              Just got dismissed from my university   \n",
       "1          14  14.0    0.0                         im a spoiled piece of shit   \n",
       "2           1   1.0    0.0                 Caring about a person that doesn't   \n",
       "3           0   0.0    0.0                      I really screwed up this year   \n",
       "4           2   2.0    0.0  It has been 596 days since I have debated suic...   \n",
       "...       ...   ...    ...                                                ...   \n",
       "361693      7   NaN    NaN                      Does a therapist really help?   \n",
       "361694      4   NaN    NaN  I have no ambition, no desires, no interests, ...   \n",
       "361695      3   NaN    NaN                                     I Am a Failure   \n",
       "361696      9   NaN    NaN               I feel alone, sick, empty, unneeded.   \n",
       "361697      2   NaN    NaN                   When did everything get so hard?   \n",
       "\n",
       "        ...     sleep       job friend/best/girl       sad   mom/dad  \\\n",
       "0       ...  0.001291  0.006737         0.000000  0.000000  0.000000   \n",
       "1       ...  0.000000  0.000000         0.003809  0.000000  0.005279   \n",
       "2       ...  0.000000  0.000000         0.009897  0.000000  0.000000   \n",
       "3       ...  0.000000  0.000000         0.000000  0.006170  0.003005   \n",
       "4       ...  0.000000  0.000000         0.000000  0.000000  0.001121   \n",
       "...     ...       ...       ...              ...       ...       ...   \n",
       "361693  ...  0.000000  0.000000         0.000017  0.000000  0.000000   \n",
       "361694  ...  0.003775  0.005477         0.000657  0.000999  0.000000   \n",
       "361695  ...  0.002027  0.013013         0.000000  0.000000  0.000000   \n",
       "361696  ...  0.009516  0.000000         0.000000  0.000000  0.000121   \n",
       "361697  ...  0.009717  0.000443         0.000000  0.000000  0.000458   \n",
       "\n",
       "         suicide  therapy/meds  pain/hurt  lonely  \\\n",
       "0       0.000000      0.001123        0.0     0.0   \n",
       "1       0.000127      0.000000        0.0     0.0   \n",
       "2       0.000000      0.000000        0.0     0.0   \n",
       "3       0.000000      0.000391        0.0     0.0   \n",
       "4       0.000769      0.002357        0.0     0.0   \n",
       "...          ...           ...        ...     ...   \n",
       "361693  0.000000      0.007465        0.0     0.0   \n",
       "361694  0.000000      0.000000        0.0     0.0   \n",
       "361695  0.000000      0.000000        0.0     0.0   \n",
       "361696  0.000000      0.000000        0.0     0.0   \n",
       "361697  0.000000      0.000000        0.0     0.0   \n",
       "\n",
       "                           max_topic  \n",
       "0                                job  \n",
       "1                         tired/sick  \n",
       "2                   friend/best/girl  \n",
       "3                                sad  \n",
       "4       depression/anxiety/diagnosed  \n",
       "...                              ...  \n",
       "361693                  therapy/meds  \n",
       "361694                           job  \n",
       "361695                           job  \n",
       "361696                    tired/sick  \n",
       "361697                         sleep  \n",
       "\n",
       "[361698 rows x 50 columns]"
      ]
     },
     "execution_count": 533,
     "metadata": {},
     "output_type": "execute_result"
    }
   ],
   "source": [
    "df2"
   ]
  },
  {
   "cell_type": "code",
   "execution_count": null,
   "metadata": {},
   "outputs": [],
   "source": []
  },
  {
   "cell_type": "code",
   "execution_count": 709,
   "metadata": {
    "scrolled": true
   },
   "outputs": [
    {
     "data": {
      "text/plain": [
       "<AxesSubplot:xlabel='date'>"
      ]
     },
     "execution_count": 709,
     "metadata": {},
     "output_type": "execute_result"
    },
    {
     "data": {
      "image/png": "[encoded data removed]",
      "text/plain": [
       "<Figure size 1440x360 with 1 Axes>"
      ]
     },
     "metadata": {
      "needs_background": "light"
     },
     "output_type": "display_data"
    }
   ],
   "source": [
    "plt.figure(figsize=[20,5])\n",
    "df2.groupby(df.date.dt.date).size().rolling(20).mean().plot()"
   ]
  },
  {
   "cell_type": "code",
   "execution_count": 571,
   "metadata": {},
   "outputs": [
    {
     "data": {
      "text/html": [
       "<div>\n",
       "<style scoped>\n",
       "    .dataframe tbody tr th:only-of-type {\n",
       "        vertical-align: middle;\n",
       "    }\n",
       "\n",
       "    .dataframe tbody tr th {\n",
       "        vertical-align: top;\n",
       "    }\n",
       "\n",
       "    .dataframe thead th {\n",
       "        text-align: right;\n",
       "    }\n",
       "</style>\n",
       "<table border=\"1\" class=\"dataframe\">\n",
       "  <thead>\n",
       "    <tr style=\"text-align: right;\">\n",
       "      <th></th>\n",
       "      <th>created_utc</th>\n",
       "      <th>num_comments</th>\n",
       "      <th>score</th>\n",
       "      <th>ups</th>\n",
       "      <th>downs</th>\n",
       "      <th>from_kind</th>\n",
       "      <th>gilded</th>\n",
       "      <th>from</th>\n",
       "      <th>stickied</th>\n",
       "      <th>retrieved_on</th>\n",
       "      <th>...</th>\n",
       "      <th>depressed/suicidal/reason</th>\n",
       "      <th>sleep</th>\n",
       "      <th>job</th>\n",
       "      <th>friend/best/girl</th>\n",
       "      <th>sad</th>\n",
       "      <th>mom/dad</th>\n",
       "      <th>suicide</th>\n",
       "      <th>therapy/meds</th>\n",
       "      <th>pain/hurt</th>\n",
       "      <th>lonely</th>\n",
       "    </tr>\n",
       "    <tr>\n",
       "      <th>date</th>\n",
       "      <th></th>\n",
       "      <th></th>\n",
       "      <th></th>\n",
       "      <th></th>\n",
       "      <th></th>\n",
       "      <th></th>\n",
       "      <th></th>\n",
       "      <th></th>\n",
       "      <th></th>\n",
       "      <th></th>\n",
       "      <th></th>\n",
       "      <th></th>\n",
       "      <th></th>\n",
       "      <th></th>\n",
       "      <th></th>\n",
       "      <th></th>\n",
       "      <th></th>\n",
       "      <th></th>\n",
       "      <th></th>\n",
       "      <th></th>\n",
       "      <th></th>\n",
       "    </tr>\n",
       "  </thead>\n",
       "  <tbody>\n",
       "    <tr>\n",
       "      <th>1</th>\n",
       "      <td>1.508027e+09</td>\n",
       "      <td>4.329385</td>\n",
       "      <td>10.041099</td>\n",
       "      <td>7.312967</td>\n",
       "      <td>0.0</td>\n",
       "      <td>NaN</td>\n",
       "      <td>0.000719</td>\n",
       "      <td>NaN</td>\n",
       "      <td>0.000031</td>\n",
       "      <td>1.511726e+09</td>\n",
       "      <td>...</td>\n",
       "      <td>0.001088</td>\n",
       "      <td>0.001105</td>\n",
       "      <td>0.001093</td>\n",
       "      <td>0.000975</td>\n",
       "      <td>0.000793</td>\n",
       "      <td>0.001266</td>\n",
       "      <td>0.000773</td>\n",
       "      <td>0.001372</td>\n",
       "      <td>0.000690</td>\n",
       "      <td>0.000545</td>\n",
       "    </tr>\n",
       "    <tr>\n",
       "      <th>2</th>\n",
       "      <td>1.511902e+09</td>\n",
       "      <td>4.293210</td>\n",
       "      <td>10.770831</td>\n",
       "      <td>8.669028</td>\n",
       "      <td>0.0</td>\n",
       "      <td>NaN</td>\n",
       "      <td>0.001134</td>\n",
       "      <td>NaN</td>\n",
       "      <td>0.000097</td>\n",
       "      <td>1.514538e+09</td>\n",
       "      <td>...</td>\n",
       "      <td>0.001067</td>\n",
       "      <td>0.001074</td>\n",
       "      <td>0.001125</td>\n",
       "      <td>0.000928</td>\n",
       "      <td>0.000804</td>\n",
       "      <td>0.001222</td>\n",
       "      <td>0.000726</td>\n",
       "      <td>0.001394</td>\n",
       "      <td>0.000693</td>\n",
       "      <td>0.000564</td>\n",
       "    </tr>\n",
       "    <tr>\n",
       "      <th>3</th>\n",
       "      <td>1.515514e+09</td>\n",
       "      <td>4.132464</td>\n",
       "      <td>11.301485</td>\n",
       "      <td>9.202243</td>\n",
       "      <td>0.0</td>\n",
       "      <td>NaN</td>\n",
       "      <td>0.001536</td>\n",
       "      <td>NaN</td>\n",
       "      <td>0.000060</td>\n",
       "      <td>1.519681e+09</td>\n",
       "      <td>...</td>\n",
       "      <td>0.001050</td>\n",
       "      <td>0.001104</td>\n",
       "      <td>0.001080</td>\n",
       "      <td>0.000977</td>\n",
       "      <td>0.000802</td>\n",
       "      <td>0.001237</td>\n",
       "      <td>0.000719</td>\n",
       "      <td>0.001354</td>\n",
       "      <td>0.000718</td>\n",
       "      <td>0.000562</td>\n",
       "    </tr>\n",
       "    <tr>\n",
       "      <th>4</th>\n",
       "      <td>1.517090e+09</td>\n",
       "      <td>4.273573</td>\n",
       "      <td>11.733502</td>\n",
       "      <td>11.032193</td>\n",
       "      <td>0.0</td>\n",
       "      <td>NaN</td>\n",
       "      <td>0.000711</td>\n",
       "      <td>NaN</td>\n",
       "      <td>0.000031</td>\n",
       "      <td>1.521365e+09</td>\n",
       "      <td>...</td>\n",
       "      <td>0.001032</td>\n",
       "      <td>0.001061</td>\n",
       "      <td>0.001100</td>\n",
       "      <td>0.000962</td>\n",
       "      <td>0.000792</td>\n",
       "      <td>0.001233</td>\n",
       "      <td>0.000750</td>\n",
       "      <td>0.001327</td>\n",
       "      <td>0.000672</td>\n",
       "      <td>0.000539</td>\n",
       "    </tr>\n",
       "    <tr>\n",
       "      <th>5</th>\n",
       "      <td>1.520290e+09</td>\n",
       "      <td>4.334691</td>\n",
       "      <td>11.608829</td>\n",
       "      <td>10.904917</td>\n",
       "      <td>0.0</td>\n",
       "      <td>NaN</td>\n",
       "      <td>0.001367</td>\n",
       "      <td>NaN</td>\n",
       "      <td>0.000000</td>\n",
       "      <td>1.523123e+09</td>\n",
       "      <td>...</td>\n",
       "      <td>0.001001</td>\n",
       "      <td>0.000995</td>\n",
       "      <td>0.001126</td>\n",
       "      <td>0.000951</td>\n",
       "      <td>0.000773</td>\n",
       "      <td>0.001301</td>\n",
       "      <td>0.000823</td>\n",
       "      <td>0.001296</td>\n",
       "      <td>0.000743</td>\n",
       "      <td>0.000555</td>\n",
       "    </tr>\n",
       "    <tr>\n",
       "      <th>6</th>\n",
       "      <td>1.523990e+09</td>\n",
       "      <td>4.440249</td>\n",
       "      <td>12.140472</td>\n",
       "      <td>9.133514</td>\n",
       "      <td>0.0</td>\n",
       "      <td>NaN</td>\n",
       "      <td>0.001747</td>\n",
       "      <td>NaN</td>\n",
       "      <td>0.000000</td>\n",
       "      <td>1.529619e+09</td>\n",
       "      <td>...</td>\n",
       "      <td>0.001030</td>\n",
       "      <td>0.001024</td>\n",
       "      <td>0.001167</td>\n",
       "      <td>0.000983</td>\n",
       "      <td>0.000820</td>\n",
       "      <td>0.001317</td>\n",
       "      <td>0.000750</td>\n",
       "      <td>0.001295</td>\n",
       "      <td>0.000740</td>\n",
       "      <td>0.000600</td>\n",
       "    </tr>\n",
       "    <tr>\n",
       "      <th>7</th>\n",
       "      <td>1.526926e+09</td>\n",
       "      <td>4.403301</td>\n",
       "      <td>11.441794</td>\n",
       "      <td>9.932285</td>\n",
       "      <td>0.0</td>\n",
       "      <td>NaN</td>\n",
       "      <td>0.001429</td>\n",
       "      <td>NaN</td>\n",
       "      <td>0.000029</td>\n",
       "      <td>1.530581e+09</td>\n",
       "      <td>...</td>\n",
       "      <td>0.001017</td>\n",
       "      <td>0.001029</td>\n",
       "      <td>0.001193</td>\n",
       "      <td>0.000967</td>\n",
       "      <td>0.000787</td>\n",
       "      <td>0.001342</td>\n",
       "      <td>0.000769</td>\n",
       "      <td>0.001341</td>\n",
       "      <td>0.000728</td>\n",
       "      <td>0.000550</td>\n",
       "    </tr>\n",
       "    <tr>\n",
       "      <th>8</th>\n",
       "      <td>1.528709e+09</td>\n",
       "      <td>4.282408</td>\n",
       "      <td>11.339898</td>\n",
       "      <td>10.636218</td>\n",
       "      <td>0.0</td>\n",
       "      <td>NaN</td>\n",
       "      <td>0.001160</td>\n",
       "      <td>NaN</td>\n",
       "      <td>0.000108</td>\n",
       "      <td>1.530212e+09</td>\n",
       "      <td>...</td>\n",
       "      <td>0.001014</td>\n",
       "      <td>0.001016</td>\n",
       "      <td>0.001197</td>\n",
       "      <td>0.000972</td>\n",
       "      <td>0.000797</td>\n",
       "      <td>0.001325</td>\n",
       "      <td>0.000730</td>\n",
       "      <td>0.001337</td>\n",
       "      <td>0.000727</td>\n",
       "      <td>0.000554</td>\n",
       "    </tr>\n",
       "    <tr>\n",
       "      <th>9</th>\n",
       "      <td>1.521837e+09</td>\n",
       "      <td>4.019856</td>\n",
       "      <td>10.432376</td>\n",
       "      <td>3.385965</td>\n",
       "      <td>0.0</td>\n",
       "      <td>NaN</td>\n",
       "      <td>0.000357</td>\n",
       "      <td>NaN</td>\n",
       "      <td>0.000059</td>\n",
       "      <td>1.524362e+09</td>\n",
       "      <td>...</td>\n",
       "      <td>0.001010</td>\n",
       "      <td>0.001028</td>\n",
       "      <td>0.001161</td>\n",
       "      <td>0.000980</td>\n",
       "      <td>0.000779</td>\n",
       "      <td>0.001213</td>\n",
       "      <td>0.000726</td>\n",
       "      <td>0.001276</td>\n",
       "      <td>0.000701</td>\n",
       "      <td>0.000611</td>\n",
       "    </tr>\n",
       "    <tr>\n",
       "      <th>10</th>\n",
       "      <td>1.511501e+09</td>\n",
       "      <td>4.197472</td>\n",
       "      <td>10.716833</td>\n",
       "      <td>9.521564</td>\n",
       "      <td>0.0</td>\n",
       "      <td>NaN</td>\n",
       "      <td>0.000322</td>\n",
       "      <td>NaN</td>\n",
       "      <td>0.000000</td>\n",
       "      <td>1.514380e+09</td>\n",
       "      <td>...</td>\n",
       "      <td>0.001043</td>\n",
       "      <td>0.001050</td>\n",
       "      <td>0.001116</td>\n",
       "      <td>0.000997</td>\n",
       "      <td>0.000757</td>\n",
       "      <td>0.001203</td>\n",
       "      <td>0.000781</td>\n",
       "      <td>0.001326</td>\n",
       "      <td>0.000697</td>\n",
       "      <td>0.000646</td>\n",
       "    </tr>\n",
       "    <tr>\n",
       "      <th>11</th>\n",
       "      <td>1.514063e+09</td>\n",
       "      <td>4.238202</td>\n",
       "      <td>11.047559</td>\n",
       "      <td>10.552961</td>\n",
       "      <td>0.0</td>\n",
       "      <td>NaN</td>\n",
       "      <td>0.000696</td>\n",
       "      <td>NaN</td>\n",
       "      <td>0.000000</td>\n",
       "      <td>1.518027e+09</td>\n",
       "      <td>...</td>\n",
       "      <td>0.001049</td>\n",
       "      <td>0.001013</td>\n",
       "      <td>0.001075</td>\n",
       "      <td>0.000944</td>\n",
       "      <td>0.000821</td>\n",
       "      <td>0.001262</td>\n",
       "      <td>0.000769</td>\n",
       "      <td>0.001288</td>\n",
       "      <td>0.000693</td>\n",
       "      <td>0.000552</td>\n",
       "    </tr>\n",
       "    <tr>\n",
       "      <th>12</th>\n",
       "      <td>1.505264e+09</td>\n",
       "      <td>4.323761</td>\n",
       "      <td>10.315446</td>\n",
       "      <td>9.113721</td>\n",
       "      <td>0.0</td>\n",
       "      <td>NaN</td>\n",
       "      <td>0.001023</td>\n",
       "      <td>NaN</td>\n",
       "      <td>0.000032</td>\n",
       "      <td>1.508303e+09</td>\n",
       "      <td>...</td>\n",
       "      <td>0.001048</td>\n",
       "      <td>0.001039</td>\n",
       "      <td>0.001017</td>\n",
       "      <td>0.000953</td>\n",
       "      <td>0.000823</td>\n",
       "      <td>0.001440</td>\n",
       "      <td>0.000779</td>\n",
       "      <td>0.001254</td>\n",
       "      <td>0.000696</td>\n",
       "      <td>0.000575</td>\n",
       "    </tr>\n",
       "  </tbody>\n",
       "</table>\n",
       "<p>12 rows × 30 columns</p>\n",
       "</div>"
      ],
      "text/plain": [
       "       created_utc  num_comments      score        ups  downs  from_kind  \\\n",
       "date                                                                       \n",
       "1     1.508027e+09      4.329385  10.041099   7.312967    0.0        NaN   \n",
       "2     1.511902e+09      4.293210  10.770831   8.669028    0.0        NaN   \n",
       "3     1.515514e+09      4.132464  11.301485   9.202243    0.0        NaN   \n",
       "4     1.517090e+09      4.273573  11.733502  11.032193    0.0        NaN   \n",
       "5     1.520290e+09      4.334691  11.608829  10.904917    0.0        NaN   \n",
       "6     1.523990e+09      4.440249  12.140472   9.133514    0.0        NaN   \n",
       "7     1.526926e+09      4.403301  11.441794   9.932285    0.0        NaN   \n",
       "8     1.528709e+09      4.282408  11.339898  10.636218    0.0        NaN   \n",
       "9     1.521837e+09      4.019856  10.432376   3.385965    0.0        NaN   \n",
       "10    1.511501e+09      4.197472  10.716833   9.521564    0.0        NaN   \n",
       "11    1.514063e+09      4.238202  11.047559  10.552961    0.0        NaN   \n",
       "12    1.505264e+09      4.323761  10.315446   9.113721    0.0        NaN   \n",
       "\n",
       "        gilded  from  stickied  retrieved_on  ...  depressed/suicidal/reason  \\\n",
       "date                                          ...                              \n",
       "1     0.000719   NaN  0.000031  1.511726e+09  ...                   0.001088   \n",
       "2     0.001134   NaN  0.000097  1.514538e+09  ...                   0.001067   \n",
       "3     0.001536   NaN  0.000060  1.519681e+09  ...                   0.001050   \n",
       "4     0.000711   NaN  0.000031  1.521365e+09  ...                   0.001032   \n",
       "5     0.001367   NaN  0.000000  1.523123e+09  ...                   0.001001   \n",
       "6     0.001747   NaN  0.000000  1.529619e+09  ...                   0.001030   \n",
       "7     0.001429   NaN  0.000029  1.530581e+09  ...                   0.001017   \n",
       "8     0.001160   NaN  0.000108  1.530212e+09  ...                   0.001014   \n",
       "9     0.000357   NaN  0.000059  1.524362e+09  ...                   0.001010   \n",
       "10    0.000322   NaN  0.000000  1.514380e+09  ...                   0.001043   \n",
       "11    0.000696   NaN  0.000000  1.518027e+09  ...                   0.001049   \n",
       "12    0.001023   NaN  0.000032  1.508303e+09  ...                   0.001048   \n",
       "\n",
       "         sleep       job  friend/best/girl       sad   mom/dad   suicide  \\\n",
       "date                                                                       \n",
       "1     0.001105  0.001093          0.000975  0.000793  0.001266  0.000773   \n",
       "2     0.001074  0.001125          0.000928  0.000804  0.001222  0.000726   \n",
       "3     0.001104  0.001080          0.000977  0.000802  0.001237  0.000719   \n",
       "4     0.001061  0.001100          0.000962  0.000792  0.001233  0.000750   \n",
       "5     0.000995  0.001126          0.000951  0.000773  0.001301  0.000823   \n",
       "6     0.001024  0.001167          0.000983  0.000820  0.001317  0.000750   \n",
       "7     0.001029  0.001193          0.000967  0.000787  0.001342  0.000769   \n",
       "8     0.001016  0.001197          0.000972  0.000797  0.001325  0.000730   \n",
       "9     0.001028  0.001161          0.000980  0.000779  0.001213  0.000726   \n",
       "10    0.001050  0.001116          0.000997  0.000757  0.001203  0.000781   \n",
       "11    0.001013  0.001075          0.000944  0.000821  0.001262  0.000769   \n",
       "12    0.001039  0.001017          0.000953  0.000823  0.001440  0.000779   \n",
       "\n",
       "      therapy/meds  pain/hurt    lonely  \n",
       "date                                     \n",
       "1         0.001372   0.000690  0.000545  \n",
       "2         0.001394   0.000693  0.000564  \n",
       "3         0.001354   0.000718  0.000562  \n",
       "4         0.001327   0.000672  0.000539  \n",
       "5         0.001296   0.000743  0.000555  \n",
       "6         0.001295   0.000740  0.000600  \n",
       "7         0.001341   0.000728  0.000550  \n",
       "8         0.001337   0.000727  0.000554  \n",
       "9         0.001276   0.000701  0.000611  \n",
       "10        0.001326   0.000697  0.000646  \n",
       "11        0.001288   0.000693  0.000552  \n",
       "12        0.001254   0.000696  0.000575  \n",
       "\n",
       "[12 rows x 30 columns]"
      ]
     },
     "execution_count": 571,
     "metadata": {},
     "output_type": "execute_result"
    }
   ],
   "source": [
    "testing = df2.groupby(df2.date.dt.month).mean()"
   ]
  },
  {
   "cell_type": "code",
   "execution_count": 711,
   "metadata": {},
   "outputs": [
    {
     "data": {
      "text/plain": [
       "[<matplotlib.lines.Line2D at 0x7faf845cfd30>]"
      ]
     },
     "execution_count": 711,
     "metadata": {},
     "output_type": "execute_result"
    },
    {
     "data": {
      "image/png": "[encoded data removed]",
      "text/plain": [
       "<Figure size 1440x360 with 1 Axes>"
      ]
     },
     "metadata": {
      "needs_background": "light"
     },
     "output_type": "display_data"
    }
   ],
   "source": [
    "testing = df2.groupby(df2.date.dt.date).mean()\n",
    "x = testing.index\n",
    "y = testing.num_comments.rolling(30).mean()\n",
    "\n",
    "plt.figure(figsize=[20,5])\n",
    "plt.plot(x,y)\n",
    "# testing['num_comments'].rolling(10).mean()"
   ]
  },
  {
   "cell_type": "code",
   "execution_count": 532,
   "metadata": {},
   "outputs": [
    {
     "data": {
      "text/plain": [
       "[<matplotlib.lines.Line2D at 0x7fb293f40eb0>]"
      ]
     },
     "execution_count": 532,
     "metadata": {},
     "output_type": "execute_result"
    },
    {
     "data": {
      "image/png": "[encoded data removed]",
      "text/plain": [
       "<Figure size 1440x360 with 1 Axes>"
      ]
     },
     "metadata": {
      "needs_background": "light"
     },
     "output_type": "display_data"
    }
   ],
   "source": [
    "testing = df.groupby(df.date.dt.date).mean()\n",
    "x = testing.index\n",
    "y = testing.num_comments.rolling(20).mean()\n",
    "\n",
    "plt.figure(figsize=[20,5])\n",
    "plt.plot(x,y)"
   ]
  },
  {
   "cell_type": "code",
   "execution_count": 719,
   "metadata": {},
   "outputs": [
    {
     "data": {
      "text/plain": [
       "array(['friends', 'home/house', 'panic', 'school', 'work',\n",
       "       'anxious/super/reason', 'sleep', 'medication', 'food/dietary',\n",
       "       'fear/death', 'driving', 'heart/chest', 'occupational', 'social'],\n",
       "      dtype=object)"
      ]
     },
     "execution_count": 719,
     "metadata": {},
     "output_type": "execute_result"
    }
   ],
   "source": [
    "df.max_topic.unique()"
   ]
  },
  {
   "cell_type": "code",
   "execution_count": 475,
   "metadata": {},
   "outputs": [
    {
     "data": {
      "text/plain": [
       "[<matplotlib.lines.Line2D at 0x7fb1912ce4c0>]"
      ]
     },
     "execution_count": 475,
     "metadata": {},
     "output_type": "execute_result"
    },
    {
     "data": {
      "image/png": "[encoded data removed]",
      "text/plain": [
       "<Figure size 1440x360 with 1 Axes>"
      ]
     },
     "metadata": {
      "needs_background": "light"
     },
     "output_type": "display_data"
    }
   ],
   "source": [
    "testing = (df2[df2.max_topic == 'job']\n",
    "           [['date', 'max_topic', 'score', 'num_comments', 'ups']]\n",
    "           .sort_values(by=['date']))\n",
    "\n",
    "testing = testing.groupby(testing.date.dt.date).mean()\n",
    "x = testing.index\n",
    "y = testing.num_comments.rolling(20).mean()\n",
    "\n",
    "plt.figure(figsize=[20,5])\n",
    "plt.plot(x,y)"
   ]
  },
  {
   "cell_type": "code",
   "execution_count": 423,
   "metadata": {},
   "outputs": [
    {
     "data": {
      "image/png": "[encoded data removed]",
      "text/plain": [
       "<Figure size 720x360 with 1 Axes>"
      ]
     },
     "metadata": {
      "needs_background": "light"
     },
     "output_type": "display_data"
    }
   ],
   "source": [
    "plt.figure(figsize=[10,5])\n",
    "plt.hist(df2[df2.max_topic == 'friends/social'].num_comments, bins=200, density=1);"
   ]
  },
  {
   "cell_type": "code",
   "execution_count": 408,
   "metadata": {},
   "outputs": [
    {
     "data": {
      "image/png": "[encoded data removed]",
      "text/plain": [
       "<Figure size 720x360 with 1 Axes>"
      ]
     },
     "metadata": {
      "needs_background": "light"
     },
     "output_type": "display_data"
    }
   ],
   "source": [
    "plt.figure(figsize=[10,5])\n",
    "plt.hist(df[df.max_topic == 'school'].num_comments, bins=200, density=1);"
   ]
  },
  {
   "cell_type": "code",
   "execution_count": 360,
   "metadata": {
    "scrolled": true
   },
   "outputs": [
    {
     "data": {
      "text/plain": [
       "<AxesSubplot:ylabel='max_topic'>"
      ]
     },
     "execution_count": 360,
     "metadata": {},
     "output_type": "execute_result"
    },
    {
     "data": {
      "image/png": "[encoded data removed]",
      "text/plain": [
       "<Figure size 432x288 with 1 Axes>"
      ]
     },
     "metadata": {
      "needs_background": "light"
     },
     "output_type": "display_data"
    }
   ],
   "source": [
    "df2.groupby('max_topic')['downs'].size().sort_values().plot.barh()"
   ]
  },
  {
   "cell_type": "code",
   "execution_count": 369,
   "metadata": {},
   "outputs": [
    {
     "data": {
      "text/plain": [
       "['created_utc',\n",
       " 'subreddit',\n",
       " 'author',\n",
       " 'domain',\n",
       " 'url',\n",
       " 'num_comments',\n",
       " 'score',\n",
       " 'ups',\n",
       " 'downs',\n",
       " 'title',\n",
       " 'selftext',\n",
       " 'saved',\n",
       " 'id',\n",
       " 'from_kind',\n",
       " 'gilded',\n",
       " 'from',\n",
       " 'stickied',\n",
       " 'retrieved_on',\n",
       " 'over_18',\n",
       " 'thumbnail',\n",
       " 'subreddit_id',\n",
       " 'hide_score',\n",
       " 'link_flair_css_class',\n",
       " 'author_flair_css_class',\n",
       " 'archived',\n",
       " 'is_self',\n",
       " 'from_id',\n",
       " 'permalink',\n",
       " 'name',\n",
       " 'author_flair_text',\n",
       " 'quarantine',\n",
       " 'link_flair_text',\n",
       " 'distinguished',\n",
       " 'date',\n",
       " 'text_title',\n",
       " 'panic',\n",
       " 'occupational',\n",
       " 'sleep',\n",
       " 'medication',\n",
       " 'heart/chest',\n",
       " 'anxious/super/reason',\n",
       " 'school',\n",
       " 'work',\n",
       " 'friends',\n",
       " 'home/house',\n",
       " 'food/dietary',\n",
       " 'fear/death',\n",
       " 'social',\n",
       " 'driving',\n",
       " 'max_topic']"
      ]
     },
     "execution_count": 369,
     "metadata": {},
     "output_type": "execute_result"
    }
   ],
   "source": [
    "df.columns.to_list()"
   ]
  },
  {
   "cell_type": "code",
   "execution_count": 405,
   "metadata": {},
   "outputs": [],
   "source": [
    "# plt.title('r/depression\\n', loc='right')\n",
    "\n",
    "# upvote_sum_by_topic = df2.groupby('max_topic')['downs'].sum()\n",
    "# posts_vol_by_topic = df2.groupby('max_topic').size()\n",
    "# upvote_sum_by_topic\n",
    "# plt.ylabel('')\n",
    "# plt.xlabel('upvotes relative\\nto topic size')\n",
    "# plt.show();\n",
    "# df2.groupby('max_topic').size().sort_values().plot.barh()\n",
    "# plt.xlabel('topic size')\n",
    "# plt.show();"
   ]
  },
  {
   "cell_type": "code",
   "execution_count": 362,
   "metadata": {},
   "outputs": [
    {
     "data": {
      "image/png": "[encoded data removed]",
      "text/plain": [
       "<Figure size 432x288 with 1 Axes>"
      ]
     },
     "metadata": {
      "needs_background": "light"
     },
     "output_type": "display_data"
    },
    {
     "data": {
      "image/png": "[encoded data removed]",
      "text/plain": [
       "<Figure size 432x288 with 1 Axes>"
      ]
     },
     "metadata": {
      "needs_background": "light"
     },
     "output_type": "display_data"
    }
   ],
   "source": [
    "# plt.title('r/depression\\n', loc='right')\n",
    "# df2.groupby('max_topic')['ups'].mean().sort_values().plot.barh()\n",
    "# plt.xlabel('mean upvotes by topic')\n",
    "# plt.show()\n",
    "# df2.max_topic.value_counts().sort_values(ascending=True).plot.barh()\n",
    "# plt.xlabel('volume of posts by topic')\n",
    "\n",
    "# plt.show()\n",
    "plt.title('r/depression\\n', loc='right')\n",
    "\n",
    "upvote_sum_by_topic = df2.groupby('max_topic')['ups'].sum()\n",
    "posts_vol_by_topic = df2.groupby('max_topic').size()\n",
    "(upvote_sum_by_topic/posts_vol_by_topic).sort_values().plot.barh()\n",
    "plt.ylabel('')\n",
    "plt.xlabel('upvotes relative\\nto topic size')\n",
    "plt.show();\n",
    "df2.groupby('max_topic').size().sort_values().plot.barh()\n",
    "plt.xlabel('topic size')\n",
    "plt.show();\n",
    "\n"
   ]
  },
  {
   "cell_type": "code",
   "execution_count": 314,
   "metadata": {},
   "outputs": [
    {
     "data": {
      "image/png": "[encoded data removed]",
      "text/plain": [
       "<Figure size 432x288 with 1 Axes>"
      ]
     },
     "metadata": {
      "needs_background": "light"
     },
     "output_type": "display_data"
    },
    {
     "data": {
      "image/png": "[encoded data removed]",
      "text/plain": [
       "<Figure size 432x288 with 1 Axes>"
      ]
     },
     "metadata": {
      "needs_background": "light"
     },
     "output_type": "display_data"
    }
   ],
   "source": [
    "plt.title('r/anxiety\\n', loc='right')\n",
    "\n",
    "upvote_sum_by_topic = df.groupby('max_topic')['ups'].sum()\n",
    "posts_vol_by_topic = df.groupby('max_topic').size()\n",
    "(upvote_sum_by_topic/posts_vol_by_topic).sort_values().plot.barh()\n",
    "plt.ylabel('')\n",
    "plt.xlabel('upvotes relative\\nto topic size')\n",
    "plt.show();\n",
    "df.groupby('max_topic').size().sort_values().plot.barh()\n",
    "plt.xlabel('topic size')\n",
    "plt.show();"
   ]
  },
  {
   "cell_type": "code",
   "execution_count": 308,
   "metadata": {},
   "outputs": [
    {
     "data": {
      "image/png": "[encoded data removed]",
      "text/plain": [
       "<Figure size 648x432 with 1 Axes>"
      ]
     },
     "metadata": {
      "needs_background": "light"
     },
     "output_type": "display_data"
    }
   ],
   "source": [
    "depression_temp = df2.groupby(df2.date.dt.date).size().to_frame()\n",
    "depression_temp.columns = ['volume']\n",
    "depression_temp = depression_temp.reset_index()\n",
    "x1 = depression_temp.date\n",
    "y1 = depression_temp['volume'].rolling(10).sum()\n",
    "\n",
    "anxiety_temp = df.groupby(df.date.dt.date).size().to_frame()\n",
    "anxiety_temp.columns = ['volume']\n",
    "anxiety_temp = anxiety_temp.reset_index()\n",
    "x2 = anxiety_temp.date\n",
    "y2 = anxiety_temp['volume'].rolling(10).sum()\n",
    "\n",
    "plt.figure(figsize=[9,6])\n",
    "plt.plot(x1,y1, label='r/depression')\n",
    "plt.plot(x2,y2, label='r/anxiety')\n",
    "plt.ylabel('Number of posts (10 day rolling sum)')\n",
    "plt.legend();"
   ]
  },
  {
   "cell_type": "code",
   "execution_count": 355,
   "metadata": {},
   "outputs": [
    {
     "data": {
      "text/plain": [
       "[<matplotlib.lines.Line2D at 0x7fb0f21e5610>]"
      ]
     },
     "execution_count": 355,
     "metadata": {},
     "output_type": "execute_result"
    },
    {
     "data": {
      "image/png": "[encoded data removed]",
      "text/plain": [
       "<Figure size 648x432 with 1 Axes>"
      ]
     },
     "metadata": {
      "needs_background": "light"
     },
     "output_type": "display_data"
    }
   ],
   "source": [
    "\n",
    "# depression_temp = df2.groupby(df2.date.dt.date)['max_topic'].value_counts().to_frame()\n",
    "# depression_temp.columns = ['volume']\n",
    "# depression_temp = depression_temp.reset_index()\n",
    "# depression_temp_masked = depression_temp[depression_temp.max_topic == 'suicide'].copy()\n",
    "# x1 = depression_temp_masked.date\n",
    "# y1 = depression_temp_masked['volume'].rolling(25).mean()\n",
    "# depression_temp_masked\n",
    "\n",
    "anxiety_temp = df.groupby(df.date.dt.date)['max_topic'].value_counts().to_frame()\n",
    "anxiety_temp.columns = ['volume']\n",
    "anxiety_temp = anxiety_temp.reset_index()\n",
    "anxiety_temp_masked = anxiety_temp[anxiety_temp.max_topic == 'home/house'].copy()\n",
    "x2 = anxiety_temp_masked.date\n",
    "y2 = anxiety_temp_masked['volume'].rolling(20).sum()\n",
    "\n",
    "plt.figure(figsize=[9,6])\n",
    "# plt.plot(x1,y1, label='r/depression')\n",
    "\n",
    "plt.plot(x2,y2, label='r/anxiety')\n",
    "# plt.ylabel('Number of posts (10 day rolling sum)')\n",
    "# plt.legend();"
   ]
  },
  {
   "cell_type": "code",
   "execution_count": 194,
   "metadata": {},
   "outputs": [
    {
     "data": {
      "text/html": [
       "<div>\n",
       "<style scoped>\n",
       "    .dataframe tbody tr th:only-of-type {\n",
       "        vertical-align: middle;\n",
       "    }\n",
       "\n",
       "    .dataframe tbody tr th {\n",
       "        vertical-align: top;\n",
       "    }\n",
       "\n",
       "    .dataframe thead th {\n",
       "        text-align: right;\n",
       "    }\n",
       "</style>\n",
       "<table border=\"1\" class=\"dataframe\">\n",
       "  <thead>\n",
       "    <tr style=\"text-align: right;\">\n",
       "      <th></th>\n",
       "      <th>date</th>\n",
       "      <th>max_topic</th>\n",
       "      <th>max topic count</th>\n",
       "    </tr>\n",
       "  </thead>\n",
       "  <tbody>\n",
       "    <tr>\n",
       "      <th>0</th>\n",
       "      <td>2015-11-30</td>\n",
       "      <td>driving</td>\n",
       "      <td>3</td>\n",
       "    </tr>\n",
       "    <tr>\n",
       "      <th>1</th>\n",
       "      <td>2015-11-30</td>\n",
       "      <td>friends</td>\n",
       "      <td>3</td>\n",
       "    </tr>\n",
       "    <tr>\n",
       "      <th>2</th>\n",
       "      <td>2015-11-30</td>\n",
       "      <td>medication</td>\n",
       "      <td>3</td>\n",
       "    </tr>\n",
       "    <tr>\n",
       "      <th>3</th>\n",
       "      <td>2015-11-30</td>\n",
       "      <td>anxious/super/reason</td>\n",
       "      <td>2</td>\n",
       "    </tr>\n",
       "    <tr>\n",
       "      <th>4</th>\n",
       "      <td>2015-11-30</td>\n",
       "      <td>heart/chest</td>\n",
       "      <td>2</td>\n",
       "    </tr>\n",
       "    <tr>\n",
       "      <th>...</th>\n",
       "      <td>...</td>\n",
       "      <td>...</td>\n",
       "      <td>...</td>\n",
       "    </tr>\n",
       "    <tr>\n",
       "      <th>18511</th>\n",
       "      <td>2019-08-31</td>\n",
       "      <td>occupational</td>\n",
       "      <td>5</td>\n",
       "    </tr>\n",
       "    <tr>\n",
       "      <th>18512</th>\n",
       "      <td>2019-08-31</td>\n",
       "      <td>sleep</td>\n",
       "      <td>5</td>\n",
       "    </tr>\n",
       "    <tr>\n",
       "      <th>18513</th>\n",
       "      <td>2019-08-31</td>\n",
       "      <td>fear/death</td>\n",
       "      <td>4</td>\n",
       "    </tr>\n",
       "    <tr>\n",
       "      <th>18514</th>\n",
       "      <td>2019-08-31</td>\n",
       "      <td>social</td>\n",
       "      <td>4</td>\n",
       "    </tr>\n",
       "    <tr>\n",
       "      <th>18515</th>\n",
       "      <td>2019-08-31</td>\n",
       "      <td>driving</td>\n",
       "      <td>1</td>\n",
       "    </tr>\n",
       "  </tbody>\n",
       "</table>\n",
       "<p>18516 rows × 3 columns</p>\n",
       "</div>"
      ],
      "text/plain": [
       "             date             max_topic  max topic count\n",
       "0      2015-11-30               driving                3\n",
       "1      2015-11-30               friends                3\n",
       "2      2015-11-30            medication                3\n",
       "3      2015-11-30  anxious/super/reason                2\n",
       "4      2015-11-30           heart/chest                2\n",
       "...           ...                   ...              ...\n",
       "18511  2019-08-31          occupational                5\n",
       "18512  2019-08-31                 sleep                5\n",
       "18513  2019-08-31            fear/death                4\n",
       "18514  2019-08-31                social                4\n",
       "18515  2019-08-31               driving                1\n",
       "\n",
       "[18516 rows x 3 columns]"
      ]
     },
     "execution_count": 194,
     "metadata": {},
     "output_type": "execute_result"
    }
   ],
   "source": [
    "a = df.groupby(df.date.dt.date).max_topic.value_counts().to_frame()\n",
    "a.columns = ['max topic count']\n",
    "a = a.reset_index()\n",
    "a[a.max_topic='']"
   ]
  },
  {
   "cell_type": "code",
   "execution_count": 73,
   "metadata": {},
   "outputs": [
    {
     "data": {
      "text/html": [
       "<div>\n",
       "<style scoped>\n",
       "    .dataframe tbody tr th:only-of-type {\n",
       "        vertical-align: middle;\n",
       "    }\n",
       "\n",
       "    .dataframe tbody tr th {\n",
       "        vertical-align: top;\n",
       "    }\n",
       "\n",
       "    .dataframe thead th {\n",
       "        text-align: right;\n",
       "    }\n",
       "</style>\n",
       "<table border=\"1\" class=\"dataframe\">\n",
       "  <thead>\n",
       "    <tr style=\"text-align: right;\">\n",
       "      <th></th>\n",
       "      <th>date</th>\n",
       "      <th>max_topic</th>\n",
       "      <th>max_topic_count</th>\n",
       "    </tr>\n",
       "  </thead>\n",
       "  <tbody>\n",
       "    <tr>\n",
       "      <th>8</th>\n",
       "      <td>2015-11-30</td>\n",
       "      <td>social</td>\n",
       "      <td>2</td>\n",
       "    </tr>\n",
       "    <tr>\n",
       "      <th>24</th>\n",
       "      <td>2015-12-01</td>\n",
       "      <td>social</td>\n",
       "      <td>2</td>\n",
       "    </tr>\n",
       "    <tr>\n",
       "      <th>38</th>\n",
       "      <td>2015-12-02</td>\n",
       "      <td>social</td>\n",
       "      <td>2</td>\n",
       "    </tr>\n",
       "    <tr>\n",
       "      <th>48</th>\n",
       "      <td>2015-12-03</td>\n",
       "      <td>social</td>\n",
       "      <td>2</td>\n",
       "    </tr>\n",
       "    <tr>\n",
       "      <th>53</th>\n",
       "      <td>2015-12-04</td>\n",
       "      <td>social</td>\n",
       "      <td>8</td>\n",
       "    </tr>\n",
       "    <tr>\n",
       "      <th>...</th>\n",
       "      <td>...</td>\n",
       "      <td>...</td>\n",
       "      <td>...</td>\n",
       "    </tr>\n",
       "    <tr>\n",
       "      <th>18459</th>\n",
       "      <td>2019-08-27</td>\n",
       "      <td>social</td>\n",
       "      <td>3</td>\n",
       "    </tr>\n",
       "    <tr>\n",
       "      <th>18473</th>\n",
       "      <td>2019-08-28</td>\n",
       "      <td>social</td>\n",
       "      <td>4</td>\n",
       "    </tr>\n",
       "    <tr>\n",
       "      <th>18487</th>\n",
       "      <td>2019-08-29</td>\n",
       "      <td>social</td>\n",
       "      <td>5</td>\n",
       "    </tr>\n",
       "    <tr>\n",
       "      <th>18501</th>\n",
       "      <td>2019-08-30</td>\n",
       "      <td>social</td>\n",
       "      <td>6</td>\n",
       "    </tr>\n",
       "    <tr>\n",
       "      <th>18514</th>\n",
       "      <td>2019-08-31</td>\n",
       "      <td>social</td>\n",
       "      <td>4</td>\n",
       "    </tr>\n",
       "  </tbody>\n",
       "</table>\n",
       "<p>1303 rows × 3 columns</p>\n",
       "</div>"
      ],
      "text/plain": [
       "             date max_topic  max_topic_count\n",
       "8      2015-11-30    social                2\n",
       "24     2015-12-01    social                2\n",
       "38     2015-12-02    social                2\n",
       "48     2015-12-03    social                2\n",
       "53     2015-12-04    social                8\n",
       "...           ...       ...              ...\n",
       "18459  2019-08-27    social                3\n",
       "18473  2019-08-28    social                4\n",
       "18487  2019-08-29    social                5\n",
       "18501  2019-08-30    social                6\n",
       "18514  2019-08-31    social                4\n",
       "\n",
       "[1303 rows x 3 columns]"
      ]
     },
     "execution_count": 73,
     "metadata": {},
     "output_type": "execute_result"
    },
    {
     "data": {
      "text/plain": [
       "<Figure size 720x576 with 0 Axes>"
      ]
     },
     "metadata": {},
     "output_type": "display_data"
    }
   ],
   "source": [
    "temp = df.groupby(df.date.dt.date).max_topic.value_counts().to_frame()\n",
    "temp.columns = ['max_topic_count']\n",
    "temp = temp.reset_index()\n",
    "\n",
    "temp2 = temp[temp.max_topic=='social'].copy()\n",
    "x = temp2.date\n",
    "y = temp2.max_topic_count.rolling(15).sum()\n",
    "plt.figure(figsize=[10, 8])\n",
    "temp2"
   ]
  },
  {
   "cell_type": "code",
   "execution_count": 39,
   "metadata": {},
   "outputs": [
    {
     "data": {
      "text/plain": [
       "[<matplotlib.lines.Line2D at 0x7fb1ed4411c0>]"
      ]
     },
     "execution_count": 39,
     "metadata": {},
     "output_type": "execute_result"
    },
    {
     "name": "stdout",
     "output_type": "stream",
     "text": [
      "Error in callback <function flush_figures at 0x7fb2c669dc10> (for post_execute):\n"
     ]
    },
    {
     "ename": "KeyboardInterrupt",
     "evalue": "",
     "output_type": "error",
     "traceback": [
      "\u001b[0;31m---------------------------------------------------------------------------\u001b[0m",
      "\u001b[0;31mKeyboardInterrupt\u001b[0m                         Traceback (most recent call last)",
      "\u001b[0;32m~/opt/anaconda3/lib/python3.8/site-packages/ipykernel/pylab/backend_inline.py\u001b[0m in \u001b[0;36mflush_figures\u001b[0;34m()\u001b[0m\n\u001b[1;32m    119\u001b[0m         \u001b[0;31m# ignore the tracking, just draw and close all figures\u001b[0m\u001b[0;34m\u001b[0m\u001b[0;34m\u001b[0m\u001b[0;34m\u001b[0m\u001b[0m\n\u001b[1;32m    120\u001b[0m         \u001b[0;32mtry\u001b[0m\u001b[0;34m:\u001b[0m\u001b[0;34m\u001b[0m\u001b[0;34m\u001b[0m\u001b[0m\n\u001b[0;32m--> 121\u001b[0;31m             \u001b[0;32mreturn\u001b[0m \u001b[0mshow\u001b[0m\u001b[0;34m(\u001b[0m\u001b[0;32mTrue\u001b[0m\u001b[0;34m)\u001b[0m\u001b[0;34m\u001b[0m\u001b[0;34m\u001b[0m\u001b[0m\n\u001b[0m\u001b[1;32m    122\u001b[0m         \u001b[0;32mexcept\u001b[0m \u001b[0mException\u001b[0m \u001b[0;32mas\u001b[0m \u001b[0me\u001b[0m\u001b[0;34m:\u001b[0m\u001b[0;34m\u001b[0m\u001b[0;34m\u001b[0m\u001b[0m\n\u001b[1;32m    123\u001b[0m             \u001b[0;31m# safely show traceback if in IPython, else raise\u001b[0m\u001b[0;34m\u001b[0m\u001b[0;34m\u001b[0m\u001b[0;34m\u001b[0m\u001b[0m\n",
      "\u001b[0;32m~/opt/anaconda3/lib/python3.8/site-packages/ipykernel/pylab/backend_inline.py\u001b[0m in \u001b[0;36mshow\u001b[0;34m(close, block)\u001b[0m\n\u001b[1;32m     41\u001b[0m             display(\n\u001b[1;32m     42\u001b[0m                 \u001b[0mfigure_manager\u001b[0m\u001b[0;34m.\u001b[0m\u001b[0mcanvas\u001b[0m\u001b[0;34m.\u001b[0m\u001b[0mfigure\u001b[0m\u001b[0;34m,\u001b[0m\u001b[0;34m\u001b[0m\u001b[0;34m\u001b[0m\u001b[0m\n\u001b[0;32m---> 43\u001b[0;31m                 \u001b[0mmetadata\u001b[0m\u001b[0;34m=\u001b[0m\u001b[0m_fetch_figure_metadata\u001b[0m\u001b[0;34m(\u001b[0m\u001b[0mfigure_manager\u001b[0m\u001b[0;34m.\u001b[0m\u001b[0mcanvas\u001b[0m\u001b[0;34m.\u001b[0m\u001b[0mfigure\u001b[0m\u001b[0;34m)\u001b[0m\u001b[0;34m\u001b[0m\u001b[0;34m\u001b[0m\u001b[0m\n\u001b[0m\u001b[1;32m     44\u001b[0m             )\n\u001b[1;32m     45\u001b[0m     \u001b[0;32mfinally\u001b[0m\u001b[0;34m:\u001b[0m\u001b[0;34m\u001b[0m\u001b[0;34m\u001b[0m\u001b[0m\n",
      "\u001b[0;32m~/opt/anaconda3/lib/python3.8/site-packages/ipykernel/pylab/backend_inline.py\u001b[0m in \u001b[0;36m_fetch_figure_metadata\u001b[0;34m(fig)\u001b[0m\n\u001b[1;32m    178\u001b[0m     \u001b[0;32mif\u001b[0m \u001b[0m_is_transparent\u001b[0m\u001b[0;34m(\u001b[0m\u001b[0mfig\u001b[0m\u001b[0;34m.\u001b[0m\u001b[0mget_facecolor\u001b[0m\u001b[0;34m(\u001b[0m\u001b[0;34m)\u001b[0m\u001b[0;34m)\u001b[0m\u001b[0;34m:\u001b[0m\u001b[0;34m\u001b[0m\u001b[0;34m\u001b[0m\u001b[0m\n\u001b[1;32m    179\u001b[0m         \u001b[0;31m# the background is transparent\u001b[0m\u001b[0;34m\u001b[0m\u001b[0;34m\u001b[0m\u001b[0;34m\u001b[0m\u001b[0m\n\u001b[0;32m--> 180\u001b[0;31m         ticksLight = _is_light([label.get_color()\n\u001b[0m\u001b[1;32m    181\u001b[0m                                 \u001b[0;32mfor\u001b[0m \u001b[0maxes\u001b[0m \u001b[0;32min\u001b[0m \u001b[0mfig\u001b[0m\u001b[0;34m.\u001b[0m\u001b[0maxes\u001b[0m\u001b[0;34m\u001b[0m\u001b[0;34m\u001b[0m\u001b[0m\n\u001b[1;32m    182\u001b[0m                                 \u001b[0;32mfor\u001b[0m \u001b[0maxis\u001b[0m \u001b[0;32min\u001b[0m \u001b[0;34m(\u001b[0m\u001b[0maxes\u001b[0m\u001b[0;34m.\u001b[0m\u001b[0mxaxis\u001b[0m\u001b[0;34m,\u001b[0m \u001b[0maxes\u001b[0m\u001b[0;34m.\u001b[0m\u001b[0myaxis\u001b[0m\u001b[0;34m)\u001b[0m\u001b[0;34m\u001b[0m\u001b[0;34m\u001b[0m\u001b[0m\n",
      "\u001b[0;32m~/opt/anaconda3/lib/python3.8/site-packages/ipykernel/pylab/backend_inline.py\u001b[0m in \u001b[0;36m<listcomp>\u001b[0;34m(.0)\u001b[0m\n\u001b[1;32m    181\u001b[0m                                 \u001b[0;32mfor\u001b[0m \u001b[0maxes\u001b[0m \u001b[0;32min\u001b[0m \u001b[0mfig\u001b[0m\u001b[0;34m.\u001b[0m\u001b[0maxes\u001b[0m\u001b[0;34m\u001b[0m\u001b[0;34m\u001b[0m\u001b[0m\n\u001b[1;32m    182\u001b[0m                                 \u001b[0;32mfor\u001b[0m \u001b[0maxis\u001b[0m \u001b[0;32min\u001b[0m \u001b[0;34m(\u001b[0m\u001b[0maxes\u001b[0m\u001b[0;34m.\u001b[0m\u001b[0mxaxis\u001b[0m\u001b[0;34m,\u001b[0m \u001b[0maxes\u001b[0m\u001b[0;34m.\u001b[0m\u001b[0myaxis\u001b[0m\u001b[0;34m)\u001b[0m\u001b[0;34m\u001b[0m\u001b[0;34m\u001b[0m\u001b[0m\n\u001b[0;32m--> 183\u001b[0;31m                                 for label in axis.get_ticklabels()])\n\u001b[0m\u001b[1;32m    184\u001b[0m         \u001b[0;32mif\u001b[0m \u001b[0mticksLight\u001b[0m\u001b[0;34m.\u001b[0m\u001b[0msize\u001b[0m \u001b[0;32mand\u001b[0m \u001b[0;34m(\u001b[0m\u001b[0mticksLight\u001b[0m \u001b[0;34m==\u001b[0m \u001b[0mticksLight\u001b[0m\u001b[0;34m[\u001b[0m\u001b[0;36m0\u001b[0m\u001b[0;34m]\u001b[0m\u001b[0;34m)\u001b[0m\u001b[0;34m.\u001b[0m\u001b[0mall\u001b[0m\u001b[0;34m(\u001b[0m\u001b[0;34m)\u001b[0m\u001b[0;34m:\u001b[0m\u001b[0;34m\u001b[0m\u001b[0;34m\u001b[0m\u001b[0m\n\u001b[1;32m    185\u001b[0m             \u001b[0;31m# there are one or more tick labels, all with the same lightness\u001b[0m\u001b[0;34m\u001b[0m\u001b[0;34m\u001b[0m\u001b[0;34m\u001b[0m\u001b[0m\n",
      "\u001b[0;32m~/opt/anaconda3/lib/python3.8/site-packages/matplotlib/axis.py\u001b[0m in \u001b[0;36mget_ticklabels\u001b[0;34m(self, minor, which)\u001b[0m\n\u001b[1;32m   1253\u001b[0m         \u001b[0;32mif\u001b[0m \u001b[0mminor\u001b[0m\u001b[0;34m:\u001b[0m\u001b[0;34m\u001b[0m\u001b[0;34m\u001b[0m\u001b[0m\n\u001b[1;32m   1254\u001b[0m             \u001b[0;32mreturn\u001b[0m \u001b[0mself\u001b[0m\u001b[0;34m.\u001b[0m\u001b[0mget_minorticklabels\u001b[0m\u001b[0;34m(\u001b[0m\u001b[0;34m)\u001b[0m\u001b[0;34m\u001b[0m\u001b[0;34m\u001b[0m\u001b[0m\n\u001b[0;32m-> 1255\u001b[0;31m         \u001b[0;32mreturn\u001b[0m \u001b[0mself\u001b[0m\u001b[0;34m.\u001b[0m\u001b[0mget_majorticklabels\u001b[0m\u001b[0;34m(\u001b[0m\u001b[0;34m)\u001b[0m\u001b[0;34m\u001b[0m\u001b[0;34m\u001b[0m\u001b[0m\n\u001b[0m\u001b[1;32m   1256\u001b[0m \u001b[0;34m\u001b[0m\u001b[0m\n\u001b[1;32m   1257\u001b[0m     \u001b[0;32mdef\u001b[0m \u001b[0mget_majorticklines\u001b[0m\u001b[0;34m(\u001b[0m\u001b[0mself\u001b[0m\u001b[0;34m)\u001b[0m\u001b[0;34m:\u001b[0m\u001b[0;34m\u001b[0m\u001b[0;34m\u001b[0m\u001b[0m\n",
      "\u001b[0;32m~/opt/anaconda3/lib/python3.8/site-packages/matplotlib/axis.py\u001b[0m in \u001b[0;36mget_majorticklabels\u001b[0;34m(self)\u001b[0m\n\u001b[1;32m   1205\u001b[0m     \u001b[0;32mdef\u001b[0m \u001b[0mget_majorticklabels\u001b[0m\u001b[0;34m(\u001b[0m\u001b[0mself\u001b[0m\u001b[0;34m)\u001b[0m\u001b[0;34m:\u001b[0m\u001b[0;34m\u001b[0m\u001b[0;34m\u001b[0m\u001b[0m\n\u001b[1;32m   1206\u001b[0m         \u001b[0;34m\"\"\"Return this Axis' major tick labels, as a list of `~.text.Text`.\"\"\"\u001b[0m\u001b[0;34m\u001b[0m\u001b[0;34m\u001b[0m\u001b[0m\n\u001b[0;32m-> 1207\u001b[0;31m         \u001b[0mticks\u001b[0m \u001b[0;34m=\u001b[0m \u001b[0mself\u001b[0m\u001b[0;34m.\u001b[0m\u001b[0mget_major_ticks\u001b[0m\u001b[0;34m(\u001b[0m\u001b[0;34m)\u001b[0m\u001b[0;34m\u001b[0m\u001b[0;34m\u001b[0m\u001b[0m\n\u001b[0m\u001b[1;32m   1208\u001b[0m         \u001b[0mlabels1\u001b[0m \u001b[0;34m=\u001b[0m \u001b[0;34m[\u001b[0m\u001b[0mtick\u001b[0m\u001b[0;34m.\u001b[0m\u001b[0mlabel1\u001b[0m \u001b[0;32mfor\u001b[0m \u001b[0mtick\u001b[0m \u001b[0;32min\u001b[0m \u001b[0mticks\u001b[0m \u001b[0;32mif\u001b[0m \u001b[0mtick\u001b[0m\u001b[0;34m.\u001b[0m\u001b[0mlabel1\u001b[0m\u001b[0;34m.\u001b[0m\u001b[0mget_visible\u001b[0m\u001b[0;34m(\u001b[0m\u001b[0;34m)\u001b[0m\u001b[0;34m]\u001b[0m\u001b[0;34m\u001b[0m\u001b[0;34m\u001b[0m\u001b[0m\n\u001b[1;32m   1209\u001b[0m         \u001b[0mlabels2\u001b[0m \u001b[0;34m=\u001b[0m \u001b[0;34m[\u001b[0m\u001b[0mtick\u001b[0m\u001b[0;34m.\u001b[0m\u001b[0mlabel2\u001b[0m \u001b[0;32mfor\u001b[0m \u001b[0mtick\u001b[0m \u001b[0;32min\u001b[0m \u001b[0mticks\u001b[0m \u001b[0;32mif\u001b[0m \u001b[0mtick\u001b[0m\u001b[0;34m.\u001b[0m\u001b[0mlabel2\u001b[0m\u001b[0;34m.\u001b[0m\u001b[0mget_visible\u001b[0m\u001b[0;34m(\u001b[0m\u001b[0;34m)\u001b[0m\u001b[0;34m]\u001b[0m\u001b[0;34m\u001b[0m\u001b[0;34m\u001b[0m\u001b[0m\n",
      "\u001b[0;32m~/opt/anaconda3/lib/python3.8/site-packages/matplotlib/axis.py\u001b[0m in \u001b[0;36mget_major_ticks\u001b[0;34m(self, numticks)\u001b[0m\n\u001b[1;32m   1380\u001b[0m         \u001b[0;32mwhile\u001b[0m \u001b[0mlen\u001b[0m\u001b[0;34m(\u001b[0m\u001b[0mself\u001b[0m\u001b[0;34m.\u001b[0m\u001b[0mmajorTicks\u001b[0m\u001b[0;34m)\u001b[0m \u001b[0;34m<\u001b[0m \u001b[0mnumticks\u001b[0m\u001b[0;34m:\u001b[0m\u001b[0;34m\u001b[0m\u001b[0;34m\u001b[0m\u001b[0m\n\u001b[1;32m   1381\u001b[0m             \u001b[0;31m# Update the new tick label properties from the old.\u001b[0m\u001b[0;34m\u001b[0m\u001b[0;34m\u001b[0m\u001b[0;34m\u001b[0m\u001b[0m\n\u001b[0;32m-> 1382\u001b[0;31m             \u001b[0mtick\u001b[0m \u001b[0;34m=\u001b[0m \u001b[0mself\u001b[0m\u001b[0;34m.\u001b[0m\u001b[0m_get_tick\u001b[0m\u001b[0;34m(\u001b[0m\u001b[0mmajor\u001b[0m\u001b[0;34m=\u001b[0m\u001b[0;32mTrue\u001b[0m\u001b[0;34m)\u001b[0m\u001b[0;34m\u001b[0m\u001b[0;34m\u001b[0m\u001b[0m\n\u001b[0m\u001b[1;32m   1383\u001b[0m             \u001b[0mself\u001b[0m\u001b[0;34m.\u001b[0m\u001b[0mmajorTicks\u001b[0m\u001b[0;34m.\u001b[0m\u001b[0mappend\u001b[0m\u001b[0;34m(\u001b[0m\u001b[0mtick\u001b[0m\u001b[0;34m)\u001b[0m\u001b[0;34m\u001b[0m\u001b[0;34m\u001b[0m\u001b[0m\n\u001b[1;32m   1384\u001b[0m             \u001b[0mtick\u001b[0m\u001b[0;34m.\u001b[0m\u001b[0mgridline\u001b[0m\u001b[0;34m.\u001b[0m\u001b[0mset_visible\u001b[0m\u001b[0;34m(\u001b[0m\u001b[0mself\u001b[0m\u001b[0;34m.\u001b[0m\u001b[0m_gridOnMajor\u001b[0m\u001b[0;34m)\u001b[0m\u001b[0;34m\u001b[0m\u001b[0;34m\u001b[0m\u001b[0m\n",
      "\u001b[0;32m~/opt/anaconda3/lib/python3.8/site-packages/matplotlib/axis.py\u001b[0m in \u001b[0;36m_get_tick\u001b[0;34m(self, major)\u001b[0m\n\u001b[1;32m   2011\u001b[0m         \u001b[0;32melse\u001b[0m\u001b[0;34m:\u001b[0m\u001b[0;34m\u001b[0m\u001b[0;34m\u001b[0m\u001b[0m\n\u001b[1;32m   2012\u001b[0m             \u001b[0mtick_kw\u001b[0m \u001b[0;34m=\u001b[0m \u001b[0mself\u001b[0m\u001b[0;34m.\u001b[0m\u001b[0m_minor_tick_kw\u001b[0m\u001b[0;34m\u001b[0m\u001b[0;34m\u001b[0m\u001b[0m\n\u001b[0;32m-> 2013\u001b[0;31m         \u001b[0;32mreturn\u001b[0m \u001b[0mXTick\u001b[0m\u001b[0;34m(\u001b[0m\u001b[0mself\u001b[0m\u001b[0;34m.\u001b[0m\u001b[0maxes\u001b[0m\u001b[0;34m,\u001b[0m \u001b[0;36m0\u001b[0m\u001b[0;34m,\u001b[0m \u001b[0mmajor\u001b[0m\u001b[0;34m=\u001b[0m\u001b[0mmajor\u001b[0m\u001b[0;34m,\u001b[0m \u001b[0;34m**\u001b[0m\u001b[0mtick_kw\u001b[0m\u001b[0;34m)\u001b[0m\u001b[0;34m\u001b[0m\u001b[0;34m\u001b[0m\u001b[0m\n\u001b[0m\u001b[1;32m   2014\u001b[0m \u001b[0;34m\u001b[0m\u001b[0m\n\u001b[1;32m   2015\u001b[0m     \u001b[0;32mdef\u001b[0m \u001b[0mset_label_position\u001b[0m\u001b[0;34m(\u001b[0m\u001b[0mself\u001b[0m\u001b[0;34m,\u001b[0m \u001b[0mposition\u001b[0m\u001b[0;34m)\u001b[0m\u001b[0;34m:\u001b[0m\u001b[0;34m\u001b[0m\u001b[0;34m\u001b[0m\u001b[0m\n",
      "\u001b[0;32m~/opt/anaconda3/lib/python3.8/site-packages/matplotlib/axis.py\u001b[0m in \u001b[0;36m__init__\u001b[0;34m(self, *args, **kwargs)\u001b[0m\n\u001b[1;32m    415\u001b[0m \u001b[0;34m\u001b[0m\u001b[0m\n\u001b[1;32m    416\u001b[0m     \u001b[0;32mdef\u001b[0m \u001b[0m__init__\u001b[0m\u001b[0;34m(\u001b[0m\u001b[0mself\u001b[0m\u001b[0;34m,\u001b[0m \u001b[0;34m*\u001b[0m\u001b[0margs\u001b[0m\u001b[0;34m,\u001b[0m \u001b[0;34m**\u001b[0m\u001b[0mkwargs\u001b[0m\u001b[0;34m)\u001b[0m\u001b[0;34m:\u001b[0m\u001b[0;34m\u001b[0m\u001b[0;34m\u001b[0m\u001b[0m\n\u001b[0;32m--> 417\u001b[0;31m         \u001b[0msuper\u001b[0m\u001b[0;34m(\u001b[0m\u001b[0;34m)\u001b[0m\u001b[0;34m.\u001b[0m\u001b[0m__init__\u001b[0m\u001b[0;34m(\u001b[0m\u001b[0;34m*\u001b[0m\u001b[0margs\u001b[0m\u001b[0;34m,\u001b[0m \u001b[0;34m**\u001b[0m\u001b[0mkwargs\u001b[0m\u001b[0;34m)\u001b[0m\u001b[0;34m\u001b[0m\u001b[0;34m\u001b[0m\u001b[0m\n\u001b[0m\u001b[1;32m    418\u001b[0m         \u001b[0;31m# x in data coords, y in axes coords\u001b[0m\u001b[0;34m\u001b[0m\u001b[0;34m\u001b[0m\u001b[0;34m\u001b[0m\u001b[0m\n\u001b[1;32m    419\u001b[0m         self.tick1line.set(\n",
      "\u001b[0;32m~/opt/anaconda3/lib/python3.8/site-packages/matplotlib/cbook/deprecation.py\u001b[0m in \u001b[0;36mwrapper\u001b[0;34m(*inner_args, **inner_kwargs)\u001b[0m\n\u001b[1;32m    409\u001b[0m                          \u001b[0;32melse\u001b[0m \u001b[0mdeprecation_addendum\u001b[0m\u001b[0;34m,\u001b[0m\u001b[0;34m\u001b[0m\u001b[0;34m\u001b[0m\u001b[0m\n\u001b[1;32m    410\u001b[0m                 **kwargs)\n\u001b[0;32m--> 411\u001b[0;31m         \u001b[0;32mreturn\u001b[0m \u001b[0mfunc\u001b[0m\u001b[0;34m(\u001b[0m\u001b[0;34m*\u001b[0m\u001b[0minner_args\u001b[0m\u001b[0;34m,\u001b[0m \u001b[0;34m**\u001b[0m\u001b[0minner_kwargs\u001b[0m\u001b[0;34m)\u001b[0m\u001b[0;34m\u001b[0m\u001b[0;34m\u001b[0m\u001b[0m\n\u001b[0m\u001b[1;32m    412\u001b[0m \u001b[0;34m\u001b[0m\u001b[0m\n\u001b[1;32m    413\u001b[0m     \u001b[0;32mreturn\u001b[0m \u001b[0mwrapper\u001b[0m\u001b[0;34m\u001b[0m\u001b[0;34m\u001b[0m\u001b[0m\n",
      "\u001b[0;32m~/opt/anaconda3/lib/python3.8/site-packages/matplotlib/axis.py\u001b[0m in \u001b[0;36m__init__\u001b[0;34m(self, axes, loc, label, size, width, color, tickdir, pad, labelsize, labelcolor, zorder, gridOn, tick1On, tick2On, label1On, label2On, major, labelrotation, grid_color, grid_linestyle, grid_linewidth, grid_alpha, **kw)\u001b[0m\n\u001b[1;32m    163\u001b[0m             \u001b[0;34m**\u001b[0m\u001b[0mgrid_kw\u001b[0m\u001b[0;34m,\u001b[0m\u001b[0;34m\u001b[0m\u001b[0;34m\u001b[0m\u001b[0m\n\u001b[1;32m    164\u001b[0m         )\n\u001b[0;32m--> 165\u001b[0;31m         \u001b[0mself\u001b[0m\u001b[0;34m.\u001b[0m\u001b[0mgridline\u001b[0m\u001b[0;34m.\u001b[0m\u001b[0mget_path\u001b[0m\u001b[0;34m(\u001b[0m\u001b[0;34m)\u001b[0m\u001b[0;34m.\u001b[0m\u001b[0m_interpolation_steps\u001b[0m \u001b[0;34m=\u001b[0m\u001b[0;31m \u001b[0m\u001b[0;31m\\\u001b[0m\u001b[0;34m\u001b[0m\u001b[0;34m\u001b[0m\u001b[0m\n\u001b[0m\u001b[1;32m    166\u001b[0m             \u001b[0mGRIDLINE_INTERPOLATION_STEPS\u001b[0m\u001b[0;34m\u001b[0m\u001b[0;34m\u001b[0m\u001b[0m\n\u001b[1;32m    167\u001b[0m         self.label1 = mtext.Text(\n",
      "\u001b[0;32m~/opt/anaconda3/lib/python3.8/site-packages/matplotlib/lines.py\u001b[0m in \u001b[0;36mget_path\u001b[0;34m(self)\u001b[0m\n\u001b[1;32m   1009\u001b[0m         \"\"\"\n\u001b[1;32m   1010\u001b[0m         \u001b[0;32mif\u001b[0m \u001b[0mself\u001b[0m\u001b[0;34m.\u001b[0m\u001b[0m_invalidy\u001b[0m \u001b[0;32mor\u001b[0m \u001b[0mself\u001b[0m\u001b[0;34m.\u001b[0m\u001b[0m_invalidx\u001b[0m\u001b[0;34m:\u001b[0m\u001b[0;34m\u001b[0m\u001b[0;34m\u001b[0m\u001b[0m\n\u001b[0;32m-> 1011\u001b[0;31m             \u001b[0mself\u001b[0m\u001b[0;34m.\u001b[0m\u001b[0mrecache\u001b[0m\u001b[0;34m(\u001b[0m\u001b[0;34m)\u001b[0m\u001b[0;34m\u001b[0m\u001b[0;34m\u001b[0m\u001b[0m\n\u001b[0m\u001b[1;32m   1012\u001b[0m         \u001b[0;32mreturn\u001b[0m \u001b[0mself\u001b[0m\u001b[0;34m.\u001b[0m\u001b[0m_path\u001b[0m\u001b[0;34m\u001b[0m\u001b[0;34m\u001b[0m\u001b[0m\n\u001b[1;32m   1013\u001b[0m \u001b[0;34m\u001b[0m\u001b[0m\n",
      "\u001b[0;32m~/opt/anaconda3/lib/python3.8/site-packages/matplotlib/lines.py\u001b[0m in \u001b[0;36mrecache\u001b[0;34m(self, always)\u001b[0m\n\u001b[1;32m    660\u001b[0m             \u001b[0my\u001b[0m \u001b[0;34m=\u001b[0m \u001b[0mself\u001b[0m\u001b[0;34m.\u001b[0m\u001b[0m_y\u001b[0m\u001b[0;34m\u001b[0m\u001b[0;34m\u001b[0m\u001b[0m\n\u001b[1;32m    661\u001b[0m \u001b[0;34m\u001b[0m\u001b[0m\n\u001b[0;32m--> 662\u001b[0;31m         \u001b[0mself\u001b[0m\u001b[0;34m.\u001b[0m\u001b[0m_xy\u001b[0m \u001b[0;34m=\u001b[0m \u001b[0mnp\u001b[0m\u001b[0;34m.\u001b[0m\u001b[0mcolumn_stack\u001b[0m\u001b[0;34m(\u001b[0m\u001b[0mnp\u001b[0m\u001b[0;34m.\u001b[0m\u001b[0mbroadcast_arrays\u001b[0m\u001b[0;34m(\u001b[0m\u001b[0mx\u001b[0m\u001b[0;34m,\u001b[0m \u001b[0my\u001b[0m\u001b[0;34m)\u001b[0m\u001b[0;34m)\u001b[0m\u001b[0;34m.\u001b[0m\u001b[0mastype\u001b[0m\u001b[0;34m(\u001b[0m\u001b[0mfloat\u001b[0m\u001b[0;34m)\u001b[0m\u001b[0;34m\u001b[0m\u001b[0;34m\u001b[0m\u001b[0m\n\u001b[0m\u001b[1;32m    663\u001b[0m         \u001b[0mself\u001b[0m\u001b[0;34m.\u001b[0m\u001b[0m_x\u001b[0m\u001b[0;34m,\u001b[0m \u001b[0mself\u001b[0m\u001b[0;34m.\u001b[0m\u001b[0m_y\u001b[0m \u001b[0;34m=\u001b[0m \u001b[0mself\u001b[0m\u001b[0;34m.\u001b[0m\u001b[0m_xy\u001b[0m\u001b[0;34m.\u001b[0m\u001b[0mT\u001b[0m  \u001b[0;31m# views\u001b[0m\u001b[0;34m\u001b[0m\u001b[0;34m\u001b[0m\u001b[0m\n\u001b[1;32m    664\u001b[0m \u001b[0;34m\u001b[0m\u001b[0m\n",
      "\u001b[0;32m<__array_function__ internals>\u001b[0m in \u001b[0;36mcolumn_stack\u001b[0;34m(*args, **kwargs)\u001b[0m\n",
      "\u001b[0;32m~/opt/anaconda3/lib/python3.8/site-packages/numpy/lib/shape_base.py\u001b[0m in \u001b[0;36mcolumn_stack\u001b[0;34m(tup)\u001b[0m\n\u001b[1;32m    654\u001b[0m             \u001b[0marr\u001b[0m \u001b[0;34m=\u001b[0m \u001b[0marray\u001b[0m\u001b[0;34m(\u001b[0m\u001b[0marr\u001b[0m\u001b[0;34m,\u001b[0m \u001b[0mcopy\u001b[0m\u001b[0;34m=\u001b[0m\u001b[0;32mFalse\u001b[0m\u001b[0;34m,\u001b[0m \u001b[0msubok\u001b[0m\u001b[0;34m=\u001b[0m\u001b[0;32mTrue\u001b[0m\u001b[0;34m,\u001b[0m \u001b[0mndmin\u001b[0m\u001b[0;34m=\u001b[0m\u001b[0;36m2\u001b[0m\u001b[0;34m)\u001b[0m\u001b[0;34m.\u001b[0m\u001b[0mT\u001b[0m\u001b[0;34m\u001b[0m\u001b[0;34m\u001b[0m\u001b[0m\n\u001b[1;32m    655\u001b[0m         \u001b[0marrays\u001b[0m\u001b[0;34m.\u001b[0m\u001b[0mappend\u001b[0m\u001b[0;34m(\u001b[0m\u001b[0marr\u001b[0m\u001b[0;34m)\u001b[0m\u001b[0;34m\u001b[0m\u001b[0;34m\u001b[0m\u001b[0m\n\u001b[0;32m--> 656\u001b[0;31m     \u001b[0;32mreturn\u001b[0m \u001b[0m_nx\u001b[0m\u001b[0;34m.\u001b[0m\u001b[0mconcatenate\u001b[0m\u001b[0;34m(\u001b[0m\u001b[0marrays\u001b[0m\u001b[0;34m,\u001b[0m \u001b[0;36m1\u001b[0m\u001b[0;34m)\u001b[0m\u001b[0;34m\u001b[0m\u001b[0;34m\u001b[0m\u001b[0m\n\u001b[0m\u001b[1;32m    657\u001b[0m \u001b[0;34m\u001b[0m\u001b[0m\n\u001b[1;32m    658\u001b[0m \u001b[0;34m\u001b[0m\u001b[0m\n",
      "\u001b[0;32m<__array_function__ internals>\u001b[0m in \u001b[0;36mconcatenate\u001b[0;34m(*args, **kwargs)\u001b[0m\n",
      "\u001b[0;31mKeyboardInterrupt\u001b[0m: "
     ]
    }
   ],
   "source": [
    "# temp = df[df.max_topic=='social'].sort_values(by=['date'])[['date', 'social']]\n",
    "# x = temp.date\n",
    "# y = temp.social.rolling(100).mean()\n",
    "# plt.plot(x,y)\n"
   ]
  },
  {
   "cell_type": "code",
   "execution_count": null,
   "metadata": {},
   "outputs": [],
   "source": []
  }
 ],
 "metadata": {
  "kernelspec": {
   "display_name": "Python 3",
   "language": "python",
   "name": "python3"
  },
  "language_info": {
   "codemirror_mode": {
    "name": "ipython",
    "version": 3
   },
   "file_extension": ".py",
   "mimetype": "text/x-python",
   "name": "python",
   "nbconvert_exporter": "python",
   "pygments_lexer": "ipython3",
   "version": "3.8.5"
  }
 },
 "nbformat": 4,
 "nbformat_minor": 4
}
