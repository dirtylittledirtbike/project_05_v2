{
 "cells": [
  {
   "cell_type": "code",
   "execution_count": 1,
   "metadata": {},
   "outputs": [],
   "source": [
    "from sklearn.feature_extraction.text import CountVectorizer \n",
    "from sklearn.decomposition import TruncatedSVD\n",
    "from sklearn.decomposition import NMF\n",
    "from sklearn.decomposition import LatentDirichletAllocation\n",
    "from sklearn.metrics.pairwise import cosine_similarity\n",
    "from sklearn.feature_extraction.text import TfidfVectorizer"
   ]
  },
  {
   "cell_type": "code",
   "execution_count": 2,
   "metadata": {},
   "outputs": [],
   "source": [
    "import pandas as pd\n",
    "import numpy as np\n",
    "import datetime \n",
    "import re\n",
    "from urlextract import URLExtract\n",
    "import spacy\n",
    "import time\n",
    "import pickle\n",
    "import matplotlib.pyplot as plt"
   ]
  },
  {
   "cell_type": "code",
   "execution_count": 3,
   "metadata": {},
   "outputs": [],
   "source": [
    "extractor = URLExtract()\n",
    "# remove all urls from posts\n",
    "def replace_urls(x):\n",
    "    urls = extractor.find_urls(x)\n",
    "    if urls:\n",
    "        x_new = replace_urls(x.replace(urls[0],''))\n",
    "        return x_new\n",
    "    else:\n",
    "        return x"
   ]
  },
  {
   "cell_type": "code",
   "execution_count": 4,
   "metadata": {},
   "outputs": [],
   "source": [
    "comments = pd.read_csv('data/sample_depression_comments.csv')"
   ]
  },
  {
   "cell_type": "code",
   "execution_count": 5,
   "metadata": {},
   "outputs": [],
   "source": [
    "comments.drop_duplicates(subset=['id'], inplace=True)"
   ]
  },
  {
   "cell_type": "code",
   "execution_count": 6,
   "metadata": {},
   "outputs": [],
   "source": [
    "comments = comments[(comments.body!='[removed]')&(comments.body!='[deleted]')].copy()"
   ]
  },
  {
   "cell_type": "code",
   "execution_count": 7,
   "metadata": {},
   "outputs": [],
   "source": [
    "comments['body'] = comments.body.map(lambda x: re.sub(\"&amp;#x200B;\",' ',str(x)))\n",
    "comments['body'] = comments.body.map(lambda x: re.sub(\"&amp;nbsp;\",' ',str(x)))\n",
    "comments['body'] = comments.body.map(lambda x: re.sub(\"&amp;\",' ',str(x)))\n",
    "comments['body'] = comments.body.map(lambda x: re.sub(\"nbsp;\",' ',str(x)))\n",
    "\n",
    "\n",
    "comments['body'] = comments.body.map(lambda x: re.sub('\\n',' ',str(x)))\n",
    "comments['body'] = comments.body.map(lambda x: re.sub('  ',' ',str(x)))\n",
    "comments['body'] = comments.body.map(lambda x: replace_urls(x))\n",
    "comments['date'] = comments.created_utc.apply(lambda x: pd.to_datetime(time.ctime(x)))\n",
    "comments['body'] = comments.body.apply(lambda x: x.lower())"
   ]
  },
  {
   "cell_type": "code",
   "execution_count": 8,
   "metadata": {},
   "outputs": [
    {
     "data": {
      "text/plain": [
       "<AxesSubplot:xlabel='date,date'>"
      ]
     },
     "execution_count": 8,
     "metadata": {},
     "output_type": "execute_result"
    },
    {
     "data": {
      "image/png": "[encoded data removed]",
      "text/plain": [
       "<Figure size 432x288 with 1 Axes>"
      ]
     },
     "metadata": {
      "needs_background": "light"
     },
     "output_type": "display_data"
    }
   ],
   "source": [
    "comments.groupby([comments[\"date\"].dt.year, comments[\"date\"].dt.month]).size().plot(kind=\"bar\")"
   ]
  },
  {
   "cell_type": "code",
   "execution_count": 9,
   "metadata": {},
   "outputs": [
    {
     "data": {
      "text/plain": [
       "<AxesSubplot:xlabel='date'>"
      ]
     },
     "execution_count": 9,
     "metadata": {},
     "output_type": "execute_result"
    },
    {
     "data": {
      "image/png": "[encoded data removed]",
      "text/plain": [
       "<Figure size 432x288 with 1 Axes>"
      ]
     },
     "metadata": {
      "needs_background": "light"
     },
     "output_type": "display_data"
    }
   ],
   "source": [
    "comments.groupby([comments[\"date\"].dt.hour]).size().plot(kind=\"bar\")"
   ]
  },
  {
   "cell_type": "code",
   "execution_count": 10,
   "metadata": {},
   "outputs": [],
   "source": [
    "nlp = spacy.load(\"en\")"
   ]
  },
  {
   "cell_type": "code",
   "execution_count": 11,
   "metadata": {},
   "outputs": [],
   "source": [
    "nlp.vocab['  '].is_stop = True"
   ]
  },
  {
   "cell_type": "code",
   "execution_count": 12,
   "metadata": {},
   "outputs": [
    {
     "data": {
      "text/plain": [
       "81661"
      ]
     },
     "execution_count": 12,
     "metadata": {},
     "output_type": "execute_result"
    }
   ],
   "source": [
    "from spacy.lang.en.stop_words import STOP_WORDS\n",
    "\n",
    "def process_text(nlp, text, pos_list, lemma=False):\n",
    "\n",
    "    text_full = [] \n",
    "    for doc in nlp.pipe(text, disable=['parser', 'ner', 'tagger']):\n",
    "        # if part of speech list isnt empty return matches for pos\n",
    "        if pos_list:\n",
    "            tokens = [(ent.pos_) for ent in doc if not ent.is_stop and not ent.is_punct and ent.pos_ in pos_list]\n",
    "            cleaned_text = \" \".join(tokens)\n",
    "            text_full.append(cleaned_text)\n",
    "        elif lemma == True:\n",
    "            tokens = [(ent.lemma_) for ent in doc if not ent.is_stop and not ent.is_punct]\n",
    "            cleaned_text = \" \".join(tokens)\n",
    "            text_full.append(cleaned_text)\n",
    "        else:\n",
    "            tokens = [(ent.text) for ent in doc if not ent.is_stop and not ent.is_punct]\n",
    "            cleaned_text = \" \".join(tokens)\n",
    "            text_full.append(cleaned_text)\n",
    "            \n",
    "    return text_full\n",
    "\n",
    "# print(corpus.title.values[0])\n",
    "# print()\n",
    "\n",
    "corp = comments.body\n",
    "a = process_text(nlp, corp, pos_list=[], lemma=False)\n",
    "len(a)"
   ]
  },
  {
   "cell_type": "code",
   "execution_count": 13,
   "metadata": {},
   "outputs": [
    {
     "data": {
      "text/plain": [
       "\"there was a point in my life where i seriously contemplated suicide. i can't say i know everything you're going through, because i don't. i have a close family, and i had good friends at the time. that being said, it wasn't them that made me turn away. as i stood there, staring out over the balcony ledge of the hotel ledge, thinking that this was it, this was my chance, i realized that i was still young. there were still so many things i had yet to do. i thought about all the new marvel movies i'd miss, and the breakthroughs in science i'd never see. there are pewdiepie videos somewhere in the future that i'll never get to watch if i end it all now.  think about friends is great, but they only got me so far. i had to think about myself to realize i didn't want to do it.\""
      ]
     },
     "execution_count": 13,
     "metadata": {},
     "output_type": "execute_result"
    }
   ],
   "source": [
    "corp[2]"
   ]
  },
  {
   "cell_type": "code",
   "execution_count": 14,
   "metadata": {},
   "outputs": [
    {
     "data": {
      "text/plain": [
       "'point life seriously contemplated suicide know going close family good friends time said turn away stood staring balcony ledge hotel ledge thinking chance realized young things thought new marvel movies miss breakthroughs science pewdiepie videos future watch end   think friends great got far think realize want'"
      ]
     },
     "execution_count": 14,
     "metadata": {},
     "output_type": "execute_result"
    }
   ],
   "source": [
    "a[2]"
   ]
  },
  {
   "cell_type": "code",
   "execution_count": 15,
   "metadata": {},
   "outputs": [],
   "source": [
    "additional_stop_words = ['yes', 'yes', 'feel', 'thank', 'thanks']"
   ]
  },
  {
   "cell_type": "code",
   "execution_count": 16,
   "metadata": {},
   "outputs": [],
   "source": [
    "vectorizer = TfidfVectorizer(\n",
    "                             strip_accents='unicode',\n",
    "                             min_df = 5,\n",
    "                             ngram_range=(1, 1),\n",
    "                             max_df = .5, \n",
    "                             token_pattern = r'\\b[a-zA-Z]{3,}\\b',\n",
    "                             stop_words = additional_stop_words\n",
    ")"
   ]
  },
  {
   "cell_type": "code",
   "execution_count": 17,
   "metadata": {},
   "outputs": [],
   "source": [
    "corpus = a\n",
    "doc_term = vectorizer.fit_transform(corpus).toarray()"
   ]
  },
  {
   "cell_type": "code",
   "execution_count": 18,
   "metadata": {},
   "outputs": [
    {
     "data": {
      "text/html": [
       "<div>\n",
       "<style scoped>\n",
       "    .dataframe tbody tr th:only-of-type {\n",
       "        vertical-align: middle;\n",
       "    }\n",
       "\n",
       "    .dataframe tbody tr th {\n",
       "        vertical-align: top;\n",
       "    }\n",
       "\n",
       "    .dataframe thead th {\n",
       "        text-align: right;\n",
       "    }\n",
       "</style>\n",
       "<table border=\"1\" class=\"dataframe\">\n",
       "  <thead>\n",
       "    <tr style=\"text-align: right;\">\n",
       "      <th></th>\n",
       "      <th>abandon</th>\n",
       "      <th>abandoned</th>\n",
       "      <th>abandoning</th>\n",
       "      <th>abandonment</th>\n",
       "      <th>abd</th>\n",
       "      <th>abilify</th>\n",
       "      <th>abilities</th>\n",
       "      <th>ability</th>\n",
       "      <th>abit</th>\n",
       "      <th>able</th>\n",
       "      <th>...</th>\n",
       "      <th>zero</th>\n",
       "      <th>zinc</th>\n",
       "      <th>zoloft</th>\n",
       "      <th>zombie</th>\n",
       "      <th>zone</th>\n",
       "      <th>zoned</th>\n",
       "      <th>zones</th>\n",
       "      <th>zoning</th>\n",
       "      <th>zoo</th>\n",
       "      <th>zoom</th>\n",
       "    </tr>\n",
       "  </thead>\n",
       "  <tbody>\n",
       "    <tr>\n",
       "      <th>0</th>\n",
       "      <td>0.0</td>\n",
       "      <td>0.0</td>\n",
       "      <td>0.0</td>\n",
       "      <td>0.0</td>\n",
       "      <td>0.0</td>\n",
       "      <td>0.0</td>\n",
       "      <td>0.0</td>\n",
       "      <td>0.0</td>\n",
       "      <td>0.0</td>\n",
       "      <td>0.0</td>\n",
       "      <td>...</td>\n",
       "      <td>0.0</td>\n",
       "      <td>0.0</td>\n",
       "      <td>0.0</td>\n",
       "      <td>0.0</td>\n",
       "      <td>0.0</td>\n",
       "      <td>0.0</td>\n",
       "      <td>0.0</td>\n",
       "      <td>0.0</td>\n",
       "      <td>0.0</td>\n",
       "      <td>0.0</td>\n",
       "    </tr>\n",
       "    <tr>\n",
       "      <th>1</th>\n",
       "      <td>0.0</td>\n",
       "      <td>0.0</td>\n",
       "      <td>0.0</td>\n",
       "      <td>0.0</td>\n",
       "      <td>0.0</td>\n",
       "      <td>0.0</td>\n",
       "      <td>0.0</td>\n",
       "      <td>0.0</td>\n",
       "      <td>0.0</td>\n",
       "      <td>0.0</td>\n",
       "      <td>...</td>\n",
       "      <td>0.0</td>\n",
       "      <td>0.0</td>\n",
       "      <td>0.0</td>\n",
       "      <td>0.0</td>\n",
       "      <td>0.0</td>\n",
       "      <td>0.0</td>\n",
       "      <td>0.0</td>\n",
       "      <td>0.0</td>\n",
       "      <td>0.0</td>\n",
       "      <td>0.0</td>\n",
       "    </tr>\n",
       "    <tr>\n",
       "      <th>2</th>\n",
       "      <td>0.0</td>\n",
       "      <td>0.0</td>\n",
       "      <td>0.0</td>\n",
       "      <td>0.0</td>\n",
       "      <td>0.0</td>\n",
       "      <td>0.0</td>\n",
       "      <td>0.0</td>\n",
       "      <td>0.0</td>\n",
       "      <td>0.0</td>\n",
       "      <td>0.0</td>\n",
       "      <td>...</td>\n",
       "      <td>0.0</td>\n",
       "      <td>0.0</td>\n",
       "      <td>0.0</td>\n",
       "      <td>0.0</td>\n",
       "      <td>0.0</td>\n",
       "      <td>0.0</td>\n",
       "      <td>0.0</td>\n",
       "      <td>0.0</td>\n",
       "      <td>0.0</td>\n",
       "      <td>0.0</td>\n",
       "    </tr>\n",
       "    <tr>\n",
       "      <th>3</th>\n",
       "      <td>0.0</td>\n",
       "      <td>0.0</td>\n",
       "      <td>0.0</td>\n",
       "      <td>0.0</td>\n",
       "      <td>0.0</td>\n",
       "      <td>0.0</td>\n",
       "      <td>0.0</td>\n",
       "      <td>0.0</td>\n",
       "      <td>0.0</td>\n",
       "      <td>0.0</td>\n",
       "      <td>...</td>\n",
       "      <td>0.0</td>\n",
       "      <td>0.0</td>\n",
       "      <td>0.0</td>\n",
       "      <td>0.0</td>\n",
       "      <td>0.0</td>\n",
       "      <td>0.0</td>\n",
       "      <td>0.0</td>\n",
       "      <td>0.0</td>\n",
       "      <td>0.0</td>\n",
       "      <td>0.0</td>\n",
       "    </tr>\n",
       "    <tr>\n",
       "      <th>4</th>\n",
       "      <td>0.0</td>\n",
       "      <td>0.0</td>\n",
       "      <td>0.0</td>\n",
       "      <td>0.0</td>\n",
       "      <td>0.0</td>\n",
       "      <td>0.0</td>\n",
       "      <td>0.0</td>\n",
       "      <td>0.0</td>\n",
       "      <td>0.0</td>\n",
       "      <td>0.0</td>\n",
       "      <td>...</td>\n",
       "      <td>0.0</td>\n",
       "      <td>0.0</td>\n",
       "      <td>0.0</td>\n",
       "      <td>0.0</td>\n",
       "      <td>0.0</td>\n",
       "      <td>0.0</td>\n",
       "      <td>0.0</td>\n",
       "      <td>0.0</td>\n",
       "      <td>0.0</td>\n",
       "      <td>0.0</td>\n",
       "    </tr>\n",
       "    <tr>\n",
       "      <th>...</th>\n",
       "      <td>...</td>\n",
       "      <td>...</td>\n",
       "      <td>...</td>\n",
       "      <td>...</td>\n",
       "      <td>...</td>\n",
       "      <td>...</td>\n",
       "      <td>...</td>\n",
       "      <td>...</td>\n",
       "      <td>...</td>\n",
       "      <td>...</td>\n",
       "      <td>...</td>\n",
       "      <td>...</td>\n",
       "      <td>...</td>\n",
       "      <td>...</td>\n",
       "      <td>...</td>\n",
       "      <td>...</td>\n",
       "      <td>...</td>\n",
       "      <td>...</td>\n",
       "      <td>...</td>\n",
       "      <td>...</td>\n",
       "      <td>...</td>\n",
       "    </tr>\n",
       "    <tr>\n",
       "      <th>81656</th>\n",
       "      <td>0.0</td>\n",
       "      <td>0.0</td>\n",
       "      <td>0.0</td>\n",
       "      <td>0.0</td>\n",
       "      <td>0.0</td>\n",
       "      <td>0.0</td>\n",
       "      <td>0.0</td>\n",
       "      <td>0.0</td>\n",
       "      <td>0.0</td>\n",
       "      <td>0.0</td>\n",
       "      <td>...</td>\n",
       "      <td>0.0</td>\n",
       "      <td>0.0</td>\n",
       "      <td>0.0</td>\n",
       "      <td>0.0</td>\n",
       "      <td>0.0</td>\n",
       "      <td>0.0</td>\n",
       "      <td>0.0</td>\n",
       "      <td>0.0</td>\n",
       "      <td>0.0</td>\n",
       "      <td>0.0</td>\n",
       "    </tr>\n",
       "    <tr>\n",
       "      <th>81657</th>\n",
       "      <td>0.0</td>\n",
       "      <td>0.0</td>\n",
       "      <td>0.0</td>\n",
       "      <td>0.0</td>\n",
       "      <td>0.0</td>\n",
       "      <td>0.0</td>\n",
       "      <td>0.0</td>\n",
       "      <td>0.0</td>\n",
       "      <td>0.0</td>\n",
       "      <td>0.0</td>\n",
       "      <td>...</td>\n",
       "      <td>0.0</td>\n",
       "      <td>0.0</td>\n",
       "      <td>0.0</td>\n",
       "      <td>0.0</td>\n",
       "      <td>0.0</td>\n",
       "      <td>0.0</td>\n",
       "      <td>0.0</td>\n",
       "      <td>0.0</td>\n",
       "      <td>0.0</td>\n",
       "      <td>0.0</td>\n",
       "    </tr>\n",
       "    <tr>\n",
       "      <th>81658</th>\n",
       "      <td>0.0</td>\n",
       "      <td>0.0</td>\n",
       "      <td>0.0</td>\n",
       "      <td>0.0</td>\n",
       "      <td>0.0</td>\n",
       "      <td>0.0</td>\n",
       "      <td>0.0</td>\n",
       "      <td>0.0</td>\n",
       "      <td>0.0</td>\n",
       "      <td>0.0</td>\n",
       "      <td>...</td>\n",
       "      <td>0.0</td>\n",
       "      <td>0.0</td>\n",
       "      <td>0.0</td>\n",
       "      <td>0.0</td>\n",
       "      <td>0.0</td>\n",
       "      <td>0.0</td>\n",
       "      <td>0.0</td>\n",
       "      <td>0.0</td>\n",
       "      <td>0.0</td>\n",
       "      <td>0.0</td>\n",
       "    </tr>\n",
       "    <tr>\n",
       "      <th>81659</th>\n",
       "      <td>0.0</td>\n",
       "      <td>0.0</td>\n",
       "      <td>0.0</td>\n",
       "      <td>0.0</td>\n",
       "      <td>0.0</td>\n",
       "      <td>0.0</td>\n",
       "      <td>0.0</td>\n",
       "      <td>0.0</td>\n",
       "      <td>0.0</td>\n",
       "      <td>0.0</td>\n",
       "      <td>...</td>\n",
       "      <td>0.0</td>\n",
       "      <td>0.0</td>\n",
       "      <td>0.0</td>\n",
       "      <td>0.0</td>\n",
       "      <td>0.0</td>\n",
       "      <td>0.0</td>\n",
       "      <td>0.0</td>\n",
       "      <td>0.0</td>\n",
       "      <td>0.0</td>\n",
       "      <td>0.0</td>\n",
       "    </tr>\n",
       "    <tr>\n",
       "      <th>81660</th>\n",
       "      <td>0.0</td>\n",
       "      <td>0.0</td>\n",
       "      <td>0.0</td>\n",
       "      <td>0.0</td>\n",
       "      <td>0.0</td>\n",
       "      <td>0.0</td>\n",
       "      <td>0.0</td>\n",
       "      <td>0.0</td>\n",
       "      <td>0.0</td>\n",
       "      <td>0.0</td>\n",
       "      <td>...</td>\n",
       "      <td>0.0</td>\n",
       "      <td>0.0</td>\n",
       "      <td>0.0</td>\n",
       "      <td>0.0</td>\n",
       "      <td>0.0</td>\n",
       "      <td>0.0</td>\n",
       "      <td>0.0</td>\n",
       "      <td>0.0</td>\n",
       "      <td>0.0</td>\n",
       "      <td>0.0</td>\n",
       "    </tr>\n",
       "  </tbody>\n",
       "</table>\n",
       "<p>81661 rows × 11352 columns</p>\n",
       "</div>"
      ],
      "text/plain": [
       "       abandon  abandoned  abandoning  abandonment  abd  abilify  abilities  \\\n",
       "0          0.0        0.0         0.0          0.0  0.0      0.0        0.0   \n",
       "1          0.0        0.0         0.0          0.0  0.0      0.0        0.0   \n",
       "2          0.0        0.0         0.0          0.0  0.0      0.0        0.0   \n",
       "3          0.0        0.0         0.0          0.0  0.0      0.0        0.0   \n",
       "4          0.0        0.0         0.0          0.0  0.0      0.0        0.0   \n",
       "...        ...        ...         ...          ...  ...      ...        ...   \n",
       "81656      0.0        0.0         0.0          0.0  0.0      0.0        0.0   \n",
       "81657      0.0        0.0         0.0          0.0  0.0      0.0        0.0   \n",
       "81658      0.0        0.0         0.0          0.0  0.0      0.0        0.0   \n",
       "81659      0.0        0.0         0.0          0.0  0.0      0.0        0.0   \n",
       "81660      0.0        0.0         0.0          0.0  0.0      0.0        0.0   \n",
       "\n",
       "       ability  abit  able  ...  zero  zinc  zoloft  zombie  zone  zoned  \\\n",
       "0          0.0   0.0   0.0  ...   0.0   0.0     0.0     0.0   0.0    0.0   \n",
       "1          0.0   0.0   0.0  ...   0.0   0.0     0.0     0.0   0.0    0.0   \n",
       "2          0.0   0.0   0.0  ...   0.0   0.0     0.0     0.0   0.0    0.0   \n",
       "3          0.0   0.0   0.0  ...   0.0   0.0     0.0     0.0   0.0    0.0   \n",
       "4          0.0   0.0   0.0  ...   0.0   0.0     0.0     0.0   0.0    0.0   \n",
       "...        ...   ...   ...  ...   ...   ...     ...     ...   ...    ...   \n",
       "81656      0.0   0.0   0.0  ...   0.0   0.0     0.0     0.0   0.0    0.0   \n",
       "81657      0.0   0.0   0.0  ...   0.0   0.0     0.0     0.0   0.0    0.0   \n",
       "81658      0.0   0.0   0.0  ...   0.0   0.0     0.0     0.0   0.0    0.0   \n",
       "81659      0.0   0.0   0.0  ...   0.0   0.0     0.0     0.0   0.0    0.0   \n",
       "81660      0.0   0.0   0.0  ...   0.0   0.0     0.0     0.0   0.0    0.0   \n",
       "\n",
       "       zones  zoning  zoo  zoom  \n",
       "0        0.0     0.0  0.0   0.0  \n",
       "1        0.0     0.0  0.0   0.0  \n",
       "2        0.0     0.0  0.0   0.0  \n",
       "3        0.0     0.0  0.0   0.0  \n",
       "4        0.0     0.0  0.0   0.0  \n",
       "...      ...     ...  ...   ...  \n",
       "81656    0.0     0.0  0.0   0.0  \n",
       "81657    0.0     0.0  0.0   0.0  \n",
       "81658    0.0     0.0  0.0   0.0  \n",
       "81659    0.0     0.0  0.0   0.0  \n",
       "81660    0.0     0.0  0.0   0.0  \n",
       "\n",
       "[81661 rows x 11352 columns]"
      ]
     },
     "execution_count": 18,
     "metadata": {},
     "output_type": "execute_result"
    }
   ],
   "source": [
    "df = pd.DataFrame(doc_term)\n",
    "df.columns = vectorizer.get_feature_names()\n",
    "df"
   ]
  },
  {
   "cell_type": "code",
   "execution_count": 19,
   "metadata": {},
   "outputs": [],
   "source": [
    "def display_topics(model, feature_names, no_top_words, topic_names=None):\n",
    "    for ix, topic in enumerate(model.components_):\n",
    "\n",
    "        if not topic_names or not topic_names[ix]:\n",
    "            print(\"\\nTopic \", ix)\n",
    "        else:\n",
    "            print(\"\\nTopic: '\",topic_names[ix],\"'\")\n",
    "        print(\", \".join([feature_names[i]\n",
    "                        for i in topic.argsort()[:-no_top_words - 1:-1]]))\n",
    "        print(\"\\nTopic: \", ix)\n",
    "        print([round(topic[i], 4) for i in topic.argsort()[:-no_top_words - 1:-1]])"
   ]
  },
  {
   "cell_type": "code",
   "execution_count": 22,
   "metadata": {},
   "outputs": [],
   "source": [
    "nmf = NMF(11, alpha=.1, l1_ratio=.5, random_state=0, max_iter=300, init='nndsvd')\n",
    "doc_topic = nmf.fit_transform(doc_term)"
   ]
  },
  {
   "cell_type": "code",
   "execution_count": 21,
   "metadata": {},
   "outputs": [
    {
     "name": "stdout",
     "output_type": "stream",
     "text": [
      "\n",
      "Topic  0\n",
      "life, time, think, help, try, way, things, going, depression, day, right, work, find, maybe, thing, hard, best, got, lot, years, need, bad, trying, friends, long, feeling, getting, depressed, better, school, tell, sure, person, wish, start, makes, end, family, friend, having, little, live, thoughts, worse, actually, shit, mind, new, change, thought, look, job, therapy, days, year, love, point, therapist, probably, away, able, parents, different, said, thinking, come, self, times, great, anxiety, let, tried, understand, worth, kind, mental, bit, remember, felt, helps, stop, taking, stay, helped, reason, pretty, definitely, believe, situation, world, sleep, sucks, started, meds, fucking, ago, living, mean, working, advice\n",
      "\n",
      "Topic:  0\n",
      "[3.6744, 3.5857, 3.1361, 2.863, 2.7475, 2.5007, 2.3509, 2.3384, 2.223, 1.8326, 1.6885, 1.6792, 1.5269, 1.4774, 1.4753, 1.4716, 1.3833, 1.3486, 1.3086, 1.3057, 1.29, 1.1408, 1.1373, 1.0752, 1.0114, 0.9727, 0.9409, 0.9359, 0.9284, 0.926, 0.9138, 0.8934, 0.8759, 0.8626, 0.8501, 0.8208, 0.8189, 0.8178, 0.8093, 0.8035, 0.798, 0.7945, 0.7782, 0.7705, 0.7584, 0.7567, 0.7566, 0.7556, 0.7345, 0.7128, 0.7038, 0.7036, 0.7031, 0.7024, 0.7019, 0.6998, 0.6979, 0.6928, 0.6822, 0.679, 0.671, 0.6563, 0.655, 0.6536, 0.6494, 0.6482, 0.6345, 0.6343, 0.6341, 0.6261, 0.6252, 0.6235, 0.6231, 0.5984, 0.5906, 0.589, 0.5723, 0.5706, 0.5589, 0.5575, 0.5567, 0.5558, 0.5549, 0.5419, 0.5377, 0.5363, 0.5355, 0.5305, 0.5249, 0.5216, 0.5136, 0.5034, 0.5033, 0.5033, 0.4977, 0.4951, 0.4938, 0.4937, 0.4927, 0.4908]\n",
      "\n",
      "Topic  1\n",
      "happy, birthday, day, friend, wish, makes, cake, year, man, deserve, dude, birthdays, happiness, celebrate, glad, today, bday, late, sad, belated, hear, treat, bro, enjoy, best, remember, buddy, great, love, amazing, hey, life, friends, early, care, proud, smile, turned, bud, wishes, cheers, stranger, spend, years, beautiful, wonderful, nice, fake, awesome, spent, mate, wishing, fun, congrats, hugs, internet, matter, lonely, joy, yesterday, happier, tomorrow, pretend, stay, congratulations, days, little, celebrating, mom, coming, special, unhappy, depressed, sending, moments, world, wished, post, drink, wanted, miserable, sharing, actually, genuinely, family, forget, moment, hun, fighting, let, mean, hate, feeling, celebrated, rest, chat, strong, making, reason, deserves\n",
      "\n",
      "Topic:  1\n",
      "[7.219, 6.4393, 0.2878, 0.2204, 0.1882, 0.1771, 0.1675, 0.147, 0.1331, 0.1189, 0.1135, 0.1028, 0.0993, 0.0968, 0.0949, 0.0926, 0.0857, 0.0761, 0.0744, 0.0711, 0.0709, 0.0702, 0.0697, 0.0688, 0.0679, 0.0647, 0.0616, 0.0595, 0.0576, 0.0539, 0.0519, 0.0494, 0.0485, 0.0443, 0.0406, 0.0406, 0.0404, 0.0373, 0.037, 0.0368, 0.0351, 0.0348, 0.0324, 0.0317, 0.0295, 0.029, 0.029, 0.0288, 0.0282, 0.0272, 0.0266, 0.0257, 0.0257, 0.025, 0.0249, 0.0244, 0.0234, 0.0232, 0.0231, 0.0229, 0.022, 0.0219, 0.0212, 0.021, 0.0209, 0.0205, 0.0193, 0.0186, 0.0184, 0.018, 0.0178, 0.0171, 0.0166, 0.0166, 0.0164, 0.0162, 0.0153, 0.0152, 0.0152, 0.0152, 0.0152, 0.015, 0.0147, 0.0143, 0.0141, 0.0141, 0.0138, 0.0136, 0.0133, 0.0132, 0.0129, 0.0129, 0.0126, 0.0125, 0.0125, 0.0124, 0.0121, 0.0121, 0.0119, 0.0117]\n",
      "\n",
      "Topic  2\n",
      "talk, need, wanna, hey, help, friend, let, therapist, sorry, listen, friends, doctor, man, vent, tell, hear, talking, willing, chat, open, feelings, free, parents, able, understand, maybe, support, trust, reach, professional, okay, anytime, counselor, therapy, advice, bit, helps, lonely, text, family, stuff, ask, online, going, hmu, problem, want, conversation, school, comfortable, dude, hit, stranger, problems, bro, wants, somebody, care, definitely, available, buddy, real, issues, situation, try, chest, share, internet, seek, hotline, person, irl, reddit, glad, mom, psychiatrist, wanted, sit, phone, contact, promise, alright, needs, message, ear, hang, therapists, psychologist, medication, similar, appointment, helpful, sounds, answer, feeling, group, close, ears, hello, stay\n",
      "\n",
      "Topic:  2\n",
      "[9.5511, 2.7895, 1.0669, 0.8344, 0.5966, 0.5365, 0.4059, 0.377, 0.325, 0.317, 0.2871, 0.2171, 0.2024, 0.1987, 0.1985, 0.1701, 0.1669, 0.1382, 0.1344, 0.1328, 0.1312, 0.1309, 0.1247, 0.1195, 0.1111, 0.1044, 0.0951, 0.0906, 0.09, 0.0895, 0.0885, 0.0875, 0.0829, 0.0816, 0.0778, 0.0774, 0.0774, 0.0773, 0.0768, 0.0737, 0.0719, 0.0707, 0.07, 0.0688, 0.067, 0.0668, 0.0619, 0.06, 0.0598, 0.0595, 0.0565, 0.0535, 0.0526, 0.0521, 0.05, 0.0452, 0.0436, 0.0432, 0.0425, 0.0412, 0.0409, 0.0398, 0.0392, 0.038, 0.0379, 0.0375, 0.0366, 0.0363, 0.0359, 0.0355, 0.0353, 0.0352, 0.0342, 0.0342, 0.0336, 0.033, 0.0319, 0.0313, 0.0309, 0.0309, 0.0291, 0.0288, 0.0287, 0.028, 0.028, 0.0277, 0.0274, 0.0272, 0.0271, 0.0266, 0.0263, 0.0259, 0.0259, 0.0257, 0.0251, 0.0249, 0.0246, 0.0246, 0.0237, 0.0236]\n",
      "\n",
      "Topic  3\n",
      "like, sounds, feels, shit, feeling, felt, sound, stuff, person, makes, anymore, things, friends, said, kind, exactly, idk, kinda, look, looks, sad, act, talking, days, idea, mean, nice, hate, weird, girl, lol, actually, depressed, fucking, worse, read, hear, making, music, honestly, sorry, point, man, real, normal, saying, guess, damn, stupid, bad, cry, literally, post, remember, self, relate, times, world, brain, deserve, constantly, burden, crying, having, sense, end, wow, living, attention, guy, sucks, fun, wrong, thought, games, belong, lost, usually, everyday, gon, feelings, relationship, pretty, home, fuck, treat, place, reason, pain, years, big, game, stuck, write, fine, probably, especially, thoughts, little, play\n",
      "\n",
      "Topic:  3\n",
      "[12.2381, 1.2123, 0.9827, 0.5656, 0.5604, 0.4215, 0.3405, 0.3053, 0.262, 0.2363, 0.2296, 0.2186, 0.2162, 0.2062, 0.1968, 0.1927, 0.1832, 0.1719, 0.163, 0.154, 0.1465, 0.1445, 0.1436, 0.1373, 0.1355, 0.1354, 0.1334, 0.1332, 0.131, 0.1304, 0.1257, 0.1228, 0.1221, 0.1179, 0.1149, 0.1142, 0.1123, 0.1122, 0.1113, 0.1081, 0.1066, 0.105, 0.1028, 0.1013, 0.101, 0.0995, 0.0995, 0.0995, 0.0989, 0.0977, 0.0967, 0.096, 0.0936, 0.0935, 0.0928, 0.0912, 0.0911, 0.0909, 0.0899, 0.0899, 0.0896, 0.0895, 0.0894, 0.0884, 0.0883, 0.0877, 0.0858, 0.0838, 0.0833, 0.0822, 0.0813, 0.0808, 0.0805, 0.0794, 0.0775, 0.0772, 0.0772, 0.0772, 0.0768, 0.0763, 0.0749, 0.0749, 0.0742, 0.074, 0.0735, 0.073, 0.0709, 0.0702, 0.0696, 0.0693, 0.0688, 0.0683, 0.0676, 0.067, 0.0669, 0.0665, 0.0658, 0.0651, 0.0649, 0.0648]\n",
      "\n",
      "Topic  4\n",
      "know, feeling, let, sorry, hard, mean, exactly, feels, care, anymore, going, tell, right, wanted, situation, help, honestly, believe, thing, strong, person, way, sure, nice, love, pain, hey, wish, said, proud, hurts, maybe, answer, guess, understand, sucks, cares, probably, scared, truly, helps, knowing, worth, means, gon, okay, read, sad, trust, man, hear, letting, difficult, times, happen, tough, parents, matter, heart, relate, stay, stupid, wanna, problems, feelings, point, family, talking, stranger, true, fact, struggling, post, comment, mom, hurt, ask, supposed, telling, struggle, thought, deserve, fix, place, fault, boat, reason, fucking, internet, advice, need, happening, lost, friend, similar, deep, bro, loved, happened, stronger\n",
      "\n",
      "Topic:  4\n",
      "[11.5502, 0.8814, 0.779, 0.5474, 0.4594, 0.4265, 0.4122, 0.2935, 0.2541, 0.24, 0.2054, 0.2046, 0.2013, 0.1551, 0.1496, 0.1413, 0.1342, 0.1329, 0.1303, 0.126, 0.1257, 0.1239, 0.1203, 0.1197, 0.1135, 0.1092, 0.1084, 0.1077, 0.1047, 0.1035, 0.1032, 0.1022, 0.0983, 0.0956, 0.0906, 0.0873, 0.0871, 0.0862, 0.0858, 0.0854, 0.0854, 0.0841, 0.0839, 0.0839, 0.0798, 0.0793, 0.0766, 0.0764, 0.0752, 0.0723, 0.0719, 0.0709, 0.0701, 0.0689, 0.0686, 0.0677, 0.0674, 0.0673, 0.0657, 0.0656, 0.0629, 0.0611, 0.0609, 0.0602, 0.0595, 0.0578, 0.0577, 0.0538, 0.0531, 0.0523, 0.0519, 0.0519, 0.0517, 0.0501, 0.0494, 0.049, 0.049, 0.0486, 0.0483, 0.0481, 0.0481, 0.0474, 0.0466, 0.0462, 0.0461, 0.0458, 0.0456, 0.0455, 0.0452, 0.0446, 0.0442, 0.0438, 0.0438, 0.0434, 0.0433, 0.0429, 0.0421, 0.0414, 0.041, 0.0396]\n",
      "\n",
      "Topic  5\n",
      "hope, better, sorry, man, things, soon, gets, find, hear, day, glad, feeling, works, wish, hey, best, deserve, goes, little, bit, today, helps, okay, appreciate, strong, peace, love, stay, friend, able, understand, hug, tomorrow, great, sure, hugs, future, situation, getting, words, makes, truly, loss, sharing, luck, believe, hopefully, place, hang, happened, turn, way, eventually, worse, pain, rough, change, nice, dude, lose, advice, care, proud, sending, happiness, someday, start, looking, sounds, welcome, relate, post, bro, problem, going, buddy, hoping, mate, reading, strength, gives, sincerely, fighting, amazing, awful, sucks, helped, wow, struggling, support, vent, means, enjoy, trust, world, help, said, promise, damn, days\n",
      "\n",
      "Topic:  5\n",
      "[8.5063, 5.8298, 2.891, 1.74, 1.2272, 0.9116, 0.8679, 0.7164, 0.6784, 0.468, 0.4326, 0.4092, 0.3414, 0.3264, 0.3119, 0.279, 0.2757, 0.2425, 0.222, 0.2198, 0.2182, 0.2175, 0.2087, 0.1939, 0.188, 0.1875, 0.1789, 0.1744, 0.1715, 0.1513, 0.1512, 0.1507, 0.1493, 0.1439, 0.135, 0.1337, 0.1273, 0.1272, 0.1224, 0.1205, 0.1198, 0.1182, 0.1179, 0.1141, 0.1127, 0.106, 0.1052, 0.1041, 0.1041, 0.1037, 0.1021, 0.0992, 0.0982, 0.0954, 0.0951, 0.0946, 0.0937, 0.093, 0.0889, 0.0887, 0.0858, 0.0849, 0.0831, 0.0825, 0.0824, 0.0818, 0.0816, 0.0813, 0.0797, 0.0788, 0.0773, 0.0763, 0.075, 0.0716, 0.0714, 0.0705, 0.0699, 0.0696, 0.0691, 0.0672, 0.0668, 0.0667, 0.0649, 0.0647, 0.0629, 0.0629, 0.0605, 0.0587, 0.0584, 0.0582, 0.0565, 0.0564, 0.0557, 0.0523, 0.0522, 0.0508, 0.0502, 0.0494, 0.0492, 0.0482]\n",
      "\n",
      "Topic  6\n",
      "good, luck, job, man, idea, day, sounds, bad, best, proud, friend, great, advice, pretty, step, glad, hear, days, got, night, dude, person, wish, find, looking, bro, hopefully, today, vibes, things, work, trying, thing, start, look, finding, nice, future, place, sending, times, sure, feels, congrats, reason, awesome, stuff, news, shit, fight, remember, amazing, problem, maybe, mood, sign, writing, new, damn, buddy, enjoy, post, therapist, plan, working, fighting, deserve, works, memories, positive, goes, point, grades, ones, study, getting, solution, moments, morning, congratulations, points, heard, music, mate, felt, small, having, sucks, important, worth, boy, happy, wow, taking, mind, hey, write, games, health, come\n",
      "\n",
      "Topic:  6\n",
      "[10.1951, 3.1141, 1.2331, 0.6901, 0.3803, 0.2938, 0.2655, 0.2607, 0.2351, 0.2256, 0.2109, 0.2013, 0.199, 0.1783, 0.1768, 0.1675, 0.1625, 0.159, 0.1374, 0.1346, 0.1265, 0.1216, 0.1208, 0.116, 0.106, 0.0992, 0.0933, 0.0929, 0.0902, 0.0859, 0.0833, 0.0742, 0.0734, 0.0726, 0.0721, 0.0716, 0.0672, 0.0636, 0.0619, 0.0603, 0.0594, 0.0579, 0.0576, 0.0565, 0.0539, 0.0528, 0.0522, 0.0513, 0.0512, 0.0512, 0.0506, 0.048, 0.0476, 0.0463, 0.0463, 0.0448, 0.0443, 0.0438, 0.0436, 0.0436, 0.0434, 0.043, 0.0427, 0.0426, 0.0419, 0.0415, 0.0397, 0.0389, 0.0386, 0.0376, 0.0369, 0.0365, 0.0363, 0.0363, 0.0362, 0.0357, 0.0354, 0.0352, 0.0349, 0.0347, 0.0345, 0.0342, 0.0342, 0.0338, 0.0338, 0.0336, 0.0331, 0.0328, 0.0315, 0.0314, 0.0311, 0.0311, 0.0307, 0.0302, 0.0299, 0.0298, 0.0294, 0.0293, 0.029, 0.029]\n",
      "\n",
      "Topic  7\n",
      "yeah, man, fuck, guess, hell, lol, sucks, pretty, idk, shit, right, nice, point, kinda, probably, fucking, hate, gon, definitely, feeling, time, haha, stuff, bit, got, sure, lot, fucked, weird, gets, happen, exactly, agree, sad, wanna, dude, fine, thought, makes, hopefully, true, said, normal, happens, sleep, real, usually, school, basically, dead, sense, unfortunately, glad, maybe, think, bad, mind, relate, everyday, easy, mean, brain, wish, tbh, totally, thinking, friends, anymore, ill, awful, kind, interesting, cause, tough, course, common, tho, lonely, night, later, wonder, wake, eat, realize, feels, hahaha, especially, mate, tired, fair, thing, teacher, actually, soon, slowly, worried, coming, old, stupid, year\n",
      "\n",
      "Topic:  7\n",
      "[8.9905, 0.335, 0.2519, 0.214, 0.1856, 0.1673, 0.1419, 0.1033, 0.1011, 0.0952, 0.0884, 0.0762, 0.074, 0.0739, 0.0706, 0.0688, 0.0683, 0.0675, 0.0625, 0.062, 0.0567, 0.0562, 0.0555, 0.051, 0.0505, 0.0484, 0.0444, 0.0426, 0.0388, 0.0385, 0.0357, 0.0356, 0.035, 0.0343, 0.0342, 0.0331, 0.033, 0.0326, 0.0324, 0.0316, 0.0315, 0.0308, 0.03, 0.03, 0.0298, 0.0292, 0.028, 0.0275, 0.0259, 0.0251, 0.0246, 0.0244, 0.0238, 0.0232, 0.0232, 0.023, 0.0225, 0.0225, 0.0224, 0.0222, 0.0222, 0.0218, 0.0217, 0.0215, 0.0205, 0.0204, 0.0203, 0.0201, 0.02, 0.0197, 0.0197, 0.0192, 0.0186, 0.0184, 0.0182, 0.018, 0.018, 0.0178, 0.0177, 0.0173, 0.0168, 0.0165, 0.0165, 0.0162, 0.0161, 0.016, 0.0159, 0.0159, 0.0158, 0.0154, 0.015, 0.0144, 0.0144, 0.0143, 0.0142, 0.0131, 0.013, 0.0129, 0.0128, 0.0125]\n",
      "\n",
      "Topic  8\n",
      "want, die, live, anymore, kill, life, pain, stop, reason, end, tell, sleep, hate, cry, hurt, fucking, alive, wake, ask, family, tired, care, chat, home, leave, happy, living, attention, away, change, makes, listen, parents, sad, love, scared, fuck, free, burden, money, wanting, friends, vent, hear, sure, suicide, wanted, person, lonely, talk, death, post, bed, wants, mom, write, exist, hug, stay, lose, sex, actually, relationship, dead, selfish, loved, inside, believe, bother, kids, bad, escape, suffer, existence, future, world, miserable, reasons, told, head, text, decide, come, mind, literally, hurting, honestly, sit, okay, idk, desperately, hurts, college, forever, afraid, girlfriend, better, thing, peace, left\n",
      "\n",
      "Topic:  8\n",
      "[10.5048, 1.1861, 0.5425, 0.3671, 0.3361, 0.1904, 0.1875, 0.185, 0.1832, 0.174, 0.1719, 0.1717, 0.1611, 0.1573, 0.1287, 0.1226, 0.1226, 0.118, 0.117, 0.1114, 0.1108, 0.1108, 0.104, 0.104, 0.1018, 0.0981, 0.098, 0.0955, 0.0933, 0.0932, 0.0892, 0.0888, 0.088, 0.0865, 0.08, 0.0792, 0.0782, 0.077, 0.0756, 0.0749, 0.074, 0.0713, 0.0709, 0.0709, 0.0686, 0.0652, 0.0619, 0.0609, 0.0606, 0.0598, 0.0581, 0.0564, 0.0548, 0.0542, 0.0539, 0.0537, 0.0527, 0.0522, 0.0521, 0.0516, 0.0508, 0.0504, 0.0502, 0.05, 0.049, 0.0488, 0.0488, 0.0482, 0.0467, 0.0435, 0.0418, 0.0418, 0.0403, 0.0399, 0.0392, 0.0392, 0.0391, 0.0389, 0.0381, 0.0378, 0.0378, 0.0378, 0.0375, 0.037, 0.0369, 0.0365, 0.0356, 0.0355, 0.0351, 0.0346, 0.0345, 0.0344, 0.0335, 0.0334, 0.0332, 0.0331, 0.0329, 0.0327, 0.0318, 0.0315]\n",
      "\n",
      "Topic  9\n",
      "people, care, love, friends, understand, lot, depressed, think, hate, person, world, find, depression, meet, talking, tell, actually, fuck, social, makes, mean, lives, matter, family, new, shit, true, normal, wrong, saying, support, trust, sad, hard, close, lonely, relate, problems, kind, look, mental, ones, selfish, group, nice, deserve, real, relationships, away, hurt, believe, attention, fake, stupid, open, friend, experience, bad, caring, stuff, come, self, illness, different, ask, toxic, understanding, reason, guess, hang, society, agree, reddit, truly, sub, assume, feelings, need, honestly, leave, fucking, helping, share, use, realize, way, post, online, said, sure, making, especially, suicide, suck, weird, probably, happy, thing, common, media\n",
      "\n",
      "Topic:  9\n",
      "[10.4314, 1.8666, 1.6491, 1.3026, 1.0591, 0.6203, 0.5912, 0.5616, 0.4977, 0.4689, 0.4389, 0.421, 0.42, 0.3814, 0.3502, 0.3268, 0.32, 0.309, 0.2956, 0.2834, 0.2691, 0.2456, 0.2446, 0.2349, 0.2282, 0.2262, 0.2181, 0.2125, 0.208, 0.204, 0.1998, 0.1974, 0.1967, 0.1946, 0.1939, 0.1934, 0.1932, 0.187, 0.1827, 0.1826, 0.1783, 0.1782, 0.1752, 0.1752, 0.1751, 0.1719, 0.1641, 0.1586, 0.1574, 0.1562, 0.1502, 0.1487, 0.1456, 0.1445, 0.1442, 0.1431, 0.1424, 0.1395, 0.1391, 0.1389, 0.1367, 0.1326, 0.1319, 0.1319, 0.1305, 0.1265, 0.1223, 0.1217, 0.121, 0.1208, 0.12, 0.1172, 0.1156, 0.115, 0.115, 0.1145, 0.114, 0.1135, 0.1126, 0.1123, 0.111, 0.1101, 0.1097, 0.1083, 0.1079, 0.1079, 0.1061, 0.106, 0.1057, 0.1055, 0.1051, 0.1049, 0.1038, 0.1028, 0.1025, 0.1024, 0.102, 0.1009, 0.1, 0.0999]\n"
     ]
    }
   ],
   "source": [
    "display_topics(model=nmf, feature_names=vectorizer.get_feature_names(), no_top_words=100)"
   ]
  },
  {
   "cell_type": "code",
   "execution_count": null,
   "metadata": {},
   "outputs": [],
   "source": []
  }
 ],
 "metadata": {
  "kernelspec": {
   "display_name": "Python 3",
   "language": "python",
   "name": "python3"
  },
  "language_info": {
   "codemirror_mode": {
    "name": "ipython",
    "version": 3
   },
   "file_extension": ".py",
   "mimetype": "text/x-python",
   "name": "python",
   "nbconvert_exporter": "python",
   "pygments_lexer": "ipython3",
   "version": "3.7.4"
  }
 },
 "nbformat": 4,
 "nbformat_minor": 4
}
