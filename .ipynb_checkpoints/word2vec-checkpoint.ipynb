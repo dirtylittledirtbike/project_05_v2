{
 "cells": [
  {
   "cell_type": "code",
   "execution_count": 1,
   "metadata": {},
   "outputs": [],
   "source": [
    "import pandas as pd\n",
    "import numpy as np\n",
    "import datetime \n",
    "import re\n",
    "from urlextract import URLExtract\n",
    "import spacy\n",
    "import time\n",
    "import pickle\n",
    "import matplotlib.pyplot as plt"
   ]
  },
  {
   "cell_type": "code",
   "execution_count": 2,
   "metadata": {},
   "outputs": [],
   "source": [
    "from sklearn.feature_extraction.text import CountVectorizer \n",
    "from sklearn.decomposition import TruncatedSVD\n",
    "from sklearn.decomposition import NMF\n",
    "from sklearn.decomposition import LatentDirichletAllocation\n",
    "from sklearn.metrics.pairwise import cosine_similarity\n",
    "from sklearn.feature_extraction.text import TfidfVectorizer"
   ]
  },
  {
   "cell_type": "code",
   "execution_count": 3,
   "metadata": {},
   "outputs": [],
   "source": [
    "extractor = URLExtract()\n",
    "# remove all urls from posts\n",
    "def replace_urls(x):\n",
    "    urls = extractor.find_urls(x)\n",
    "    if urls:\n",
    "        x_new = replace_urls(x.replace(urls[0],''))\n",
    "        return x_new\n",
    "    else:\n",
    "        return x"
   ]
  },
  {
   "cell_type": "code",
   "execution_count": 739,
   "metadata": {},
   "outputs": [],
   "source": [
    "# df_full = pd.read_csv('data/anxiety_full.csv', low_memory=False)\n",
    "depression = pd.read_csv('data/depression_topics_final.csv', low_memory=False, lineterminator='\\n')\n",
    "depression.drop(columns=['Unnamed: 0'], inplace=True)"
   ]
  },
  {
   "cell_type": "code",
   "execution_count": 740,
   "metadata": {
    "scrolled": true
   },
   "outputs": [],
   "source": [
    "anxiety = pd.read_csv('data/anxiety_topics_final.csv', low_memory=False, lineterminator='\\n')\n",
    "anxiety.drop(columns=['Unnamed: 0'], inplace=True)"
   ]
  },
  {
   "cell_type": "code",
   "execution_count": 742,
   "metadata": {},
   "outputs": [],
   "source": [
    "depression['date'] = pd.to_datetime(depression.date)\n",
    "anxiety['date'] = pd.to_datetime(anxiety.date)"
   ]
  },
  {
   "cell_type": "code",
   "execution_count": 744,
   "metadata": {
    "scrolled": false
   },
   "outputs": [
    {
     "data": {
      "text/plain": [
       "medication                 17801\n",
       "heart/chest                13333\n",
       "panic                      12350\n",
       "friends/hang/groups        10948\n",
       "anxious/super/reason        9267\n",
       "sleep                       9195\n",
       "work                        9112\n",
       "school                      8897\n",
       "occupational                8794\n",
       "scared/fear/die             7462\n",
       "sick/eat/stomach            7146\n",
       "social/media/situations     7134\n",
       "driving                     5285\n",
       "Name: max_topic, dtype: int64"
      ]
     },
     "execution_count": 744,
     "metadata": {},
     "output_type": "execute_result"
    }
   ],
   "source": [
    "anxiety.max_topic.value_counts()"
   ]
  },
  {
   "cell_type": "code",
   "execution_count": 788,
   "metadata": {},
   "outputs": [],
   "source": [
    "anxiety.dropna(subset=['selftext'], inplace=True)\n",
    "depression.dropna(subset=['selftext'], inplace=True)"
   ]
  },
  {
   "cell_type": "code",
   "execution_count": 749,
   "metadata": {},
   "outputs": [
    {
     "data": {
      "text/plain": [
       "18082"
      ]
     },
     "execution_count": 749,
     "metadata": {},
     "output_type": "execute_result"
    }
   ],
   "source": [
    "7134 + 10948"
   ]
  },
  {
   "cell_type": "code",
   "execution_count": 775,
   "metadata": {},
   "outputs": [],
   "source": [
    "\n",
    "testing = anxiety\n",
    "testing['social_label'] = anxiety['friends/hang/groups'] + anxiety['social/media/situations']\n",
    "anxiety_social = testing.sort_values(by=['social_label'], ascending=False).head(18082)"
   ]
  },
  {
   "cell_type": "code",
   "execution_count": 677,
   "metadata": {},
   "outputs": [],
   "source": [
    "import gensim\n",
    "import multiprocessing\n",
    "from tqdm import tqdm\n",
    "from sklearn import utils\n",
    "from gensim.models.callbacks import CallbackAny2Vec"
   ]
  },
  {
   "cell_type": "code",
   "execution_count": 756,
   "metadata": {
    "scrolled": true
   },
   "outputs": [
    {
     "name": "stdout",
     "output_type": "stream",
     "text": [
      "Loss after epoch 0: 2894926.25\n",
      "Loss after epoch 1: 2627175.75\n",
      "Loss after epoch 2: 2477546.5\n",
      "Loss after epoch 3: 2136043.5\n",
      "Loss after epoch 4: 2119476.0\n",
      "Loss after epoch 5: 2047649.0\n",
      "Loss after epoch 6: 2059244.0\n",
      "Loss after epoch 7: 1945131.0\n",
      "Loss after epoch 8: 1945882.0\n",
      "Loss after epoch 9: 1906844.0\n",
      "Loss after epoch 10: 1923540.0\n",
      "Loss after epoch 11: 1928678.0\n",
      "Loss after epoch 12: 1910690.0\n",
      "Loss after epoch 13: 1920568.0\n",
      "Loss after epoch 14: 1909798.0\n",
      "Loss after epoch 15: 1865176.0\n",
      "Loss after epoch 16: 1115416.0\n",
      "Loss after epoch 17: 1119476.0\n",
      "Loss after epoch 18: 1135504.0\n",
      "Loss after epoch 19: 1130872.0\n",
      "Loss after epoch 20: 1081280.0\n",
      "Loss after epoch 21: 1076020.0\n",
      "Loss after epoch 22: 1083888.0\n",
      "Loss after epoch 23: 1061964.0\n",
      "Loss after epoch 24: 1058080.0\n",
      "Loss after epoch 25: 1053748.0\n",
      "Loss after epoch 26: 1072932.0\n",
      "Loss after epoch 27: 1036812.0\n",
      "Loss after epoch 28: 1033580.0\n",
      "Loss after epoch 29: 1033564.0\n",
      "Loss after epoch 30: 1009528.0\n",
      "Loss after epoch 31: 993332.0\n",
      "Loss after epoch 32: 998112.0\n",
      "Loss after epoch 33: 986120.0\n",
      "Loss after epoch 34: 975152.0\n",
      "Loss after epoch 35: 975124.0\n",
      "Loss after epoch 36: 969000.0\n",
      "Loss after epoch 37: 958188.0\n",
      "Loss after epoch 38: 942212.0\n",
      "Loss after epoch 39: 936584.0\n"
     ]
    }
   ],
   "source": [
    "\n",
    "\n",
    "class LossLogger(CallbackAny2Vec):\n",
    "    '''Callback to print loss after each epoch.'''\n",
    "\n",
    "    def __init__(self):\n",
    "        self.epoch = 0\n",
    "        self.loss_to_be_subed = 0\n",
    "\n",
    "    def on_epoch_end(self, model):\n",
    "        loss = model.get_latest_training_loss()\n",
    "        loss_now = loss - self.loss_to_be_subed\n",
    "        self.loss_to_be_subed = loss\n",
    "        print('Loss after epoch {}: {}'.format(self.epoch, loss_now))\n",
    "        self.epoch += 1\n",
    "\n",
    "loss_logger = LossLogger()\n",
    "cores = multiprocessing.cpu_count()\n",
    "\n",
    "documents = anxiety_social.text_title\n",
    "tokenized_docs = [gensim.utils.simple_preprocess(d) for d in documents]\n",
    "model = gensim.models.Word2Vec(tokenized_docs,\n",
    "                               size=300,\n",
    "                               window=5,\n",
    "                               min_count=5,\n",
    "                               sg=1,\n",
    "                               callbacks=[loss_logger],\n",
    "                               compute_loss=True,\n",
    "                               iter=40,\n",
    "                               workers=cores)"
   ]
  },
  {
   "cell_type": "code",
   "execution_count": 758,
   "metadata": {
    "scrolled": false
   },
   "outputs": [
    {
     "data": {
      "text/plain": [
       "[('depression', 0.5161457657814026),\n",
       " ('panic', 0.48995161056518555),\n",
       " ('dysmorphic', 0.4710979461669922),\n",
       " ('gad', 0.46230143308639526),\n",
       " ('severe', 0.45712628960609436),\n",
       " ('fogginess', 0.4477344751358032),\n",
       " ('depressions', 0.4388280212879181),\n",
       " ('generalized', 0.4360097050666809),\n",
       " ('disabling', 0.4330070912837982),\n",
       " ('axiety', 0.4313054084777832)]"
      ]
     },
     "execution_count": 758,
     "metadata": {},
     "output_type": "execute_result"
    }
   ],
   "source": [
    "model.wv.most_similar(['anxiety'], topn=10)"
   ]
  },
  {
   "cell_type": "code",
   "execution_count": 798,
   "metadata": {
    "scrolled": false
   },
   "outputs": [
    {
     "data": {
      "text/plain": [
       "array([1449943401, 'Anxiety', 'determinism101', 'self.Anxiety',\n",
       "       'https://www.reddit.com/r/Anxiety/comments/3wjfio/why_has_the_idea_of_determinism_sent_me_crazy/',\n",
       "       2, 3, 3.0, 0.0, 'Why has the idea of determinism sent me crazy?',\n",
       "       \"For some reason after reading about determinism I feel like I have gone absolutely crazy. The idea that are lives are unfolding and we don't have real control over it. Now when I look at people I feel like I'm looking at computers just doing what they do and feel like I have lost all connection with people. This thought has given me horrendous anxiety, I feel like I don't even know where I am any more. My question reddit is this just anxiety making me feel like the thought is crazy or is it the thought? Surely finding out something can't send you crazy... \",\n",
       "       False, '3wjfio', nan, 0, nan, False, 1454923681, False, 'self',\n",
       "       't5_2qmij', False, 'venting', nan, False, True, nan,\n",
       "       '/r/Anxiety/comments/3wjfio/why_has_the_idea_of_determinism_sent_me_crazy/',\n",
       "       't3_3wjfio', nan, False, 'Venting', nan,\n",
       "       Timestamp('2015-12-12 12:03:21'),\n",
       "       \"why has the idea of determinism sent me crazy? for some reason after reading about determinism i feel like i have gone absolutely crazy. the idea that are lives are unfolding and we don't have real control over it. now when i look at people i feel like i'm looking at computers just doing what they do and feel like i have lost all connection with people. this thought has given me horrendous anxiety, i feel like i don't even know where i am any more. my question reddit is this just anxiety making me feel like the thought is crazy or is it the thought? surely finding out something can't send you crazy... \",\n",
       "       4.0599562799851646e-05, 2.6622850431231465e-05, 0.0, 0.0, 0.0,\n",
       "       4.255917002911297e-05, 0.0, 0.0, 0.0, 0.00018038760395468182, 0.0,\n",
       "       0.0, 0.0, 'driving', 0.0], dtype=object)"
      ]
     },
     "execution_count": 798,
     "metadata": {},
     "output_type": "execute_result"
    }
   ],
   "source": [
    "anxiety[anxiety.selftext.str.contains(' reddit ')].values[2]"
   ]
  },
  {
   "cell_type": "code",
   "execution_count": 765,
   "metadata": {},
   "outputs": [
    {
     "data": {
      "text/plain": [
       "[('social', 0.45255523920059204),\n",
       " ('vanity', 0.4509308934211731),\n",
       " ('facebook', 0.43780356645584106),\n",
       " ('medias', 0.436012864112854),\n",
       " ('deactivating', 0.4313421845436096),\n",
       " ('pmdd', 0.42716991901397705),\n",
       " ('anx', 0.42464113235473633),\n",
       " ('bdd', 0.4229803681373596),\n",
       " ('accounts', 0.4221058785915375),\n",
       " ('severe', 0.417378693819046),\n",
       " ('predominantly', 0.4134192168712616),\n",
       " ('dysmorphic', 0.41323986649513245),\n",
       " ('confuse', 0.41209423542022705),\n",
       " ('depression', 0.41192111372947693),\n",
       " ('ineptitude', 0.4109877645969391),\n",
       " ('ebook', 0.41043978929519653),\n",
       " ('axiety', 0.41033726930618286),\n",
       " ('instagram', 0.40737876296043396),\n",
       " ('profiles', 0.4044165015220642),\n",
       " ('disabling', 0.3997569680213928),\n",
       " ('sites', 0.39877018332481384),\n",
       " ('faux', 0.3962881565093994),\n",
       " ('deleted', 0.39503341913223267),\n",
       " ('generalized', 0.39392900466918945),\n",
       " ('it', 0.39080893993377686),\n",
       " ('logging', 0.3880566954612732),\n",
       " ('dysthymia', 0.3878366947174072),\n",
       " ('inattentive', 0.38360199332237244),\n",
       " ('cyclothymia', 0.3830176591873169),\n",
       " ('gad', 0.38300657272338867)]"
      ]
     },
     "execution_count": 765,
     "metadata": {},
     "output_type": "execute_result"
    }
   ],
   "source": [
    "model.wv.most_similar(positive=['anxiety', 'media'], topn=30)"
   ]
  },
  {
   "cell_type": "code",
   "execution_count": 760,
   "metadata": {},
   "outputs": [
    {
     "data": {
      "text/plain": [
       "[('medias', 0.373568594455719),\n",
       " ('instagram', 0.36060455441474915),\n",
       " ('facebook', 0.35952162742614746),\n",
       " ('accounts', 0.3591877222061157),\n",
       " ('deleted', 0.3472468852996826),\n",
       " ('deactivated', 0.3239598274230957),\n",
       " ('sites', 0.323849618434906),\n",
       " ('scrolling', 0.3155139088630676),\n",
       " ('faux', 0.3129236400127411),\n",
       " ('snapchat', 0.3078605830669403),\n",
       " ('ebook', 0.3005869388580322),\n",
       " ('delete', 0.2996944487094879),\n",
       " ('profiles', 0.2996373474597931),\n",
       " ('unfollowed', 0.2954139709472656),\n",
       " ('deactivating', 0.2940328121185303),\n",
       " ('vanity', 0.2906012535095215),\n",
       " ('logging', 0.28902649879455566),\n",
       " ('celebrities', 0.28729158639907837),\n",
       " ('ineptitude', 0.2864249348640442),\n",
       " ('platforms', 0.2862335741519928),\n",
       " ('axiety', 0.2834794521331787),\n",
       " ('codependency', 0.2822232246398926),\n",
       " ('mindlessly', 0.28168582916259766),\n",
       " ('posts', 0.2783516049385071),\n",
       " ('anx', 0.27813559770584106),\n",
       " ('channels', 0.2777961194515228),\n",
       " ('screen', 0.2747234106063843),\n",
       " ('it', 0.2733500599861145),\n",
       " ('scroll', 0.2730606496334076),\n",
       " ('engagements', 0.2724887728691101)]"
      ]
     },
     "execution_count": 760,
     "metadata": {},
     "output_type": "execute_result"
    }
   ],
   "source": [
    "model.wv.most_similar(positive=['media', 'anxiety'], negative=['social'], topn=30)"
   ]
  },
  {
   "cell_type": "code",
   "execution_count": null,
   "metadata": {},
   "outputs": [],
   "source": []
  },
  {
   "cell_type": "code",
   "execution_count": null,
   "metadata": {},
   "outputs": [],
   "source": [
    "# model.syn0"
   ]
  },
  {
   "cell_type": "code",
   "execution_count": null,
   "metadata": {},
   "outputs": [],
   "source": [
    "# model2.wv.most_similar(['motivation'], topn=30)"
   ]
  },
  {
   "cell_type": "code",
   "execution_count": null,
   "metadata": {},
   "outputs": [],
   "source": [
    "# model.save(\"models/anxiety2vec_full.model\")"
   ]
  },
  {
   "cell_type": "code",
   "execution_count": 682,
   "metadata": {},
   "outputs": [],
   "source": [
    "model1 = gensim.models.Word2Vec.load(\"models/anxiety2vec_full.model\")\n",
    "model2 = gensim.models.Word2Vec.load(\"models/depression2vec_full.model\")"
   ]
  },
  {
   "cell_type": "code",
   "execution_count": null,
   "metadata": {
    "scrolled": false
   },
   "outputs": [],
   "source": [
    "model2.wv.most_similar(['motivation'], topn=30)"
   ]
  },
  {
   "cell_type": "code",
   "execution_count": null,
   "metadata": {},
   "outputs": [],
   "source": [
    "model.wv.most_similar(positive=['circadian', 'b'], topn=30)"
   ]
  },
  {
   "cell_type": "code",
   "execution_count": null,
   "metadata": {
    "scrolled": true
   },
   "outputs": [],
   "source": [
    "model2.wv.most_similar(positive=['circadian', 'insomnia'], topn=30)"
   ]
  },
  {
   "cell_type": "code",
   "execution_count": null,
   "metadata": {},
   "outputs": [],
   "source": []
  },
  {
   "cell_type": "code",
   "execution_count": null,
   "metadata": {},
   "outputs": [],
   "source": [
    "model.wv.most_similar(['circadian'], topn=30)"
   ]
  },
  {
   "cell_type": "code",
   "execution_count": null,
   "metadata": {
    "scrolled": true
   },
   "outputs": [],
   "source": [
    "model2.wv.most_similar(['circadian'], topn=30)"
   ]
  },
  {
   "cell_type": "code",
   "execution_count": null,
   "metadata": {},
   "outputs": [],
   "source": [
    "model2.wv.most_similar(positive=['sleep'], negative=['insomnia'], topn=20)"
   ]
  },
  {
   "cell_type": "code",
   "execution_count": null,
   "metadata": {},
   "outputs": [],
   "source": [
    "w2c = dict()\n",
    "for item in model.wv.vocab:\n",
    "    w2c[item]=model.wv.vocab[item].count"
   ]
  },
  {
   "cell_type": "code",
   "execution_count": null,
   "metadata": {},
   "outputs": [],
   "source": [
    "import pandas as pd"
   ]
  },
  {
   "cell_type": "code",
   "execution_count": null,
   "metadata": {},
   "outputs": [],
   "source": [
    "df = pd.DataFrame(list(w2c.items()),columns = ['word','count']) \n",
    "df[['word', 'count']]"
   ]
  },
  {
   "cell_type": "code",
   "execution_count": null,
   "metadata": {},
   "outputs": [],
   "source": [
    "# model.wv.similar_by_vector(negative=['psychiatrist', 'prescribed'],topn=20)\n",
    "# model2.wv.most_similar(positive=['psychiatrist'], negative=['prescribed'], topn=20)\n",
    "# model2.wv.most_similar(positive=['addict'], negative=['drugs'], topn=20)\n",
    "model2.wv.most_similar(positive=['addict'], negative=['drugs'], topn=20)\n",
    "\n"
   ]
  },
  {
   "cell_type": "code",
   "execution_count": null,
   "metadata": {},
   "outputs": [],
   "source": [
    "diff = model.wv['sleep'] - model.wv['prescribed']\n",
    "model.wv.similar_by_vector(diff,topn=20)\n",
    "\n"
   ]
  },
  {
   "cell_type": "code",
   "execution_count": null,
   "metadata": {
    "scrolled": false
   },
   "outputs": [],
   "source": [
    "# man_wom = model.wv['psychiatrist'] - model.wv['meds'] \n",
    "# model.wv.similar_by_vector(man_wom,topn=20)\n",
    "\n",
    "diff = model.wv['psychiatrist'] - model.wv['meds']\n",
    "model.wv.similar_by_vector(diff,topn=10)\n"
   ]
  },
  {
   "cell_type": "code",
   "execution_count": null,
   "metadata": {},
   "outputs": [],
   "source": [
    "model.wv.most_similar(positive=['cry', 'frustration'], negative=['sad'], topn=20)\n",
    "# model2.wv.most_similar(positive=['cry', 'frustration'], negative=['sad'], topn=20)\n"
   ]
  },
  {
   "cell_type": "code",
   "execution_count": null,
   "metadata": {},
   "outputs": [],
   "source": [
    "model2.wv.most_similar(positive=['cry', 'frustration'], negative=['sad'], topn=20)\n"
   ]
  },
  {
   "cell_type": "code",
   "execution_count": null,
   "metadata": {},
   "outputs": [],
   "source": [
    "model2.wv.most_similar(positive=['cry', 'anxious'], negative=['sad'], topn=20)\n"
   ]
  },
  {
   "cell_type": "code",
   "execution_count": null,
   "metadata": {},
   "outputs": [],
   "source": [
    "# model.most_similar(positive=['paris', 'australia'], negative=['france'], topn=10)\n",
    "model.wv.most_similar(positive=['cry', 'anxious'], negative=['sad'], topn=20)\n",
    "# print()\n",
    "# print(model2.wv.most_similar(positive=['cry', 'nervous'], negative=['sad'], topn=20))\n",
    "\n",
    "# diff = model.wv['psychiatrist'] - model.wv['therapist']\n",
    "# diff2 = model2.wv['psychiatrist'] - model2.wv['therapist']\n",
    "# print(model.wv.similar_by_vector(diff,topn=10))\n",
    "# print()\n",
    "# print(model2.wv.similar_by_vector(diff2,topn=10))"
   ]
  },
  {
   "cell_type": "code",
   "execution_count": null,
   "metadata": {},
   "outputs": [],
   "source": [
    "diff = model2.wv['addict'] - model2.wv['drugs']\n",
    "model2.wv.similar_by_vector(diff,topn=20)"
   ]
  },
  {
   "cell_type": "code",
   "execution_count": null,
   "metadata": {},
   "outputs": [],
   "source": [
    "model2.wv.most_similar(positive=['addict'], negative=['drugs'], topn=20)"
   ]
  },
  {
   "cell_type": "code",
   "execution_count": null,
   "metadata": {},
   "outputs": [],
   "source": [
    "model.wv.most_similar(positive=['alcoholic'], negative=['alcohol'], topn=20)"
   ]
  },
  {
   "cell_type": "code",
   "execution_count": null,
   "metadata": {},
   "outputs": [],
   "source": [
    "diff = model.wv['alcoholic'] - model.wv['alcohol']\n",
    "model.wv.similar_by_vector(diff,topn=10)\n"
   ]
  },
  {
   "cell_type": "code",
   "execution_count": null,
   "metadata": {},
   "outputs": [],
   "source": [
    "# man_wom = model.wv['sex'] - model.wv['partner'] \n",
    "# model.wv.similar_by_vector(man_wom,topn=20)\n",
    "man_wom = model2.wv['addict'] - model2.wv['drugs'] \n",
    "model2.wv.similar_by_vector(man_wom,topn=20)"
   ]
  },
  {
   "cell_type": "code",
   "execution_count": null,
   "metadata": {
    "scrolled": true
   },
   "outputs": [],
   "source": [
    "man_wom = model.wv['home'] - model.wv['good'] \n",
    "model.wv.similar_by_vector(man_wom,topn=20)\n",
    "# names = []\n",
    "# vals = []\n",
    "\n",
    "# for item in simvecs:\n",
    "#     names.append(item[0])\n",
    "#     vals.append(item[1])\n",
    "\n",
    "\n",
    "    \n",
    "# man_wom2 = model2.wv['addict'] - model2.wv['drugs'] \n",
    "# simvecs2 = model2.wv.similar_by_vector(man_wom2,topn=20)\n",
    "# names2 = []\n",
    "# vals2 = []\n",
    "\n",
    "# for item in simvecs2:\n",
    "#     names2.append(item[0])\n",
    "#     vals2.append(item[1])\n",
    "    \n",
    "    "
   ]
  },
  {
   "cell_type": "code",
   "execution_count": null,
   "metadata": {},
   "outputs": [],
   "source": [
    "# fig, ax = plt.subplots(figsize=[10, 8])\n",
    "# plt.title('addict - drugs', color='white', fontsize=15)\n",
    "# ax.barh(names2[::-2], vals2[::-2], color = 'orange')\n",
    "\n",
    "# ax.axes.tick_params(axis=\"y\", colors='white', labelsize=15)\n",
    "# ax.axes.tick_params(axis=\"x\", colors=\"white\", labelsize=10)\n",
    "# plt.savefig('graph3.png', transparent=True, dpi=300)"
   ]
  },
  {
   "cell_type": "code",
   "execution_count": null,
   "metadata": {},
   "outputs": [],
   "source": [
    "names2"
   ]
  },
  {
   "cell_type": "code",
   "execution_count": null,
   "metadata": {},
   "outputs": [],
   "source": [
    "\n",
    "fig, ax = plt.subplots(figsize=[10, 8])\n",
    "plt.title('addiction - drugs', color='white', fontsize=15)\n",
    "ax.barh(names[::-2], vals[::-2], color = 'orange')\n",
    "\n",
    "ax.axes.tick_params(axis=\"y\", colors='white', labelsize=15)\n",
    "ax.axes.tick_params(axis=\"x\", colors=\"white\", labelsize=10)\n",
    "plt.savefig('graph2.png', transparent=True, dpi=300)"
   ]
  },
  {
   "cell_type": "code",
   "execution_count": null,
   "metadata": {},
   "outputs": [],
   "source": [
    "man_wom = model.wv['need'] - model.wv['want'] \n",
    "model.wv.similar_by_vector(man_wom,topn=20)"
   ]
  },
  {
   "cell_type": "code",
   "execution_count": null,
   "metadata": {},
   "outputs": [],
   "source": [
    "model.wv.most_similar('dead', topn=20)"
   ]
  },
  {
   "cell_type": "code",
   "execution_count": null,
   "metadata": {},
   "outputs": [],
   "source": [
    "man_wom = model.wv['friend'] - model.wv['love']\n",
    "model.wv.similar_by_vector(man_wom,topn=20)"
   ]
  },
  {
   "cell_type": "code",
   "execution_count": null,
   "metadata": {},
   "outputs": [],
   "source": [
    "man_wom = model.wv['gender'] - model.wv['identity'] \n",
    "model.wv.similar_by_vector(man_wom,topn=20)"
   ]
  },
  {
   "cell_type": "code",
   "execution_count": null,
   "metadata": {},
   "outputs": [],
   "source": [
    "# psych = model.wv['pyschiatrist']\n",
    "# meds = model.wv['meds']\n"
   ]
  },
  {
   "cell_type": "code",
   "execution_count": null,
   "metadata": {},
   "outputs": [],
   "source": [
    "# doc_model = gensim.models.doc2vec.Doc2Vec(vector_size=50, min_count=2, epochs=40)\n",
    "# doc_model"
   ]
  },
  {
   "cell_type": "code",
   "execution_count": null,
   "metadata": {
    "scrolled": false
   },
   "outputs": [],
   "source": [
    "df_full.text_title"
   ]
  },
  {
   "cell_type": "code",
   "execution_count": null,
   "metadata": {},
   "outputs": [],
   "source": []
  },
  {
   "cell_type": "code",
   "execution_count": null,
   "metadata": {
    "scrolled": true
   },
   "outputs": [],
   "source": [
    "# # anxiety = model.wv['anxious']\n",
    "# import seaborn as sns\n",
    "\n",
    "# sns.set_theme(style=\"whitegrid\")\n",
    "# a = model.wv['psychiatrist']\n",
    "# b = model.wv['prescribed']\n",
    "\n",
    "# x = a - b\n",
    "\n",
    "# x2 = model.wv['therapist']\n",
    "\n",
    "# # fig = plt.figure(figsize=[15,15])\n",
    "# # ax = ax.gca(projection='3d')\n",
    "# fig, ax = plt.subplots(figsize=[10, 8])\n",
    "# V = np.array([a, b, x2])\n",
    "# origin = np.array([[0, 0, 0],[0, 0, 0]]) # origin point\n",
    "\n",
    "# ax.quiver(*origin, V[:,0], V[:,1], color=['r','b','g'], scale=.7)\n",
    "# # plt.xlim([-.002, .002])\n",
    "# # plt.show()\n",
    "# # model.wv.similar_by_vector(x)\n",
    "\n",
    "# ax.axes.tick_params(axis=\"y\", colors='white', labelsize=10)\n",
    "# ax.axes.tick_params(axis=\"x\", colors=\"white\", labelsize=10)\n",
    "# plt.grid(False)\n",
    "# plt.savefig('vecs.png', transparent=True, dpi=300)\n"
   ]
  },
  {
   "cell_type": "code",
   "execution_count": null,
   "metadata": {},
   "outputs": [],
   "source": [
    "# x, y  = [1, 2, 3], [0.5, 0.5, 0.5]\n",
    "# u1,v1 = np.random.randn(3), np.random.randn(3)\n",
    "# u2,v2 = np.random.randn(3), np.random.randn(3)\n",
    "# u3,v3 = np.random.randn(3), np.random.randn(3)\n",
    "\n",
    "# QV1 = plt.quiver(x, y, u1, v1, color='r')\n",
    "# QV2 = plt.quiver(x, y, u2, v2, color='b')\n",
    "# QV3 = plt.quiver(x, y, u3, v3, color='g')"
   ]
  },
  {
   "cell_type": "code",
   "execution_count": null,
   "metadata": {},
   "outputs": [],
   "source": [
    "zero = np.zeros(400,)"
   ]
  },
  {
   "cell_type": "code",
   "execution_count": 29,
   "metadata": {},
   "outputs": [],
   "source": [
    "df_full.dropna(subset=['selftext'], inplace=True)\n",
    "df_full.reset_index(inplace=True)\n",
    "df_full.reset_index(inplace=True)"
   ]
  },
  {
   "cell_type": "code",
   "execution_count": 32,
   "metadata": {},
   "outputs": [],
   "source": [
    "df_full.drop(columns=['index'], inplace=True)"
   ]
  },
  {
   "cell_type": "code",
   "execution_count": 507,
   "metadata": {},
   "outputs": [],
   "source": [
    "from gensim.models.doc2vec import Doc2Vec, TaggedDocument\n",
    "from nltk.tokenize import word_tokenize\n",
    "\n",
    "text = df_full.text_title\n",
    "tokenized_self_text = [gensim.utils.simple_preprocess(d) for d in text]\n",
    "\n",
    "# title = df_full.title\n",
    "# tokenized_title = [gensim.utils.simple_preprocess(d) for d in title]\n",
    "# data = df_full.text_title\n",
    "\n",
    "# tagged_data = [TaggedDocument(words=word_tokenize(_d.lower()), tags=[str(i)]) for i, _d in enumerate(data)]\n",
    "# tagged_data[1:10]"
   ]
  },
  {
   "cell_type": "code",
   "execution_count": 508,
   "metadata": {
    "scrolled": true
   },
   "outputs": [],
   "source": [
    "# filt = df_full.title.value_counts().sort_values(ascending=False)\n",
    "# plt.hist(filt[filt > 1].values, bins=100);"
   ]
  },
  {
   "cell_type": "code",
   "execution_count": 509,
   "metadata": {},
   "outputs": [],
   "source": [
    "# df_full.head(2)"
   ]
  },
  {
   "cell_type": "code",
   "execution_count": 510,
   "metadata": {
    "scrolled": false
   },
   "outputs": [],
   "source": [
    "# # model= Doc2Vec.load(\"d2v.model\")\n",
    "# data = (pd.DataFrame({'selftext': [' '.join(word) for word in tokenized_self_text],\n",
    "#                       'title': [' '.join(word) for word in tokenized_title], 'topic':df_full.max_topic}))\n",
    "# data['text_title'] = data.title + \" \" + data.selftext"
   ]
  },
  {
   "cell_type": "code",
   "execution_count": 511,
   "metadata": {
    "scrolled": true
   },
   "outputs": [],
   "source": [
    "# df_full.head(3)"
   ]
  },
  {
   "cell_type": "code",
   "execution_count": 890,
   "metadata": {
    "scrolled": true
   },
   "outputs": [
    {
     "data": {
      "text/plain": [
       "[social media, google chrome]"
      ]
     },
     "execution_count": 890,
     "metadata": {},
     "output_type": "execute_result"
    }
   ],
   "source": [
    "# from spacy.lang.en.stop_words import STOP_WORDS\n",
    "import spacy\n",
    "nlp = spacy.load(\"en\")\n",
    "def process_text(nlp, text, pos_list, lemma=False):\n",
    "\n",
    "    text_full = [] \n",
    "    for doc in nlp.pipe(text, disable=['ner']):\n",
    "        for np in doc.noun_chunks:\n",
    "            test = np\n",
    "#         test = [np for np in doc.noun_chunks]\n",
    "#         print(test)\n",
    "        # if part of speech list isnt empty return matches for pos\n",
    "        if pos_list:\n",
    "            tokens = [(ent.text) for ent in doc if not ent.is_stop and not ent.is_punct and ent.pos_ in pos_list]\n",
    "            cleaned_text = \" \".join(tokens)\n",
    "            text_full.append(cleaned_text)\n",
    "        elif lemma == True:\n",
    "            tokens = [(ent.lemma_) for ent in doc if not ent.is_stop and not ent.is_punct]\n",
    "            cleaned_text = \" \".join(tokens)\n",
    "            text_full.append(cleaned_text)\n",
    "        else:\n",
    "            tokens = [(ent.text) for ent in doc if not ent.is_stop and not ent.is_punct]\n",
    "#             print(tokens)\n",
    "#             comps = [j for j in i.children if j.dep_ == \"compound\"]\n",
    "            cleaned_text = \" \".join(tokens)\n",
    "#             text_full.append(cleaned_text)\n",
    "            text_full.append(test)\n",
    "            \n",
    "    return text_full\n",
    "\n",
    "corp = ['social media, hey', 'google chrome']\n",
    "a = process_text(nlp, corp, pos_list=[], lemma=False)\n",
    "a\n",
    "# a\n",
    "\n",
    "# from spacy.symbols import *\n",
    "\n",
    "# np_labels = set([nsubj, nsubjpass, dobj, iobj, pobj]) # Probably others too\n",
    "# def iter_nps(doc):\n",
    "#     for word in doc:\n",
    "#         if word.dep in np_labels:\n",
    "#             yield word.subtree\n",
    "            \n",
    "# iter_nps(corp)"
   ]
  },
  {
   "cell_type": "code",
   "execution_count": 879,
   "metadata": {},
   "outputs": [
    {
     "data": {
      "text/plain": [
       "[social media, google chrome]"
      ]
     },
     "execution_count": 879,
     "metadata": {},
     "output_type": "execute_result"
    }
   ],
   "source": [
    "a"
   ]
  },
  {
   "cell_type": "code",
   "execution_count": 856,
   "metadata": {},
   "outputs": [
    {
     "name": "stdout",
     "output_type": "stream",
     "text": [
      "Bananas\n",
      "an excellent source\n",
      "potassium\n"
     ]
    },
    {
     "data": {
      "text/plain": [
       "'\\n  Bananas\\n  an excellent source\\n  potassium\\n'"
      ]
     },
     "execution_count": 856,
     "metadata": {},
     "output_type": "execute_result"
    }
   ],
   "source": [
    "doc =nlp('Bananas are an excellent source of potassium.')\n",
    "for np in doc.noun_chunks:\n",
    "    print(np.text)\n",
    "'''\n",
    "  Bananas\n",
    "  an excellent source\n",
    "  potassium\n",
    "'''"
   ]
  },
  {
   "cell_type": "code",
   "execution_count": 802,
   "metadata": {},
   "outputs": [
    {
     "data": {
      "text/plain": [
       "['media', 'flu symptoms']"
      ]
     },
     "execution_count": 802,
     "metadata": {},
     "output_type": "execute_result"
    }
   ],
   "source": [
    "compounds = [token for token in sent if token.dep_ == 'compound']"
   ]
  },
  {
   "cell_type": "code",
   "execution_count": 260,
   "metadata": {},
   "outputs": [],
   "source": [
    "# data['title_short'] = a\n",
    "# data['title_short2'] = data.topic + ' ' + data.title\n",
    "# data['title'] = data.title.apply(lambda x: np.nan if x == '' else x)\n",
    "# data_no_na = data.dropna().reset_index()\n",
    "# data_no_na.drop(columns=['index'], inplace=True)"
   ]
  },
  {
   "cell_type": "code",
   "execution_count": 448,
   "metadata": {},
   "outputs": [],
   "source": [
    "# temp = data.title.value_counts().sort_values(ascending=False)\n",
    "# testing = temp[temp.values>5].index.to_list()\n",
    "\n",
    "# data['is_title_good'] = data.title.apply(lambda x: True if x in testing else False)"
   ]
  },
  {
   "cell_type": "code",
   "execution_count": 454,
   "metadata": {},
   "outputs": [],
   "source": [
    "# aa = data[data.is_title_good==True].copy().reset_index()\n",
    "# aa.drop(columns=['index'], inplace=True)"
   ]
  },
  {
   "cell_type": "code",
   "execution_count": 514,
   "metadata": {},
   "outputs": [],
   "source": [
    "# tokenized_self_text[0]"
   ]
  },
  {
   "cell_type": "code",
   "execution_count": 515,
   "metadata": {},
   "outputs": [],
   "source": [
    "docs = []\n",
    "for index, doc in enumerate(tokenized_self_text):\n",
    "    tagged = TaggedDocument(words=doc, tags=[index])\n",
    "    docs.append(tagged)"
   ]
  },
  {
   "cell_type": "code",
   "execution_count": 516,
   "metadata": {},
   "outputs": [
    {
     "data": {
      "text/plain": [
       "TaggedDocument(words=['just', 'got', 'dismissed', 'from', 'my', 'university', 'had', 'reallllllly', 'bad', 'semester', 'my', 'ocd', 'and', 'anxiety', 'were', 'at', 'their', 'worst', 'and', 'ended', 'up', 'failing', 'couple', 'classes', 'while', 'was', 'already', 'on', 'academic', 'probation', 'so', 'got', 'dismissed', 'now', 'feel', 'worthless', 'and', 'down', 'and', 'can', 'barely', 'get', 'out', 'of', 'bed', 'have', 'no', 'motivation', 'to', 'get', 'job', 'because', 'feel', 'like', 'can', 'even', 'move', 'obviously', 'can', 'move', 'to', 'another', 'city', 'and', 'attend', 'another', 'college', 'but', 'my', 'gpa', 'is', 'pretty', 'bad', 'now', 'sorry', 'for', 'the', 'rant', 'just', 'really', 'wanted', 'to', 'know', 'if', 'their', 'could', 'possibly', 'be', 'any', 'good', 'outcomes', 'out', 'of', 'this', 'thanks', 'guys'], tags=[0])"
      ]
     },
     "execution_count": 516,
     "metadata": {},
     "output_type": "execute_result"
    }
   ],
   "source": [
    "docs[0]"
   ]
  },
  {
   "cell_type": "code",
   "execution_count": 517,
   "metadata": {},
   "outputs": [],
   "source": [
    "# define parameters for doc2vec\n",
    "doc_model = gensim.models.Doc2Vec(\n",
    "                                  vector_size=300,\n",
    "                                  window=5,\n",
    "                                  min_count=5,\n",
    "                                  workers=cores,\n",
    "                                  epochs=10,\n",
    "                                  alpha=.025,\n",
    "                                  min_alpha = 0.0001)\n",
    "doc_model.build_vocab(docs)"
   ]
  },
  {
   "cell_type": "code",
   "execution_count": 518,
   "metadata": {},
   "outputs": [],
   "source": [
    "# train model\n",
    "doc_model.train(docs, total_examples=doc_model.corpus_count, epochs=doc_model.epochs)"
   ]
  },
  {
   "cell_type": "code",
   "execution_count": 594,
   "metadata": {
    "scrolled": true
   },
   "outputs": [],
   "source": [
    "a = '''\n",
    "doctor told me to go the er if i hurt myself again but i’m too ashamed and i don’t feel worth it.\n",
    "they’re probably going to tell me it’s not serious and to essentially stop wasting time. I already feel like shit and i really don’t want to feel stupid too. has anyone had any good experiences with this, i just feel so useless and i don’t want to feel that somewhere else as well.\n",
    "'''.split()"
   ]
  },
  {
   "cell_type": "code",
   "execution_count": 600,
   "metadata": {},
   "outputs": [
    {
     "data": {
      "text/plain": [
       "TaggedDocument(words=['feel', 'useless', 'going', 'to', 'go', 'outside'], tags=[158318])"
      ]
     },
     "execution_count": 600,
     "metadata": {},
     "output_type": "execute_result"
    }
   ],
   "source": [
    "docs[158318]"
   ]
  },
  {
   "cell_type": "code",
   "execution_count": 601,
   "metadata": {},
   "outputs": [
    {
     "data": {
      "text/plain": [
       "[(357199, 0.5701062679290771),\n",
       " (334925, 0.557730495929718),\n",
       " (321864, 0.5497127175331116),\n",
       " (239190, 0.5470794439315796),\n",
       " (7400, 0.5399435758590698),\n",
       " (356810, 0.5391318798065186),\n",
       " (281831, 0.5377613306045532),\n",
       " (172762, 0.5372531414031982),\n",
       " (31219, 0.5338485240936279),\n",
       " (77443, 0.5309157371520996)]"
      ]
     },
     "execution_count": 601,
     "metadata": {},
     "output_type": "execute_result"
    }
   ],
   "source": [
    "inferred_vector = doc_model.infer_vector(a)\n",
    "sims = doc_model.docvecs.most_similar([inferred_vector], topn=len(doc_model.docvecs))\n",
    "sims[:10]"
   ]
  },
  {
   "cell_type": "code",
   "execution_count": 526,
   "metadata": {},
   "outputs": [
    {
     "data": {
      "text/plain": [
       "['really',\n",
       " 'need',\n",
       " 'advice',\n",
       " 'on',\n",
       " 'my',\n",
       " 'medication',\n",
       " 'just',\n",
       " 'starting',\n",
       " 'taking',\n",
       " 'zoloft']"
      ]
     },
     "execution_count": 526,
     "metadata": {},
     "output_type": "execute_result"
    }
   ],
   "source": [
    "testing = '''\n",
    "i really need advice on my medication i just starting taking zoloft'''\n",
    "\n",
    "testing = gensim.utils.simple_preprocess(testing)\n",
    "testing"
   ]
  },
  {
   "cell_type": "code",
   "execution_count": 625,
   "metadata": {},
   "outputs": [],
   "source": [
    "from nltk.cluster import KMeansClusterer, euclidean_distance\n",
    "\n",
    "# X = doc_model.docvecs.vectors_docs\n",
    "\n",
    "\n",
    "# NUM_CLUSTERS=3\n",
    "# kclusterer = KMeansClusterer(NUM_CLUSTERS, distance=nltk.cluster.util.cosine_distance, repeats=5)\n",
    "# assigned_clusters = kclusterer.cluster(X, assign_clusters=True)"
   ]
  },
  {
   "cell_type": "code",
   "execution_count": 527,
   "metadata": {},
   "outputs": [],
   "source": [
    "# doc2vec_best = gensim.models.Word2Vec.load(\"models/doc2vec.model\")"
   ]
  },
  {
   "cell_type": "code",
   "execution_count": null,
   "metadata": {},
   "outputs": [],
   "source": [
    "# model = gensim.models.Word2Vec.load(\"models/anxiety2vec_full.model\")\n",
    "# model2 = gensim.models.Word2Vec.load(\"models/depression2vec_full.model\")\n",
    "\n",
    "# words = []\n",
    "# counts =[]\n",
    "# w2v = model2\n",
    "# for index in range(len(w2v.wv.index2word)):\n",
    "#     word = w2v.wv.index2word[index]\n",
    "#     words.append(word)\n",
    "#     counts.append(w2v.wv.vocab[word].count)\n",
    "    \n",
    "# pd.DataFrame({'word':words, 'count':counts}).to_csv('tensor_data/depression/depression_meta.tsv', index=False,sep='\\t' )\n",
    "\n",
    "# import io\n",
    "\n",
    "# Vector file, `\\t` seperated the vectors and `\\n` seperate the words\n",
    "# \"\"\"\n",
    "# 0.1\\t0.2\\t0.5\\t0.9\n",
    "# 0.2\\t0.1\\t5.0\\t0.2\n",
    "# 0.4\\t0.1\\t7.0\\t0.8\n",
    "# \"\"\"\n",
    "\n",
    "# path2 = '/Users/collinswestnedge/programming/project_05/tensor_data/anxiety/anxiety_'\n",
    "\n",
    "# out_v = io.open(path2+'vecs.tsv', 'w', encoding='utf-8')\n",
    "\n",
    "# # Meta data file, `\\n` seperated word\n",
    "# # \"\"\"\n",
    "# # token1\n",
    "# # token2\n",
    "# # token3\n",
    "# # \"\"\"\n",
    "# # out_m = io.open(path2+'meta.tsv', 'w', encoding='utf-8')\n",
    "\n",
    "# # Write meta file and vector file\n",
    "# for index in range(len(w2v.wv.index2word)):\n",
    "#     word = w2v.wv.index2word[index]\n",
    "#     vec = w2v.wv.vectors[index]\n",
    "#     count = w2v.wv.vocab[word].count\n",
    "# #     out_m.write(word + \"\\n\")\n",
    "#     out_v.write('\\t'.join([str(x) for x in vec]) + \"\\n\")\n",
    "# out_v.close()\n",
    "# out_m.close()"
   ]
  },
  {
   "cell_type": "code",
   "execution_count": null,
   "metadata": {
    "scrolled": true
   },
   "outputs": [],
   "source": []
  },
  {
   "cell_type": "code",
   "execution_count": 630,
   "metadata": {},
   "outputs": [
    {
     "data": {
      "text/html": [
       "<div>\n",
       "<style scoped>\n",
       "    .dataframe tbody tr th:only-of-type {\n",
       "        vertical-align: middle;\n",
       "    }\n",
       "\n",
       "    .dataframe tbody tr th {\n",
       "        vertical-align: top;\n",
       "    }\n",
       "\n",
       "    .dataframe thead th {\n",
       "        text-align: right;\n",
       "    }\n",
       "</style>\n",
       "<table border=\"1\" class=\"dataframe\">\n",
       "  <thead>\n",
       "    <tr style=\"text-align: right;\">\n",
       "      <th></th>\n",
       "      <th>0</th>\n",
       "      <th>1</th>\n",
       "      <th>2</th>\n",
       "      <th>3</th>\n",
       "      <th>4</th>\n",
       "      <th>5</th>\n",
       "      <th>6</th>\n",
       "      <th>7</th>\n",
       "      <th>8</th>\n",
       "      <th>9</th>\n",
       "      <th>...</th>\n",
       "      <th>292</th>\n",
       "      <th>293</th>\n",
       "      <th>294</th>\n",
       "      <th>295</th>\n",
       "      <th>296</th>\n",
       "      <th>297</th>\n",
       "      <th>298</th>\n",
       "      <th>299</th>\n",
       "      <th>num_comments</th>\n",
       "      <th>docs</th>\n",
       "    </tr>\n",
       "  </thead>\n",
       "  <tbody>\n",
       "    <tr>\n",
       "      <th>0</th>\n",
       "      <td>0.078888</td>\n",
       "      <td>0.161811</td>\n",
       "      <td>-0.107130</td>\n",
       "      <td>0.234030</td>\n",
       "      <td>-0.279970</td>\n",
       "      <td>0.053884</td>\n",
       "      <td>-0.106011</td>\n",
       "      <td>0.044602</td>\n",
       "      <td>-0.091572</td>\n",
       "      <td>-0.164289</td>\n",
       "      <td>...</td>\n",
       "      <td>-0.021283</td>\n",
       "      <td>-0.216137</td>\n",
       "      <td>-0.333210</td>\n",
       "      <td>-0.407201</td>\n",
       "      <td>0.085278</td>\n",
       "      <td>-0.081534</td>\n",
       "      <td>0.096892</td>\n",
       "      <td>-0.000399</td>\n",
       "      <td>0</td>\n",
       "      <td>just got dismissed from my university i had a ...</td>\n",
       "    </tr>\n",
       "    <tr>\n",
       "      <th>1</th>\n",
       "      <td>0.243040</td>\n",
       "      <td>0.238591</td>\n",
       "      <td>-0.194129</td>\n",
       "      <td>-0.079292</td>\n",
       "      <td>0.036467</td>\n",
       "      <td>-0.082717</td>\n",
       "      <td>0.333168</td>\n",
       "      <td>-0.015197</td>\n",
       "      <td>-0.082830</td>\n",
       "      <td>-0.000292</td>\n",
       "      <td>...</td>\n",
       "      <td>-0.187632</td>\n",
       "      <td>-0.106601</td>\n",
       "      <td>-0.037400</td>\n",
       "      <td>-0.346247</td>\n",
       "      <td>0.198628</td>\n",
       "      <td>0.169815</td>\n",
       "      <td>0.221606</td>\n",
       "      <td>0.299383</td>\n",
       "      <td>4</td>\n",
       "      <td>im a spoiled piece of shit im on a vacation wi...</td>\n",
       "    </tr>\n",
       "    <tr>\n",
       "      <th>2</th>\n",
       "      <td>0.085690</td>\n",
       "      <td>0.310152</td>\n",
       "      <td>-0.002498</td>\n",
       "      <td>-0.255833</td>\n",
       "      <td>-0.161582</td>\n",
       "      <td>-0.024896</td>\n",
       "      <td>-0.143368</td>\n",
       "      <td>-0.097935</td>\n",
       "      <td>-0.198977</td>\n",
       "      <td>0.461797</td>\n",
       "      <td>...</td>\n",
       "      <td>0.073579</td>\n",
       "      <td>-0.053360</td>\n",
       "      <td>-0.178241</td>\n",
       "      <td>-0.024364</td>\n",
       "      <td>-0.284419</td>\n",
       "      <td>0.278496</td>\n",
       "      <td>0.339424</td>\n",
       "      <td>-0.068813</td>\n",
       "      <td>0</td>\n",
       "      <td>caring about a person that doesn't i'm a 17 ye...</td>\n",
       "    </tr>\n",
       "    <tr>\n",
       "      <th>3</th>\n",
       "      <td>0.537546</td>\n",
       "      <td>0.141156</td>\n",
       "      <td>0.058936</td>\n",
       "      <td>0.040804</td>\n",
       "      <td>0.011771</td>\n",
       "      <td>0.426472</td>\n",
       "      <td>-0.006133</td>\n",
       "      <td>-0.117769</td>\n",
       "      <td>-0.161384</td>\n",
       "      <td>-0.001459</td>\n",
       "      <td>...</td>\n",
       "      <td>-0.035180</td>\n",
       "      <td>-0.111695</td>\n",
       "      <td>-0.498108</td>\n",
       "      <td>-0.473666</td>\n",
       "      <td>0.079978</td>\n",
       "      <td>0.241684</td>\n",
       "      <td>0.214186</td>\n",
       "      <td>0.132251</td>\n",
       "      <td>0</td>\n",
       "      <td>i really screwed up this year i feel like such...</td>\n",
       "    </tr>\n",
       "    <tr>\n",
       "      <th>4</th>\n",
       "      <td>0.453357</td>\n",
       "      <td>-0.000604</td>\n",
       "      <td>-0.175210</td>\n",
       "      <td>0.724042</td>\n",
       "      <td>0.470160</td>\n",
       "      <td>-0.321912</td>\n",
       "      <td>0.078653</td>\n",
       "      <td>-0.055731</td>\n",
       "      <td>0.095825</td>\n",
       "      <td>0.242058</td>\n",
       "      <td>...</td>\n",
       "      <td>-0.448972</td>\n",
       "      <td>-0.128222</td>\n",
       "      <td>-0.390948</td>\n",
       "      <td>0.058155</td>\n",
       "      <td>0.182607</td>\n",
       "      <td>-0.240953</td>\n",
       "      <td>-0.224155</td>\n",
       "      <td>0.686321</td>\n",
       "      <td>1</td>\n",
       "      <td>it has been 596 days since i have debated suic...</td>\n",
       "    </tr>\n",
       "  </tbody>\n",
       "</table>\n",
       "<p>5 rows × 302 columns</p>\n",
       "</div>"
      ],
      "text/plain": [
       "          0         1         2         3         4         5         6  \\\n",
       "0  0.078888  0.161811 -0.107130  0.234030 -0.279970  0.053884 -0.106011   \n",
       "1  0.243040  0.238591 -0.194129 -0.079292  0.036467 -0.082717  0.333168   \n",
       "2  0.085690  0.310152 -0.002498 -0.255833 -0.161582 -0.024896 -0.143368   \n",
       "3  0.537546  0.141156  0.058936  0.040804  0.011771  0.426472 -0.006133   \n",
       "4  0.453357 -0.000604 -0.175210  0.724042  0.470160 -0.321912  0.078653   \n",
       "\n",
       "          7         8         9  ...       292       293       294       295  \\\n",
       "0  0.044602 -0.091572 -0.164289  ... -0.021283 -0.216137 -0.333210 -0.407201   \n",
       "1 -0.015197 -0.082830 -0.000292  ... -0.187632 -0.106601 -0.037400 -0.346247   \n",
       "2 -0.097935 -0.198977  0.461797  ...  0.073579 -0.053360 -0.178241 -0.024364   \n",
       "3 -0.117769 -0.161384 -0.001459  ... -0.035180 -0.111695 -0.498108 -0.473666   \n",
       "4 -0.055731  0.095825  0.242058  ... -0.448972 -0.128222 -0.390948  0.058155   \n",
       "\n",
       "        296       297       298       299  num_comments  \\\n",
       "0  0.085278 -0.081534  0.096892 -0.000399             0   \n",
       "1  0.198628  0.169815  0.221606  0.299383             4   \n",
       "2 -0.284419  0.278496  0.339424 -0.068813             0   \n",
       "3  0.079978  0.241684  0.214186  0.132251             0   \n",
       "4  0.182607 -0.240953 -0.224155  0.686321             1   \n",
       "\n",
       "                                                docs  \n",
       "0  just got dismissed from my university i had a ...  \n",
       "1  im a spoiled piece of shit im on a vacation wi...  \n",
       "2  caring about a person that doesn't i'm a 17 ye...  \n",
       "3  i really screwed up this year i feel like such...  \n",
       "4  it has been 596 days since i have debated suic...  \n",
       "\n",
       "[5 rows x 302 columns]"
      ]
     },
     "execution_count": 630,
     "metadata": {},
     "output_type": "execute_result"
    }
   ],
   "source": [
    "doc_vec_df = pd.DataFrame(doc_model.docvecs.vectors_docs)\n",
    "doc_vec_df['num_comments'] = df_full.num_comments\n",
    "doc_vec_df['docs'] = df_full.text_title\n",
    "doc_vec_df.head()\n",
    "\n",
    "cols= [str(i) for i in range(doc_model.docvecs.vectors_docs.shape[1])]\n",
    "cols.append('num_comments')\n",
    "cols.append('docs')\n",
    "\n",
    "doc_vec_df.columns = cols\n",
    "doc_vec_df.head()"
   ]
  },
  {
   "cell_type": "code",
   "execution_count": 658,
   "metadata": {},
   "outputs": [
    {
     "data": {
      "text/html": [
       "<div>\n",
       "<style scoped>\n",
       "    .dataframe tbody tr th:only-of-type {\n",
       "        vertical-align: middle;\n",
       "    }\n",
       "\n",
       "    .dataframe tbody tr th {\n",
       "        vertical-align: top;\n",
       "    }\n",
       "\n",
       "    .dataframe thead th {\n",
       "        text-align: right;\n",
       "    }\n",
       "</style>\n",
       "<table border=\"1\" class=\"dataframe\">\n",
       "  <thead>\n",
       "    <tr style=\"text-align: right;\">\n",
       "      <th></th>\n",
       "      <th>0</th>\n",
       "      <th>1</th>\n",
       "      <th>2</th>\n",
       "      <th>3</th>\n",
       "      <th>4</th>\n",
       "      <th>5</th>\n",
       "      <th>6</th>\n",
       "      <th>7</th>\n",
       "      <th>8</th>\n",
       "      <th>9</th>\n",
       "      <th>...</th>\n",
       "      <th>290</th>\n",
       "      <th>291</th>\n",
       "      <th>292</th>\n",
       "      <th>293</th>\n",
       "      <th>294</th>\n",
       "      <th>295</th>\n",
       "      <th>296</th>\n",
       "      <th>297</th>\n",
       "      <th>298</th>\n",
       "      <th>299</th>\n",
       "    </tr>\n",
       "  </thead>\n",
       "  <tbody>\n",
       "    <tr>\n",
       "      <th>0</th>\n",
       "      <td>0.078888</td>\n",
       "      <td>0.161811</td>\n",
       "      <td>-0.107130</td>\n",
       "      <td>0.234030</td>\n",
       "      <td>-0.279970</td>\n",
       "      <td>0.053884</td>\n",
       "      <td>-0.106011</td>\n",
       "      <td>0.044602</td>\n",
       "      <td>-0.091572</td>\n",
       "      <td>-0.164289</td>\n",
       "      <td>...</td>\n",
       "      <td>-0.065170</td>\n",
       "      <td>-0.115179</td>\n",
       "      <td>-0.021283</td>\n",
       "      <td>-0.216137</td>\n",
       "      <td>-0.333210</td>\n",
       "      <td>-0.407201</td>\n",
       "      <td>0.085278</td>\n",
       "      <td>-0.081534</td>\n",
       "      <td>0.096892</td>\n",
       "      <td>-0.000399</td>\n",
       "    </tr>\n",
       "    <tr>\n",
       "      <th>1</th>\n",
       "      <td>0.243040</td>\n",
       "      <td>0.238591</td>\n",
       "      <td>-0.194129</td>\n",
       "      <td>-0.079292</td>\n",
       "      <td>0.036467</td>\n",
       "      <td>-0.082717</td>\n",
       "      <td>0.333168</td>\n",
       "      <td>-0.015197</td>\n",
       "      <td>-0.082830</td>\n",
       "      <td>-0.000292</td>\n",
       "      <td>...</td>\n",
       "      <td>-0.286022</td>\n",
       "      <td>-0.301353</td>\n",
       "      <td>-0.187632</td>\n",
       "      <td>-0.106601</td>\n",
       "      <td>-0.037400</td>\n",
       "      <td>-0.346247</td>\n",
       "      <td>0.198628</td>\n",
       "      <td>0.169815</td>\n",
       "      <td>0.221606</td>\n",
       "      <td>0.299383</td>\n",
       "    </tr>\n",
       "    <tr>\n",
       "      <th>2</th>\n",
       "      <td>0.085690</td>\n",
       "      <td>0.310152</td>\n",
       "      <td>-0.002498</td>\n",
       "      <td>-0.255833</td>\n",
       "      <td>-0.161582</td>\n",
       "      <td>-0.024896</td>\n",
       "      <td>-0.143368</td>\n",
       "      <td>-0.097935</td>\n",
       "      <td>-0.198977</td>\n",
       "      <td>0.461797</td>\n",
       "      <td>...</td>\n",
       "      <td>-0.526285</td>\n",
       "      <td>0.111233</td>\n",
       "      <td>0.073579</td>\n",
       "      <td>-0.053360</td>\n",
       "      <td>-0.178241</td>\n",
       "      <td>-0.024364</td>\n",
       "      <td>-0.284419</td>\n",
       "      <td>0.278496</td>\n",
       "      <td>0.339424</td>\n",
       "      <td>-0.068813</td>\n",
       "    </tr>\n",
       "    <tr>\n",
       "      <th>3</th>\n",
       "      <td>0.537546</td>\n",
       "      <td>0.141156</td>\n",
       "      <td>0.058936</td>\n",
       "      <td>0.040804</td>\n",
       "      <td>0.011771</td>\n",
       "      <td>0.426472</td>\n",
       "      <td>-0.006133</td>\n",
       "      <td>-0.117769</td>\n",
       "      <td>-0.161384</td>\n",
       "      <td>-0.001459</td>\n",
       "      <td>...</td>\n",
       "      <td>-0.192475</td>\n",
       "      <td>0.108178</td>\n",
       "      <td>-0.035180</td>\n",
       "      <td>-0.111695</td>\n",
       "      <td>-0.498108</td>\n",
       "      <td>-0.473666</td>\n",
       "      <td>0.079978</td>\n",
       "      <td>0.241684</td>\n",
       "      <td>0.214186</td>\n",
       "      <td>0.132251</td>\n",
       "    </tr>\n",
       "    <tr>\n",
       "      <th>4</th>\n",
       "      <td>0.453357</td>\n",
       "      <td>-0.000604</td>\n",
       "      <td>-0.175210</td>\n",
       "      <td>0.724042</td>\n",
       "      <td>0.470160</td>\n",
       "      <td>-0.321912</td>\n",
       "      <td>0.078653</td>\n",
       "      <td>-0.055731</td>\n",
       "      <td>0.095825</td>\n",
       "      <td>0.242058</td>\n",
       "      <td>...</td>\n",
       "      <td>-0.426778</td>\n",
       "      <td>-0.431006</td>\n",
       "      <td>-0.448972</td>\n",
       "      <td>-0.128222</td>\n",
       "      <td>-0.390948</td>\n",
       "      <td>0.058155</td>\n",
       "      <td>0.182607</td>\n",
       "      <td>-0.240953</td>\n",
       "      <td>-0.224155</td>\n",
       "      <td>0.686321</td>\n",
       "    </tr>\n",
       "    <tr>\n",
       "      <th>...</th>\n",
       "      <td>...</td>\n",
       "      <td>...</td>\n",
       "      <td>...</td>\n",
       "      <td>...</td>\n",
       "      <td>...</td>\n",
       "      <td>...</td>\n",
       "      <td>...</td>\n",
       "      <td>...</td>\n",
       "      <td>...</td>\n",
       "      <td>...</td>\n",
       "      <td>...</td>\n",
       "      <td>...</td>\n",
       "      <td>...</td>\n",
       "      <td>...</td>\n",
       "      <td>...</td>\n",
       "      <td>...</td>\n",
       "      <td>...</td>\n",
       "      <td>...</td>\n",
       "      <td>...</td>\n",
       "      <td>...</td>\n",
       "      <td>...</td>\n",
       "    </tr>\n",
       "    <tr>\n",
       "      <th>361270</th>\n",
       "      <td>-0.216155</td>\n",
       "      <td>-0.238402</td>\n",
       "      <td>-0.269877</td>\n",
       "      <td>0.023970</td>\n",
       "      <td>0.043256</td>\n",
       "      <td>-0.027265</td>\n",
       "      <td>0.142738</td>\n",
       "      <td>-0.150495</td>\n",
       "      <td>0.092939</td>\n",
       "      <td>0.227519</td>\n",
       "      <td>...</td>\n",
       "      <td>-0.162212</td>\n",
       "      <td>-0.010255</td>\n",
       "      <td>0.116205</td>\n",
       "      <td>0.099246</td>\n",
       "      <td>-0.176593</td>\n",
       "      <td>-0.094444</td>\n",
       "      <td>0.178244</td>\n",
       "      <td>-0.286559</td>\n",
       "      <td>-0.162561</td>\n",
       "      <td>-0.015202</td>\n",
       "    </tr>\n",
       "    <tr>\n",
       "      <th>361271</th>\n",
       "      <td>0.420884</td>\n",
       "      <td>-0.194318</td>\n",
       "      <td>0.308946</td>\n",
       "      <td>-0.639862</td>\n",
       "      <td>-0.459557</td>\n",
       "      <td>-0.030438</td>\n",
       "      <td>0.630819</td>\n",
       "      <td>-0.190128</td>\n",
       "      <td>0.462431</td>\n",
       "      <td>0.073191</td>\n",
       "      <td>...</td>\n",
       "      <td>-0.219007</td>\n",
       "      <td>-0.386471</td>\n",
       "      <td>-0.040322</td>\n",
       "      <td>0.097240</td>\n",
       "      <td>0.603163</td>\n",
       "      <td>-0.144438</td>\n",
       "      <td>0.414343</td>\n",
       "      <td>-0.060351</td>\n",
       "      <td>0.137738</td>\n",
       "      <td>-0.867416</td>\n",
       "    </tr>\n",
       "    <tr>\n",
       "      <th>361272</th>\n",
       "      <td>0.633937</td>\n",
       "      <td>0.302650</td>\n",
       "      <td>-0.668295</td>\n",
       "      <td>-0.248073</td>\n",
       "      <td>-0.451080</td>\n",
       "      <td>0.059631</td>\n",
       "      <td>-0.598430</td>\n",
       "      <td>-0.498062</td>\n",
       "      <td>-0.077794</td>\n",
       "      <td>-0.231575</td>\n",
       "      <td>...</td>\n",
       "      <td>-0.181393</td>\n",
       "      <td>-0.122025</td>\n",
       "      <td>0.073612</td>\n",
       "      <td>0.107578</td>\n",
       "      <td>-0.449006</td>\n",
       "      <td>0.363394</td>\n",
       "      <td>-0.023087</td>\n",
       "      <td>0.111334</td>\n",
       "      <td>-0.227908</td>\n",
       "      <td>0.246666</td>\n",
       "    </tr>\n",
       "    <tr>\n",
       "      <th>361273</th>\n",
       "      <td>0.136512</td>\n",
       "      <td>0.015302</td>\n",
       "      <td>-0.301967</td>\n",
       "      <td>0.014745</td>\n",
       "      <td>0.026121</td>\n",
       "      <td>0.008565</td>\n",
       "      <td>0.186953</td>\n",
       "      <td>-0.193920</td>\n",
       "      <td>-0.214579</td>\n",
       "      <td>0.237474</td>\n",
       "      <td>...</td>\n",
       "      <td>-0.202159</td>\n",
       "      <td>-0.122609</td>\n",
       "      <td>0.174777</td>\n",
       "      <td>0.114380</td>\n",
       "      <td>-0.302098</td>\n",
       "      <td>-0.198829</td>\n",
       "      <td>0.093275</td>\n",
       "      <td>0.047873</td>\n",
       "      <td>0.093695</td>\n",
       "      <td>0.180033</td>\n",
       "    </tr>\n",
       "    <tr>\n",
       "      <th>361274</th>\n",
       "      <td>0.325056</td>\n",
       "      <td>-0.104216</td>\n",
       "      <td>-0.240934</td>\n",
       "      <td>-0.292003</td>\n",
       "      <td>0.233515</td>\n",
       "      <td>-0.171013</td>\n",
       "      <td>0.381763</td>\n",
       "      <td>-0.060730</td>\n",
       "      <td>0.642050</td>\n",
       "      <td>0.130322</td>\n",
       "      <td>...</td>\n",
       "      <td>0.022981</td>\n",
       "      <td>-0.368017</td>\n",
       "      <td>0.002754</td>\n",
       "      <td>0.020533</td>\n",
       "      <td>-0.426884</td>\n",
       "      <td>-0.289980</td>\n",
       "      <td>0.027193</td>\n",
       "      <td>-0.024778</td>\n",
       "      <td>-0.569244</td>\n",
       "      <td>0.295823</td>\n",
       "    </tr>\n",
       "  </tbody>\n",
       "</table>\n",
       "<p>361275 rows × 300 columns</p>\n",
       "</div>"
      ],
      "text/plain": [
       "               0         1         2         3         4         5         6  \\\n",
       "0       0.078888  0.161811 -0.107130  0.234030 -0.279970  0.053884 -0.106011   \n",
       "1       0.243040  0.238591 -0.194129 -0.079292  0.036467 -0.082717  0.333168   \n",
       "2       0.085690  0.310152 -0.002498 -0.255833 -0.161582 -0.024896 -0.143368   \n",
       "3       0.537546  0.141156  0.058936  0.040804  0.011771  0.426472 -0.006133   \n",
       "4       0.453357 -0.000604 -0.175210  0.724042  0.470160 -0.321912  0.078653   \n",
       "...          ...       ...       ...       ...       ...       ...       ...   \n",
       "361270 -0.216155 -0.238402 -0.269877  0.023970  0.043256 -0.027265  0.142738   \n",
       "361271  0.420884 -0.194318  0.308946 -0.639862 -0.459557 -0.030438  0.630819   \n",
       "361272  0.633937  0.302650 -0.668295 -0.248073 -0.451080  0.059631 -0.598430   \n",
       "361273  0.136512  0.015302 -0.301967  0.014745  0.026121  0.008565  0.186953   \n",
       "361274  0.325056 -0.104216 -0.240934 -0.292003  0.233515 -0.171013  0.381763   \n",
       "\n",
       "               7         8         9  ...       290       291       292  \\\n",
       "0       0.044602 -0.091572 -0.164289  ... -0.065170 -0.115179 -0.021283   \n",
       "1      -0.015197 -0.082830 -0.000292  ... -0.286022 -0.301353 -0.187632   \n",
       "2      -0.097935 -0.198977  0.461797  ... -0.526285  0.111233  0.073579   \n",
       "3      -0.117769 -0.161384 -0.001459  ... -0.192475  0.108178 -0.035180   \n",
       "4      -0.055731  0.095825  0.242058  ... -0.426778 -0.431006 -0.448972   \n",
       "...          ...       ...       ...  ...       ...       ...       ...   \n",
       "361270 -0.150495  0.092939  0.227519  ... -0.162212 -0.010255  0.116205   \n",
       "361271 -0.190128  0.462431  0.073191  ... -0.219007 -0.386471 -0.040322   \n",
       "361272 -0.498062 -0.077794 -0.231575  ... -0.181393 -0.122025  0.073612   \n",
       "361273 -0.193920 -0.214579  0.237474  ... -0.202159 -0.122609  0.174777   \n",
       "361274 -0.060730  0.642050  0.130322  ...  0.022981 -0.368017  0.002754   \n",
       "\n",
       "             293       294       295       296       297       298       299  \n",
       "0      -0.216137 -0.333210 -0.407201  0.085278 -0.081534  0.096892 -0.000399  \n",
       "1      -0.106601 -0.037400 -0.346247  0.198628  0.169815  0.221606  0.299383  \n",
       "2      -0.053360 -0.178241 -0.024364 -0.284419  0.278496  0.339424 -0.068813  \n",
       "3      -0.111695 -0.498108 -0.473666  0.079978  0.241684  0.214186  0.132251  \n",
       "4      -0.128222 -0.390948  0.058155  0.182607 -0.240953 -0.224155  0.686321  \n",
       "...          ...       ...       ...       ...       ...       ...       ...  \n",
       "361270  0.099246 -0.176593 -0.094444  0.178244 -0.286559 -0.162561 -0.015202  \n",
       "361271  0.097240  0.603163 -0.144438  0.414343 -0.060351  0.137738 -0.867416  \n",
       "361272  0.107578 -0.449006  0.363394 -0.023087  0.111334 -0.227908  0.246666  \n",
       "361273  0.114380 -0.302098 -0.198829  0.093275  0.047873  0.093695  0.180033  \n",
       "361274  0.020533 -0.426884 -0.289980  0.027193 -0.024778 -0.569244  0.295823  \n",
       "\n",
       "[361275 rows x 300 columns]"
      ]
     },
     "execution_count": 658,
     "metadata": {},
     "output_type": "execute_result"
    }
   ],
   "source": [
    "doc_vec_df.iloc[:,0:-5]\n",
    "\n"
   ]
  },
  {
   "cell_type": "code",
   "execution_count": 659,
   "metadata": {},
   "outputs": [],
   "source": [
    "from sklearn import preprocessing\n",
    "from sklearn.cluster import KMeans\n",
    "\n",
    "# to normalise existing X\n",
    "X_Norm = preprocessing.normalize(doc_vec_df.iloc[:,0:-5], axis=1)\n",
    "X_Norm\n",
    "\n",
    "kmeans = KMeans(n_clusters=5, random_state=0).fit(X_Norm)"
   ]
  },
  {
   "cell_type": "code",
   "execution_count": 660,
   "metadata": {},
   "outputs": [
    {
     "data": {
      "text/plain": [
       "array([3, 1, 4, ..., 0, 3, 2], dtype=int32)"
      ]
     },
     "execution_count": 660,
     "metadata": {},
     "output_type": "execute_result"
    }
   ],
   "source": [
    "kmeans.labels_"
   ]
  },
  {
   "cell_type": "code",
   "execution_count": 661,
   "metadata": {
    "scrolled": true
   },
   "outputs": [
    {
     "data": {
      "text/plain": [
       "\"celexa's sexual side effects not wearing off after discontinuation i've been on celexa/citalopram for about a year at 10mg and got off of it about 2 weeks ago. my emotions are somewhat dulled and i don't get horny or have full erections. i feel like a part of me is missing, like i might as well not have a penis. the stress it causes me isn't doing any good either. before anyone asks, yes, this is as important to me as treating my depression. **what can i do to get my libido back?** i exercise regularly and have a good diet, but there's been no change so far. **can anyone who's been through this give me some information or advice?** tl;dr: how long will celexa's sexual side effects take to wear off after i quit taking them? i'm a 175 pound, 18 year old male who took 10mg of celexa for a year. \""
      ]
     },
     "execution_count": 661,
     "metadata": {},
     "output_type": "execute_result"
    }
   ],
   "source": [
    "doc_vec_df['labels'] = kmeans.labels_\n",
    "doc_vec_df[doc_vec_df.labels == 2]['docs'].values[6]"
   ]
  },
  {
   "cell_type": "code",
   "execution_count": 662,
   "metadata": {},
   "outputs": [
    {
     "data": {
      "text/plain": [
       "array(['job', 'tired/sick', 'friend/best/girl', 'sad',\n",
       "       'depression/anxiety/meds', 'depressed/suicidal/reason',\n",
       "       'friends/lonely', 'school', 'sleep', 'kill/suicide'], dtype=object)"
      ]
     },
     "execution_count": 662,
     "metadata": {},
     "output_type": "execute_result"
    }
   ],
   "source": [
    "doc_vec_df.max_topic.unique()"
   ]
  },
  {
   "cell_type": "code",
   "execution_count": 667,
   "metadata": {},
   "outputs": [],
   "source": [
    "# doc_vec_df['max_topic'] = df_full.max_topic\n",
    "# doc_vec_df[doc_vec_df.max_topic == 'kill/suicide'].labels.value_counts()"
   ]
  },
  {
   "cell_type": "code",
   "execution_count": null,
   "metadata": {},
   "outputs": [],
   "source": [
    "inertia = []\n",
    "sil = []\n",
    "# changing the number of clusters \n",
    "for k in range(5,30):\n",
    "    \n",
    "    km = KMeans(n_clusters=k, random_state=1)\n",
    "    km.fit(X_Norm)\n",
    "    y_pred = km.predict(X_Norm)\n",
    "    inertia.append((k, km.inertia_))\n",
    "    print(k)"
   ]
  },
  {
   "cell_type": "code",
   "execution_count": null,
   "metadata": {},
   "outputs": [],
   "source": [
    "import matplotlib.pyplot as plt\n",
    "\n",
    "fig, ax = plt.subplots(1,2, figsize=(12,4))\n",
    "\n",
    "# Plotting Elbow Curve\n",
    "x_iner = [x[0] for x in inertia]\n",
    "y_iner  = [x[1] for x in inertia]\n",
    "ax[0].plot(x_iner, y_iner)\n",
    "ax[0].set_xlabel('Number of Clusters')\n",
    "ax[0].set_ylabel('Intertia')\n",
    "ax[0].set_title('Elbow Curve')\n",
    "\n"
   ]
  },
  {
   "cell_type": "code",
   "execution_count": null,
   "metadata": {},
   "outputs": [],
   "source": []
  }
 ],
 "metadata": {
  "kernelspec": {
   "display_name": "Python 3",
   "language": "python",
   "name": "python3"
  },
  "language_info": {
   "codemirror_mode": {
    "name": "ipython",
    "version": 3
   },
   "file_extension": ".py",
   "mimetype": "text/x-python",
   "name": "python",
   "nbconvert_exporter": "python",
   "pygments_lexer": "ipython3",
   "version": "3.8.5"
  }
 },
 "nbformat": 4,
 "nbformat_minor": 4
}
